{
 "cells": [
  {
   "cell_type": "markdown",
   "metadata": {},
   "source": [
    "# Police Force Responses by Crime"
   ]
  },
  {
   "cell_type": "code",
   "execution_count": null,
   "metadata": {},
   "outputs": [],
   "source": [
    "#Dependencies\n",
    "import matplotlib\n",
    "from matplotlib import pyplot as plt\n",
    "from scipy import stats\n",
    "import numpy as np\n",
    "import pandas as pd\n",
    "from scipy.stats import linregress"
   ]
  },
  {
   "cell_type": "code",
   "execution_count": null,
   "metadata": {},
   "outputs": [],
   "source": [
    "#Import csv file\n",
    "police_data = pd.read_csv(\"Resources/Police_Use_of_Force.csv\")\n",
    "police_data.head()"
   ]
  },
  {
   "cell_type": "code",
   "execution_count": null,
   "metadata": {},
   "outputs": [],
   "source": [
    "#create new DataFrame\n",
    "police_data_df = police_data.loc[:, [\"PoliceUseOfForceID\", \"CaseNumber\", \"ResponseDate\", \"Problem\", \"ForceType\",\n",
    "                                    \"ForceTypeAction\", \"EventAge\", \"TypeOfResistance\", \"Precinct\", \"Neighborhood\"]]\n",
    "police_data_df"
   ]
  },
  {
   "cell_type": "code",
   "execution_count": null,
   "metadata": {},
   "outputs": [],
   "source": [
    "#drop NaN from Dataframe\n",
    "police_data_df = police_data_df.dropna(how='any')\n",
    "police_data_df"
   ]
  },
  {
   "cell_type": "code",
   "execution_count": null,
   "metadata": {},
   "outputs": [],
   "source": [
    "#rename rows in ForceTypeAction column\n",
    "police_data_df['ForceTypeAction'] = police_data_df['ForceTypeAction'].replace({\n",
    "    \"Knee\": \"Knees\",\n",
    "    \"Body Weight Pin\": \"Body Weight to Pin\",\n",
    "    \"Conscious Neck Restraint\": \"Neck Restraint: subject did not lose conciousness\",\n",
    "    \"Punch\": \"Punches\",\n",
    "    \"Slap\": \"Slaps\",\n",
    "    'Unconscious Neck Restraint': 'Neck Restraint: subject did not lose conciousness',\n",
    "    'Firearm as striking tool': 'Firearms As Striking Tool'\n",
    "})\n"
   ]
  },
  {
   "cell_type": "code",
   "execution_count": null,
   "metadata": {},
   "outputs": [],
   "source": [
    "#rename rows in ForceType column\n",
    "police_data_df['ForceType'] = police_data_df['ForceType'].replace({\n",
    "    \"Less Lethal Projectile\": \"Less Lethal\"\n",
    "})"
   ]
  },
  {
   "cell_type": "code",
   "execution_count": null,
   "metadata": {},
   "outputs": [],
   "source": [
    "#rename rows in TypeOfResistance column\n",
    "police_data_df['TypeOfResistance'] = police_data_df['TypeOfResistance'].replace({\n",
    "    \"TENSED\": \"Tensed\",\n",
    "    \"tensed\": \"Tensed\",\n",
    "    \"Tensed                                                                         \": \"Tensed\",\n",
    "    \"verbal non-compliance\": \"Verbal Non-Compliance\",\n",
    "    \"Verbal Non-Compliance                                                          \": \"Verbal Non-Compliance\",\n",
    "    \"commission of crime\":\"Commission of Crime\",\n",
    "    \"Commission of a Crime                                                          \":\"Commission of Crime\",\n",
    "    \"COMMISSION OF CRIME\":\"Commission of Crime\",\n",
    "    \"Fled on Foot                                                                   \":\"Fled on Foot\",\n",
    "    \"Fled in a Vehicle                                                              \":\"Fled in Vehicle\",\n",
    "    \"Assaulted Officer                                                              \":\"Assaulted Officer\",\n",
    "    \"Assaulted Police K9                                                            \":\"Assaulting Police K9\",\n",
    "    \"Other                                                                          \":\"Other\"\n",
    "           \n",
    "})"
   ]
  },
  {
   "cell_type": "code",
   "execution_count": null,
   "metadata": {},
   "outputs": [],
   "source": [
    "#rename columns in Dataframe\n",
    "clean_df = police_data_df.rename(columns ={\n",
    "    'PoliceUseOfForceID': \"Police ID\",\n",
    "    'CaseNumber': \"Case Number\",\n",
    "    'ResponseDate': \"Response Date\",\n",
    "    'Problem': \"Type of Crime\",\n",
    "    'ForceType': 'Type of Force',\n",
    "    'ForceTypeAction': 'Type of Force Action',\n",
    "    'EventAge': 'Event Age',\n",
    "    'TypeOfResistance': 'Type of Resistance'\n",
    "})\n",
    "#reset the index in DataFrame\n",
    "clean_df.reset_index(drop=True, inplace=True)\n",
    "clean_df"
   ]
  },
  {
   "cell_type": "markdown",
   "metadata": {},
   "source": [
    "# 1. What incidents result the most in police use of force? (Sam)"
   ]
  },
  {
   "cell_type": "code",
   "execution_count": null,
   "metadata": {},
   "outputs": [],
   "source": [
    "test_data = clean_df[\"Type of Crime\"].describe(include=\"all\")\n",
    "test_data"
   ]
  },
  {
   "cell_type": "code",
   "execution_count": null,
   "metadata": {},
   "outputs": [],
   "source": [
    "incident_data = clean_df.groupby(\"Type of Crime\")\n",
    "total_count = incident_data.nunique()[\"Case Number\"]\n",
    "\n",
    "incidents = pd.DataFrame({\"Total Count\": total_count})\n",
    "top_incidents = incidents.sort_values(\"Total Count\", ascending=False)\n",
    "\n",
    "top_incidents.index.name = \"Incidents\"\n",
    "top_incidents.head()"
   ]
  },
  {
   "cell_type": "code",
   "execution_count": null,
   "metadata": {},
   "outputs": [],
   "source": [
    "top_incidents.head(5)\n",
    "top_incidents.head(5).plot(kind=\"bar\", edgecolor=\"black\", facecolor=\"purple\",fontsize=10)\n",
    "plt.title(\"Top 5 Incidents Resulting in Police Force in Minneapolis, MN\")\n",
    "plt.ylabel(\"Number of Cases\")"
   ]
  },
  {
   "cell_type": "code",
   "execution_count": null,
   "metadata": {},
   "outputs": [],
   "source": [
    "# Sam's code end here"
   ]
  },
  {
   "cell_type": "markdown",
   "metadata": {},
   "source": [
    "# 2. What type of force is used the most? (Ainash)"
   ]
  },
  {
   "cell_type": "code",
   "execution_count": null,
   "metadata": {},
   "outputs": [],
   "source": [
    "#find all types of force\n",
    "force_type_ainash = clean_df['Type of Force']\n",
    "force_type_ainash.unique()"
   ]
  },
  {
   "cell_type": "code",
   "execution_count": null,
   "metadata": {},
   "outputs": [],
   "source": [
    "# find the most used types of force\n",
    "force_data_ainash = clean_df[['Type of Force', 'Case Number']]\n",
    "force_data_groupby_ainash = force_data_ainash.groupby('Type of Force')\n",
    "force_data_count_ainash = force_data_groupby_ainash['Type of Force'].count()\n",
    "most_force_type_ainash = pd.DataFrame({'Total Count': force_data_count_ainash})\n",
    "sorted_ainash = most_force_type_ainash.sort_values(['Total Count'], ascending = False)"
   ]
  },
  {
   "cell_type": "code",
   "execution_count": null,
   "metadata": {},
   "outputs": [],
   "source": [
    "# create a bar chart to show the Top 5 most used types of force\n",
    "top5_force_bar_ainash = sorted_ainash.head().plot(kind = 'bar', title = 'The Top 5 most used Type of Force by Police in Minneapolis, MN area')\n",
    "top5_force_bar_ainash.set_xlabel ('Type of Force')\n",
    "top5_force_bar_ainash.set_ylabel ('Number of Cases')\n",
    "plt.show()\n",
    "plt.tight_layout()"
   ]
  },
  {
   "cell_type": "code",
   "execution_count": null,
   "metadata": {},
   "outputs": [],
   "source": [
    "#find all types of force action\n",
    "force_type_action_ainash = clean_df['Type of Force Action']\n",
    "force_type_action_ainash.nunique()"
   ]
  },
  {
   "cell_type": "code",
   "execution_count": null,
   "metadata": {},
   "outputs": [],
   "source": [
    "# find the most used type of force and its action\n",
    "merged_force_type_data_ainash = clean_df[['Type of Force', 'Type of Force Action', 'Case Number']]\n",
    "merged_force_type_data_ainash = merged_force_type_data_ainash.groupby(['Type of Force', 'Type of Force Action'])\n",
    "merged_force_type = merged_force_type_data_ainash['Type of Force Action'].count()\n",
    "merged_ainash = pd.DataFrame({'Total Count': merged_force_type})\n",
    "sorted_merged_ainash = merged_ainash.sort_values(['Total Count'], ascending = False)"
   ]
  },
  {
   "cell_type": "code",
   "execution_count": null,
   "metadata": {},
   "outputs": [],
   "source": [
    "# create a bar chart to show the Top 5 most used types of force and its action\n",
    "top5_merged_bar = sorted_merged_ainash.head().plot(kind = 'bar', title = 'The Top 5 most used Type of Force and it Action by Police in Minneapolis, MN area')\n",
    "top5_merged_bar.set_xlabel ('Type of Force and it Action')\n",
    "top5_merged_bar.set_ylabel ('Number of Cases')\n",
    "plt.show()\n",
    "plt.tight_layout()"
   ]
  },
  {
   "cell_type": "code",
   "execution_count": null,
   "metadata": {},
   "outputs": [],
   "source": [
    "# drop ages =0\n",
    "age_df = clean_df.loc[clean_df['Event Age'] != 0, :]"
   ]
  },
  {
   "cell_type": "code",
   "execution_count": null,
   "metadata": {},
   "outputs": [],
   "source": [
    "#create bins for ages\n",
    "bins = [6,9.9,14.9,19.9,29.9,39.9,49.9,59.9,69.9,79.9,89.9]\n",
    "group_names = ['6-10', '11-15', '16-20','21-30','31-40','41-50','51-60', '61-70', '71-80', '81 <']"
   ]
  },
  {
   "cell_type": "code",
   "execution_count": null,
   "metadata": {},
   "outputs": [],
   "source": [
    "age_df['Age Groups'] = pd.cut(age_df['Event Age'], bins, labels = group_names, include_lowest = True)"
   ]
  },
  {
   "cell_type": "code",
   "execution_count": null,
   "metadata": {},
   "outputs": [],
   "source": [
    "age_data_ainash = age_df[['Age Groups', 'Case Number']]\n",
    "age_data_groupby_ainash = age_data_ainash.groupby('Age Groups')\n",
    "age_count_ainash = age_data_groupby_ainash['Age Groups'].count()\n",
    "age_df_ainash = pd.DataFrame({'Total Count': age_count_ainash})"
   ]
  },
  {
   "cell_type": "code",
   "execution_count": null,
   "metadata": {},
   "outputs": [],
   "source": [
    "age_bar_ainash = age_df_ainash.plot(kind = 'bar', title = 'Force used by Police in Minneapolis, MN area by Age')\n",
    "top5_force_bar_ainash.set_xlabel ('Age Groups')\n",
    "top5_force_bar_ainash.set_ylabel ('Number of Cases')\n",
    "plt.show()\n",
    "plt.tight_layout()"
   ]
  },
  {
   "cell_type": "markdown",
   "metadata": {},
   "source": [
    "# Types of Force used by Police in Minneapolis,MN Analysis\n",
    "## When analyzing types of Force used by Police in Minneapolis, Minnesota, we observed that:\n",
    "* There are 10 types of Force that Police in Minneapolis, MN use in incidents: Bodily Force, Chemical Irritant, Taser, Improvised Weapon, Baton, Police K9 Bite, Firearm, Less Lethal Projectile, Gun Point Display, Maximal Restraint Technique. From these force types, the five most commonly used by law enforcement officers in Minneapolis are: Bodily Force (21212 cases among analyzed data), Chemical Irritant (3780 cases), Taser(2757 cases), Gun Point Display (436 cases) and Improvised weapon (343 cases).\n",
    "* Types of Force also have sub-categories that are called Types of Force Action. Our data includes 41 types of Force Action. The Top 5 most used Types of Force Action by Police in Minneapolis, MN area are Body Weight to Pin (Bodily Force type), Punches (Bodily Force type), Joint Lock (Bodily Force type), Personal Mace (Chemical Irritant type) and Push Away (Bodily Force type).\n",
    "* We also decided to analyze the police cases by Age Groups. After analysis of Force Police used by Age Groups, we observed that most commonly, the most force is used on people between age 21-30. "
   ]
  },
  {
   "cell_type": "code",
   "execution_count": null,
   "metadata": {},
   "outputs": [],
   "source": []
  },
  {
   "cell_type": "code",
   "execution_count": null,
   "metadata": {},
   "outputs": [],
   "source": [
    "# Ainash code ends here"
   ]
  },
  {
   "cell_type": "markdown",
   "metadata": {},
   "source": [
    "# 3. Which is the most popular type of resistance? (Humera)"
   ]
  },
  {
   "cell_type": "markdown",
   "metadata": {},
   "source": [
    "# Most popular type of Resistance"
   ]
  },
  {
   "cell_type": "code",
   "execution_count": null,
   "metadata": {},
   "outputs": [],
   "source": [
    "# find the most used force type\n",
    "force_type_data_ainash = clean_df[['Type of Force', 'Case Number']]\n",
    "force_type_data_ainash = force_type_data_ainash.groupby('Type of Force')\n",
    "force_type = force_type_data_ainash['Type of Force'].count()\n",
    "force_type_data = pd.DataFrame({'Total Count': force_type})\n",
    "sorted_force = force_type_data.sort_values(['Total Count'], ascending = False)\n",
    "\n"
   ]
  },
  {
   "cell_type": "code",
   "execution_count": null,
   "metadata": {},
   "outputs": [],
   "source": [
    "incident_data = clean_df.groupby(\"Type of Crime\")\n",
    "total_count = incident_data.nunique()[\"CaseNumber\"]\n",
    "# create a bar chart to show the most used force type\n",
    "force_bar = sorted_force.plot(kind = 'bar', title = 'Used Type of Force by Police in Minneapolis, MN area')\n",
    "force_bar.set_xlabel ('Type of Force')\n",
    "force_bar.set_ylabel ('Number of Cases')\n",
    "plt.show()\n",
    "plt.tight_layout()resistance_data = clean_df.groupby(\"TypeOfResistance\")\n",
    "total_count = resistance_data.nunique()[\"CaseNumber\"]\n",
    "\n",
    "resistance = pd.DataFrame({\"Total Count\": total_count})\n",
    "resistance_case_no = resistance.sort_values(\"Total Count\", ascending=False)\n",
    "\n",
    "resistance_case_no.index.name = \"TypeOfResistance\"\n",
    "resistance_case_no.head()"
   ]
  },
  {
   "cell_type": "code",
   "execution_count": null,
   "metadata": {},
   "outputs": [],
   "source": [
    "resistance_case_no.head(6).plot(kind=\"bar\",edgecolor=\"black\", figsize=(8, 8),facecolor=\"blue\", fontsize=10)\n",
    "plt.title(\"Type of Resistance Resulting in Use of Police Force in Minneapolis\")\n",
    "plt.ylabel(\"Number of Cases\", fontsize=12)\n",
    "plt.xlabel(\"Type of Resistance\", fontsize=12)\n",
    "plt.tight_layout()\n",
    "plt.show()"
   ]
  },
  {
   "cell_type": "code",
   "execution_count": null,
   "metadata": {},
   "outputs": [],
   "source": [
    "#Pie chart\n",
    "colors = ['gold', 'red', 'pink', 'blue', 'lightskyblue']\n",
    "explode = (0.1, 0, 0, 0, 0)\n",
    "resistance_case_no.head(5).plot(kind=\"pie\",explode=explode, colors=colors, autopct= \"%1.1f%%\", subplots=\"False\", shadow=True, startangle=150 )\n",
    "plt.title('Top 5 - Type of Resistance Resulting in Use of Police Force in Minneapolis', fontsize=10)\n",
    "plt.axis('equal')\n",
    "plt.tight_layout()\n",
    "plt.show()"
   ]
  },
  {
   "cell_type": "markdown",
   "metadata": {},
   "source": [
    "# Force Type of Action used by Police Force in Minneapolis"
   ]
  },
  {
   "cell_type": "code",
   "execution_count": null,
   "metadata": {},
   "outputs": [],
   "source": [
    "popular_data = clean_df[\"ForceTypeAction\"].describe(include= \"all\")\n",
    "popular_data"
   ]
  },
  {
   "cell_type": "code",
   "execution_count": null,
   "metadata": {},
   "outputs": [],
   "source": [
    "forcetype_data = clean_df.groupby(\"ForceTypeAction\")\n",
    "total_count = forcetype_data.nunique()[\"CaseNumber\"]\n",
    "\n",
    "forcetype = pd.DataFrame({\"Total Count\": total_count})\n",
    "forcetype_case_no = forcetype.sort_values(\"Total Count\", ascending=False)\n",
    "\n",
    "forcetype_case_no.index.name = \"ForceTypeAction\"\n",
    "forcetype_case_no.head()"
   ]
  },
  {
   "cell_type": "code",
   "execution_count": null,
   "metadata": {},
   "outputs": [],
   "source": [
    "forcetype_case_no.head(5)\n",
    "forcetype_case_no.head(10).plot(kind=\"barh\",edgecolor=\"black\", facecolor=\"red\", fontsize=12, align=\"center\", alpha=1.0)\n",
    "plt.title(\"ForceTypeAction Resulting in Use of Police Force in Minneapolis\")\n",
    "plt.ylabel(\"Number of Cases\", fontsize=12)\n",
    "plt.xlabel(\"Force Type Action\", fontsize=12)\n",
    "plt.show()"
   ]
  },
  {
   "cell_type": "code",
   "execution_count": null,
   "metadata": {},
   "outputs": [],
   "source": [
    "clean_df"
   ]
  },
  {
   "cell_type": "markdown",
   "metadata": {},
   "source": [
    "# Groupby Forcetype and Type of Resistance"
   ]
  },
  {
   "cell_type": "code",
   "execution_count": null,
   "metadata": {},
   "outputs": [],
   "source": [
    "#Top 5 - Force Type and Force Type Action Vs Number of Cases\n",
    "ft_fa = clean_df.groupby(['ForceType','ForceTypeAction'])\n",
    "ft_fa.count().head(5)"
   ]
  },
  {
   "cell_type": "code",
   "execution_count": null,
   "metadata": {},
   "outputs": [],
   "source": [
    "#Top 5 - Force Type and Force Type Action Vs Number of Cases\n",
    "ft_fa= clean_df.groupby(['ForceType','ForceTypeAction'])\n",
    "total_count = ft_fa.nunique()[\"CaseNumber\"]\n",
    "forcetype_forceaction = pd.DataFrame({\"Total Count\": total_count})\n",
    "forcetype_forceaction = forcetype_forceaction.sort_values(\"Total Count\", ascending=False)\n",
    "#forcetype_forceaction.index.name = \"ForceTypeAction\"\n",
    "forcetype_forceaction.head()"
   ]
  },
  {
   "cell_type": "code",
   "execution_count": null,
   "metadata": {},
   "outputs": [],
   "source": [
    "#Top 5 - Force Type and Force Type Action Vs Number of Cases\n",
    "forcetype_forceaction.head(8).plot(kind=\"barh\",edgecolor=\"black\", facecolor=\"purple\", fontsize=12, align=\"center\", alpha=1.0)\n",
    "plt.title(\"Force Type and Force Type Action Vs Number of Cases\")\n",
    "plt.ylabel(\"Force Type Action_Force Type\", fontsize=12)\n",
    "plt.xlabel(\"Number of Cases\", fontsize=12)\n",
    "plt.show()"
   ]
  },
  {
   "cell_type": "code",
   "execution_count": null,
   "metadata": {},
   "outputs": [],
   "source": [
    "#Top 5 - Force Type and Type of Resistance Vs Number of Cases\n",
    "ft_tr = clean_df.groupby(['ForceType','TypeOfResistance'])\n",
    "ft_tr.count().head(5)"
   ]
  },
  {
   "cell_type": "code",
   "execution_count": null,
   "metadata": {},
   "outputs": [],
   "source": [
    "# Top 5 - Force Type and Type of Resistance Vs Number of Cases\n",
    "ft_tr= clean_df.groupby(['ForceType','TypeOfResistance'])\n",
    "total_count = ft_tr.nunique()[\"CaseNumber\"]\n",
    "forcetype_resistance = pd.DataFrame({\"Total Count\": total_count})\n",
    "forcetype_resistance = forcetype_resistance.sort_values(\"Total Count\", ascending=False)\n",
    "forcetype_resistance.head()"
   ]
  },
  {
   "cell_type": "code",
   "execution_count": null,
   "metadata": {},
   "outputs": [],
   "source": [
    "# Top 5 - Force Type and Type of Resistance Vs Number of Cases\n",
    "forcetype_resistance.head(8).plot(kind=\"barh\",edgecolor=\"black\", facecolor=\"orange\", fontsize=12, align=\"center\", alpha=1.0)\n",
    "plt.title(\"Force Type and Type of Resistance Vs Number of Cases\")\n",
    "plt.ylabel(\"Force Type_ Resistance\", fontsize=12)\n",
    "plt.xlabel(\"Number of Cases\", fontsize=12)\n",
    "plt.show()"
   ]
  },
  {
   "cell_type": "code",
   "execution_count": null,
   "metadata": {},
   "outputs": [],
   "source": [
    "#problem and force type"
   ]
  },
  {
   "cell_type": "code",
   "execution_count": null,
   "metadata": {},
   "outputs": [],
   "source": [
    "#Problem and Type of Resistance"
   ]
  },
  {
   "cell_type": "code",
   "execution_count": null,
   "metadata": {},
   "outputs": [],
   "source": [
    "# Problem and force type"
   ]
  },
  {
   "cell_type": "code",
   "execution_count": null,
   "metadata": {},
   "outputs": [],
   "source": [
    "# Humera code end here"
   ]
  },
  {
   "cell_type": "markdown",
   "metadata": {},
   "source": [
    "# 4. Which neighborhood in Minneapolis see’s the highest frequency of police force? (Mike Hills)"
   ]
  },
  {
   "cell_type": "code",
   "execution_count": null,
   "metadata": {},
   "outputs": [],
   "source": [
    "#pull out neighborhood and forcetype from clean df\n",
    "#group by neighborhood and calculate the total force count per neighborhood\n",
    "force_per_neighborhood_df = clean_df.loc[:,['Neighborhood','Type of Force']]\n",
    "force_group = force_per_neighborhood_df.groupby('Neighborhood')\n",
    "sum_neigh = force_group['Type of Force'].count()\n",
    "\n",
    "#place results into new df, sort by force count from highest to lowest; store and display\n",
    "force_per_neighborhood_df = pd.DataFrame({'Force Count': sum_neigh})\n",
    "sorted_force_df = force_per_neighborhood_df.sort_values(['Force Count'], ascending=False)\n",
    "sorted_force_df"
   ]
  },
  {
   "cell_type": "code",
   "execution_count": null,
   "metadata": {},
   "outputs": [],
   "source": [
    "#store top 5 highest total force per neighborhood into its own df and display\n",
    "top5force_df = sorted_force_df.head(5)\n",
    "top5force_df"
   ]
  },
  {
   "cell_type": "code",
   "execution_count": null,
   "metadata": {},
   "outputs": [],
   "source": [
    "Top5bar = top5force_df.plot(kind=\"bar\", figsize=(30,15), width=.4, color=\"red\", alpha=.8, rot=0, fontsize=20, legend=False)\n",
    "Top5bar.set_ylabel('Force Count',fontdict={'fontsize':24})\n",
    "Top5bar.set_xlabel('Neighborhood',fontdict={'fontsize':24})\n",
    "Top5bar.set_title('Minneapolis Police Use of Force Distribution per Neighborhood: 10 Highest' + '\\n' + '(2008-2021)', pad=15,fontdict={'fontsize':25})"
   ]
  },
  {
   "cell_type": "code",
   "execution_count": null,
   "metadata": {},
   "outputs": [],
   "source": [
    "#Find highest force count neighborhood and store\n",
    "worst_neigh = sorted_force_df.index[0]\n",
    "\n",
    "#find and store highest force count\n",
    "top1force = top5force_df['Force Count'][0]\n",
    "\n",
    "#remove highest force count row and store into new df\n",
    "top1_clean_df = force_per_neighborhood_df.loc[force_per_neighborhood_df['Force Count'] < top1force]\n",
    "\n",
    "#calculate total force count for all neighborhoods combined except for the highest force neighborhood\n",
    "sumforce = top1_clean_df['Force Count'].sum()"
   ]
  },
  {
   "cell_type": "code",
   "execution_count": null,
   "metadata": {},
   "outputs": [],
   "source": [
    "\n",
    "#create dictionary to store values for summarized df\n",
    "dict = {'Minneapolis Neighborhoods (Total:86)':[worst_neigh, \"All Others\"], \n",
    "        'Force Count': [top1force, sumforce]}\n",
    "\n",
    "#pass dict into pd.DataFrame to generate df\n",
    "Topvsrest_df = pd.DataFrame(dict)\n",
    "\n",
    "#set index to \"Minneapolis Neighborhoods\" and display\n",
    "Topvsrest_df = Topvsrest_df.set_index('Minneapolis Neighborhoods (Total:86)')\n"
   ]
  },
  {
   "cell_type": "code",
   "execution_count": null,
   "metadata": {},
   "outputs": [],
   "source": [
    "Topvsrest_bar = Topvsrest_df.plot(kind=\"bar\", figsize=(4,7), width=.5, color=\"red\", alpha=.7, rot=0, fontsize=12, legend=False)\n",
    "Topvsrest_bar.set_ylabel('Force Count',fontdict={'fontsize':12})\n",
    "Topvsrest_bar.set_xlabel('Neighborhoods (Total:86)',fontdict={'fontsize':12})\n",
    "Topvsrest_bar.set_title('Minneapolis Police Use of Force' + '\\n' + '(2008-2021)', pad=15,fontdict={'fontsize':14})"
   ]
  },
  {
   "cell_type": "code",
   "execution_count": null,
   "metadata": {},
   "outputs": [],
   "source": [
    "x = [top1force,sumforce]\n",
    "explode = (.06,0)\n",
    "textprops = {\"fontsize\":13}\n",
    "colors = [\"red\",\"green\"]\n",
    "labels = ['Downtown West','All Others']\n",
    "\n",
    "plt.pie(x, labels=labels, textprops=textprops, explode=explode, colors=colors, \n",
    "        autopct=\"%1.1f%%\", shadow=True, startangle=90)\n",
    "plt.axis(\"equal\")\n",
    "plt.title(\"Minneapolis Police Use of Force: Worst Neighborhood vs All Others (Total: 86)\" + \"\\n\" + \"(2008-2021)\")\n",
    "\n",
    "plt.show()\n"
   ]
  },
  {
   "cell_type": "code",
   "execution_count": null,
   "metadata": {},
   "outputs": [],
   "source": [
    "\n",
    "clean_df.head()"
   ]
  },
  {
   "cell_type": "code",
   "execution_count": null,
   "metadata": {},
   "outputs": [],
   "source": [
    "# Mike H code ends here"
   ]
  },
  {
   "cell_type": "markdown",
   "metadata": {},
   "source": [
    "# 5. Is the use of police force in Minneapolis going up or down? (Mike F)"
   ]
  },
  {
   "cell_type": "code",
   "execution_count": null,
   "metadata": {},
   "outputs": [],
   "source": []
  },
  {
   "cell_type": "code",
   "execution_count": null,
   "metadata": {},
   "outputs": [],
   "source": [
    "# Mike F code ends here"
   ]
  },
  {
   "cell_type": "markdown",
   "metadata": {},
   "source": [
    "# 6. Perform a linear regression on use of force between 2015 and 2019 and make a prediction about use of force in 2020 for the city of Minneapolis.  Compare this prediction to actual use of force outcomes in 2020."
   ]
  },
  {
   "cell_type": "code",
   "execution_count": null,
   "metadata": {},
   "outputs": [],
   "source": [
    "#pull out Response Date and Type of Force from clean df and store\n",
    "date_force_df = clean_df.loc[:,['Response Date','Type of Force']]\n",
    "\n",
    "#find all response dates containing 2015 - 2019 and store\n",
    "searchfor = ['2015', '2016', '2017', '2018', '2019']\n",
    "df_2015_2019 = date_force_df[date_force_df['Response Date'].str.contains('|'.join(searchfor))]\n",
    "\n",
    "#divide 2015 - 2019 in separate dfs\n",
    "df_2015 = date_force_df[date_force_df['Response Date'].str.contains(\"2015\")]\n",
    "df_2016 = date_force_df[date_force_df['Response Date'].str.contains(\"2016\")]\n",
    "df_2017 = date_force_df[date_force_df['Response Date'].str.contains(\"2017\")]\n",
    "df_2018 = date_force_df[date_force_df['Response Date'].str.contains(\"2018\")]\n",
    "df_2019 = date_force_df[date_force_df['Response Date'].str.contains(\"2019\")]\n",
    "df_2020 = date_force_df[date_force_df['Response Date'].str.contains(\"2020\")]\n",
    "\n",
    "#checking to make sure the length of 2015 - 2019 dfs is equal to 2015-2019 df to ensure no missing values\n",
    "len(df_2015_2019) == len(df_2015) + len(df_2016) + len(df_2017) + len(df_2018) + len(df_2019)\n",
    "df_2015"
   ]
  },
  {
   "cell_type": "code",
   "execution_count": null,
   "metadata": {},
   "outputs": [],
   "source": [
    "values2018 = df_2018['Type of Force'].value_counts()\n",
    "\n",
    "sum2015 = df_2015['Type of Force'].count()\n",
    "sum2016 = df_2016['Type of Force'].count()\n",
    "sum2017 = df_2017['Type of Force'].count()\n",
    "sum2018 = df_2018['Type of Force'].count()\n",
    "sum2019 = df_2019['Type of Force'].count()\n",
    "sum2020 = df_2020['Type of Force'].count()\n",
    "\n",
    "df_2015['Type of Force'].value_counts()"
   ]
  },
  {
   "cell_type": "code",
   "execution_count": null,
   "metadata": {},
   "outputs": [],
   "source": [
    "dict = {'year':[2015,2016,2017,2018,2019,2020], \n",
    "        'Total Bodily Force Incidents': [sum2015,sum2016,sum2017,sum2018,sum2019,sum2020]}\n",
    "\n",
    "#pass dict into pd.DataFrame to generate df\n",
    "tot_bodyforce_df = pd.DataFrame(dict)\n",
    "tot_bodyforce_df"
   ]
  },
  {
   "cell_type": "code",
   "execution_count": null,
   "metadata": {
    "scrolled": true
   },
   "outputs": [],
   "source": [
    "year = tot_bodyforce_df.iloc[:,0]\n",
    "tot_bodyforce = tot_bodyforce_df.iloc[:,1]\n",
    "\n",
    "plt.xlabel('Year')\n",
    "plt.ylabel('Total Bodily Force Incidents')\n",
    "\n",
    "bf_slope, bf_int, bf_r, bf_p, bf_std_err = stats.linregress(year, tot_bodyforce)\n",
    "\n",
    "bf_fit = bf_slope * year + bf_int\n",
    "plt.scatter(year, tot_bodyforce)\n",
    "plt.plot(year,bf_fit,\"--\")\n",
    "plt.show()"
   ]
  },
  {
   "cell_type": "code",
   "execution_count": null,
   "metadata": {},
   "outputs": [],
   "source": [
    "totbodyforce2020 = tot_bodyforce_df.iloc[5,1]\n",
    "year2020 = 2020\n",
    "print(f\"The total bodily force incidents in 2020 will be {round(bf_slope * year2020 + bf_int,0)}\")\n",
    "print(f\"The actual total bodily force incidents in 2020 were {totbodyforce2020}\")\n"
   ]
  },
  {
   "cell_type": "code",
   "execution_count": null,
   "metadata": {},
   "outputs": [],
   "source": [
    "force_counts_2015 = df_2015['Type of Force'].value_counts()\n",
    "force_counts_2016 = df_2016['Type of Force'].value_counts()\n",
    "force_counts_2017 = df_2017['Type of Force'].value_counts()\n",
    "force_counts_2018 = df_2018['Type of Force'].value_counts()\n",
    "force_counts_2019 = df_2019['Type of Force'].value_counts()\n",
    "force_counts_2020 = df_2020['Type of Force'].value_counts()\n",
    "\n",
    "bodilyforce2020 = force_counts_2020.loc['Bodily Force']\n",
    "bodilyforce2020\n",
    "\n",
    "bodilyforce2019 = force_counts_2019.loc['Bodily Force']\n",
    "bodilyforce2019\n",
    "\n",
    "bodilyforce2018 = force_counts_2018.loc['Bodily Force']\n",
    "bodilyforce2018\n",
    "\n",
    "bodilyforce2017 = force_counts_2017.loc['Bodily Force']\n",
    "bodilyforce2017\n",
    "\n",
    "bodilyforce2016 = force_counts_2016.loc['Bodily Force']\n",
    "bodilyforce2016\n",
    "\n",
    "bodilyforce2015 = force_counts_2015.loc['Bodily Force']\n",
    "bodilyforce2015\n",
    "\n",
    "dict = {'year':[2015,2016,2017,2018,2019,2020], \n",
    "        'Bodily Force Count': [bodilyforce2015,bodilyforce2016,bodilyforce2017,bodilyforce2018,bodilyforce2019,bodilyforce2020]}\n",
    "\n",
    "#pass dict into pd.DataFrame to generate df\n",
    "bodyforce_df = pd.DataFrame(dict)\n",
    "bodyforce_df\n",
    "\n",
    "startyear = bodyforce_df['year'].min()\n",
    "endyear = bodyforce_df['year'].max()\n",
    "\n",
    "bodyforce_df\n",
    "\n",
    "tot_body = bodyforce_df.iloc[:,1]\n",
    "\n",
    "b_slope, b_int, b_r, b_p, b_std_err = stats.linregress(year, tot_body)\n",
    "\n",
    "b_fit = b_slope * year + b_int\n",
    "\n",
    "bodyforce2020 = bodyforce_df.iloc[5,1]\n",
    "bodyforce2020"
   ]
  },
  {
   "cell_type": "code",
   "execution_count": null,
   "metadata": {},
   "outputs": [],
   "source": [
    "taser2020 = force_counts_2020.loc['Taser']\n",
    "taser2019 = force_counts_2019.loc['Taser']\n",
    "taser2018 = force_counts_2018.loc['Taser']\n",
    "taser2017 = force_counts_2017.loc['Taser']\n",
    "taser2016 = force_counts_2016.loc['Taser']\n",
    "taser2015 = force_counts_2015.loc['Taser']\n",
    "\n",
    "dict = {'year':[2015,2016,2017,2018,2019,2020], \n",
    "        'Taser Count': [taser2015,taser2016,taser2017,taser2018,taser2019,taser2020]}\n",
    "\n",
    "#pass dict into pd.DataFrame to generate df\n",
    "taser_df = pd.DataFrame(dict)\n",
    "taser_count = taser_df['Taser Count']\n",
    "\n",
    "tot_taser = taser_df.iloc[:,1]\n",
    "\n",
    "t_slope, t_int, t_r, t_p, t_std_err = stats.linregress(year, tot_taser)\n",
    "\n",
    "t_fit = t_slope * year + t_int\n",
    "\n",
    "taser2020 = taser_df.iloc[5,1]"
   ]
  },
  {
   "cell_type": "code",
   "execution_count": null,
   "metadata": {},
   "outputs": [],
   "source": [
    "fig, (ax1, ax2, ax3) = plt.subplots(3, sharex=True)\n",
    "fig.suptitle(\"Bodily Force Incidents\", fontsize=13, fontweight=\"bold\")\n",
    "\n",
    "ax1.set_xlim(startyear, endyear)\n",
    "ax1.plot(year, taser_count, linewidth=1, marker=\"o\")\n",
    "ax1.plot(year, t_fit, \"b--\", linewidth=1)\n",
    "ax1.set_ylabel(\"Taser\")\n",
    "\n",
    "ax2.plot(year, bodyforce_df['Bodily Force Count'], linewidth=1, marker=\"o\", color=\"r\")\n",
    "ax2.plot(year, b_fit, \"r--\", linewidth=1)\n",
    "ax2.set_ylabel(\"Bodily Force\")\n",
    "\n",
    "ax3.plot(year, tot_bodyforce_df['Total Bodily Force Incidents'] , linewidth=1, marker=\"o\", color=\"g\")\n",
    "ax3.plot(year, bf_fit, \"g--\", linewidth=1)\n",
    "ax3.set_ylabel(\"Total Incidents\")\n",
    "ax3.set_xlabel(\"Year\")\n",
    "\n",
    "plt.show()"
   ]
  },
  {
   "cell_type": "code",
   "execution_count": null,
   "metadata": {},
   "outputs": [],
   "source": [
    "\n",
    "print(f\"The total taser incidents in 2020 will be {round(t_slope * year2020 + t_int,0)}\")\n",
    "print(f\"The actual total taser incidents in 2020 were {taser2020}\\n\")\n",
    "\n",
    "print(f\"The total bodily force incidents in 2020 will be {round(b_slope * year2020 + b_int,0)}\")\n",
    "print(f\"The actual total bodily force incidents in 2020 were {bodyforce2020}\\n\")\n",
    "\n",
    "print(f\"The total force incidents in 2020 will be {round(bf_slope * year2020 + bf_int,0)}\")\n",
    "print(f\"The actual force incidents in 2020 were {totbodyforce2020}\")"
   ]
  },
  {
   "cell_type": "code",
   "execution_count": null,
   "metadata": {},
   "outputs": [],
   "source": []
  },
  {
   "cell_type": "code",
   "execution_count": null,
   "metadata": {},
   "outputs": [],
   "source": []
  },
  {
   "cell_type": "code",
   "execution_count": null,
   "metadata": {},
   "outputs": [],
   "source": []
  }
 ],
 "metadata": {
  "kernelspec": {
   "display_name": "Python 3",
   "language": "python",
   "name": "python3"
  },
  "language_info": {
   "codemirror_mode": {
    "name": "ipython",
    "version": 3
   },
   "file_extension": ".py",
   "mimetype": "text/x-python",
   "name": "python",
   "nbconvert_exporter": "python",
   "pygments_lexer": "ipython3",
   "version": "3.6.10"
  }
 },
 "nbformat": 4,
 "nbformat_minor": 4
}

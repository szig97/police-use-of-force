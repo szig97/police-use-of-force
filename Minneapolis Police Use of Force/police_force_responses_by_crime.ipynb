{
 "cells": [
  {
   "cell_type": "markdown",
   "metadata": {},
   "source": [
    "# Police Use of Force in Minneapolis, MN"
   ]
  },
  {
   "cell_type": "code",
   "execution_count": 1,
   "metadata": {},
   "outputs": [],
   "source": [
    "#Dependencies\n",
    "import matplotlib\n",
    "from matplotlib import pyplot as plt\n",
    "from scipy import stats\n",
    "import numpy as np\n",
    "import pandas as pd\n",
    "from scipy.stats import linregress"
   ]
  },
  {
   "cell_type": "code",
   "execution_count": 2,
   "metadata": {},
   "outputs": [
    {
     "data": {
      "text/html": [
       "<div>\n",
       "<style scoped>\n",
       "    .dataframe tbody tr th:only-of-type {\n",
       "        vertical-align: middle;\n",
       "    }\n",
       "\n",
       "    .dataframe tbody tr th {\n",
       "        vertical-align: top;\n",
       "    }\n",
       "\n",
       "    .dataframe thead th {\n",
       "        text-align: right;\n",
       "    }\n",
       "</style>\n",
       "<table border=\"1\" class=\"dataframe\">\n",
       "  <thead>\n",
       "    <tr style=\"text-align: right;\">\n",
       "      <th></th>\n",
       "      <th>X</th>\n",
       "      <th>Y</th>\n",
       "      <th>PoliceUseOfForceID</th>\n",
       "      <th>CaseNumber</th>\n",
       "      <th>ResponseDate</th>\n",
       "      <th>Problem</th>\n",
       "      <th>Is911Call</th>\n",
       "      <th>PrimaryOffense</th>\n",
       "      <th>SubjectInjury</th>\n",
       "      <th>ForceReportNumber</th>\n",
       "      <th>...</th>\n",
       "      <th>TotalCityCallsForYear</th>\n",
       "      <th>TotalPrecinctCallsForYear</th>\n",
       "      <th>TotalNeighborhoodCallsForYear</th>\n",
       "      <th>CenterGBSID</th>\n",
       "      <th>CenterLatitude</th>\n",
       "      <th>CenterLongitude</th>\n",
       "      <th>CenterX</th>\n",
       "      <th>CenterY</th>\n",
       "      <th>DateAdded</th>\n",
       "      <th>OBJECTID</th>\n",
       "    </tr>\n",
       "  </thead>\n",
       "  <tbody>\n",
       "    <tr>\n",
       "      <th>0</th>\n",
       "      <td>-93.299256</td>\n",
       "      <td>44.980557</td>\n",
       "      <td>19194596</td>\n",
       "      <td>08-007748</td>\n",
       "      <td>2008/01/08 14:20:21+00</td>\n",
       "      <td>Disturbance</td>\n",
       "      <td>No</td>\n",
       "      <td>DISCON</td>\n",
       "      <td>NaN</td>\n",
       "      <td>1</td>\n",
       "      <td>...</td>\n",
       "      <td>322402</td>\n",
       "      <td>80434.0</td>\n",
       "      <td>2514</td>\n",
       "      <td>15824</td>\n",
       "      <td>44.980557</td>\n",
       "      <td>-93.299256</td>\n",
       "      <td>-10386025.66</td>\n",
       "      <td>5618461.049</td>\n",
       "      <td>2021/02/11 08:18:54+00</td>\n",
       "      <td>1</td>\n",
       "    </tr>\n",
       "    <tr>\n",
       "      <th>1</th>\n",
       "      <td>-93.273109</td>\n",
       "      <td>44.979187</td>\n",
       "      <td>19194597</td>\n",
       "      <td>08-019047</td>\n",
       "      <td>2008/01/19 23:47:58+00</td>\n",
       "      <td>On Site</td>\n",
       "      <td>No</td>\n",
       "      <td>NOSMOK</td>\n",
       "      <td>NaN</td>\n",
       "      <td>1</td>\n",
       "      <td>...</td>\n",
       "      <td>322402</td>\n",
       "      <td>46998.0</td>\n",
       "      <td>23458</td>\n",
       "      <td>17239</td>\n",
       "      <td>44.979187</td>\n",
       "      <td>-93.273109</td>\n",
       "      <td>-10383115.01</td>\n",
       "      <td>5618245.449</td>\n",
       "      <td>2021/02/11 08:18:54+00</td>\n",
       "      <td>2</td>\n",
       "    </tr>\n",
       "    <tr>\n",
       "      <th>2</th>\n",
       "      <td>-93.311817</td>\n",
       "      <td>45.006028</td>\n",
       "      <td>19194598</td>\n",
       "      <td>08-034409</td>\n",
       "      <td>2008/02/04 21:21:49+00</td>\n",
       "      <td>Property Damage Accident</td>\n",
       "      <td>Yes</td>\n",
       "      <td>ASLT2</td>\n",
       "      <td>NaN</td>\n",
       "      <td>1</td>\n",
       "      <td>...</td>\n",
       "      <td>322402</td>\n",
       "      <td>80434.0</td>\n",
       "      <td>9486</td>\n",
       "      <td>10909</td>\n",
       "      <td>45.006028</td>\n",
       "      <td>-93.311817</td>\n",
       "      <td>-10387423.95</td>\n",
       "      <td>5622470.553</td>\n",
       "      <td>2021/02/11 08:18:54+00</td>\n",
       "      <td>3</td>\n",
       "    </tr>\n",
       "    <tr>\n",
       "      <th>3</th>\n",
       "      <td>-93.288860</td>\n",
       "      <td>45.043001</td>\n",
       "      <td>19194599</td>\n",
       "      <td>08-043573</td>\n",
       "      <td>2008/02/14 22:03:15+00</td>\n",
       "      <td>Unwanted Person</td>\n",
       "      <td>Yes</td>\n",
       "      <td>DAMPRP</td>\n",
       "      <td>NaN</td>\n",
       "      <td>2</td>\n",
       "      <td>...</td>\n",
       "      <td>322402</td>\n",
       "      <td>80434.0</td>\n",
       "      <td>3070</td>\n",
       "      <td>17338</td>\n",
       "      <td>45.043001</td>\n",
       "      <td>-93.288860</td>\n",
       "      <td>-10384868.44</td>\n",
       "      <td>5628293.683</td>\n",
       "      <td>2021/02/11 08:18:54+00</td>\n",
       "      <td>4</td>\n",
       "    </tr>\n",
       "    <tr>\n",
       "      <th>4</th>\n",
       "      <td>-93.271963</td>\n",
       "      <td>44.981655</td>\n",
       "      <td>19194600</td>\n",
       "      <td>08-052540</td>\n",
       "      <td>2008/02/24 02:25:39+00</td>\n",
       "      <td>Fight</td>\n",
       "      <td>No</td>\n",
       "      <td>OBSTRU</td>\n",
       "      <td>No</td>\n",
       "      <td>3</td>\n",
       "      <td>...</td>\n",
       "      <td>322402</td>\n",
       "      <td>46998.0</td>\n",
       "      <td>23458</td>\n",
       "      <td>17120</td>\n",
       "      <td>44.981655</td>\n",
       "      <td>-93.271963</td>\n",
       "      <td>-10382987.47</td>\n",
       "      <td>5618633.899</td>\n",
       "      <td>2021/02/11 08:18:54+00</td>\n",
       "      <td>5</td>\n",
       "    </tr>\n",
       "    <tr>\n",
       "      <th>...</th>\n",
       "      <td>...</td>\n",
       "      <td>...</td>\n",
       "      <td>...</td>\n",
       "      <td>...</td>\n",
       "      <td>...</td>\n",
       "      <td>...</td>\n",
       "      <td>...</td>\n",
       "      <td>...</td>\n",
       "      <td>...</td>\n",
       "      <td>...</td>\n",
       "      <td>...</td>\n",
       "      <td>...</td>\n",
       "      <td>...</td>\n",
       "      <td>...</td>\n",
       "      <td>...</td>\n",
       "      <td>...</td>\n",
       "      <td>...</td>\n",
       "      <td>...</td>\n",
       "      <td>...</td>\n",
       "      <td>...</td>\n",
       "      <td>...</td>\n",
       "    </tr>\n",
       "    <tr>\n",
       "      <th>32030</th>\n",
       "      <td>0.000000</td>\n",
       "      <td>0.000000</td>\n",
       "      <td>19226626</td>\n",
       "      <td>09-Cooper</td>\n",
       "      <td>2009/01/01 00:00:00+00</td>\n",
       "      <td>NaN</td>\n",
       "      <td>NaN</td>\n",
       "      <td>NaN</td>\n",
       "      <td>NaN</td>\n",
       "      <td>0</td>\n",
       "      <td>...</td>\n",
       "      <td>316150</td>\n",
       "      <td>NaN</td>\n",
       "      <td>1107</td>\n",
       "      <td>0</td>\n",
       "      <td>0.000000</td>\n",
       "      <td>0.000000</td>\n",
       "      <td>0.00</td>\n",
       "      <td>0.000</td>\n",
       "      <td>2021/02/11 08:35:04+00</td>\n",
       "      <td>32031</td>\n",
       "    </tr>\n",
       "    <tr>\n",
       "      <th>32031</th>\n",
       "      <td>0.000000</td>\n",
       "      <td>0.000000</td>\n",
       "      <td>19226627</td>\n",
       "      <td>08-Bottineau</td>\n",
       "      <td>2008/01/01 00:00:00+00</td>\n",
       "      <td>NaN</td>\n",
       "      <td>NaN</td>\n",
       "      <td>NaN</td>\n",
       "      <td>NaN</td>\n",
       "      <td>0</td>\n",
       "      <td>...</td>\n",
       "      <td>322402</td>\n",
       "      <td>NaN</td>\n",
       "      <td>1370</td>\n",
       "      <td>0</td>\n",
       "      <td>0.000000</td>\n",
       "      <td>0.000000</td>\n",
       "      <td>0.00</td>\n",
       "      <td>0.000</td>\n",
       "      <td>2021/02/11 08:35:04+00</td>\n",
       "      <td>32032</td>\n",
       "    </tr>\n",
       "    <tr>\n",
       "      <th>32032</th>\n",
       "      <td>0.000000</td>\n",
       "      <td>0.000000</td>\n",
       "      <td>19226628</td>\n",
       "      <td>09-Loring Park</td>\n",
       "      <td>2009/01/01 00:00:00+00</td>\n",
       "      <td>NaN</td>\n",
       "      <td>NaN</td>\n",
       "      <td>NaN</td>\n",
       "      <td>NaN</td>\n",
       "      <td>0</td>\n",
       "      <td>...</td>\n",
       "      <td>316150</td>\n",
       "      <td>NaN</td>\n",
       "      <td>5545</td>\n",
       "      <td>0</td>\n",
       "      <td>0.000000</td>\n",
       "      <td>0.000000</td>\n",
       "      <td>0.00</td>\n",
       "      <td>0.000</td>\n",
       "      <td>2021/02/11 08:35:04+00</td>\n",
       "      <td>32033</td>\n",
       "    </tr>\n",
       "    <tr>\n",
       "      <th>32033</th>\n",
       "      <td>0.000000</td>\n",
       "      <td>0.000000</td>\n",
       "      <td>19226629</td>\n",
       "      <td>14-Cooper</td>\n",
       "      <td>2014/01/01 00:00:00+00</td>\n",
       "      <td>NaN</td>\n",
       "      <td>NaN</td>\n",
       "      <td>NaN</td>\n",
       "      <td>NaN</td>\n",
       "      <td>0</td>\n",
       "      <td>...</td>\n",
       "      <td>355617</td>\n",
       "      <td>NaN</td>\n",
       "      <td>1064</td>\n",
       "      <td>0</td>\n",
       "      <td>0.000000</td>\n",
       "      <td>0.000000</td>\n",
       "      <td>0.00</td>\n",
       "      <td>0.000</td>\n",
       "      <td>2021/02/11 08:35:04+00</td>\n",
       "      <td>32034</td>\n",
       "    </tr>\n",
       "    <tr>\n",
       "      <th>32034</th>\n",
       "      <td>0.000000</td>\n",
       "      <td>0.000000</td>\n",
       "      <td>19226630</td>\n",
       "      <td>19-Central</td>\n",
       "      <td>2019/01/01 00:00:00+00</td>\n",
       "      <td>NaN</td>\n",
       "      <td>NaN</td>\n",
       "      <td>NaN</td>\n",
       "      <td>NaN</td>\n",
       "      <td>0</td>\n",
       "      <td>...</td>\n",
       "      <td>302056</td>\n",
       "      <td>NaN</td>\n",
       "      <td>5312</td>\n",
       "      <td>0</td>\n",
       "      <td>0.000000</td>\n",
       "      <td>0.000000</td>\n",
       "      <td>0.00</td>\n",
       "      <td>0.000</td>\n",
       "      <td>2021/02/11 08:35:04+00</td>\n",
       "      <td>32035</td>\n",
       "    </tr>\n",
       "  </tbody>\n",
       "</table>\n",
       "<p>32035 rows × 30 columns</p>\n",
       "</div>"
      ],
      "text/plain": [
       "               X          Y  PoliceUseOfForceID      CaseNumber  \\\n",
       "0     -93.299256  44.980557            19194596       08-007748   \n",
       "1     -93.273109  44.979187            19194597       08-019047   \n",
       "2     -93.311817  45.006028            19194598       08-034409   \n",
       "3     -93.288860  45.043001            19194599       08-043573   \n",
       "4     -93.271963  44.981655            19194600       08-052540   \n",
       "...          ...        ...                 ...             ...   \n",
       "32030   0.000000   0.000000            19226626       09-Cooper   \n",
       "32031   0.000000   0.000000            19226627    08-Bottineau   \n",
       "32032   0.000000   0.000000            19226628  09-Loring Park   \n",
       "32033   0.000000   0.000000            19226629       14-Cooper   \n",
       "32034   0.000000   0.000000            19226630      19-Central   \n",
       "\n",
       "                 ResponseDate                    Problem Is911Call  \\\n",
       "0      2008/01/08 14:20:21+00               Disturbance         No   \n",
       "1      2008/01/19 23:47:58+00                   On Site         No   \n",
       "2      2008/02/04 21:21:49+00  Property Damage Accident        Yes   \n",
       "3      2008/02/14 22:03:15+00           Unwanted Person        Yes   \n",
       "4      2008/02/24 02:25:39+00                     Fight         No   \n",
       "...                       ...                        ...       ...   \n",
       "32030  2009/01/01 00:00:00+00                        NaN       NaN   \n",
       "32031  2008/01/01 00:00:00+00                        NaN       NaN   \n",
       "32032  2009/01/01 00:00:00+00                        NaN       NaN   \n",
       "32033  2014/01/01 00:00:00+00                        NaN       NaN   \n",
       "32034  2019/01/01 00:00:00+00                        NaN       NaN   \n",
       "\n",
       "      PrimaryOffense SubjectInjury  ForceReportNumber  ...  \\\n",
       "0             DISCON           NaN                  1  ...   \n",
       "1             NOSMOK           NaN                  1  ...   \n",
       "2              ASLT2           NaN                  1  ...   \n",
       "3             DAMPRP           NaN                  2  ...   \n",
       "4             OBSTRU            No                  3  ...   \n",
       "...              ...           ...                ...  ...   \n",
       "32030            NaN           NaN                  0  ...   \n",
       "32031            NaN           NaN                  0  ...   \n",
       "32032            NaN           NaN                  0  ...   \n",
       "32033            NaN           NaN                  0  ...   \n",
       "32034            NaN           NaN                  0  ...   \n",
       "\n",
       "      TotalCityCallsForYear  TotalPrecinctCallsForYear  \\\n",
       "0                    322402                    80434.0   \n",
       "1                    322402                    46998.0   \n",
       "2                    322402                    80434.0   \n",
       "3                    322402                    80434.0   \n",
       "4                    322402                    46998.0   \n",
       "...                     ...                        ...   \n",
       "32030                316150                        NaN   \n",
       "32031                322402                        NaN   \n",
       "32032                316150                        NaN   \n",
       "32033                355617                        NaN   \n",
       "32034                302056                        NaN   \n",
       "\n",
       "      TotalNeighborhoodCallsForYear CenterGBSID CenterLatitude  \\\n",
       "0                              2514       15824      44.980557   \n",
       "1                             23458       17239      44.979187   \n",
       "2                              9486       10909      45.006028   \n",
       "3                              3070       17338      45.043001   \n",
       "4                             23458       17120      44.981655   \n",
       "...                             ...         ...            ...   \n",
       "32030                          1107           0       0.000000   \n",
       "32031                          1370           0       0.000000   \n",
       "32032                          5545           0       0.000000   \n",
       "32033                          1064           0       0.000000   \n",
       "32034                          5312           0       0.000000   \n",
       "\n",
       "      CenterLongitude      CenterX      CenterY               DateAdded  \\\n",
       "0          -93.299256 -10386025.66  5618461.049  2021/02/11 08:18:54+00   \n",
       "1          -93.273109 -10383115.01  5618245.449  2021/02/11 08:18:54+00   \n",
       "2          -93.311817 -10387423.95  5622470.553  2021/02/11 08:18:54+00   \n",
       "3          -93.288860 -10384868.44  5628293.683  2021/02/11 08:18:54+00   \n",
       "4          -93.271963 -10382987.47  5618633.899  2021/02/11 08:18:54+00   \n",
       "...               ...          ...          ...                     ...   \n",
       "32030        0.000000         0.00        0.000  2021/02/11 08:35:04+00   \n",
       "32031        0.000000         0.00        0.000  2021/02/11 08:35:04+00   \n",
       "32032        0.000000         0.00        0.000  2021/02/11 08:35:04+00   \n",
       "32033        0.000000         0.00        0.000  2021/02/11 08:35:04+00   \n",
       "32034        0.000000         0.00        0.000  2021/02/11 08:35:04+00   \n",
       "\n",
       "      OBJECTID  \n",
       "0            1  \n",
       "1            2  \n",
       "2            3  \n",
       "3            4  \n",
       "4            5  \n",
       "...        ...  \n",
       "32030    32031  \n",
       "32031    32032  \n",
       "32032    32033  \n",
       "32033    32034  \n",
       "32034    32035  \n",
       "\n",
       "[32035 rows x 30 columns]"
      ]
     },
     "execution_count": 2,
     "metadata": {},
     "output_type": "execute_result"
    }
   ],
   "source": [
    "#Import csv file\n",
    "police_data = pd.read_csv(\"Resources/Police_Use_of_Force.csv\")\n",
    "police_data"
   ]
  },
  {
   "cell_type": "code",
   "execution_count": 66,
   "metadata": {},
   "outputs": [
    {
     "data": {
      "text/html": [
       "<div>\n",
       "<style scoped>\n",
       "    .dataframe tbody tr th:only-of-type {\n",
       "        vertical-align: middle;\n",
       "    }\n",
       "\n",
       "    .dataframe tbody tr th {\n",
       "        vertical-align: top;\n",
       "    }\n",
       "\n",
       "    .dataframe thead th {\n",
       "        text-align: right;\n",
       "    }\n",
       "</style>\n",
       "<table border=\"1\" class=\"dataframe\">\n",
       "  <thead>\n",
       "    <tr style=\"text-align: right;\">\n",
       "      <th></th>\n",
       "      <th>PoliceUseOfForceID</th>\n",
       "      <th>CaseNumber</th>\n",
       "      <th>ResponseDate</th>\n",
       "      <th>Problem</th>\n",
       "      <th>ForceType</th>\n",
       "      <th>ForceTypeAction</th>\n",
       "      <th>EventAge</th>\n",
       "      <th>TypeOfResistance</th>\n",
       "      <th>Precinct</th>\n",
       "      <th>Neighborhood</th>\n",
       "    </tr>\n",
       "  </thead>\n",
       "  <tbody>\n",
       "    <tr>\n",
       "      <th>0</th>\n",
       "      <td>19194596</td>\n",
       "      <td>08-007748</td>\n",
       "      <td>2008/01/08 14:20:21+00</td>\n",
       "      <td>Disturbance</td>\n",
       "      <td>Bodily Force</td>\n",
       "      <td>Push Away</td>\n",
       "      <td>13.0</td>\n",
       "      <td>Tensed</td>\n",
       "      <td>4</td>\n",
       "      <td>Harrison</td>\n",
       "    </tr>\n",
       "    <tr>\n",
       "      <th>1</th>\n",
       "      <td>19194597</td>\n",
       "      <td>08-019047</td>\n",
       "      <td>2008/01/19 23:47:58+00</td>\n",
       "      <td>On Site</td>\n",
       "      <td>Bodily Force</td>\n",
       "      <td>Push Away</td>\n",
       "      <td>27.0</td>\n",
       "      <td>Tensed</td>\n",
       "      <td>1</td>\n",
       "      <td>Downtown West</td>\n",
       "    </tr>\n",
       "    <tr>\n",
       "      <th>2</th>\n",
       "      <td>19194598</td>\n",
       "      <td>08-034409</td>\n",
       "      <td>2008/02/04 21:21:49+00</td>\n",
       "      <td>Property Damage Accident</td>\n",
       "      <td>Bodily Force</td>\n",
       "      <td>Joint Lock</td>\n",
       "      <td>17.0</td>\n",
       "      <td>Verbal Non-Compliance</td>\n",
       "      <td>4</td>\n",
       "      <td>Willard - Hay</td>\n",
       "    </tr>\n",
       "    <tr>\n",
       "      <th>3</th>\n",
       "      <td>19194599</td>\n",
       "      <td>08-043573</td>\n",
       "      <td>2008/02/14 22:03:15+00</td>\n",
       "      <td>Unwanted Person</td>\n",
       "      <td>Bodily Force</td>\n",
       "      <td>Body Weight to Pin</td>\n",
       "      <td>18.0</td>\n",
       "      <td>Tensed</td>\n",
       "      <td>4</td>\n",
       "      <td>Lind - Bohanon</td>\n",
       "    </tr>\n",
       "    <tr>\n",
       "      <th>4</th>\n",
       "      <td>19194600</td>\n",
       "      <td>08-052540</td>\n",
       "      <td>2008/02/24 02:25:39+00</td>\n",
       "      <td>Fight</td>\n",
       "      <td>Bodily Force</td>\n",
       "      <td>Knees</td>\n",
       "      <td>28.0</td>\n",
       "      <td>Commission of Crime</td>\n",
       "      <td>1</td>\n",
       "      <td>Downtown West</td>\n",
       "    </tr>\n",
       "  </tbody>\n",
       "</table>\n",
       "</div>"
      ],
      "text/plain": [
       "   PoliceUseOfForceID CaseNumber            ResponseDate  \\\n",
       "0            19194596  08-007748  2008/01/08 14:20:21+00   \n",
       "1            19194597  08-019047  2008/01/19 23:47:58+00   \n",
       "2            19194598  08-034409  2008/02/04 21:21:49+00   \n",
       "3            19194599  08-043573  2008/02/14 22:03:15+00   \n",
       "4            19194600  08-052540  2008/02/24 02:25:39+00   \n",
       "\n",
       "                     Problem     ForceType     ForceTypeAction  EventAge  \\\n",
       "0               Disturbance   Bodily Force           Push Away      13.0   \n",
       "1                   On Site   Bodily Force           Push Away      27.0   \n",
       "2  Property Damage Accident   Bodily Force          Joint Lock      17.0   \n",
       "3           Unwanted Person   Bodily Force  Body Weight to Pin      18.0   \n",
       "4                     Fight   Bodily Force               Knees      28.0   \n",
       "\n",
       "        TypeOfResistance Precinct    Neighborhood  \n",
       "0                 Tensed        4        Harrison  \n",
       "1                 Tensed        1   Downtown West  \n",
       "2  Verbal Non-Compliance        4   Willard - Hay  \n",
       "3                 Tensed        4  Lind - Bohanon  \n",
       "4    Commission of Crime        1   Downtown West  "
      ]
     },
     "execution_count": 66,
     "metadata": {},
     "output_type": "execute_result"
    }
   ],
   "source": [
    "#create new DataFrame\n",
    "police_data_df = police_data.loc[:, [\"PoliceUseOfForceID\", \"CaseNumber\", \"ResponseDate\", \"Problem\", \"ForceType\",\n",
    "                                    \"ForceTypeAction\", \"EventAge\", \"TypeOfResistance\", \"Precinct\", \"Neighborhood\"]]\n",
    "police_data_df.head()"
   ]
  },
  {
   "cell_type": "code",
   "execution_count": 4,
   "metadata": {},
   "outputs": [
    {
     "data": {
      "text/html": [
       "<div>\n",
       "<style scoped>\n",
       "    .dataframe tbody tr th:only-of-type {\n",
       "        vertical-align: middle;\n",
       "    }\n",
       "\n",
       "    .dataframe tbody tr th {\n",
       "        vertical-align: top;\n",
       "    }\n",
       "\n",
       "    .dataframe thead th {\n",
       "        text-align: right;\n",
       "    }\n",
       "</style>\n",
       "<table border=\"1\" class=\"dataframe\">\n",
       "  <thead>\n",
       "    <tr style=\"text-align: right;\">\n",
       "      <th></th>\n",
       "      <th>PoliceUseOfForceID</th>\n",
       "      <th>CaseNumber</th>\n",
       "      <th>ResponseDate</th>\n",
       "      <th>Problem</th>\n",
       "      <th>ForceType</th>\n",
       "      <th>ForceTypeAction</th>\n",
       "      <th>EventAge</th>\n",
       "      <th>TypeOfResistance</th>\n",
       "      <th>Precinct</th>\n",
       "      <th>Neighborhood</th>\n",
       "    </tr>\n",
       "  </thead>\n",
       "  <tbody>\n",
       "    <tr>\n",
       "      <th>0</th>\n",
       "      <td>19194596</td>\n",
       "      <td>08-007748</td>\n",
       "      <td>2008/01/08 14:20:21+00</td>\n",
       "      <td>Disturbance</td>\n",
       "      <td>Bodily Force</td>\n",
       "      <td>Push Away</td>\n",
       "      <td>13.0</td>\n",
       "      <td>Tensed</td>\n",
       "      <td>4</td>\n",
       "      <td>Harrison</td>\n",
       "    </tr>\n",
       "    <tr>\n",
       "      <th>1</th>\n",
       "      <td>19194597</td>\n",
       "      <td>08-019047</td>\n",
       "      <td>2008/01/19 23:47:58+00</td>\n",
       "      <td>On Site</td>\n",
       "      <td>Bodily Force</td>\n",
       "      <td>Push Away</td>\n",
       "      <td>27.0</td>\n",
       "      <td>Tensed</td>\n",
       "      <td>1</td>\n",
       "      <td>Downtown West</td>\n",
       "    </tr>\n",
       "    <tr>\n",
       "      <th>2</th>\n",
       "      <td>19194598</td>\n",
       "      <td>08-034409</td>\n",
       "      <td>2008/02/04 21:21:49+00</td>\n",
       "      <td>Property Damage Accident</td>\n",
       "      <td>Bodily Force</td>\n",
       "      <td>Joint Lock</td>\n",
       "      <td>17.0</td>\n",
       "      <td>Verbal Non-Compliance</td>\n",
       "      <td>4</td>\n",
       "      <td>Willard - Hay</td>\n",
       "    </tr>\n",
       "    <tr>\n",
       "      <th>3</th>\n",
       "      <td>19194599</td>\n",
       "      <td>08-043573</td>\n",
       "      <td>2008/02/14 22:03:15+00</td>\n",
       "      <td>Unwanted Person</td>\n",
       "      <td>Bodily Force</td>\n",
       "      <td>Body Weight to Pin</td>\n",
       "      <td>18.0</td>\n",
       "      <td>Tensed</td>\n",
       "      <td>4</td>\n",
       "      <td>Lind - Bohanon</td>\n",
       "    </tr>\n",
       "    <tr>\n",
       "      <th>4</th>\n",
       "      <td>19194600</td>\n",
       "      <td>08-052540</td>\n",
       "      <td>2008/02/24 02:25:39+00</td>\n",
       "      <td>Fight</td>\n",
       "      <td>Bodily Force</td>\n",
       "      <td>Knees</td>\n",
       "      <td>28.0</td>\n",
       "      <td>Commission of Crime</td>\n",
       "      <td>1</td>\n",
       "      <td>Downtown West</td>\n",
       "    </tr>\n",
       "    <tr>\n",
       "      <th>...</th>\n",
       "      <td>...</td>\n",
       "      <td>...</td>\n",
       "      <td>...</td>\n",
       "      <td>...</td>\n",
       "      <td>...</td>\n",
       "      <td>...</td>\n",
       "      <td>...</td>\n",
       "      <td>...</td>\n",
       "      <td>...</td>\n",
       "      <td>...</td>\n",
       "    </tr>\n",
       "    <tr>\n",
       "      <th>30829</th>\n",
       "      <td>19225425</td>\n",
       "      <td>20-287806</td>\n",
       "      <td>2020/11/12 14:41:54+00</td>\n",
       "      <td>Domestic Abuse-In Progress</td>\n",
       "      <td>Maximal Restraint Technique</td>\n",
       "      <td>Not Side Recovery Position</td>\n",
       "      <td>19.0</td>\n",
       "      <td>Other                                         ...</td>\n",
       "      <td>2</td>\n",
       "      <td>Waite Park</td>\n",
       "    </tr>\n",
       "    <tr>\n",
       "      <th>30830</th>\n",
       "      <td>19225426</td>\n",
       "      <td>20-288772</td>\n",
       "      <td>2020/11/13 21:48:02+00</td>\n",
       "      <td>Unwanted Person</td>\n",
       "      <td>Bodily Force</td>\n",
       "      <td>Body Weight Pin</td>\n",
       "      <td>29.0</td>\n",
       "      <td>Verbal Non-Compliance                         ...</td>\n",
       "      <td>5</td>\n",
       "      <td>Linden Hills</td>\n",
       "    </tr>\n",
       "    <tr>\n",
       "      <th>30831</th>\n",
       "      <td>19225427</td>\n",
       "      <td>20-292656</td>\n",
       "      <td>2020/11/19 15:44:41+00</td>\n",
       "      <td>Emotionally Disturb Person</td>\n",
       "      <td>Taser</td>\n",
       "      <td>Firing Darts</td>\n",
       "      <td>23.0</td>\n",
       "      <td>Other                                         ...</td>\n",
       "      <td>4</td>\n",
       "      <td>Willard - Hay</td>\n",
       "    </tr>\n",
       "    <tr>\n",
       "      <th>30832</th>\n",
       "      <td>19225428</td>\n",
       "      <td>20-298833</td>\n",
       "      <td>2020/11/28 08:18:10+00</td>\n",
       "      <td>Motor Vehicle Chase</td>\n",
       "      <td>Bodily Force</td>\n",
       "      <td>Push Away</td>\n",
       "      <td>31.0</td>\n",
       "      <td>Fled in a Vehicle                             ...</td>\n",
       "      <td>3</td>\n",
       "      <td>East Phillips</td>\n",
       "    </tr>\n",
       "    <tr>\n",
       "      <th>30833</th>\n",
       "      <td>19225429</td>\n",
       "      <td>20-303056</td>\n",
       "      <td>2020/12/04 06:07:08+00</td>\n",
       "      <td>Assist a Disabled Person</td>\n",
       "      <td>Bodily Force</td>\n",
       "      <td>Body Weight Pin</td>\n",
       "      <td>19.0</td>\n",
       "      <td>Tensed                                        ...</td>\n",
       "      <td>1</td>\n",
       "      <td>Cedar Riverside</td>\n",
       "    </tr>\n",
       "  </tbody>\n",
       "</table>\n",
       "<p>29075 rows × 10 columns</p>\n",
       "</div>"
      ],
      "text/plain": [
       "       PoliceUseOfForceID CaseNumber            ResponseDate  \\\n",
       "0                19194596  08-007748  2008/01/08 14:20:21+00   \n",
       "1                19194597  08-019047  2008/01/19 23:47:58+00   \n",
       "2                19194598  08-034409  2008/02/04 21:21:49+00   \n",
       "3                19194599  08-043573  2008/02/14 22:03:15+00   \n",
       "4                19194600  08-052540  2008/02/24 02:25:39+00   \n",
       "...                   ...        ...                     ...   \n",
       "30829            19225425  20-287806  2020/11/12 14:41:54+00   \n",
       "30830            19225426  20-288772  2020/11/13 21:48:02+00   \n",
       "30831            19225427  20-292656  2020/11/19 15:44:41+00   \n",
       "30832            19225428  20-298833  2020/11/28 08:18:10+00   \n",
       "30833            19225429  20-303056  2020/12/04 06:07:08+00   \n",
       "\n",
       "                           Problem                    ForceType  \\\n",
       "0                     Disturbance                  Bodily Force   \n",
       "1                         On Site                  Bodily Force   \n",
       "2        Property Damage Accident                  Bodily Force   \n",
       "3                 Unwanted Person                  Bodily Force   \n",
       "4                           Fight                  Bodily Force   \n",
       "...                            ...                          ...   \n",
       "30829  Domestic Abuse-In Progress   Maximal Restraint Technique   \n",
       "30830             Unwanted Person                  Bodily Force   \n",
       "30831  Emotionally Disturb Person                         Taser   \n",
       "30832         Motor Vehicle Chase                  Bodily Force   \n",
       "30833    Assist a Disabled Person                  Bodily Force   \n",
       "\n",
       "                  ForceTypeAction  EventAge  \\\n",
       "0                       Push Away      13.0   \n",
       "1                       Push Away      27.0   \n",
       "2                      Joint Lock      17.0   \n",
       "3              Body Weight to Pin      18.0   \n",
       "4                           Knees      28.0   \n",
       "...                           ...       ...   \n",
       "30829  Not Side Recovery Position      19.0   \n",
       "30830             Body Weight Pin      29.0   \n",
       "30831                Firing Darts      23.0   \n",
       "30832                   Push Away      31.0   \n",
       "30833             Body Weight Pin      19.0   \n",
       "\n",
       "                                        TypeOfResistance Precinct  \\\n",
       "0                                                 Tensed        4   \n",
       "1                                                 Tensed        1   \n",
       "2                                  Verbal Non-Compliance        4   \n",
       "3                                                 Tensed        4   \n",
       "4                                    Commission of Crime        1   \n",
       "...                                                  ...      ...   \n",
       "30829  Other                                         ...        2   \n",
       "30830  Verbal Non-Compliance                         ...        5   \n",
       "30831  Other                                         ...        4   \n",
       "30832  Fled in a Vehicle                             ...        3   \n",
       "30833  Tensed                                        ...        1   \n",
       "\n",
       "          Neighborhood  \n",
       "0             Harrison  \n",
       "1        Downtown West  \n",
       "2        Willard - Hay  \n",
       "3       Lind - Bohanon  \n",
       "4        Downtown West  \n",
       "...                ...  \n",
       "30829       Waite Park  \n",
       "30830     Linden Hills  \n",
       "30831    Willard - Hay  \n",
       "30832    East Phillips  \n",
       "30833  Cedar Riverside  \n",
       "\n",
       "[29075 rows x 10 columns]"
      ]
     },
     "execution_count": 4,
     "metadata": {},
     "output_type": "execute_result"
    }
   ],
   "source": [
    "#drop NaN from Dataframe\n",
    "police_data_df = police_data_df.dropna(how='any')\n",
    "police_data_df"
   ]
  },
  {
   "cell_type": "code",
   "execution_count": 5,
   "metadata": {},
   "outputs": [
    {
     "name": "stderr",
     "output_type": "stream",
     "text": [
      "/Users/ainashtoleu/opt/anaconda3/envs/PythonData/lib/python3.6/site-packages/ipykernel_launcher.py:9: SettingWithCopyWarning: \n",
      "A value is trying to be set on a copy of a slice from a DataFrame.\n",
      "Try using .loc[row_indexer,col_indexer] = value instead\n",
      "\n",
      "See the caveats in the documentation: https://pandas.pydata.org/pandas-docs/stable/user_guide/indexing.html#returning-a-view-versus-a-copy\n",
      "  if __name__ == '__main__':\n"
     ]
    }
   ],
   "source": [
    "#rename rows in ForceTypeAction column\n",
    "police_data_df['ForceTypeAction'] = police_data_df['ForceTypeAction'].replace({\n",
    "    \"Knee\": \"Knees\",\n",
    "    \"Body Weight Pin\": \"Body Weight to Pin\",\n",
    "    \"Conscious Neck Restraint\": \"Neck Restraint: subject did not lose conciousness\",\n",
    "    \"Punch\": \"Punches\",\n",
    "    \"Slap\": \"Slaps\",\n",
    "    'Unconscious Neck Restraint': 'Neck Restraint: subject did not lose conciousness',\n",
    "    'Firearm as striking tool': 'Firearms As Striking Tool'\n",
    "})\n"
   ]
  },
  {
   "cell_type": "code",
   "execution_count": 6,
   "metadata": {},
   "outputs": [
    {
     "name": "stderr",
     "output_type": "stream",
     "text": [
      "/Users/ainashtoleu/opt/anaconda3/envs/PythonData/lib/python3.6/site-packages/ipykernel_launcher.py:3: SettingWithCopyWarning: \n",
      "A value is trying to be set on a copy of a slice from a DataFrame.\n",
      "Try using .loc[row_indexer,col_indexer] = value instead\n",
      "\n",
      "See the caveats in the documentation: https://pandas.pydata.org/pandas-docs/stable/user_guide/indexing.html#returning-a-view-versus-a-copy\n",
      "  This is separate from the ipykernel package so we can avoid doing imports until\n"
     ]
    }
   ],
   "source": [
    "#rename rows in ForceType column\n",
    "police_data_df['ForceType'] = police_data_df['ForceType'].replace({\n",
    "    \"Less Lethal Projectile\": \"Less Lethal\"\n",
    "})"
   ]
  },
  {
   "cell_type": "code",
   "execution_count": 7,
   "metadata": {},
   "outputs": [
    {
     "name": "stderr",
     "output_type": "stream",
     "text": [
      "/Users/ainashtoleu/opt/anaconda3/envs/PythonData/lib/python3.6/site-packages/ipykernel_launcher.py:15: SettingWithCopyWarning: \n",
      "A value is trying to be set on a copy of a slice from a DataFrame.\n",
      "Try using .loc[row_indexer,col_indexer] = value instead\n",
      "\n",
      "See the caveats in the documentation: https://pandas.pydata.org/pandas-docs/stable/user_guide/indexing.html#returning-a-view-versus-a-copy\n",
      "  from ipykernel import kernelapp as app\n"
     ]
    }
   ],
   "source": [
    "#rename rows in TypeOfResistance column\n",
    "police_data_df['TypeOfResistance'] = police_data_df['TypeOfResistance'].replace({\n",
    "    \"TENSED\": \"Tensed\",\n",
    "    \"tensed\": \"Tensed\",\n",
    "    \"Tensed                                                                         \": \"Tensed\",\n",
    "    \"verbal non-compliance\": \"Verbal Non-Compliance\",\n",
    "    \"Verbal Non-Compliance                                                          \": \"Verbal Non-Compliance\",\n",
    "    \"commission of crime\":\"Commission of Crime\",\n",
    "    \"Commission of a Crime                                                          \":\"Commission of Crime\",\n",
    "    \"COMMISSION OF CRIME\":\"Commission of Crime\",\n",
    "    \"Fled on Foot                                                                   \":\"Fled on Foot\",\n",
    "    \"Fled in a Vehicle                                                              \":\"Fled in Vehicle\",\n",
    "    \"Assaulted Officer                                                              \":\"Assaulted Officer\",\n",
    "    \"Assaulted Police K9                                                            \":\"Assaulting Police K9\",\n",
    "    \"Other                                                                          \":\"Other\"\n",
    "           \n",
    "})"
   ]
  },
  {
   "cell_type": "code",
   "execution_count": 8,
   "metadata": {},
   "outputs": [
    {
     "data": {
      "text/html": [
       "<div>\n",
       "<style scoped>\n",
       "    .dataframe tbody tr th:only-of-type {\n",
       "        vertical-align: middle;\n",
       "    }\n",
       "\n",
       "    .dataframe tbody tr th {\n",
       "        vertical-align: top;\n",
       "    }\n",
       "\n",
       "    .dataframe thead th {\n",
       "        text-align: right;\n",
       "    }\n",
       "</style>\n",
       "<table border=\"1\" class=\"dataframe\">\n",
       "  <thead>\n",
       "    <tr style=\"text-align: right;\">\n",
       "      <th></th>\n",
       "      <th>Police ID</th>\n",
       "      <th>Case Number</th>\n",
       "      <th>Response Date</th>\n",
       "      <th>Type of Crime</th>\n",
       "      <th>Type of Force</th>\n",
       "      <th>Type of Force Action</th>\n",
       "      <th>Event Age</th>\n",
       "      <th>Type of Resistance</th>\n",
       "      <th>Precinct</th>\n",
       "      <th>Neighborhood</th>\n",
       "    </tr>\n",
       "  </thead>\n",
       "  <tbody>\n",
       "    <tr>\n",
       "      <th>0</th>\n",
       "      <td>19194596</td>\n",
       "      <td>08-007748</td>\n",
       "      <td>2008/01/08 14:20:21+00</td>\n",
       "      <td>Disturbance</td>\n",
       "      <td>Bodily Force</td>\n",
       "      <td>Push Away</td>\n",
       "      <td>13.0</td>\n",
       "      <td>Tensed</td>\n",
       "      <td>4</td>\n",
       "      <td>Harrison</td>\n",
       "    </tr>\n",
       "    <tr>\n",
       "      <th>1</th>\n",
       "      <td>19194597</td>\n",
       "      <td>08-019047</td>\n",
       "      <td>2008/01/19 23:47:58+00</td>\n",
       "      <td>On Site</td>\n",
       "      <td>Bodily Force</td>\n",
       "      <td>Push Away</td>\n",
       "      <td>27.0</td>\n",
       "      <td>Tensed</td>\n",
       "      <td>1</td>\n",
       "      <td>Downtown West</td>\n",
       "    </tr>\n",
       "    <tr>\n",
       "      <th>2</th>\n",
       "      <td>19194598</td>\n",
       "      <td>08-034409</td>\n",
       "      <td>2008/02/04 21:21:49+00</td>\n",
       "      <td>Property Damage Accident</td>\n",
       "      <td>Bodily Force</td>\n",
       "      <td>Joint Lock</td>\n",
       "      <td>17.0</td>\n",
       "      <td>Verbal Non-Compliance</td>\n",
       "      <td>4</td>\n",
       "      <td>Willard - Hay</td>\n",
       "    </tr>\n",
       "    <tr>\n",
       "      <th>3</th>\n",
       "      <td>19194599</td>\n",
       "      <td>08-043573</td>\n",
       "      <td>2008/02/14 22:03:15+00</td>\n",
       "      <td>Unwanted Person</td>\n",
       "      <td>Bodily Force</td>\n",
       "      <td>Body Weight to Pin</td>\n",
       "      <td>18.0</td>\n",
       "      <td>Tensed</td>\n",
       "      <td>4</td>\n",
       "      <td>Lind - Bohanon</td>\n",
       "    </tr>\n",
       "    <tr>\n",
       "      <th>4</th>\n",
       "      <td>19194600</td>\n",
       "      <td>08-052540</td>\n",
       "      <td>2008/02/24 02:25:39+00</td>\n",
       "      <td>Fight</td>\n",
       "      <td>Bodily Force</td>\n",
       "      <td>Knees</td>\n",
       "      <td>28.0</td>\n",
       "      <td>Commission of Crime</td>\n",
       "      <td>1</td>\n",
       "      <td>Downtown West</td>\n",
       "    </tr>\n",
       "    <tr>\n",
       "      <th>...</th>\n",
       "      <td>...</td>\n",
       "      <td>...</td>\n",
       "      <td>...</td>\n",
       "      <td>...</td>\n",
       "      <td>...</td>\n",
       "      <td>...</td>\n",
       "      <td>...</td>\n",
       "      <td>...</td>\n",
       "      <td>...</td>\n",
       "      <td>...</td>\n",
       "    </tr>\n",
       "    <tr>\n",
       "      <th>29070</th>\n",
       "      <td>19225425</td>\n",
       "      <td>20-287806</td>\n",
       "      <td>2020/11/12 14:41:54+00</td>\n",
       "      <td>Domestic Abuse-In Progress</td>\n",
       "      <td>Maximal Restraint Technique</td>\n",
       "      <td>Not Side Recovery Position</td>\n",
       "      <td>19.0</td>\n",
       "      <td>Other</td>\n",
       "      <td>2</td>\n",
       "      <td>Waite Park</td>\n",
       "    </tr>\n",
       "    <tr>\n",
       "      <th>29071</th>\n",
       "      <td>19225426</td>\n",
       "      <td>20-288772</td>\n",
       "      <td>2020/11/13 21:48:02+00</td>\n",
       "      <td>Unwanted Person</td>\n",
       "      <td>Bodily Force</td>\n",
       "      <td>Body Weight to Pin</td>\n",
       "      <td>29.0</td>\n",
       "      <td>Verbal Non-Compliance</td>\n",
       "      <td>5</td>\n",
       "      <td>Linden Hills</td>\n",
       "    </tr>\n",
       "    <tr>\n",
       "      <th>29072</th>\n",
       "      <td>19225427</td>\n",
       "      <td>20-292656</td>\n",
       "      <td>2020/11/19 15:44:41+00</td>\n",
       "      <td>Emotionally Disturb Person</td>\n",
       "      <td>Taser</td>\n",
       "      <td>Firing Darts</td>\n",
       "      <td>23.0</td>\n",
       "      <td>Other</td>\n",
       "      <td>4</td>\n",
       "      <td>Willard - Hay</td>\n",
       "    </tr>\n",
       "    <tr>\n",
       "      <th>29073</th>\n",
       "      <td>19225428</td>\n",
       "      <td>20-298833</td>\n",
       "      <td>2020/11/28 08:18:10+00</td>\n",
       "      <td>Motor Vehicle Chase</td>\n",
       "      <td>Bodily Force</td>\n",
       "      <td>Push Away</td>\n",
       "      <td>31.0</td>\n",
       "      <td>Fled in Vehicle</td>\n",
       "      <td>3</td>\n",
       "      <td>East Phillips</td>\n",
       "    </tr>\n",
       "    <tr>\n",
       "      <th>29074</th>\n",
       "      <td>19225429</td>\n",
       "      <td>20-303056</td>\n",
       "      <td>2020/12/04 06:07:08+00</td>\n",
       "      <td>Assist a Disabled Person</td>\n",
       "      <td>Bodily Force</td>\n",
       "      <td>Body Weight to Pin</td>\n",
       "      <td>19.0</td>\n",
       "      <td>Tensed</td>\n",
       "      <td>1</td>\n",
       "      <td>Cedar Riverside</td>\n",
       "    </tr>\n",
       "  </tbody>\n",
       "</table>\n",
       "<p>29075 rows × 10 columns</p>\n",
       "</div>"
      ],
      "text/plain": [
       "       Police ID Case Number           Response Date  \\\n",
       "0       19194596   08-007748  2008/01/08 14:20:21+00   \n",
       "1       19194597   08-019047  2008/01/19 23:47:58+00   \n",
       "2       19194598   08-034409  2008/02/04 21:21:49+00   \n",
       "3       19194599   08-043573  2008/02/14 22:03:15+00   \n",
       "4       19194600   08-052540  2008/02/24 02:25:39+00   \n",
       "...          ...         ...                     ...   \n",
       "29070   19225425   20-287806  2020/11/12 14:41:54+00   \n",
       "29071   19225426   20-288772  2020/11/13 21:48:02+00   \n",
       "29072   19225427   20-292656  2020/11/19 15:44:41+00   \n",
       "29073   19225428   20-298833  2020/11/28 08:18:10+00   \n",
       "29074   19225429   20-303056  2020/12/04 06:07:08+00   \n",
       "\n",
       "                     Type of Crime                Type of Force  \\\n",
       "0                     Disturbance                  Bodily Force   \n",
       "1                         On Site                  Bodily Force   \n",
       "2        Property Damage Accident                  Bodily Force   \n",
       "3                 Unwanted Person                  Bodily Force   \n",
       "4                           Fight                  Bodily Force   \n",
       "...                            ...                          ...   \n",
       "29070  Domestic Abuse-In Progress   Maximal Restraint Technique   \n",
       "29071             Unwanted Person                  Bodily Force   \n",
       "29072  Emotionally Disturb Person                         Taser   \n",
       "29073         Motor Vehicle Chase                  Bodily Force   \n",
       "29074    Assist a Disabled Person                  Bodily Force   \n",
       "\n",
       "             Type of Force Action  Event Age     Type of Resistance Precinct  \\\n",
       "0                       Push Away       13.0                 Tensed        4   \n",
       "1                       Push Away       27.0                 Tensed        1   \n",
       "2                      Joint Lock       17.0  Verbal Non-Compliance        4   \n",
       "3              Body Weight to Pin       18.0                 Tensed        4   \n",
       "4                           Knees       28.0    Commission of Crime        1   \n",
       "...                           ...        ...                    ...      ...   \n",
       "29070  Not Side Recovery Position       19.0                  Other        2   \n",
       "29071          Body Weight to Pin       29.0  Verbal Non-Compliance        5   \n",
       "29072                Firing Darts       23.0                  Other        4   \n",
       "29073                   Push Away       31.0        Fled in Vehicle        3   \n",
       "29074          Body Weight to Pin       19.0                 Tensed        1   \n",
       "\n",
       "          Neighborhood  \n",
       "0             Harrison  \n",
       "1        Downtown West  \n",
       "2        Willard - Hay  \n",
       "3       Lind - Bohanon  \n",
       "4        Downtown West  \n",
       "...                ...  \n",
       "29070       Waite Park  \n",
       "29071     Linden Hills  \n",
       "29072    Willard - Hay  \n",
       "29073    East Phillips  \n",
       "29074  Cedar Riverside  \n",
       "\n",
       "[29075 rows x 10 columns]"
      ]
     },
     "execution_count": 8,
     "metadata": {},
     "output_type": "execute_result"
    }
   ],
   "source": [
    "#rename columns in Dataframe\n",
    "clean_df = police_data_df.rename(columns ={\n",
    "    'PoliceUseOfForceID': \"Police ID\",\n",
    "    'CaseNumber': \"Case Number\",\n",
    "    'ResponseDate': \"Response Date\",\n",
    "    'Problem': \"Type of Crime\",\n",
    "    'ForceType': 'Type of Force',\n",
    "    'ForceTypeAction': 'Type of Force Action',\n",
    "    'EventAge': 'Event Age',\n",
    "    'TypeOfResistance': 'Type of Resistance'\n",
    "})\n",
    "#reset the index in DataFrame\n",
    "clean_df.reset_index(drop=True, inplace=True)\n",
    "clean_df"
   ]
  },
  {
   "cell_type": "markdown",
   "metadata": {},
   "source": [
    "# 1. What incidents result the most in police use of force? (Sam)"
   ]
  },
  {
   "cell_type": "code",
   "execution_count": 9,
   "metadata": {},
   "outputs": [
    {
     "data": {
      "text/plain": [
       "count                  29075\n",
       "unique                   131\n",
       "top       Suspicious Person \n",
       "freq                    4845\n",
       "Name: Type of Crime, dtype: object"
      ]
     },
     "execution_count": 9,
     "metadata": {},
     "output_type": "execute_result"
    }
   ],
   "source": [
    "test_data = clean_df[\"Type of Crime\"].describe(include=\"all\")\n",
    "test_data"
   ]
  },
  {
   "cell_type": "code",
   "execution_count": 10,
   "metadata": {},
   "outputs": [
    {
     "data": {
      "text/html": [
       "<div>\n",
       "<style scoped>\n",
       "    .dataframe tbody tr th:only-of-type {\n",
       "        vertical-align: middle;\n",
       "    }\n",
       "\n",
       "    .dataframe tbody tr th {\n",
       "        vertical-align: top;\n",
       "    }\n",
       "\n",
       "    .dataframe thead th {\n",
       "        text-align: right;\n",
       "    }\n",
       "</style>\n",
       "<table border=\"1\" class=\"dataframe\">\n",
       "  <thead>\n",
       "    <tr style=\"text-align: right;\">\n",
       "      <th></th>\n",
       "      <th>Total Count</th>\n",
       "    </tr>\n",
       "    <tr>\n",
       "      <th>Incidents</th>\n",
       "      <th></th>\n",
       "    </tr>\n",
       "  </thead>\n",
       "  <tbody>\n",
       "    <tr>\n",
       "      <th>Suspicious Person</th>\n",
       "      <td>2341</td>\n",
       "    </tr>\n",
       "    <tr>\n",
       "      <th>Fight</th>\n",
       "      <td>1348</td>\n",
       "    </tr>\n",
       "    <tr>\n",
       "      <th>Disturbance</th>\n",
       "      <td>1031</td>\n",
       "    </tr>\n",
       "    <tr>\n",
       "      <th>Domestic Abuse-In Progress</th>\n",
       "      <td>719</td>\n",
       "    </tr>\n",
       "    <tr>\n",
       "      <th>Suspicious Vehicle</th>\n",
       "      <td>570</td>\n",
       "    </tr>\n",
       "  </tbody>\n",
       "</table>\n",
       "</div>"
      ],
      "text/plain": [
       "                             Total Count\n",
       "Incidents                               \n",
       "Suspicious Person                   2341\n",
       "Fight                               1348\n",
       "Disturbance                         1031\n",
       "Domestic Abuse-In Progress           719\n",
       "Suspicious Vehicle                   570"
      ]
     },
     "execution_count": 10,
     "metadata": {},
     "output_type": "execute_result"
    }
   ],
   "source": [
    "incident_data = clean_df.groupby(\"Type of Crime\")\n",
    "total_count = incident_data.nunique()[\"Case Number\"]\n",
    "\n",
    "incidents = pd.DataFrame({\"Total Count\": total_count})\n",
    "top_incidents = incidents.sort_values(\"Total Count\", ascending=False)\n",
    "\n",
    "top_incidents.index.name = \"Incidents\"\n",
    "top_incidents.head()"
   ]
  },
  {
   "cell_type": "code",
   "execution_count": 11,
   "metadata": {},
   "outputs": [
    {
     "data": {
      "text/plain": [
       "Text(0, 0.5, 'Number of Cases')"
      ]
     },
     "execution_count": 11,
     "metadata": {},
     "output_type": "execute_result"
    },
    {
     "data": {
      "image/png": "[encoded data removed]",
      "text/plain": [
       "<Figure size 432x288 with 1 Axes>"
      ]
     },
     "metadata": {
      "needs_background": "light"
     },
     "output_type": "display_data"
    }
   ],
   "source": [
    "top_incidents.head(5)\n",
    "top_incidents.head(5).plot(kind=\"bar\", edgecolor=\"black\", facecolor=\"purple\",fontsize=10)\n",
    "plt.title(\"Top 5 Incidents Resulting in Police Force in Minneapolis, MN\")\n",
    "plt.ylabel(\"Number of Cases\")"
   ]
  },
  {
   "cell_type": "markdown",
   "metadata": {},
   "source": [
    "# Incident Analysis:\n",
    "-When looking at the data, it is evident that the number one incident that results in the use of police force in Minneapolis is when there is a suspicious person (2341).\n",
    "\n",
    "-There could be many reasons why suspicious person is the number one incident resulting in police force. For instance, the suspect could have been caught in the middle of commiting a crime and will do anything it takes to get out of the situation. Another reason is the suspect could be exhibiting unusual behavior because they are either mentally unstable or on drugs. \n",
    "\n",
    "-Since every case is different. It is hard to pinpoint an exact reason why suspicious person is the number one incident resulting in police force. "
   ]
  },
  {
   "cell_type": "code",
   "execution_count": 12,
   "metadata": {},
   "outputs": [],
   "source": [
    "# Sam's code ends here"
   ]
  },
  {
   "cell_type": "markdown",
   "metadata": {},
   "source": [
    "# 2. What type of force is used the most? (Ainash)"
   ]
  },
  {
   "cell_type": "code",
   "execution_count": 13,
   "metadata": {},
   "outputs": [
    {
     "data": {
      "text/plain": [
       "array(['Bodily Force', 'Chemical Irritant', 'Taser', 'Improvised Weapon',\n",
       "       'Baton', 'Police K9 Bite', 'Firearm', 'Less Lethal',\n",
       "       'Gun Point Display', 'Maximal Restraint Technique'], dtype=object)"
      ]
     },
     "execution_count": 13,
     "metadata": {},
     "output_type": "execute_result"
    }
   ],
   "source": [
    "#find all types of force\n",
    "force_type_ainash = clean_df['Type of Force']\n",
    "force_type_ainash.unique()"
   ]
  },
  {
   "cell_type": "code",
   "execution_count": 14,
   "metadata": {},
   "outputs": [],
   "source": [
    "# find the most used types of force\n",
    "force_data_ainash = clean_df[['Type of Force', 'Case Number']]\n",
    "force_data_groupby_ainash = force_data_ainash.groupby('Type of Force')\n",
    "force_data_count_ainash = force_data_groupby_ainash['Type of Force'].count()\n",
    "most_force_type_ainash = pd.DataFrame({'Total Count': force_data_count_ainash})\n",
    "sorted_ainash = most_force_type_ainash.sort_values(['Total Count'], ascending = False)\n"
   ]
  },
  {
   "cell_type": "code",
   "execution_count": 15,
   "metadata": {},
   "outputs": [
    {
     "data": {
      "image/png": "[encoded data removed]",
      "text/plain": [
       "<Figure size 432x288 with 1 Axes>"
      ]
     },
     "metadata": {
      "needs_background": "light"
     },
     "output_type": "display_data"
    },
    {
     "data": {
      "text/plain": [
       "<Figure size 432x288 with 0 Axes>"
      ]
     },
     "metadata": {},
     "output_type": "display_data"
    }
   ],
   "source": [
    "# create a bar chart to show the Top 5 most used types of force\n",
    "top5_force_bar_ainash = sorted_ainash.head().plot(kind=\"bar\",edgecolor=\"black\", facecolor=\"purple\", fontsize=12, align=\"center\", alpha=1.0)\n",
    "plt.title('Top 5 Most Used Type of Force by Police in Minneapolis, MN')\n",
    "top5_force_bar_ainash.set_xlabel ('Type of Force')\n",
    "top5_force_bar_ainash.set_ylabel ('Number of Cases')\n",
    "plt.show()\n",
    "plt.tight_layout()"
   ]
  },
  {
   "cell_type": "code",
   "execution_count": 16,
   "metadata": {},
   "outputs": [
    {
     "data": {
      "text/plain": [
       "41"
      ]
     },
     "execution_count": 16,
     "metadata": {},
     "output_type": "execute_result"
    }
   ],
   "source": [
    "#find all types of force action\n",
    "force_type_action_ainash = clean_df['Type of Force Action']\n",
    "force_type_action_ainash.nunique()"
   ]
  },
  {
   "cell_type": "code",
   "execution_count": 17,
   "metadata": {},
   "outputs": [],
   "source": [
    "# find the most used type of force and its action\n",
    "merged_force_type_data_ainash = clean_df[['Type of Force', 'Type of Force Action', 'Case Number']]\n",
    "merged_force_type_data_ainash = merged_force_type_data_ainash.groupby(['Type of Force', 'Type of Force Action'])\n",
    "merged_force_type = merged_force_type_data_ainash['Type of Force Action'].count()\n",
    "merged_ainash = pd.DataFrame({'Total Count': merged_force_type})\n",
    "sorted_merged_ainash = merged_ainash.sort_values(['Total Count'], ascending = False)"
   ]
  },
  {
   "cell_type": "code",
   "execution_count": 18,
   "metadata": {},
   "outputs": [
    {
     "data": {
      "image/png": "[encoded data removed]",
      "text/plain": [
       "<Figure size 432x288 with 1 Axes>"
      ]
     },
     "metadata": {
      "needs_background": "light"
     },
     "output_type": "display_data"
    },
    {
     "data": {
      "text/plain": [
       "<Figure size 432x288 with 0 Axes>"
      ]
     },
     "metadata": {},
     "output_type": "display_data"
    }
   ],
   "source": [
    "# create a bar chart to show the Top 5 most used types of force and its action\n",
    "top5_merged_bar = sorted_merged_ainash.head().plot(kind=\"bar\",edgecolor=\"black\", facecolor=\"purple\", fontsize=12, align=\"center\", alpha=1.0)\n",
    "plt.title('Top 5 Most Used Type of Force and Action by Police in Minneapolis, MN')\n",
    "top5_merged_bar.set_xlabel ('Type of Force and it Action')\n",
    "top5_merged_bar.set_ylabel ('Number of Cases')\n",
    "plt.show()\n",
    "plt.tight_layout()"
   ]
  },
  {
   "cell_type": "code",
   "execution_count": 19,
   "metadata": {},
   "outputs": [],
   "source": [
    "# drop ages =0\n",
    "age_df = clean_df.loc[clean_df['Event Age'] != 0, :]"
   ]
  },
  {
   "cell_type": "code",
   "execution_count": 20,
   "metadata": {},
   "outputs": [],
   "source": [
    "#create bins for ages\n",
    "bins = [6,9.9,14.9,19.9,29.9,39.9,49.9,59.9,69.9,79.9,89.9]\n",
    "group_names = ['6-10', '11-15', '16-20','21-30','31-40','41-50','51-60', '61-70', '71-80', '81 <']"
   ]
  },
  {
   "cell_type": "code",
   "execution_count": 21,
   "metadata": {},
   "outputs": [
    {
     "name": "stderr",
     "output_type": "stream",
     "text": [
      "/Users/ainashtoleu/opt/anaconda3/envs/PythonData/lib/python3.6/site-packages/ipykernel_launcher.py:1: SettingWithCopyWarning: \n",
      "A value is trying to be set on a copy of a slice from a DataFrame.\n",
      "Try using .loc[row_indexer,col_indexer] = value instead\n",
      "\n",
      "See the caveats in the documentation: https://pandas.pydata.org/pandas-docs/stable/user_guide/indexing.html#returning-a-view-versus-a-copy\n",
      "  \"\"\"Entry point for launching an IPython kernel.\n"
     ]
    }
   ],
   "source": [
    "age_df['Age Groups'] = pd.cut(age_df['Event Age'], bins, labels = group_names, include_lowest = True)"
   ]
  },
  {
   "cell_type": "code",
   "execution_count": 22,
   "metadata": {},
   "outputs": [],
   "source": [
    "age_data_ainash = age_df[['Age Groups', 'Case Number']]\n",
    "age_data_groupby_ainash = age_data_ainash.groupby('Age Groups')\n",
    "age_count_ainash = age_data_groupby_ainash['Age Groups'].count()\n",
    "age_df_ainash = pd.DataFrame({'Total Count': age_count_ainash})"
   ]
  },
  {
   "cell_type": "code",
   "execution_count": 23,
   "metadata": {},
   "outputs": [
    {
     "data": {
      "image/png": "[encoded data removed]",
      "text/plain": [
       "<Figure size 432x288 with 1 Axes>"
      ]
     },
     "metadata": {
      "needs_background": "light"
     },
     "output_type": "display_data"
    },
    {
     "data": {
      "text/plain": [
       "<Figure size 432x288 with 0 Axes>"
      ]
     },
     "metadata": {},
     "output_type": "display_data"
    }
   ],
   "source": [
    "age_bar_ainash = age_df_ainash.plot(kind=\"bar\",edgecolor=\"black\", facecolor=\"purple\", fontsize=12, align=\"center\", alpha=1.0)\n",
    "plt.title('Force Used by Police in Minneapolis, MN by Age')\n",
    "top5_force_bar_ainash.set_xlabel ('Age Groups')\n",
    "top5_force_bar_ainash.set_ylabel ('Number of Cases')\n",
    "plt.show()\n",
    "plt.tight_layout()"
   ]
  },
  {
   "cell_type": "markdown",
   "metadata": {},
   "source": [
    "# Types of Force used by Police in Minneapolis,MN Analysis\n",
    "## When analyzing types of Force used by Police in Minneapolis, Minnesota, we observed that:\n",
    "* There are 10 types of Force that Police in Minneapolis, MN use in incidents: Bodily Force, Chemical Irritant, Taser, Improvised Weapon, Baton, Police K9 Bite, Firearm, Less Lethal Projectile, Gun Point Display, Maximal Restraint Technique. From these force types, the five most commonly used by law enforcement officers in Minneapolis are: Bodily Force (21212 cases among analyzed data), Chemical Irritant (3780 cases), Taser(2757 cases), Gun Point Display (436 cases) and Improvised weapon (343 cases).\n",
    "* Types of Force also have sub-categories that are called Types of Force Action. Our data includes 41 types of Force Action. The Top 5 most used Types of Force Action by Police in Minneapolis, MN area are Body Weight to Pin (Bodily Force type), Punches (Bodily Force type), Joint Lock (Bodily Force type), Personal Mace (Chemical Irritant type) and Push Away (Bodily Force type).\n",
    "* We also decided to analyze the police cases by Age Groups. After analysis of Force Police used by Age Groups, we observed that most commonly, the most force is used on people between age 21-30. "
   ]
  },
  {
   "cell_type": "code",
   "execution_count": 24,
   "metadata": {},
   "outputs": [],
   "source": [
    "# Ainash's code ends here"
   ]
  },
  {
   "cell_type": "markdown",
   "metadata": {},
   "source": [
    "# 3. Which is the most popular type of resistance? (Humera)"
   ]
  },
  {
   "cell_type": "code",
   "execution_count": 25,
   "metadata": {},
   "outputs": [
    {
     "data": {
      "text/plain": [
       "count      29075\n",
       "unique        10\n",
       "top       Tensed\n",
       "freq        8120\n",
       "Name: Type of Resistance, dtype: object"
      ]
     },
     "execution_count": 25,
     "metadata": {},
     "output_type": "execute_result"
    }
   ],
   "source": [
    "popular_data = clean_df[\"Type of Resistance\"].describe(include = \"all\")\n",
    "popular_data"
   ]
  },
  {
   "cell_type": "code",
   "execution_count": 26,
   "metadata": {},
   "outputs": [
    {
     "data": {
      "text/plain": [
       "Type of Resistance\n",
       "Assaulted Officer           983\n",
       "Assaulting Police Horse      26\n",
       "Assaulting Police K9          9\n",
       "Commission of Crime        2827\n",
       "Fled in Vehicle             301\n",
       "Fled on Foot               2053\n",
       "Other                       485\n",
       "Tensed                     3708\n",
       "Unspecified                1174\n",
       "Verbal Non-Compliance      1762\n",
       "Name: Case Number, dtype: int64"
      ]
     },
     "execution_count": 26,
     "metadata": {},
     "output_type": "execute_result"
    }
   ],
   "source": [
    "resistance_data = clean_df.groupby(\"Type of Resistance\")\n",
    "total_count = resistance_data.nunique()[\"Case Number\"]\n",
    "total_count"
   ]
  },
  {
   "cell_type": "code",
   "execution_count": 27,
   "metadata": {
    "scrolled": true
   },
   "outputs": [
    {
     "data": {
      "text/html": [
       "<div>\n",
       "<style scoped>\n",
       "    .dataframe tbody tr th:only-of-type {\n",
       "        vertical-align: middle;\n",
       "    }\n",
       "\n",
       "    .dataframe tbody tr th {\n",
       "        vertical-align: top;\n",
       "    }\n",
       "\n",
       "    .dataframe thead th {\n",
       "        text-align: right;\n",
       "    }\n",
       "</style>\n",
       "<table border=\"1\" class=\"dataframe\">\n",
       "  <thead>\n",
       "    <tr style=\"text-align: right;\">\n",
       "      <th></th>\n",
       "      <th>Total Count</th>\n",
       "    </tr>\n",
       "    <tr>\n",
       "      <th>Type of Resistance</th>\n",
       "      <th></th>\n",
       "    </tr>\n",
       "  </thead>\n",
       "  <tbody>\n",
       "    <tr>\n",
       "      <th>Tensed</th>\n",
       "      <td>3708</td>\n",
       "    </tr>\n",
       "    <tr>\n",
       "      <th>Commission of Crime</th>\n",
       "      <td>2827</td>\n",
       "    </tr>\n",
       "    <tr>\n",
       "      <th>Fled on Foot</th>\n",
       "      <td>2053</td>\n",
       "    </tr>\n",
       "    <tr>\n",
       "      <th>Verbal Non-Compliance</th>\n",
       "      <td>1762</td>\n",
       "    </tr>\n",
       "    <tr>\n",
       "      <th>Unspecified</th>\n",
       "      <td>1174</td>\n",
       "    </tr>\n",
       "    <tr>\n",
       "      <th>Assaulted Officer</th>\n",
       "      <td>983</td>\n",
       "    </tr>\n",
       "    <tr>\n",
       "      <th>Other</th>\n",
       "      <td>485</td>\n",
       "    </tr>\n",
       "    <tr>\n",
       "      <th>Fled in Vehicle</th>\n",
       "      <td>301</td>\n",
       "    </tr>\n",
       "    <tr>\n",
       "      <th>Assaulting Police Horse</th>\n",
       "      <td>26</td>\n",
       "    </tr>\n",
       "    <tr>\n",
       "      <th>Assaulting Police K9</th>\n",
       "      <td>9</td>\n",
       "    </tr>\n",
       "  </tbody>\n",
       "</table>\n",
       "</div>"
      ],
      "text/plain": [
       "                         Total Count\n",
       "Type of Resistance                  \n",
       "Tensed                          3708\n",
       "Commission of Crime             2827\n",
       "Fled on Foot                    2053\n",
       "Verbal Non-Compliance           1762\n",
       "Unspecified                     1174\n",
       "Assaulted Officer                983\n",
       "Other                            485\n",
       "Fled in Vehicle                  301\n",
       "Assaulting Police Horse           26\n",
       "Assaulting Police K9               9"
      ]
     },
     "execution_count": 27,
     "metadata": {},
     "output_type": "execute_result"
    }
   ],
   "source": [
    "resistance = pd.DataFrame({\"Total Count\": total_count})\n",
    "top_resistance = resistance.sort_values(\"Total Count\", ascending=False)\n",
    "top_resistance"
   ]
  },
  {
   "cell_type": "code",
   "execution_count": 28,
   "metadata": {},
   "outputs": [
    {
     "data": {
      "text/html": [
       "<div>\n",
       "<style scoped>\n",
       "    .dataframe tbody tr th:only-of-type {\n",
       "        vertical-align: middle;\n",
       "    }\n",
       "\n",
       "    .dataframe tbody tr th {\n",
       "        vertical-align: top;\n",
       "    }\n",
       "\n",
       "    .dataframe thead th {\n",
       "        text-align: right;\n",
       "    }\n",
       "</style>\n",
       "<table border=\"1\" class=\"dataframe\">\n",
       "  <thead>\n",
       "    <tr style=\"text-align: right;\">\n",
       "      <th></th>\n",
       "      <th>Total Count</th>\n",
       "    </tr>\n",
       "    <tr>\n",
       "      <th>Resistance</th>\n",
       "      <th></th>\n",
       "    </tr>\n",
       "  </thead>\n",
       "  <tbody>\n",
       "    <tr>\n",
       "      <th>Tensed</th>\n",
       "      <td>3708</td>\n",
       "    </tr>\n",
       "    <tr>\n",
       "      <th>Commission of Crime</th>\n",
       "      <td>2827</td>\n",
       "    </tr>\n",
       "    <tr>\n",
       "      <th>Fled on Foot</th>\n",
       "      <td>2053</td>\n",
       "    </tr>\n",
       "    <tr>\n",
       "      <th>Verbal Non-Compliance</th>\n",
       "      <td>1762</td>\n",
       "    </tr>\n",
       "    <tr>\n",
       "      <th>Unspecified</th>\n",
       "      <td>1174</td>\n",
       "    </tr>\n",
       "  </tbody>\n",
       "</table>\n",
       "</div>"
      ],
      "text/plain": [
       "                       Total Count\n",
       "Resistance                        \n",
       "Tensed                        3708\n",
       "Commission of Crime           2827\n",
       "Fled on Foot                  2053\n",
       "Verbal Non-Compliance         1762\n",
       "Unspecified                   1174"
      ]
     },
     "execution_count": 28,
     "metadata": {},
     "output_type": "execute_result"
    }
   ],
   "source": [
    "top_resistance.index.name = \"Resistance\"\n",
    "top_resistance.head()"
   ]
  },
  {
   "cell_type": "code",
   "execution_count": 29,
   "metadata": {
    "scrolled": true
   },
   "outputs": [
    {
     "data": {
      "image/png": "[encoded data removed]",
      "text/plain": [
       "<Figure size 432x288 with 1 Axes>"
      ]
     },
     "metadata": {
      "needs_background": "light"
     },
     "output_type": "display_data"
    }
   ],
   "source": [
    "top_resistance.head(5).plot(kind=\"barh\",edgecolor=\"black\", facecolor=\"purple\", fontsize=10)\n",
    "plt.title(\"Top 10 Resistances Resulting in Use of Police Force in Minneapolis, MN\")\n",
    "plt.ylabel(\"Number of Cases\", fontsize=12)\n",
    "plt.xlabel(\"Resistance\", fontsize=12)\n",
    "plt.show()"
   ]
  },
  {
   "cell_type": "code",
   "execution_count": 30,
   "metadata": {},
   "outputs": [
    {
     "data": {
      "image/png": "[encoded data removed]",
      "text/plain": [
       "<Figure size 432x288 with 1 Axes>"
      ]
     },
     "metadata": {},
     "output_type": "display_data"
    }
   ],
   "source": [
    "#Pie chart\n",
    "colors = ['gold', 'red', 'pink', 'blue', 'lightskyblue']\n",
    "explode = (0.1, 0, 0, 0, 0)\n",
    "top_resistance.head(5).plot(kind=\"pie\",explode=explode, colors=colors, autopct= \"%1.1f%%\", subplots=\"False\", shadow=True, startangle=150 )\n",
    "plt.title('Top 5 - Type of Resistance Resulting in Use of Police Force in Minneapolis', fontsize=10)\n",
    "plt.axis('equal')\n",
    "plt.tight_layout()\n",
    "plt.show()"
   ]
  },
  {
   "cell_type": "code",
   "execution_count": 31,
   "metadata": {},
   "outputs": [
    {
     "data": {
      "text/html": [
       "<div>\n",
       "<style scoped>\n",
       "    .dataframe tbody tr th:only-of-type {\n",
       "        vertical-align: middle;\n",
       "    }\n",
       "\n",
       "    .dataframe tbody tr th {\n",
       "        vertical-align: top;\n",
       "    }\n",
       "\n",
       "    .dataframe thead th {\n",
       "        text-align: right;\n",
       "    }\n",
       "</style>\n",
       "<table border=\"1\" class=\"dataframe\">\n",
       "  <thead>\n",
       "    <tr style=\"text-align: right;\">\n",
       "      <th></th>\n",
       "      <th></th>\n",
       "      <th>Police ID</th>\n",
       "      <th>Case Number</th>\n",
       "      <th>Response Date</th>\n",
       "      <th>Type of Crime</th>\n",
       "      <th>Type of Force Action</th>\n",
       "      <th>Event Age</th>\n",
       "      <th>Precinct</th>\n",
       "      <th>Neighborhood</th>\n",
       "    </tr>\n",
       "    <tr>\n",
       "      <th>Type of Resistance</th>\n",
       "      <th>Type of Force</th>\n",
       "      <th></th>\n",
       "      <th></th>\n",
       "      <th></th>\n",
       "      <th></th>\n",
       "      <th></th>\n",
       "      <th></th>\n",
       "      <th></th>\n",
       "      <th></th>\n",
       "    </tr>\n",
       "  </thead>\n",
       "  <tbody>\n",
       "    <tr>\n",
       "      <th rowspan=\"5\" valign=\"top\">Assaulted Officer</th>\n",
       "      <th>Baton</th>\n",
       "      <td>6</td>\n",
       "      <td>6</td>\n",
       "      <td>6</td>\n",
       "      <td>6</td>\n",
       "      <td>6</td>\n",
       "      <td>6</td>\n",
       "      <td>6</td>\n",
       "      <td>6</td>\n",
       "    </tr>\n",
       "    <tr>\n",
       "      <th>Bodily Force</th>\n",
       "      <td>2660</td>\n",
       "      <td>2660</td>\n",
       "      <td>2660</td>\n",
       "      <td>2660</td>\n",
       "      <td>2660</td>\n",
       "      <td>2660</td>\n",
       "      <td>2660</td>\n",
       "      <td>2660</td>\n",
       "    </tr>\n",
       "    <tr>\n",
       "      <th>Chemical Irritant</th>\n",
       "      <td>156</td>\n",
       "      <td>156</td>\n",
       "      <td>156</td>\n",
       "      <td>156</td>\n",
       "      <td>156</td>\n",
       "      <td>156</td>\n",
       "      <td>156</td>\n",
       "      <td>156</td>\n",
       "    </tr>\n",
       "    <tr>\n",
       "      <th>Firearm</th>\n",
       "      <td>9</td>\n",
       "      <td>9</td>\n",
       "      <td>9</td>\n",
       "      <td>9</td>\n",
       "      <td>9</td>\n",
       "      <td>9</td>\n",
       "      <td>9</td>\n",
       "      <td>9</td>\n",
       "    </tr>\n",
       "    <tr>\n",
       "      <th>Gun Point Display</th>\n",
       "      <td>24</td>\n",
       "      <td>24</td>\n",
       "      <td>24</td>\n",
       "      <td>24</td>\n",
       "      <td>24</td>\n",
       "      <td>24</td>\n",
       "      <td>24</td>\n",
       "      <td>24</td>\n",
       "    </tr>\n",
       "  </tbody>\n",
       "</table>\n",
       "</div>"
      ],
      "text/plain": [
       "                                      Police ID  Case Number  Response Date  \\\n",
       "Type of Resistance Type of Force                                              \n",
       "Assaulted Officer  Baton                      6            6              6   \n",
       "                   Bodily Force            2660         2660           2660   \n",
       "                   Chemical Irritant        156          156            156   \n",
       "                   Firearm                    9            9              9   \n",
       "                   Gun Point Display         24           24             24   \n",
       "\n",
       "                                      Type of Crime  Type of Force Action  \\\n",
       "Type of Resistance Type of Force                                            \n",
       "Assaulted Officer  Baton                          6                     6   \n",
       "                   Bodily Force                2660                  2660   \n",
       "                   Chemical Irritant            156                   156   \n",
       "                   Firearm                        9                     9   \n",
       "                   Gun Point Display             24                    24   \n",
       "\n",
       "                                      Event Age  Precinct  Neighborhood  \n",
       "Type of Resistance Type of Force                                         \n",
       "Assaulted Officer  Baton                      6         6             6  \n",
       "                   Bodily Force            2660      2660          2660  \n",
       "                   Chemical Irritant        156       156           156  \n",
       "                   Firearm                    9         9             9  \n",
       "                   Gun Point Display         24        24            24  "
      ]
     },
     "execution_count": 31,
     "metadata": {},
     "output_type": "execute_result"
    }
   ],
   "source": [
    "# Type of Resistance and Force Type Vs Number of Cases\n",
    "ft_tr = clean_df.groupby(['Type of Resistance','Type of Force'])\n",
    "ft_tr.count().head()"
   ]
  },
  {
   "cell_type": "code",
   "execution_count": 32,
   "metadata": {},
   "outputs": [
    {
     "data": {
      "text/html": [
       "<div>\n",
       "<style scoped>\n",
       "    .dataframe tbody tr th:only-of-type {\n",
       "        vertical-align: middle;\n",
       "    }\n",
       "\n",
       "    .dataframe tbody tr th {\n",
       "        vertical-align: top;\n",
       "    }\n",
       "\n",
       "    .dataframe thead th {\n",
       "        text-align: right;\n",
       "    }\n",
       "</style>\n",
       "<table border=\"1\" class=\"dataframe\">\n",
       "  <thead>\n",
       "    <tr style=\"text-align: right;\">\n",
       "      <th></th>\n",
       "      <th></th>\n",
       "      <th>Total Count</th>\n",
       "    </tr>\n",
       "    <tr>\n",
       "      <th>Type of Resistance</th>\n",
       "      <th>Type of Force</th>\n",
       "      <th></th>\n",
       "    </tr>\n",
       "  </thead>\n",
       "  <tbody>\n",
       "    <tr>\n",
       "      <th>Tensed</th>\n",
       "      <th>Bodily Force</th>\n",
       "      <td>3248</td>\n",
       "    </tr>\n",
       "    <tr>\n",
       "      <th>Commission of Crime</th>\n",
       "      <th>Bodily Force</th>\n",
       "      <td>1683</td>\n",
       "    </tr>\n",
       "    <tr>\n",
       "      <th>Fled on Foot</th>\n",
       "      <th>Bodily Force</th>\n",
       "      <td>1618</td>\n",
       "    </tr>\n",
       "    <tr>\n",
       "      <th>Commission of Crime</th>\n",
       "      <th>Chemical Irritant</th>\n",
       "      <td>1101</td>\n",
       "    </tr>\n",
       "    <tr>\n",
       "      <th>Verbal Non-Compliance</th>\n",
       "      <th>Bodily Force</th>\n",
       "      <td>1042</td>\n",
       "    </tr>\n",
       "  </tbody>\n",
       "</table>\n",
       "</div>"
      ],
      "text/plain": [
       "                                         Total Count\n",
       "Type of Resistance    Type of Force                 \n",
       "Tensed                Bodily Force              3248\n",
       "Commission of Crime   Bodily Force              1683\n",
       "Fled on Foot          Bodily Force              1618\n",
       "Commission of Crime   Chemical Irritant         1101\n",
       "Verbal Non-Compliance Bodily Force              1042"
      ]
     },
     "execution_count": 32,
     "metadata": {},
     "output_type": "execute_result"
    }
   ],
   "source": [
    "# Top 5 - Type of Resistance and Force Type Vs Number of Cases\n",
    "ft_tr= clean_df.groupby(['Type of Resistance','Type of Force'])\n",
    "total_count = ft_tr.nunique()[\"Case Number\"]\n",
    "forcetype_resistance = pd.DataFrame({\"Total Count\": total_count})\n",
    "forcetype_resistance = forcetype_resistance.sort_values(\"Total Count\", ascending=False)\n",
    "forcetype_resistance.head()"
   ]
  },
  {
   "cell_type": "code",
   "execution_count": 33,
   "metadata": {},
   "outputs": [
    {
     "data": {
      "image/png": "[encoded data removed]",
      "text/plain": [
       "<Figure size 432x288 with 1 Axes>"
      ]
     },
     "metadata": {
      "needs_background": "light"
     },
     "output_type": "display_data"
    }
   ],
   "source": [
    "# Type of Resistance and Force Type Vs Number of Cases\n",
    "forcetype_resistance.head(5).plot(kind=\"barh\",edgecolor=\"black\", facecolor=\"purple\", fontsize=12, align=\"center\", alpha=1.0)\n",
    "plt.title(\"Type of Resistance and Force Type Vs Number of Cases\")\n",
    "plt.ylabel(\"Type of Resistance_Force Type\", fontsize=12)\n",
    "plt.xlabel(\"Number of Cases\", fontsize=12)\n",
    "plt.show()"
   ]
  },
  {
   "cell_type": "code",
   "execution_count": 34,
   "metadata": {},
   "outputs": [
    {
     "data": {
      "text/html": [
       "<div>\n",
       "<style scoped>\n",
       "    .dataframe tbody tr th:only-of-type {\n",
       "        vertical-align: middle;\n",
       "    }\n",
       "\n",
       "    .dataframe tbody tr th {\n",
       "        vertical-align: top;\n",
       "    }\n",
       "\n",
       "    .dataframe thead th {\n",
       "        text-align: right;\n",
       "    }\n",
       "</style>\n",
       "<table border=\"1\" class=\"dataframe\">\n",
       "  <thead>\n",
       "    <tr style=\"text-align: right;\">\n",
       "      <th></th>\n",
       "      <th></th>\n",
       "      <th>Police ID</th>\n",
       "      <th>Case Number</th>\n",
       "      <th>Response Date</th>\n",
       "      <th>Type of Force</th>\n",
       "      <th>Type of Force Action</th>\n",
       "      <th>Event Age</th>\n",
       "      <th>Precinct</th>\n",
       "      <th>Neighborhood</th>\n",
       "    </tr>\n",
       "    <tr>\n",
       "      <th>Type of Resistance</th>\n",
       "      <th>Type of Crime</th>\n",
       "      <th></th>\n",
       "      <th></th>\n",
       "      <th></th>\n",
       "      <th></th>\n",
       "      <th></th>\n",
       "      <th></th>\n",
       "      <th></th>\n",
       "      <th></th>\n",
       "    </tr>\n",
       "  </thead>\n",
       "  <tbody>\n",
       "    <tr>\n",
       "      <th rowspan=\"5\" valign=\"top\">Assaulted Officer</th>\n",
       "      <th>Animal Call</th>\n",
       "      <td>1</td>\n",
       "      <td>1</td>\n",
       "      <td>1</td>\n",
       "      <td>1</td>\n",
       "      <td>1</td>\n",
       "      <td>1</td>\n",
       "      <td>1</td>\n",
       "      <td>1</td>\n",
       "    </tr>\n",
       "    <tr>\n",
       "      <th>Assault Report Only</th>\n",
       "      <td>2</td>\n",
       "      <td>2</td>\n",
       "      <td>2</td>\n",
       "      <td>2</td>\n",
       "      <td>2</td>\n",
       "      <td>2</td>\n",
       "      <td>2</td>\n",
       "      <td>2</td>\n",
       "    </tr>\n",
       "    <tr>\n",
       "      <th>Assault in Progress</th>\n",
       "      <td>200</td>\n",
       "      <td>200</td>\n",
       "      <td>200</td>\n",
       "      <td>200</td>\n",
       "      <td>200</td>\n",
       "      <td>200</td>\n",
       "      <td>200</td>\n",
       "      <td>200</td>\n",
       "    </tr>\n",
       "    <tr>\n",
       "      <th>Assist EMS Personnel</th>\n",
       "      <td>34</td>\n",
       "      <td>34</td>\n",
       "      <td>34</td>\n",
       "      <td>34</td>\n",
       "      <td>34</td>\n",
       "      <td>34</td>\n",
       "      <td>34</td>\n",
       "      <td>34</td>\n",
       "    </tr>\n",
       "    <tr>\n",
       "      <th>Assist Fire Personnel</th>\n",
       "      <td>11</td>\n",
       "      <td>11</td>\n",
       "      <td>11</td>\n",
       "      <td>11</td>\n",
       "      <td>11</td>\n",
       "      <td>11</td>\n",
       "      <td>11</td>\n",
       "      <td>11</td>\n",
       "    </tr>\n",
       "  </tbody>\n",
       "</table>\n",
       "</div>"
      ],
      "text/plain": [
       "                                           Police ID  Case Number  \\\n",
       "Type of Resistance Type of Crime                                    \n",
       "Assaulted Officer  Animal Call                     1            1   \n",
       "                   Assault Report Only             2            2   \n",
       "                   Assault in Progress           200          200   \n",
       "                   Assist EMS Personnel           34           34   \n",
       "                   Assist Fire Personnel          11           11   \n",
       "\n",
       "                                           Response Date  Type of Force  \\\n",
       "Type of Resistance Type of Crime                                          \n",
       "Assaulted Officer  Animal Call                         1              1   \n",
       "                   Assault Report Only                 2              2   \n",
       "                   Assault in Progress               200            200   \n",
       "                   Assist EMS Personnel               34             34   \n",
       "                   Assist Fire Personnel              11             11   \n",
       "\n",
       "                                           Type of Force Action  Event Age  \\\n",
       "Type of Resistance Type of Crime                                             \n",
       "Assaulted Officer  Animal Call                                1          1   \n",
       "                   Assault Report Only                        2          2   \n",
       "                   Assault in Progress                      200        200   \n",
       "                   Assist EMS Personnel                      34         34   \n",
       "                   Assist Fire Personnel                     11         11   \n",
       "\n",
       "                                           Precinct  Neighborhood  \n",
       "Type of Resistance Type of Crime                                   \n",
       "Assaulted Officer  Animal Call                    1             1  \n",
       "                   Assault Report Only            2             2  \n",
       "                   Assault in Progress          200           200  \n",
       "                   Assist EMS Personnel          34            34  \n",
       "                   Assist Fire Personnel         11            11  "
      ]
     },
     "execution_count": 34,
     "metadata": {},
     "output_type": "execute_result"
    }
   ],
   "source": [
    "# Type of Resistance and Type of Crime Vs Number of Cases\n",
    "tr_cr = clean_df.groupby(['Type of Resistance','Type of Crime'])\n",
    "tr_cr.count().head(5)"
   ]
  },
  {
   "cell_type": "code",
   "execution_count": 35,
   "metadata": {},
   "outputs": [
    {
     "data": {
      "text/html": [
       "<div>\n",
       "<style scoped>\n",
       "    .dataframe tbody tr th:only-of-type {\n",
       "        vertical-align: middle;\n",
       "    }\n",
       "\n",
       "    .dataframe tbody tr th {\n",
       "        vertical-align: top;\n",
       "    }\n",
       "\n",
       "    .dataframe thead th {\n",
       "        text-align: right;\n",
       "    }\n",
       "</style>\n",
       "<table border=\"1\" class=\"dataframe\">\n",
       "  <thead>\n",
       "    <tr style=\"text-align: right;\">\n",
       "      <th></th>\n",
       "      <th></th>\n",
       "      <th>Total Count</th>\n",
       "    </tr>\n",
       "    <tr>\n",
       "      <th>Type of Resistance</th>\n",
       "      <th>Type of Crime</th>\n",
       "      <th></th>\n",
       "    </tr>\n",
       "  </thead>\n",
       "  <tbody>\n",
       "    <tr>\n",
       "      <th>Tensed</th>\n",
       "      <th>Suspicious Person</th>\n",
       "      <td>775</td>\n",
       "    </tr>\n",
       "    <tr>\n",
       "      <th rowspan=\"2\" valign=\"top\">Commission of Crime</th>\n",
       "      <th>Fight</th>\n",
       "      <td>618</td>\n",
       "    </tr>\n",
       "    <tr>\n",
       "      <th>Suspicious Person</th>\n",
       "      <td>508</td>\n",
       "    </tr>\n",
       "    <tr>\n",
       "      <th>Fled on Foot</th>\n",
       "      <th>Suspicious Person</th>\n",
       "      <td>478</td>\n",
       "    </tr>\n",
       "    <tr>\n",
       "      <th>Commission of Crime</th>\n",
       "      <th>Disturbance</th>\n",
       "      <td>346</td>\n",
       "    </tr>\n",
       "  </tbody>\n",
       "</table>\n",
       "</div>"
      ],
      "text/plain": [
       "                                        Total Count\n",
       "Type of Resistance  Type of Crime                  \n",
       "Tensed              Suspicious Person           775\n",
       "Commission of Crime Fight                       618\n",
       "                    Suspicious Person           508\n",
       "Fled on Foot        Suspicious Person           478\n",
       "Commission of Crime Disturbance                 346"
      ]
     },
     "execution_count": 35,
     "metadata": {},
     "output_type": "execute_result"
    }
   ],
   "source": [
    "# Top 5 -Type of Resistance and Type of Crime Vs Number of Cases\n",
    "tr_cr= clean_df.groupby(['Type of Resistance','Type of Crime'])\n",
    "total_count = tr_cr.nunique()[\"Case Number\"]\n",
    "resistance_crime = pd.DataFrame({\"Total Count\": total_count})\n",
    "resistance_crime = resistance_crime.sort_values(\"Total Count\", ascending=False)\n",
    "resistance_crime.head()"
   ]
  },
  {
   "cell_type": "code",
   "execution_count": 36,
   "metadata": {},
   "outputs": [
    {
     "data": {
      "image/png": "[encoded data removed]",
      "text/plain": [
       "<Figure size 432x288 with 1 Axes>"
      ]
     },
     "metadata": {
      "needs_background": "light"
     },
     "output_type": "display_data"
    }
   ],
   "source": [
    "# Top 5 - Type of Resistance and Type of Crime Vs Number of Cases\n",
    "resistance_crime.head(5).plot(kind=\"barh\",edgecolor=\"black\", facecolor=\"purple\", fontsize=12, align=\"center\", alpha=1.0)\n",
    "plt.title(\"Type of Resistance and Type of Crime Vs Number of Cases\")\n",
    "plt.ylabel(\"Resistance_crime\", fontsize=12)\n",
    "plt.xlabel(\"Number of Cases\", fontsize=12)\n",
    "plt.show()"
   ]
  },
  {
   "cell_type": "code",
   "execution_count": 37,
   "metadata": {},
   "outputs": [
    {
     "data": {
      "text/html": [
       "<div>\n",
       "<style scoped>\n",
       "    .dataframe tbody tr th:only-of-type {\n",
       "        vertical-align: middle;\n",
       "    }\n",
       "\n",
       "    .dataframe tbody tr th {\n",
       "        vertical-align: top;\n",
       "    }\n",
       "\n",
       "    .dataframe thead th {\n",
       "        text-align: right;\n",
       "    }\n",
       "</style>\n",
       "<table border=\"1\" class=\"dataframe\">\n",
       "  <thead>\n",
       "    <tr style=\"text-align: right;\">\n",
       "      <th></th>\n",
       "      <th></th>\n",
       "      <th>Police ID</th>\n",
       "      <th>Case Number</th>\n",
       "      <th>Response Date</th>\n",
       "      <th>Type of Crime</th>\n",
       "      <th>Type of Force</th>\n",
       "      <th>Type of Force Action</th>\n",
       "      <th>Precinct</th>\n",
       "      <th>Neighborhood</th>\n",
       "    </tr>\n",
       "    <tr>\n",
       "      <th>Type of Resistance</th>\n",
       "      <th>Event Age</th>\n",
       "      <th></th>\n",
       "      <th></th>\n",
       "      <th></th>\n",
       "      <th></th>\n",
       "      <th></th>\n",
       "      <th></th>\n",
       "      <th></th>\n",
       "      <th></th>\n",
       "    </tr>\n",
       "  </thead>\n",
       "  <tbody>\n",
       "    <tr>\n",
       "      <th rowspan=\"5\" valign=\"top\">Assaulted Officer</th>\n",
       "      <th>0.0</th>\n",
       "      <td>26</td>\n",
       "      <td>26</td>\n",
       "      <td>26</td>\n",
       "      <td>26</td>\n",
       "      <td>26</td>\n",
       "      <td>26</td>\n",
       "      <td>26</td>\n",
       "      <td>26</td>\n",
       "    </tr>\n",
       "    <tr>\n",
       "      <th>9.0</th>\n",
       "      <td>3</td>\n",
       "      <td>3</td>\n",
       "      <td>3</td>\n",
       "      <td>3</td>\n",
       "      <td>3</td>\n",
       "      <td>3</td>\n",
       "      <td>3</td>\n",
       "      <td>3</td>\n",
       "    </tr>\n",
       "    <tr>\n",
       "      <th>13.0</th>\n",
       "      <td>13</td>\n",
       "      <td>13</td>\n",
       "      <td>13</td>\n",
       "      <td>13</td>\n",
       "      <td>13</td>\n",
       "      <td>13</td>\n",
       "      <td>13</td>\n",
       "      <td>13</td>\n",
       "    </tr>\n",
       "    <tr>\n",
       "      <th>14.0</th>\n",
       "      <td>33</td>\n",
       "      <td>33</td>\n",
       "      <td>33</td>\n",
       "      <td>33</td>\n",
       "      <td>33</td>\n",
       "      <td>33</td>\n",
       "      <td>33</td>\n",
       "      <td>33</td>\n",
       "    </tr>\n",
       "    <tr>\n",
       "      <th>15.0</th>\n",
       "      <td>43</td>\n",
       "      <td>43</td>\n",
       "      <td>43</td>\n",
       "      <td>43</td>\n",
       "      <td>43</td>\n",
       "      <td>43</td>\n",
       "      <td>43</td>\n",
       "      <td>43</td>\n",
       "    </tr>\n",
       "  </tbody>\n",
       "</table>\n",
       "</div>"
      ],
      "text/plain": [
       "                              Police ID  Case Number  Response Date  \\\n",
       "Type of Resistance Event Age                                          \n",
       "Assaulted Officer  0.0               26           26             26   \n",
       "                   9.0                3            3              3   \n",
       "                   13.0              13           13             13   \n",
       "                   14.0              33           33             33   \n",
       "                   15.0              43           43             43   \n",
       "\n",
       "                              Type of Crime  Type of Force  \\\n",
       "Type of Resistance Event Age                                 \n",
       "Assaulted Officer  0.0                   26             26   \n",
       "                   9.0                    3              3   \n",
       "                   13.0                  13             13   \n",
       "                   14.0                  33             33   \n",
       "                   15.0                  43             43   \n",
       "\n",
       "                              Type of Force Action  Precinct  Neighborhood  \n",
       "Type of Resistance Event Age                                                \n",
       "Assaulted Officer  0.0                          26        26            26  \n",
       "                   9.0                           3         3             3  \n",
       "                   13.0                         13        13            13  \n",
       "                   14.0                         33        33            33  \n",
       "                   15.0                         43        43            43  "
      ]
     },
     "execution_count": 37,
     "metadata": {},
     "output_type": "execute_result"
    }
   ],
   "source": [
    "# Type of Resistance and Type of Crime Vs Number of Cases\n",
    "tr_rd = clean_df.groupby(['Type of Resistance','Event Age'])\n",
    "tr_rd.count().head(5)"
   ]
  },
  {
   "cell_type": "code",
   "execution_count": 38,
   "metadata": {},
   "outputs": [
    {
     "data": {
      "text/html": [
       "<div>\n",
       "<style scoped>\n",
       "    .dataframe tbody tr th:only-of-type {\n",
       "        vertical-align: middle;\n",
       "    }\n",
       "\n",
       "    .dataframe tbody tr th {\n",
       "        vertical-align: top;\n",
       "    }\n",
       "\n",
       "    .dataframe thead th {\n",
       "        text-align: right;\n",
       "    }\n",
       "</style>\n",
       "<table border=\"1\" class=\"dataframe\">\n",
       "  <thead>\n",
       "    <tr style=\"text-align: right;\">\n",
       "      <th></th>\n",
       "      <th></th>\n",
       "      <th>Total Count</th>\n",
       "    </tr>\n",
       "    <tr>\n",
       "      <th>Type of Resistance</th>\n",
       "      <th>Event Age</th>\n",
       "      <th></th>\n",
       "    </tr>\n",
       "  </thead>\n",
       "  <tbody>\n",
       "    <tr>\n",
       "      <th rowspan=\"2\" valign=\"top\">Commission of Crime</th>\n",
       "      <th>21.0</th>\n",
       "      <td>285</td>\n",
       "    </tr>\n",
       "    <tr>\n",
       "      <th>20.0</th>\n",
       "      <td>215</td>\n",
       "    </tr>\n",
       "    <tr>\n",
       "      <th rowspan=\"3\" valign=\"top\">Tensed</th>\n",
       "      <th>25.0</th>\n",
       "      <td>193</td>\n",
       "    </tr>\n",
       "    <tr>\n",
       "      <th>23.0</th>\n",
       "      <td>192</td>\n",
       "    </tr>\n",
       "    <tr>\n",
       "      <th>24.0</th>\n",
       "      <td>186</td>\n",
       "    </tr>\n",
       "  </tbody>\n",
       "</table>\n",
       "</div>"
      ],
      "text/plain": [
       "                               Total Count\n",
       "Type of Resistance  Event Age             \n",
       "Commission of Crime 21.0               285\n",
       "                    20.0               215\n",
       "Tensed              25.0               193\n",
       "                    23.0               192\n",
       "                    24.0               186"
      ]
     },
     "execution_count": 38,
     "metadata": {},
     "output_type": "execute_result"
    }
   ],
   "source": [
    "tr_rd= clean_df.groupby(['Type of Resistance','Event Age'])\n",
    "total_count = tr_rd.nunique()[\"Case Number\"]\n",
    "resistance_age = pd.DataFrame({\"Total Count\": total_count})\n",
    "resistance_age = resistance_age.sort_values(\"Total Count\", ascending=False)\n",
    "resistance_age.head()"
   ]
  },
  {
   "cell_type": "code",
   "execution_count": 39,
   "metadata": {},
   "outputs": [
    {
     "data": {
      "image/png": "[encoded data removed]",
      "text/plain": [
       "<Figure size 432x288 with 1 Axes>"
      ]
     },
     "metadata": {
      "needs_background": "light"
     },
     "output_type": "display_data"
    }
   ],
   "source": [
    "# Top 5 - Type of Resistance and Event Age Vs Number of Cases\n",
    "resistance_age.head(5).plot(kind=\"barh\",edgecolor=\"black\", facecolor=\"purple\", fontsize=12, align=\"center\", alpha=1.0)\n",
    "plt.title(\"Type of Resistance and Event Age Vs Number of Cases\")\n",
    "plt.ylabel(\"Resistance_age\", fontsize=12)\n",
    "plt.xlabel(\"Number of Cases\", fontsize=12)\n",
    "plt.show()"
   ]
  },
  {
   "cell_type": "markdown",
   "metadata": {},
   "source": [
    "# Analysis - Types of Resistance used towards Police Force in Minneapolis \n"
   ]
  },
  {
   "cell_type": "markdown",
   "metadata": {},
   "source": [
    "We analysed the most popular type of resistance by:-\n",
    "\n",
    ". Creating a dataframe with type of resistance and found the Total count was 29075 and freq is 8120 and the most common              resistance seen was getting tensed.\n",
    "\n",
    ". Creating a groupby with type of Resistance and case number, found top resistances were being Tensed(3708), committed verbal        Non-compliance(1762), Assaulted an Officer (983), fled in a vehicle(301).\n"
   ]
  },
  {
   "cell_type": "markdown",
   "metadata": {},
   "source": [
    "Type of Resistance and Force Type Vs Number of Cases - The most type of resistance used against \n",
    "bodily force was either being Tensed or commission of Crime or Fled on Foot.\n",
    "\n",
    "Type of Resistance and Type of Crime Vs Number of Cases - if the crime was of suspicious person then the resistance was being tensed or fled on foot.\n",
    "whereas if the type of crime was fight then resistance was commission of crime.\n",
    "\n",
    "Type of Resistance and Event Age Vs Number of Cases - most type of resistance used was being Tensed and commission of crime between the ages of 21 and 25.\n"
   ]
  },
  {
   "cell_type": "code",
   "execution_count": 40,
   "metadata": {},
   "outputs": [],
   "source": [
    "# Humera's code ends here"
   ]
  },
  {
   "cell_type": "markdown",
   "metadata": {},
   "source": [
    "# 4. Which neighborhood in Minneapolis contains the highest frequency of police force? (Mike Hills)"
   ]
  },
  {
   "cell_type": "code",
   "execution_count": 41,
   "metadata": {},
   "outputs": [
    {
     "data": {
      "text/html": [
       "<div>\n",
       "<style scoped>\n",
       "    .dataframe tbody tr th:only-of-type {\n",
       "        vertical-align: middle;\n",
       "    }\n",
       "\n",
       "    .dataframe tbody tr th {\n",
       "        vertical-align: top;\n",
       "    }\n",
       "\n",
       "    .dataframe thead th {\n",
       "        text-align: right;\n",
       "    }\n",
       "</style>\n",
       "<table border=\"1\" class=\"dataframe\">\n",
       "  <thead>\n",
       "    <tr style=\"text-align: right;\">\n",
       "      <th></th>\n",
       "      <th>Force Count</th>\n",
       "    </tr>\n",
       "    <tr>\n",
       "      <th>Neighborhood</th>\n",
       "      <th></th>\n",
       "    </tr>\n",
       "  </thead>\n",
       "  <tbody>\n",
       "    <tr>\n",
       "      <th>Downtown West</th>\n",
       "      <td>7535</td>\n",
       "    </tr>\n",
       "    <tr>\n",
       "      <th>Jordan</th>\n",
       "      <td>1429</td>\n",
       "    </tr>\n",
       "    <tr>\n",
       "      <th>Near - North</th>\n",
       "      <td>1294</td>\n",
       "    </tr>\n",
       "    <tr>\n",
       "      <th>Hawthorne</th>\n",
       "      <td>1288</td>\n",
       "    </tr>\n",
       "    <tr>\n",
       "      <th>Willard - Hay</th>\n",
       "      <td>987</td>\n",
       "    </tr>\n",
       "    <tr>\n",
       "      <th>...</th>\n",
       "      <td>...</td>\n",
       "    </tr>\n",
       "    <tr>\n",
       "      <th>Hale</th>\n",
       "      <td>22</td>\n",
       "    </tr>\n",
       "    <tr>\n",
       "      <th>Page</th>\n",
       "      <td>14</td>\n",
       "    </tr>\n",
       "    <tr>\n",
       "      <th>Camden Industrial</th>\n",
       "      <td>13</td>\n",
       "    </tr>\n",
       "    <tr>\n",
       "      <th>Cedar - Isles - Dean</th>\n",
       "      <td>12</td>\n",
       "    </tr>\n",
       "    <tr>\n",
       "      <th>Kenny</th>\n",
       "      <td>1</td>\n",
       "    </tr>\n",
       "  </tbody>\n",
       "</table>\n",
       "<p>86 rows × 1 columns</p>\n",
       "</div>"
      ],
      "text/plain": [
       "                      Force Count\n",
       "Neighborhood                     \n",
       "Downtown West                7535\n",
       "Jordan                       1429\n",
       "Near - North                 1294\n",
       "Hawthorne                    1288\n",
       "Willard - Hay                 987\n",
       "...                           ...\n",
       "Hale                           22\n",
       "Page                           14\n",
       "Camden Industrial              13\n",
       "Cedar - Isles - Dean           12\n",
       "Kenny                           1\n",
       "\n",
       "[86 rows x 1 columns]"
      ]
     },
     "execution_count": 41,
     "metadata": {},
     "output_type": "execute_result"
    }
   ],
   "source": [
    "#pull out neighborhood and forcetype from clean df\n",
    "#group by neighborhood and calculate the total force count per neighborhood\n",
    "force_per_neighborhood_df = clean_df.loc[:,['Neighborhood','Type of Force']]\n",
    "force_group = force_per_neighborhood_df.groupby('Neighborhood')\n",
    "sum_neigh = force_group['Type of Force'].count()\n",
    "\n",
    "#place results into new df, sort by force count from highest to lowest; store and display\n",
    "force_per_neighborhood_df = pd.DataFrame({'Force Count': sum_neigh})\n",
    "sorted_force_df = force_per_neighborhood_df.sort_values(['Force Count'], ascending=False)\n",
    "sorted_force_df"
   ]
  },
  {
   "cell_type": "code",
   "execution_count": 42,
   "metadata": {},
   "outputs": [
    {
     "data": {
      "text/html": [
       "<div>\n",
       "<style scoped>\n",
       "    .dataframe tbody tr th:only-of-type {\n",
       "        vertical-align: middle;\n",
       "    }\n",
       "\n",
       "    .dataframe tbody tr th {\n",
       "        vertical-align: top;\n",
       "    }\n",
       "\n",
       "    .dataframe thead th {\n",
       "        text-align: right;\n",
       "    }\n",
       "</style>\n",
       "<table border=\"1\" class=\"dataframe\">\n",
       "  <thead>\n",
       "    <tr style=\"text-align: right;\">\n",
       "      <th></th>\n",
       "      <th>Force Count</th>\n",
       "    </tr>\n",
       "    <tr>\n",
       "      <th>Neighborhood</th>\n",
       "      <th></th>\n",
       "    </tr>\n",
       "  </thead>\n",
       "  <tbody>\n",
       "    <tr>\n",
       "      <th>Downtown West</th>\n",
       "      <td>7535</td>\n",
       "    </tr>\n",
       "    <tr>\n",
       "      <th>Jordan</th>\n",
       "      <td>1429</td>\n",
       "    </tr>\n",
       "    <tr>\n",
       "      <th>Near - North</th>\n",
       "      <td>1294</td>\n",
       "    </tr>\n",
       "    <tr>\n",
       "      <th>Hawthorne</th>\n",
       "      <td>1288</td>\n",
       "    </tr>\n",
       "    <tr>\n",
       "      <th>Willard - Hay</th>\n",
       "      <td>987</td>\n",
       "    </tr>\n",
       "  </tbody>\n",
       "</table>\n",
       "</div>"
      ],
      "text/plain": [
       "               Force Count\n",
       "Neighborhood              \n",
       "Downtown West         7535\n",
       "Jordan                1429\n",
       "Near - North          1294\n",
       "Hawthorne             1288\n",
       "Willard - Hay          987"
      ]
     },
     "execution_count": 42,
     "metadata": {},
     "output_type": "execute_result"
    }
   ],
   "source": [
    "#store top 5 highest total force per neighborhood into its own df and display\n",
    "top5force_df = sorted_force_df.head(5)\n",
    "top5force_df"
   ]
  },
  {
   "cell_type": "code",
   "execution_count": 43,
   "metadata": {},
   "outputs": [
    {
     "data": {
      "text/plain": [
       "Text(0.5, 1.0, 'Minneapolis Police Use of Force Distribution per Neighborhood: 5 Highest\\n(2008-2021)')"
      ]
     },
     "execution_count": 43,
     "metadata": {},
     "output_type": "execute_result"
    },
    {
     "data": {
      "image/png": "[encoded data removed]",
      "text/plain": [
       "<Figure size 1440x936 with 1 Axes>"
      ]
     },
     "metadata": {
      "needs_background": "light"
     },
     "output_type": "display_data"
    }
   ],
   "source": [
    "#create bar chart to show relative distribution of 5 highest force count neighborhoods\n",
    "Top5bar = top5force_df.plot(kind=\"bar\", figsize=(20,13), width=.25, color=\"purple\", alpha=.8, rot=0, fontsize=20, legend=False)\n",
    "Top5bar.set_ylabel('Force Count',fontdict={'fontsize':24})\n",
    "Top5bar.set_xlabel('Neighborhood',fontdict={'fontsize':24})\n",
    "Top5bar.set_title('Minneapolis Police Use of Force Distribution per Neighborhood: 5 Highest' + '\\n' + '(2008-2021)', pad=15,fontdict={'fontsize':25})"
   ]
  },
  {
   "cell_type": "code",
   "execution_count": 44,
   "metadata": {},
   "outputs": [],
   "source": [
    "#find and store neighborhood with highest force count\n",
    "worst_neigh = sorted_force_df.index[0]\n",
    "\n",
    "#find and store highest force count\n",
    "top1force = top5force_df['Force Count'][0]\n",
    "\n",
    "#remove highest force count row and store into new df\n",
    "top1_clean_df = force_per_neighborhood_df.loc[force_per_neighborhood_df['Force Count'] < top1force]\n",
    "\n",
    "#calculate total force count for all neighborhoods combined except for the highest force neighborhood\n",
    "sumforce = top1_clean_df['Force Count'].sum()"
   ]
  },
  {
   "cell_type": "code",
   "execution_count": 45,
   "metadata": {},
   "outputs": [
    {
     "data": {
      "text/html": [
       "<div>\n",
       "<style scoped>\n",
       "    .dataframe tbody tr th:only-of-type {\n",
       "        vertical-align: middle;\n",
       "    }\n",
       "\n",
       "    .dataframe tbody tr th {\n",
       "        vertical-align: top;\n",
       "    }\n",
       "\n",
       "    .dataframe thead th {\n",
       "        text-align: right;\n",
       "    }\n",
       "</style>\n",
       "<table border=\"1\" class=\"dataframe\">\n",
       "  <thead>\n",
       "    <tr style=\"text-align: right;\">\n",
       "      <th></th>\n",
       "      <th>Force Count</th>\n",
       "    </tr>\n",
       "    <tr>\n",
       "      <th>Minneapolis Neighborhoods (Total:86)</th>\n",
       "      <th></th>\n",
       "    </tr>\n",
       "  </thead>\n",
       "  <tbody>\n",
       "    <tr>\n",
       "      <th>Downtown West</th>\n",
       "      <td>7535</td>\n",
       "    </tr>\n",
       "    <tr>\n",
       "      <th>All Others</th>\n",
       "      <td>21540</td>\n",
       "    </tr>\n",
       "  </tbody>\n",
       "</table>\n",
       "</div>"
      ],
      "text/plain": [
       "                                      Force Count\n",
       "Minneapolis Neighborhoods (Total:86)             \n",
       "Downtown West                                7535\n",
       "All Others                                  21540"
      ]
     },
     "execution_count": 45,
     "metadata": {},
     "output_type": "execute_result"
    }
   ],
   "source": [
    "#create dictionary to store values for summarized df\n",
    "dict = {'Minneapolis Neighborhoods (Total:86)':[worst_neigh, \"All Others\"], \n",
    "        'Force Count': [top1force, sumforce]}\n",
    "\n",
    "#pass dict into pd.DataFrame to generate df\n",
    "Topvsrest_df = pd.DataFrame(dict)\n",
    "\n",
    "#set index to \"Minneapolis Neighborhoods (Total:86)\" and display\n",
    "Topvsrest_df = Topvsrest_df.set_index('Minneapolis Neighborhoods (Total:86)')\n",
    "\n",
    "#df showing force count for highest frequency neighborhood vs. all others\n",
    "Topvsrest_df"
   ]
  },
  {
   "cell_type": "code",
   "execution_count": 46,
   "metadata": {},
   "outputs": [
    {
     "data": {
      "image/png": "[encoded data removed]",
      "text/plain": [
       "<Figure size 432x288 with 1 Axes>"
      ]
     },
     "metadata": {},
     "output_type": "display_data"
    }
   ],
   "source": [
    "#create pie chart to show percentage distribution of highest frequency neighborhoods vs. all others \n",
    "x = [top1force,sumforce]\n",
    "explode = (.06,0)\n",
    "textprops = {\"fontsize\":13}\n",
    "colors = [\"yellow\",\"purple\"]\n",
    "labels = ['Downtown West','All Others']\n",
    "\n",
    "plt.pie(x, labels=labels, textprops=textprops, explode=explode, colors=colors, \n",
    "        autopct=\"%1.1f%%\", shadow=True, startangle=90)\n",
    "plt.axis(\"equal\")\n",
    "plt.title(\"Minneapolis Police Use of Force Events:\"+ \"\\n\" +\" Highest Frequency Neighborhood vs. All Others (Total: 86)\" + \"\\n\" + \"(2008-2021)\")\n",
    "\n",
    "plt.show()\n"
   ]
  },
  {
   "cell_type": "markdown",
   "metadata": {},
   "source": [
    "# Findings and Analysis: Which neighborhood in Minneapolis contains the highest frequency of police force?"
   ]
  },
  {
   "cell_type": "markdown",
   "metadata": {},
   "source": [
    "•\tOf 86 total neighborhoods in Minneapolis, “Downtown West” contained 25.9% of all police use of force events from 2008 – 2021, with a force count of 7,535 out of 29,075 total use of force events.\n",
    "\n",
    "•\tOf the top 5 neighborhoods with the highest use of force, Downtown West contained the majority, or 60% of the total use of force.\n",
    "\n",
    "•\tSome potential avenues of analysis to help explain the skewed distribution of force events per neighborhood could be:\n",
    "-\tVariability of poverty and socioeconomic distribution of each neighborhood compared to the entire city of Minneapolis.\n",
    "-\tGeographic distribution of race and gender by neighborhood, which could indicate a certain probability of racial and/or gender profiling bias by police. \n",
    "\n",
    "(Note: Our data analysis omitted gender and race data from the original CSV to avoid questionable-cause logical fallacies.  However, these data could be useful in illustrating trends or biases within the psychology of individuals and/or the psychosociology of society, which is beyond the scope of our analysis.)\n"
   ]
  },
  {
   "cell_type": "code",
   "execution_count": 47,
   "metadata": {},
   "outputs": [],
   "source": [
    "# Mike H's code ends here"
   ]
  },
  {
   "cell_type": "markdown",
   "metadata": {},
   "source": [
    "# 5. Is the use of police force in Minneapolis going up or down? (Mike F)"
   ]
  },
  {
   "cell_type": "code",
   "execution_count": 48,
   "metadata": {},
   "outputs": [
    {
     "name": "stderr",
     "output_type": "stream",
     "text": [
      "/Users/ainashtoleu/opt/anaconda3/envs/PythonData/lib/python3.6/site-packages/pandas/core/arrays/datetimes.py:1104: UserWarning: Converting to PeriodArray/Index representation will drop timezone information.\n",
      "  UserWarning,\n"
     ]
    },
    {
     "name": "stdout",
     "output_type": "stream",
     "text": [
      "The number of unique months with recorded data is 158\n"
     ]
    },
    {
     "data": {
      "image/png": "[encoded data removed]",
      "text/plain": [
       "<Figure size 432x288 with 1 Axes>"
      ]
     },
     "metadata": {
      "needs_background": "light"
     },
     "output_type": "display_data"
    }
   ],
   "source": [
    "#Make a basic histogram, sorted by month, of incidents of police force used.\n",
    "import datetime;\n",
    "police_data_time_df = police_data.loc[:, [\"PoliceUseOfForceID\", \"CaseNumber\", \"ResponseDate\", \"Problem\", \"ForceType\",\n",
    "                                    \"ForceTypeAction\", \"EventAge\"]];\n",
    "police_data_time_df[\"Month\"] = pd.to_datetime(police_data_time_df[\"ResponseDate\"]).dt.to_period('m');\n",
    "police_data_time_df[\"MonthNumeric\"] = police_data_time_df[\"Month\"].apply(lambda x: int(str(x)[0:4]) + (int(str(x)[5:7])) / 12);\n",
    "police_data_time_df = police_data_time_df[police_data_time_df[\"MonthNumeric\"]>=2008];\n",
    "print(f'The number of unique months with recorded data is {len(police_data_time_df[\"MonthNumeric\"].unique())}');\n",
    "timehist = plt.hist(police_data_time_df[\"MonthNumeric\"], bins=158, color='Purple');\n",
    "plt.title(\"Histogram of Police Force Incidents by Month and Year\");\n",
    "plt.xlabel(\"Month\");\n",
    "plt.ylabel(\"Incidents\");\n",
    "plt.show();"
   ]
  },
  {
   "cell_type": "code",
   "execution_count": 49,
   "metadata": {},
   "outputs": [
    {
     "data": {
      "image/png": "[encoded data removed]",
      "text/plain": [
       "<Figure size 432x288 with 1 Axes>"
      ]
     },
     "metadata": {
      "needs_background": "light"
     },
     "output_type": "display_data"
    }
   ],
   "source": [
    "#Make a dictionary of incidents, indexed by months since 2008.\n",
    "monthIndex = {}\n",
    "#Month 1 represents January, 2008\n",
    "for x in range(1,158):\n",
    "    #monthEquiv is the value for that month in the police_data_time_df dataframe\n",
    "    monthEquiv = 2008+(x/12)\n",
    "    monthIndex[x] = [round(monthEquiv,2), len(police_data_time_df[police_data_time_df[\"MonthNumeric\"]==monthEquiv])]\n",
    "\n",
    "incidents_by_month_df = pd.DataFrame.from_dict(monthIndex, orient='index', columns=[\"Month\",\"Incidents\"])\n",
    "#Overall Data\n",
    "timeplot = plt.scatter(incidents_by_month_df[\"Month\"],incidents_by_month_df[\"Incidents\"], color=\"purple\")\n",
    "#Linear Regression Code\n",
    "(slope, intercept, rvalue, pvalue, stderr) = linregress(incidents_by_month_df[\"Month\"], incidents_by_month_df[\"Incidents\"])\n",
    "regress_values = incidents_by_month_df[\"Month\"] * slope + intercept\n",
    "plt.plot(incidents_by_month_df[\"Month\"],regress_values,\"r-\")\n",
    "\n",
    "plt.title(\"Police Force Incidents by Month and Year\");\n",
    "plt.xlabel(\"Month\");\n",
    "plt.ylabel(\"Incidents\");\n",
    "plt.text(2014,350,f\"r = {round(rvalue,3)}\")\n",
    "plt.text(2014,325,f\"p = {round(pvalue,4)}\")\n",
    "plt.show();"
   ]
  },
  {
   "cell_type": "code",
   "execution_count": 50,
   "metadata": {},
   "outputs": [
    {
     "data": {
      "image/png": "[encoded data removed]",
      "text/plain": [
       "<Figure size 432x288 with 1 Axes>"
      ]
     },
     "metadata": {
      "needs_background": "light"
     },
     "output_type": "display_data"
    }
   ],
   "source": [
    "#The data appears to have a strong cyclical trend, possibly according to time of year.\n",
    "#In order to see if this is relevant, we'll separate these data sets by month and see if they have a more smooth pattern over\n",
    "#multiple years.\n",
    "\n",
    "#incidents_by_month_df\n",
    "\n",
    "incidents_jan = incidents_by_month_df[(incidents_by_month_df.index%12)==1]\n",
    "plt.scatter(incidents_jan[\"Month\"],incidents_jan[\"Incidents\"], color=\"purple\")\n",
    "plt.title(\"Police Force Incidents for January by Year\");\n",
    "plt.xlabel(\"Year\");\n",
    "plt.ylabel(\"Incidents\");\n",
    "(slope, intercept, rvalue, pvalue, stderr) = linregress(incidents_jan[\"Month\"], incidents_jan[\"Incidents\"])\n",
    "regress_values = incidents_by_month_df[\"Month\"] * slope + intercept\n",
    "plt.plot(incidents_by_month_df[\"Month\"],regress_values,\"r-\")\n",
    "plt.text(2014,310,f\"r = {round(rvalue,3)}\")\n",
    "plt.text(2014,302,f\"p = {round(pvalue,4)}\")\n",
    "plt.show();"
   ]
  },
  {
   "cell_type": "code",
   "execution_count": 51,
   "metadata": {},
   "outputs": [
    {
     "data": {
      "image/png": "[encoded data removed]",
      "text/plain": [
       "<Figure size 432x288 with 1 Axes>"
      ]
     },
     "metadata": {
      "needs_background": "light"
     },
     "output_type": "display_data"
    }
   ],
   "source": [
    "incidents_april = incidents_by_month_df[(incidents_by_month_df.index%12)==4]\n",
    "plt.scatter(incidents_april[\"Month\"],incidents_april[\"Incidents\"], color=\"purple\")\n",
    "plt.title(\"Police Force Incidents for April by Year\");\n",
    "plt.xlabel(\"Year\");\n",
    "plt.ylabel(\"Incidents\");\n",
    "(slope, intercept, rvalue, pvalue, stderr) = linregress(incidents_april[\"Month\"], incidents_april[\"Incidents\"])\n",
    "regress_values = incidents_april[\"Month\"] * slope + intercept\n",
    "plt.plot(incidents_april[\"Month\"],regress_values,\"r-\")\n",
    "plt.text(2014,300,f\"r = {round(rvalue,3)}\")\n",
    "plt.text(2014,275,f\"p = {round(pvalue,4)}\")\n",
    "plt.show();"
   ]
  },
  {
   "cell_type": "code",
   "execution_count": 52,
   "metadata": {},
   "outputs": [
    {
     "data": {
      "image/png": "[encoded data removed]",
      "text/plain": [
       "<Figure size 432x288 with 1 Axes>"
      ]
     },
     "metadata": {
      "needs_background": "light"
     },
     "output_type": "display_data"
    }
   ],
   "source": [
    "incidents_july = incidents_by_month_df[(incidents_by_month_df.index%12)==7]\n",
    "plt.scatter(incidents_july[\"Month\"],incidents_july[\"Incidents\"], color=\"purple\")\n",
    "plt.title(\"Police Force Incidents for July by Year\");\n",
    "plt.xlabel(\"Year\");\n",
    "plt.ylabel(\"Incidents\");\n",
    "(slope, intercept, rvalue, pvalue, stderr) = linregress(incidents_july[\"Month\"], incidents_july[\"Incidents\"])\n",
    "regress_values = incidents_july[\"Month\"] * slope + intercept\n",
    "plt.plot(incidents_july[\"Month\"],regress_values,\"r-\")\n",
    "plt.text(2014,350,f\"r = {round(rvalue,3)}\")\n",
    "plt.text(2014,325,f\"p = {round(pvalue,4)}\")\n",
    "plt.show();"
   ]
  },
  {
   "cell_type": "code",
   "execution_count": 53,
   "metadata": {},
   "outputs": [
    {
     "data": {
      "image/png": "[encoded data removed]",
      "text/plain": [
       "<Figure size 432x288 with 1 Axes>"
      ]
     },
     "metadata": {
      "needs_background": "light"
     },
     "output_type": "display_data"
    }
   ],
   "source": [
    "incidents_october = incidents_by_month_df[(incidents_by_month_df.index%12)==10]\n",
    "plt.scatter(incidents_october[\"Month\"],incidents_october[\"Incidents\"], color=\"purple\")\n",
    "plt.title(\"Police Force Incidents for October by Year\");\n",
    "plt.xlabel(\"Year\");\n",
    "plt.ylabel(\"Incidents\");\n",
    "(slope, intercept, rvalue, pvalue, stderr) = linregress(incidents_october[\"Month\"], incidents_october[\"Incidents\"])\n",
    "regress_values = incidents_october[\"Month\"] * slope + intercept\n",
    "plt.plot(incidents_october[\"Month\"],regress_values,\"r-\")\n",
    "plt.text(2014,350,f\"r = {round(rvalue,3)}\")\n",
    "plt.text(2014,325,f\"p = {round(pvalue,4)}\")\n",
    "plt.show();"
   ]
  },
  {
   "cell_type": "markdown",
   "metadata": {},
   "source": [
    "For the selected tested months, there does not actually seem to be a consistent trend, which is strong evidence against the hypothesis that there is a cyclical or seasonal influence on police uses of force. If this trend were to explain the intra-year variances between months, then the scatter plots of uses of force by month would be much closer to a linear progression instead of the unpredictable rises and falls that are actually seen upon filtering by month."
   ]
  },
  {
   "cell_type": "markdown",
   "metadata": {},
   "source": [
    "##Overall data indicates a downward trend in overall police use of force.\n",
    "There are several things to consider in this - that the data is highly variable from month to month, and that the overall trend is downward, but that there is a significant rise at the end of the data. This suggests that police use of force is correlated with ongoing political changes that themselves have an overall trend, but that exhibit significant variation. The lowest months on record are mid to late 2020, which correspond to an increase in discourse of police use of force after the high-profile case of George Floyd, who was killed by excessive and unwarranted use of police force, which resulted in intense public scrutiny of police force used. That police use of force rebounded abruptly in 2021 is troubling and warrants further scrutiny."
   ]
  },
  {
   "cell_type": "code",
   "execution_count": 54,
   "metadata": {},
   "outputs": [],
   "source": [
    "# Mike F's code ends here"
   ]
  },
  {
   "cell_type": "markdown",
   "metadata": {},
   "source": [
    "# 6. Perform a linear regression on use of force between 2015 and 2019 and make a prediction about use of force in 2020 for the city of Minneapolis.  Compare this prediction to actual use of force outcomes in 2020. (Mike H)"
   ]
  },
  {
   "cell_type": "code",
   "execution_count": 55,
   "metadata": {},
   "outputs": [
    {
     "data": {
      "text/html": [
       "<div>\n",
       "<style scoped>\n",
       "    .dataframe tbody tr th:only-of-type {\n",
       "        vertical-align: middle;\n",
       "    }\n",
       "\n",
       "    .dataframe tbody tr th {\n",
       "        vertical-align: top;\n",
       "    }\n",
       "\n",
       "    .dataframe thead th {\n",
       "        text-align: right;\n",
       "    }\n",
       "</style>\n",
       "<table border=\"1\" class=\"dataframe\">\n",
       "  <thead>\n",
       "    <tr style=\"text-align: right;\">\n",
       "      <th></th>\n",
       "      <th>Response Date</th>\n",
       "      <th>Type of Force</th>\n",
       "    </tr>\n",
       "  </thead>\n",
       "  <tbody>\n",
       "    <tr>\n",
       "      <th>0</th>\n",
       "      <td>2008/01/08 14:20:21+00</td>\n",
       "      <td>Bodily Force</td>\n",
       "    </tr>\n",
       "    <tr>\n",
       "      <th>1</th>\n",
       "      <td>2008/01/19 23:47:58+00</td>\n",
       "      <td>Bodily Force</td>\n",
       "    </tr>\n",
       "    <tr>\n",
       "      <th>2</th>\n",
       "      <td>2008/02/04 21:21:49+00</td>\n",
       "      <td>Bodily Force</td>\n",
       "    </tr>\n",
       "    <tr>\n",
       "      <th>3</th>\n",
       "      <td>2008/02/14 22:03:15+00</td>\n",
       "      <td>Bodily Force</td>\n",
       "    </tr>\n",
       "    <tr>\n",
       "      <th>4</th>\n",
       "      <td>2008/02/24 02:25:39+00</td>\n",
       "      <td>Bodily Force</td>\n",
       "    </tr>\n",
       "    <tr>\n",
       "      <th>...</th>\n",
       "      <td>...</td>\n",
       "      <td>...</td>\n",
       "    </tr>\n",
       "    <tr>\n",
       "      <th>29070</th>\n",
       "      <td>2020/11/12 14:41:54+00</td>\n",
       "      <td>Maximal Restraint Technique</td>\n",
       "    </tr>\n",
       "    <tr>\n",
       "      <th>29071</th>\n",
       "      <td>2020/11/13 21:48:02+00</td>\n",
       "      <td>Bodily Force</td>\n",
       "    </tr>\n",
       "    <tr>\n",
       "      <th>29072</th>\n",
       "      <td>2020/11/19 15:44:41+00</td>\n",
       "      <td>Taser</td>\n",
       "    </tr>\n",
       "    <tr>\n",
       "      <th>29073</th>\n",
       "      <td>2020/11/28 08:18:10+00</td>\n",
       "      <td>Bodily Force</td>\n",
       "    </tr>\n",
       "    <tr>\n",
       "      <th>29074</th>\n",
       "      <td>2020/12/04 06:07:08+00</td>\n",
       "      <td>Bodily Force</td>\n",
       "    </tr>\n",
       "  </tbody>\n",
       "</table>\n",
       "<p>29075 rows × 2 columns</p>\n",
       "</div>"
      ],
      "text/plain": [
       "                Response Date                Type of Force\n",
       "0      2008/01/08 14:20:21+00                 Bodily Force\n",
       "1      2008/01/19 23:47:58+00                 Bodily Force\n",
       "2      2008/02/04 21:21:49+00                 Bodily Force\n",
       "3      2008/02/14 22:03:15+00                 Bodily Force\n",
       "4      2008/02/24 02:25:39+00                 Bodily Force\n",
       "...                       ...                          ...\n",
       "29070  2020/11/12 14:41:54+00  Maximal Restraint Technique\n",
       "29071  2020/11/13 21:48:02+00                 Bodily Force\n",
       "29072  2020/11/19 15:44:41+00                        Taser\n",
       "29073  2020/11/28 08:18:10+00                 Bodily Force\n",
       "29074  2020/12/04 06:07:08+00                 Bodily Force\n",
       "\n",
       "[29075 rows x 2 columns]"
      ]
     },
     "execution_count": 55,
     "metadata": {},
     "output_type": "execute_result"
    }
   ],
   "source": [
    "#pull out Response Date and Type of Force from clean df and store\n",
    "date_force_df = clean_df.loc[:,['Response Date','Type of Force']]\n",
    "\n",
    "#find all response dates containing 2015 - 2019 and store\n",
    "searchfor = ['2015', '2016', '2017', '2018', '2019']\n",
    "df_2015_2019 = date_force_df[date_force_df['Response Date'].str.contains('|'.join(searchfor))]\n",
    "\n",
    "#divide 2015 - 2019 in separate dfs\n",
    "df_2015 = date_force_df[date_force_df['Response Date'].str.contains(\"2015\")]\n",
    "df_2016 = date_force_df[date_force_df['Response Date'].str.contains(\"2016\")]\n",
    "df_2017 = date_force_df[date_force_df['Response Date'].str.contains(\"2017\")]\n",
    "df_2018 = date_force_df[date_force_df['Response Date'].str.contains(\"2018\")]\n",
    "df_2019 = date_force_df[date_force_df['Response Date'].str.contains(\"2019\")]\n",
    "\n",
    "#store 2020 df\n",
    "df_2020 = date_force_df[date_force_df['Response Date'].str.contains(\"2020\")]\n",
    "\n",
    "#display condensed df with only response date and type of force\n",
    "date_force_df"
   ]
  },
  {
   "cell_type": "code",
   "execution_count": 56,
   "metadata": {},
   "outputs": [
    {
     "data": {
      "text/plain": [
       "True"
      ]
     },
     "execution_count": 56,
     "metadata": {},
     "output_type": "execute_result"
    }
   ],
   "source": [
    "#checking to make sure the length of 2015 - 2019 dfs is equal to length of 2015-2019 dfs to ensure no missing values\n",
    "len(df_2015_2019) == len(df_2015) + len(df_2016) + len(df_2017) + len(df_2018) + len(df_2019)"
   ]
  },
  {
   "cell_type": "code",
   "execution_count": 57,
   "metadata": {},
   "outputs": [
    {
     "data": {
      "text/plain": [
       "11355"
      ]
     },
     "execution_count": 57,
     "metadata": {},
     "output_type": "execute_result"
    }
   ],
   "source": [
    "#summary stats\n",
    "#total force incidents from 2015 - 2020\n",
    "TotalIncidents = len(df_2015_2019) + len(df_2020)\n",
    "TotalIncidents"
   ]
  },
  {
   "cell_type": "code",
   "execution_count": 58,
   "metadata": {},
   "outputs": [
    {
     "data": {
      "text/plain": [
       "1892.5"
      ]
     },
     "execution_count": 58,
     "metadata": {},
     "output_type": "execute_result"
    }
   ],
   "source": [
    "#mean force incidents per year\n",
    "MeanIncidents = TotalIncidents / 6\n",
    "MeanIncidents"
   ]
  },
  {
   "cell_type": "code",
   "execution_count": 59,
   "metadata": {},
   "outputs": [
    {
     "data": {
      "text/html": [
       "<div>\n",
       "<style scoped>\n",
       "    .dataframe tbody tr th:only-of-type {\n",
       "        vertical-align: middle;\n",
       "    }\n",
       "\n",
       "    .dataframe tbody tr th {\n",
       "        vertical-align: top;\n",
       "    }\n",
       "\n",
       "    .dataframe thead th {\n",
       "        text-align: right;\n",
       "    }\n",
       "</style>\n",
       "<table border=\"1\" class=\"dataframe\">\n",
       "  <thead>\n",
       "    <tr style=\"text-align: right;\">\n",
       "      <th></th>\n",
       "      <th>Year</th>\n",
       "      <th>Total Bodily Force Incidents</th>\n",
       "    </tr>\n",
       "  </thead>\n",
       "  <tbody>\n",
       "    <tr>\n",
       "      <th>0</th>\n",
       "      <td>2015</td>\n",
       "      <td>2038</td>\n",
       "    </tr>\n",
       "    <tr>\n",
       "      <th>1</th>\n",
       "      <td>2016</td>\n",
       "      <td>2202</td>\n",
       "    </tr>\n",
       "    <tr>\n",
       "      <th>2</th>\n",
       "      <td>2017</td>\n",
       "      <td>1924</td>\n",
       "    </tr>\n",
       "    <tr>\n",
       "      <th>3</th>\n",
       "      <td>2018</td>\n",
       "      <td>1776</td>\n",
       "    </tr>\n",
       "    <tr>\n",
       "      <th>4</th>\n",
       "      <td>2019</td>\n",
       "      <td>1697</td>\n",
       "    </tr>\n",
       "  </tbody>\n",
       "</table>\n",
       "</div>"
      ],
      "text/plain": [
       "   Year  Total Bodily Force Incidents\n",
       "0  2015                          2038\n",
       "1  2016                          2202\n",
       "2  2017                          1924\n",
       "3  2018                          1776\n",
       "4  2019                          1697"
      ]
     },
     "execution_count": 59,
     "metadata": {},
     "output_type": "execute_result"
    }
   ],
   "source": [
    "#find and store total bodily force incidents for each year\n",
    "sum2015 = df_2015['Type of Force'].count()\n",
    "sum2016 = df_2016['Type of Force'].count()\n",
    "sum2017 = df_2017['Type of Force'].count()\n",
    "sum2018 = df_2018['Type of Force'].count()\n",
    "sum2019 = df_2019['Type of Force'].count()\n",
    "\n",
    "#create dictionary of total bodily force incidents for each year\n",
    "dict = {'Year':[2015,2016,2017,2018,2019], \n",
    "        'Total Bodily Force Incidents': [sum2015,sum2016,sum2017,sum2018,sum2019]}\n",
    "\n",
    "#pass dict into pd.DataFrame to generate df\n",
    "tot_bodyforce_df = pd.DataFrame(dict)\n",
    "tot_bodyforce_df"
   ]
  },
  {
   "cell_type": "code",
   "execution_count": 60,
   "metadata": {
    "scrolled": false
   },
   "outputs": [
    {
     "name": "stdout",
     "output_type": "stream",
     "text": [
      "The r-squared is: 0.7501527601933825\n"
     ]
    },
    {
     "data": {
      "image/png": "[encoded data removed]",
      "text/plain": [
       "<Figure size 432x288 with 1 Axes>"
      ]
     },
     "metadata": {
      "needs_background": "light"
     },
     "output_type": "display_data"
    }
   ],
   "source": [
    "#find and store years for x-values\n",
    "year = tot_bodyforce_df.iloc[:,0]\n",
    "\n",
    "#store year 2020\n",
    "year2020 = 2020\n",
    "\n",
    "#find and store total bodily force incidents for 2020\n",
    "totbodyforce2020 = len(df_2020)\n",
    "\n",
    "#find and store total bodily force incidents per year for y-values\n",
    "tot_bodyforce = tot_bodyforce_df.iloc[:,1]\n",
    "\n",
    "plt.xlabel('Year')\n",
    "plt.ylabel('Total Bodily Force Incidents')\n",
    "plt.xticks(year)\n",
    "\n",
    "#perform a linear regression on total bodily force incidents versus years 2015 - 2019\n",
    "bf_slope, bf_int, bf_r, bf_p, bf_std_err = stats.linregress(year, tot_bodyforce)\n",
    "\n",
    "#create equation of line to calculate predicted total bodily force incidents\n",
    "bf_fit = bf_slope * year + bf_int\n",
    "\n",
    "#plot the linear model on top of scatter plot\n",
    "plt.scatter(year, tot_bodyforce, color=\"purple\")\n",
    "plt.plot(year,bf_fit,\"--\")\n",
    "\n",
    "print(f\"The r-squared is: {bf_r**2}\")\n",
    "plt.show()"
   ]
  },
  {
   "cell_type": "code",
   "execution_count": 61,
   "metadata": {},
   "outputs": [],
   "source": [
    "#store total incidents per type of force for each year\n",
    "force_counts_2015 = df_2015['Type of Force'].value_counts()\n",
    "force_counts_2016 = df_2016['Type of Force'].value_counts()\n",
    "force_counts_2017 = df_2017['Type of Force'].value_counts()\n",
    "force_counts_2018 = df_2018['Type of Force'].value_counts()\n",
    "force_counts_2019 = df_2019['Type of Force'].value_counts()\n",
    "force_counts_2020 = df_2020['Type of Force'].value_counts()\n",
    "\n",
    "#store bodily force incidents (*NOT TOTAL BODILY FORCE INCIDENTS*) for each year\n",
    "bodilyforce2020 = force_counts_2020.loc['Bodily Force']\n",
    "bodilyforce2019 = force_counts_2019.loc['Bodily Force']\n",
    "bodilyforce2018 = force_counts_2018.loc['Bodily Force']\n",
    "bodilyforce2017 = force_counts_2017.loc['Bodily Force']\n",
    "bodilyforce2016 = force_counts_2016.loc['Bodily Force']\n",
    "bodilyforce2015 = force_counts_2015.loc['Bodily Force']\n",
    "\n",
    "#create dictionary of bodily force incidents for each year\n",
    "dict = {'year':[2015,2016,2017,2018,2019], \n",
    "        'Bodily Force Count': [bodilyforce2015,bodilyforce2016,bodilyforce2017,bodilyforce2018,bodilyforce2019]}\n",
    "\n",
    "#pass dict into pd.DataFrame to generate df\n",
    "bodyforce_df = pd.DataFrame(dict)\n",
    "bodyforce_count = bodyforce_df['Bodily Force Count']\n",
    "\n",
    "#store start year and end year for subplots\n",
    "startyear = bodyforce_df['year'].min()\n",
    "endyear = bodyforce_df['year'].max()\n",
    "\n",
    "b_slope, b_int, b_r, b_p, b_std_err = stats.linregress(year, bodyforce_count)\n",
    "\n",
    "b_fit = b_slope * year + b_int\n",
    "\n",
    "#find and store body force incidents for 2020\n",
    "bodyforce2020 = len(df_2020.loc[df_2020['Type of Force'] == \"Bodily Force\"])"
   ]
  },
  {
   "cell_type": "code",
   "execution_count": 62,
   "metadata": {},
   "outputs": [],
   "source": [
    "#find and store taser incidents for each year\n",
    "taser2020 = force_counts_2020.loc['Taser']\n",
    "taser2019 = force_counts_2019.loc['Taser']\n",
    "taser2018 = force_counts_2018.loc['Taser']\n",
    "taser2017 = force_counts_2017.loc['Taser']\n",
    "taser2016 = force_counts_2016.loc['Taser']\n",
    "taser2015 = force_counts_2015.loc['Taser']\n",
    "\n",
    "#create dictionary of taser incidents for each year\n",
    "dict = {'year':[2015,2016,2017,2018,2019], \n",
    "        'Taser Count': [taser2015,taser2016,taser2017,taser2018,taser2019]}\n",
    "\n",
    "#pass dict into pd.DataFrame to generate df\n",
    "taser_df = pd.DataFrame(dict)\n",
    "taser_count = taser_df['Taser Count']\n",
    "\n",
    "t_slope, t_int, t_r, t_p, t_std_err = stats.linregress(year, taser_count)\n",
    "\n",
    "t_fit = t_slope * year + t_int\n",
    "\n",
    "taser2020 = len(df_2020.loc[df_2020['Type of Force'] == \"Taser\"])"
   ]
  },
  {
   "cell_type": "code",
   "execution_count": 63,
   "metadata": {},
   "outputs": [],
   "source": [
    "#find and store chemical irritant incidents for each year\n",
    "chem2020 = force_counts_2020.loc['Chemical Irritant']\n",
    "chem2019 = force_counts_2019.loc['Chemical Irritant']\n",
    "chem2018 = force_counts_2018.loc['Chemical Irritant']\n",
    "chem2017 = force_counts_2017.loc['Chemical Irritant']\n",
    "chem2016 = force_counts_2016.loc['Chemical Irritant']\n",
    "chem2015 = force_counts_2015.loc['Chemical Irritant']\n",
    "\n",
    "dict = {'year':[2015,2016,2017,2018,2019], \n",
    "        'Chemical Irritant Count': [chem2015,chem2016,chem2017,chem2018,chem2019]}\n",
    "\n",
    "#pass dict into pd.DataFrame to generate df\n",
    "chem_df = pd.DataFrame(dict)\n",
    "chem_count = chem_df['Chemical Irritant Count']\n",
    "\n",
    "c_slope, c_int, c_r, c_p, c_std_err = stats.linregress(year, chem_count)\n",
    "\n",
    "c_fit = c_slope * year + c_int\n",
    "\n",
    "chem2020 = len(df_2020.loc[df_2020['Type of Force'] == \"Chemical Irritant\"])"
   ]
  },
  {
   "cell_type": "code",
   "execution_count": 64,
   "metadata": {},
   "outputs": [
    {
     "data": {
      "image/png": "[encoded data removed]",
      "text/plain": [
       "<Figure size 432x288 with 4 Axes>"
      ]
     },
     "metadata": {
      "needs_background": "light"
     },
     "output_type": "display_data"
    }
   ],
   "source": [
    "#generate subplots of bodily force, taser, chemical irritant, and total incidents\n",
    "fig, ((ax1, ax2), (ax3, ax4)) = plt.subplots(sharex=True, nrows=2, ncols=2, gridspec_kw={'width_ratios': [3, 3]})\n",
    "fig.suptitle(\"Bodily Force Incidents\", fontsize=13, fontweight=\"bold\")\n",
    "\n",
    "ax1.set_xlim(startyear, endyear)\n",
    "ax1.plot(year, taser_count, linewidth=1, marker=\"o\")\n",
    "ax1.plot(year, t_fit, \"b--\", linewidth=1)\n",
    "ax1.set_ylabel(\"Taser\")\n",
    "\n",
    "ax2.plot(year, bodyforce_count, linewidth=1, marker=\"o\", color=\"r\")\n",
    "ax2.plot(year, b_fit, \"r--\", linewidth=1)\n",
    "ax2.set_ylabel(\"Bodily Force\")\n",
    "\n",
    "ax3.plot(year, chem_count, linewidth=1, marker=\"o\", color=\"b\")\n",
    "ax3.plot(year, c_fit, \"b--\", linewidth=1)\n",
    "ax3.set_ylabel(\"Chemical Irritant\")\n",
    "ax3.set_xlabel(\"Year\")\n",
    "\n",
    "ax4.plot(year, tot_bodyforce, linewidth=1, marker=\"o\", color=\"g\")\n",
    "ax4.plot(year, bf_fit, \"g--\", linewidth=1)\n",
    "ax4.set_ylabel(\"Total Incidents\")\n",
    "ax4.set_xlabel(\"Year\")\n",
    "\n",
    "plt.tight_layout(pad=2)\n",
    "plt.show()"
   ]
  },
  {
   "cell_type": "code",
   "execution_count": 65,
   "metadata": {},
   "outputs": [
    {
     "name": "stdout",
     "output_type": "stream",
     "text": [
      "The total taser incidents in 2020 will be 146.0.\n",
      "The actual total taser incidents in 2020 were 173.\n",
      "\n",
      "The total bodily force incidents in 2020 will be 1364.0.\n",
      "The actual total bodily force incidents in 2020 were 1448.\n",
      "\n",
      "The total chemical irritant incidents in 2020 will be 16.0.\n",
      "The actual total chemical irritant incidents in 2020 were 21.\n",
      "\n",
      "The total force incidents in 2020 will be 1595.0.\n",
      "The actual total force incidents in 2020 were 1718.\n"
     ]
    }
   ],
   "source": [
    "#print out predicted vs. actual incidents for each graph\n",
    "\n",
    "print(f\"The total taser incidents in 2020 will be {round(t_slope * year2020 + t_int,0)}.\")\n",
    "print(f\"The actual total taser incidents in 2020 were {taser2020}.\\n\")\n",
    "\n",
    "print(f\"The total bodily force incidents in 2020 will be {round(b_slope * year2020 + b_int,0)}.\")\n",
    "print(f\"The actual total bodily force incidents in 2020 were {bodyforce2020}.\\n\")\n",
    "\n",
    "print(f\"The total chemical irritant incidents in 2020 will be {round(c_slope * year2020 + c_int,0)}.\")\n",
    "print(f\"The actual total chemical irritant incidents in 2020 were {chem2020}.\\n\")\n",
    "\n",
    "print(f\"The total force incidents in 2020 will be {round(bf_slope * year2020 + bf_int,0)}.\")\n",
    "print(f\"The actual total force incidents in 2020 were {totbodyforce2020}.\")"
   ]
  },
  {
   "cell_type": "markdown",
   "metadata": {},
   "source": [
    "# Linear Regression Analysis"
   ]
  },
  {
   "cell_type": "markdown",
   "metadata": {},
   "source": [
    "•\tThe total incidents of force were calculated based on 10 “Type of Force” categories, while 3 were chosen at random for observational comparison:  “Chemical Irritant”, “Taser”, and “Bodily Force.”\n",
    "\n",
    "•\tBased on the subplots, Taser showed an overall increase, Bodily Force showed an overall decrease (with a slight increase from 2017 to 2019).  Chemical Irritant showed a sharp overall decrease.  From this we can observe that Taser and Bodily Force slowed the overall downward trend in total incidents, particularly from years 2017 – 2019, while Chemical Irritant followed the overall downward trend.\n",
    "\n",
    "•\tThe total number of bodily force incidents between 2015 and 2020 was 11,355 with an average of 1,893 incidents per year.  A plot of total bodily force vs. year for 2015 – 2019 shows a downward trend in use of force.  A linear regression model follows this trend with an r-squared value of 0.750, implying that 75% of the observed data fits the regression model.  \n",
    "\n",
    "•\tTotal incidents for 2015 and 2020 were 2,038 and 1,718, respectively, showing a drop in use of force by 15.7%.  \n",
    "\n",
    "•\tBased on the regression model, the predicted use of force events in 2020 was 1,595, which is 7% lower than the actual use of force in 2020.\n",
    "\n",
    "•\tOverall, the regression model predicted all four analyzed categories of force to be lower than actual, and the observed data trends align closely with the predictions.\n"
   ]
  }
 ],
 "metadata": {
  "kernelspec": {
   "display_name": "Python 3",
   "language": "python",
   "name": "python3"
  },
  "language_info": {
   "codemirror_mode": {
    "name": "ipython",
    "version": 3
   },
   "file_extension": ".py",
   "mimetype": "text/x-python",
   "name": "python",
   "nbconvert_exporter": "python",
   "pygments_lexer": "ipython3",
   "version": "3.6.10"
  }
 },
 "nbformat": 4,
 "nbformat_minor": 4
}

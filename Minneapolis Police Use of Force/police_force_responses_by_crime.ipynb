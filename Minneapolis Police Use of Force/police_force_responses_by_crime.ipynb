{
 "cells": [
  {
   "cell_type": "markdown",
   "metadata": {},
   "source": [
    "# Police Force Responses by Crime"
   ]
  },
  {
   "cell_type": "code",
   "execution_count": null,
   "metadata": {},
   "outputs": [],
   "source": [
    "#Dependencies\n",
    "from matplotlib import pyplot as plt\n",
    "from scipy import stats\n",
    "import numpy as np\n",
    "import pandas as pd"
   ]
  },
  {
   "cell_type": "code",
   "execution_count": null,
   "metadata": {},
   "outputs": [],
   "source": [
    "#Import csv file\n",
    "police_data = pd.read_csv(\"Resources/Police_Use_of_Force.csv\")\n",
    "police_data.head()"
   ]
  },
  {
   "cell_type": "code",
   "execution_count": null,
   "metadata": {},
   "outputs": [],
   "source": [
    "#create new DataFrame\n",
    "police_data_df = police_data.loc[:, [\"PoliceUseOfForceID\", \"CaseNumber\", \"ResponseDate\", \"Problem\", \"ForceType\",\n",
    "                                    \"ForceTypeAction\", \"EventAge\", \"TypeOfResistance\", \"Precinct\", \"Neighborhood\"]]\n",
    "police_data_df"
   ]
  },
  {
   "cell_type": "code",
   "execution_count": null,
   "metadata": {},
   "outputs": [],
   "source": [
    "#drop NaN from Dataframe\n",
    "police_data_df = police_data_df.dropna(how='any')\n",
    "police_data_df"
   ]
  },
  {
   "cell_type": "code",
   "execution_count": null,
   "metadata": {},
   "outputs": [],
   "source": [
    "#rename rows in ForceTypeAction column\n",
    "police_data_df['ForceTypeAction'] = police_data_df['ForceTypeAction'].replace({\n",
    "    \"Knee\": \"Knees\",\n",
    "    \"Body Weight Pin\": \"Body Weight to Pin\",\n",
    "    \"Conscious Neck Restraint\": \"Neck Restraint: subject did not lose conciousness\",\n",
    "    \"Punch\": \"Punches\",\n",
    "    \"Slap\": \"Slaps\",\n",
    "    'Unconscious Neck Restraint': 'Neck Restraint: subject did not lose conciousness',\n",
    "    'Firearm as striking tool': 'Firearms As Striking Tool'\n",
    "})\n"
   ]
  },
  {
   "cell_type": "code",
   "execution_count": null,
   "metadata": {},
   "outputs": [],
   "source": [
    "#rename rows in ForceType column\n",
    "police_data_df['ForceType'] = police_data_df['ForceType'].replace({\n",
    "    \"Less Lethal Projectile\": \"Less Lethal\"\n",
    "})"
   ]
  },
  {
   "cell_type": "code",
   "execution_count": null,
   "metadata": {},
   "outputs": [],
   "source": [
    "#rename rows in TypeOfResistance column\n",
    "police_data_df['TypeOfResistance'] = police_data_df['TypeOfResistance'].replace({\n",
    "    \"TENSED\": \"Tensed\",\n",
    "    \"tensed\": \"Tensed\",\n",
    "    \"Tensed                                                                         \": \"Tensed\",\n",
    "    \"verbal non-compliance\": \"Verbal Non-Compliance\",\n",
    "    \"Verbal Non-Compliance                                                          \": \"Verbal Non-Compliance\",\n",
    "    \"commission of crime\":\"Commission of Crime\",\n",
    "    \"Commission of a Crime                                                          \":\"Commission of Crime\",\n",
    "    \"COMMISSION OF CRIME\":\"Commission of Crime\",\n",
    "    \"Fled on Foot                                                                   \":\"Fled on Foot\",\n",
    "    \"Fled in a Vehicle                                                              \":\"Fled in Vehicle\",\n",
    "    \"Assaulted Officer                                                              \":\"Assaulted Officer\",\n",
    "    \"Assaulted Police K9                                                            \":\"Assaulting Police K9\",\n",
    "    \"Other                                                                          \":\"Other\"\n",
    "           \n",
    "})"
   ]
  },
  {
   "cell_type": "code",
   "execution_count": null,
   "metadata": {},
   "outputs": [],
   "source": [
    "#rename columns in Dataframe\n",
    "clean_df = police_data_df.rename(columns ={\n",
    "    'PoliceUseOfForceID': \"Police ID\",\n",
    "    'CaseNumber': \"Case Number\",\n",
    "    'ResponseDate': \"Response Date\",\n",
    "    'Problem': \"Type of Crime\",\n",
    "    'ForceType': 'Type of Force',\n",
    "    'ForceTypeAction': 'Type of Force Action',\n",
    "    'EventAge': 'Event Age',\n",
    "    'TypeOfResistance': 'Type of Resistance'\n",
    "})\n",
    "#reset the index in DataFrame\n",
    "clean_df.reset_index(drop=True, inplace=True)\n",
    "clean_df"
   ]
  },
  {
   "cell_type": "markdown",
   "metadata": {},
   "source": [
    "# 1. What incidents result the most in police use of force? (Sam)"
   ]
  },
  {
   "cell_type": "code",
   "execution_count": null,
   "metadata": {},
   "outputs": [],
   "source": []
  },
  {
   "cell_type": "code",
   "execution_count": null,
   "metadata": {},
   "outputs": [],
   "source": []
  },
  {
   "cell_type": "markdown",
   "metadata": {},
   "source": [
    "# 2. What type of force is used the most? (Ainash)"
   ]
  },
  {
   "cell_type": "code",
   "execution_count": null,
   "metadata": {},
   "outputs": [],
   "source": [
    "# find the most used force type\n",
    "force_type_data_ainash = clean_df[['Type of Force', 'Case Number']]\n",
    "force_type_data_ainash = force_type_data_ainash.groupby('Type of Force')\n",
    "force_type = force_type_data_ainash['Type of Force'].count()\n",
    "force_type_data = pd.DataFrame({'Total Count': force_type})\n",
    "sorted_force = force_type_data.sort_values(['Total Count'], ascending = False)\n",
    "\n"
   ]
  },
  {
   "cell_type": "code",
   "execution_count": null,
   "metadata": {},
   "outputs": [],
   "source": [
    "# create a bar chart to show the most used force type\n",
    "force_bar = sorted_force.plot(kind = 'bar', title = 'Used Type of Force by Police in Minneapolis, MN area')\n",
    "force_bar.set_xlabel ('Type of Force')\n",
    "force_bar.set_ylabel ('Number of Cases')\n",
    "plt.show()\n",
    "plt.tight_layout()"
   ]
  },
  {
   "cell_type": "code",
   "execution_count": null,
   "metadata": {},
   "outputs": [],
   "source": [
    "# create a bar chart to show the Top 5 most used force type\n",
    "force_bar = sorted_force.head().plot(kind = 'bar', title = 'The Top 5 most used Type of Force by Police in Minneapolis, MN area')\n",
    "force_bar.set_xlabel ('Type of Force')\n",
    "force_bar.set_ylabel ('Number of Cases')\n",
    "plt.show()\n",
    "plt.tight_layout()"
   ]
  },
  {
   "cell_type": "code",
   "execution_count": null,
   "metadata": {},
   "outputs": [],
   "source": [
    "# find the most used force type action\n",
    "force_type_action_data_ainash = clean_df[['Type of Force Action', 'Case Number']]\n",
    "force_type_action_data_ainash = force_type_action_data_ainash.groupby('Type of Force Action')\n",
    "force_type = force_type_action_data_ainash['Type of Force Action'].count()\n",
    "force_type_action_data = pd.DataFrame({'Total Count': force_type})\n",
    "sorted_force = force_type_action_data.sort_values(['Total Count'], ascending = False)"
   ]
  },
  {
   "cell_type": "code",
   "execution_count": null,
   "metadata": {},
   "outputs": [],
   "source": [
    "# create a bar chart to show the most used force type\n",
    "force_bar = sorted_force.plot(kind = 'bar', title = 'Used Type of Force Action by Police in Minneapolis, MN area')\n",
    "force_bar.set_xlabel ('Type of Force Action')\n",
    "force_bar.set_ylabel ('Number of Cases')\n",
    "plt.show()\n",
    "plt.tight_layout()"
   ]
  },
  {
   "cell_type": "code",
   "execution_count": null,
   "metadata": {},
   "outputs": [],
   "source": [
    "# create a bar chart to show the Top 5 most used force type\n",
    "force_bar = sorted_force.head().plot(kind = 'bar', title = 'The Top 5 most used Type of Force Action by Police in Minneapolis, MN area')\n",
    "force_bar.set_xlabel ('Type of Force Action')\n",
    "force_bar.set_ylabel ('Number of Cases')\n",
    "plt.show()\n",
    "plt.tight_layout()"
   ]
  },
  {
   "cell_type": "code",
   "execution_count": null,
   "metadata": {},
   "outputs": [],
   "source": [
    "# find the most used force type\n",
    "merged_force_type_data_ainash = clean_df[['Type of Force', 'Type of Force Action', 'Case Number']]\n",
    "merged_force_type_data_ainash = merged_force_type_data_ainash.groupby(['Type of Force', 'Type of Force Action'])\n",
    "merged_force_type = merged_force_type_data_ainash['Type of Force'].count()\n",
    "merged_force_type\n"
   ]
  },
  {
   "cell_type": "markdown",
   "metadata": {},
   "source": [
    "# 3. Which is the most popular type of resistance? (Humera)"
   ]
  },
  {
   "cell_type": "code",
   "execution_count": null,
   "metadata": {},
   "outputs": [],
   "source": []
  },
  {
   "cell_type": "markdown",
   "metadata": {},
   "source": [
    "# 4. Which neighborhood in Minneapolis see’s the highest frequency of police force? (Mike Hills)"
   ]
  },
  {
   "cell_type": "code",
   "execution_count": null,
   "metadata": {},
   "outputs": [],
   "source": []
  },
  {
   "cell_type": "markdown",
   "metadata": {},
   "source": [
    "# 5. Is the use of police force in Minneapolis going up or down? (Mike F)"
   ]
  },
  {
   "cell_type": "code",
   "execution_count": null,
   "metadata": {},
   "outputs": [],
   "source": []
  },
  {
   "cell_type": "markdown",
   "metadata": {},
   "source": [
    "# 6. Perform a linear regression on use of force between 2015 and 2019 and make a prediction about use of force in 2020 for the city of Minneapolis.  Compare this prediction to actual use of force outcomes in 2020."
   ]
  },
  {
   "cell_type": "code",
   "execution_count": null,
   "metadata": {},
   "outputs": [],
   "source": []
  }
 ],
 "metadata": {
  "kernelspec": {
   "display_name": "Python 3",
   "language": "python",
   "name": "python3"
  },
  "language_info": {
   "codemirror_mode": {
    "name": "ipython",
    "version": 3
   },
   "file_extension": ".py",
   "mimetype": "text/x-python",
   "name": "python",
   "nbconvert_exporter": "python",
   "pygments_lexer": "ipython3",
   "version": "3.6.10"
  }
 },
 "nbformat": 4,
 "nbformat_minor": 4
}

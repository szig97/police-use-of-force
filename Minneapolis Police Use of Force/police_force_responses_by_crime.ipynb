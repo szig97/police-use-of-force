{
 "cells": [
  {
   "cell_type": "markdown",
   "metadata": {},
   "source": [
    "# Police Force Responses by Crime"
   ]
  },
  {
   "cell_type": "code",
   "execution_count": 1,
   "metadata": {},
   "outputs": [],
   "source": [
    "#Dependencies\n",
    "import matplotlib\n",
    "from matplotlib import pyplot as plt\n",
    "from scipy import stats\n",
    "import numpy as np\n",
    "import pandas as pd\n",
    "from scipy.stats import linregress"
   ]
  },
  {
   "cell_type": "code",
   "execution_count": 2,
   "metadata": {},
   "outputs": [
    {
     "data": {
      "text/html": [
       "<div>\n",
       "<style scoped>\n",
       "    .dataframe tbody tr th:only-of-type {\n",
       "        vertical-align: middle;\n",
       "    }\n",
       "\n",
       "    .dataframe tbody tr th {\n",
       "        vertical-align: top;\n",
       "    }\n",
       "\n",
       "    .dataframe thead th {\n",
       "        text-align: right;\n",
       "    }\n",
       "</style>\n",
       "<table border=\"1\" class=\"dataframe\">\n",
       "  <thead>\n",
       "    <tr style=\"text-align: right;\">\n",
       "      <th></th>\n",
       "      <th>X</th>\n",
       "      <th>Y</th>\n",
       "      <th>PoliceUseOfForceID</th>\n",
       "      <th>CaseNumber</th>\n",
       "      <th>ResponseDate</th>\n",
       "      <th>Problem</th>\n",
       "      <th>Is911Call</th>\n",
       "      <th>PrimaryOffense</th>\n",
       "      <th>SubjectInjury</th>\n",
       "      <th>ForceReportNumber</th>\n",
       "      <th>...</th>\n",
       "      <th>TotalCityCallsForYear</th>\n",
       "      <th>TotalPrecinctCallsForYear</th>\n",
       "      <th>TotalNeighborhoodCallsForYear</th>\n",
       "      <th>CenterGBSID</th>\n",
       "      <th>CenterLatitude</th>\n",
       "      <th>CenterLongitude</th>\n",
       "      <th>CenterX</th>\n",
       "      <th>CenterY</th>\n",
       "      <th>DateAdded</th>\n",
       "      <th>OBJECTID</th>\n",
       "    </tr>\n",
       "  </thead>\n",
       "  <tbody>\n",
       "    <tr>\n",
       "      <th>0</th>\n",
       "      <td>-93.299256</td>\n",
       "      <td>44.980557</td>\n",
       "      <td>19194596</td>\n",
       "      <td>08-007748</td>\n",
       "      <td>2008/01/08 14:20:21+00</td>\n",
       "      <td>Disturbance</td>\n",
       "      <td>No</td>\n",
       "      <td>DISCON</td>\n",
       "      <td>NaN</td>\n",
       "      <td>1</td>\n",
       "      <td>...</td>\n",
       "      <td>322402</td>\n",
       "      <td>80434.0</td>\n",
       "      <td>2514</td>\n",
       "      <td>15824</td>\n",
       "      <td>44.980557</td>\n",
       "      <td>-93.299256</td>\n",
       "      <td>-10386025.66</td>\n",
       "      <td>5618461.049</td>\n",
       "      <td>2021/02/11 08:18:54+00</td>\n",
       "      <td>1</td>\n",
       "    </tr>\n",
       "    <tr>\n",
       "      <th>1</th>\n",
       "      <td>-93.273109</td>\n",
       "      <td>44.979187</td>\n",
       "      <td>19194597</td>\n",
       "      <td>08-019047</td>\n",
       "      <td>2008/01/19 23:47:58+00</td>\n",
       "      <td>On Site</td>\n",
       "      <td>No</td>\n",
       "      <td>NOSMOK</td>\n",
       "      <td>NaN</td>\n",
       "      <td>1</td>\n",
       "      <td>...</td>\n",
       "      <td>322402</td>\n",
       "      <td>46998.0</td>\n",
       "      <td>23458</td>\n",
       "      <td>17239</td>\n",
       "      <td>44.979187</td>\n",
       "      <td>-93.273109</td>\n",
       "      <td>-10383115.01</td>\n",
       "      <td>5618245.449</td>\n",
       "      <td>2021/02/11 08:18:54+00</td>\n",
       "      <td>2</td>\n",
       "    </tr>\n",
       "    <tr>\n",
       "      <th>2</th>\n",
       "      <td>-93.311817</td>\n",
       "      <td>45.006028</td>\n",
       "      <td>19194598</td>\n",
       "      <td>08-034409</td>\n",
       "      <td>2008/02/04 21:21:49+00</td>\n",
       "      <td>Property Damage Accident</td>\n",
       "      <td>Yes</td>\n",
       "      <td>ASLT2</td>\n",
       "      <td>NaN</td>\n",
       "      <td>1</td>\n",
       "      <td>...</td>\n",
       "      <td>322402</td>\n",
       "      <td>80434.0</td>\n",
       "      <td>9486</td>\n",
       "      <td>10909</td>\n",
       "      <td>45.006028</td>\n",
       "      <td>-93.311817</td>\n",
       "      <td>-10387423.95</td>\n",
       "      <td>5622470.553</td>\n",
       "      <td>2021/02/11 08:18:54+00</td>\n",
       "      <td>3</td>\n",
       "    </tr>\n",
       "    <tr>\n",
       "      <th>3</th>\n",
       "      <td>-93.288860</td>\n",
       "      <td>45.043001</td>\n",
       "      <td>19194599</td>\n",
       "      <td>08-043573</td>\n",
       "      <td>2008/02/14 22:03:15+00</td>\n",
       "      <td>Unwanted Person</td>\n",
       "      <td>Yes</td>\n",
       "      <td>DAMPRP</td>\n",
       "      <td>NaN</td>\n",
       "      <td>2</td>\n",
       "      <td>...</td>\n",
       "      <td>322402</td>\n",
       "      <td>80434.0</td>\n",
       "      <td>3070</td>\n",
       "      <td>17338</td>\n",
       "      <td>45.043001</td>\n",
       "      <td>-93.288860</td>\n",
       "      <td>-10384868.44</td>\n",
       "      <td>5628293.683</td>\n",
       "      <td>2021/02/11 08:18:54+00</td>\n",
       "      <td>4</td>\n",
       "    </tr>\n",
       "    <tr>\n",
       "      <th>4</th>\n",
       "      <td>-93.271963</td>\n",
       "      <td>44.981655</td>\n",
       "      <td>19194600</td>\n",
       "      <td>08-052540</td>\n",
       "      <td>2008/02/24 02:25:39+00</td>\n",
       "      <td>Fight</td>\n",
       "      <td>No</td>\n",
       "      <td>OBSTRU</td>\n",
       "      <td>No</td>\n",
       "      <td>3</td>\n",
       "      <td>...</td>\n",
       "      <td>322402</td>\n",
       "      <td>46998.0</td>\n",
       "      <td>23458</td>\n",
       "      <td>17120</td>\n",
       "      <td>44.981655</td>\n",
       "      <td>-93.271963</td>\n",
       "      <td>-10382987.47</td>\n",
       "      <td>5618633.899</td>\n",
       "      <td>2021/02/11 08:18:54+00</td>\n",
       "      <td>5</td>\n",
       "    </tr>\n",
       "  </tbody>\n",
       "</table>\n",
       "<p>5 rows × 30 columns</p>\n",
       "</div>"
      ],
      "text/plain": [
       "           X          Y  PoliceUseOfForceID CaseNumber  \\\n",
       "0 -93.299256  44.980557            19194596  08-007748   \n",
       "1 -93.273109  44.979187            19194597  08-019047   \n",
       "2 -93.311817  45.006028            19194598  08-034409   \n",
       "3 -93.288860  45.043001            19194599  08-043573   \n",
       "4 -93.271963  44.981655            19194600  08-052540   \n",
       "\n",
       "             ResponseDate                    Problem Is911Call PrimaryOffense  \\\n",
       "0  2008/01/08 14:20:21+00               Disturbance         No         DISCON   \n",
       "1  2008/01/19 23:47:58+00                   On Site         No         NOSMOK   \n",
       "2  2008/02/04 21:21:49+00  Property Damage Accident        Yes          ASLT2   \n",
       "3  2008/02/14 22:03:15+00           Unwanted Person        Yes         DAMPRP   \n",
       "4  2008/02/24 02:25:39+00                     Fight         No         OBSTRU   \n",
       "\n",
       "  SubjectInjury  ForceReportNumber  ... TotalCityCallsForYear  \\\n",
       "0           NaN                  1  ...                322402   \n",
       "1           NaN                  1  ...                322402   \n",
       "2           NaN                  1  ...                322402   \n",
       "3           NaN                  2  ...                322402   \n",
       "4            No                  3  ...                322402   \n",
       "\n",
       "   TotalPrecinctCallsForYear TotalNeighborhoodCallsForYear CenterGBSID  \\\n",
       "0                    80434.0                          2514       15824   \n",
       "1                    46998.0                         23458       17239   \n",
       "2                    80434.0                          9486       10909   \n",
       "3                    80434.0                          3070       17338   \n",
       "4                    46998.0                         23458       17120   \n",
       "\n",
       "  CenterLatitude CenterLongitude      CenterX      CenterY  \\\n",
       "0      44.980557      -93.299256 -10386025.66  5618461.049   \n",
       "1      44.979187      -93.273109 -10383115.01  5618245.449   \n",
       "2      45.006028      -93.311817 -10387423.95  5622470.553   \n",
       "3      45.043001      -93.288860 -10384868.44  5628293.683   \n",
       "4      44.981655      -93.271963 -10382987.47  5618633.899   \n",
       "\n",
       "                DateAdded OBJECTID  \n",
       "0  2021/02/11 08:18:54+00        1  \n",
       "1  2021/02/11 08:18:54+00        2  \n",
       "2  2021/02/11 08:18:54+00        3  \n",
       "3  2021/02/11 08:18:54+00        4  \n",
       "4  2021/02/11 08:18:54+00        5  \n",
       "\n",
       "[5 rows x 30 columns]"
      ]
     },
     "execution_count": 2,
     "metadata": {},
     "output_type": "execute_result"
    }
   ],
   "source": [
    "#Import csv file\n",
    "police_data = pd.read_csv(\"Resources/Police_Use_of_Force.csv\")\n",
    "police_data.head()"
   ]
  },
  {
   "cell_type": "code",
   "execution_count": 3,
   "metadata": {},
   "outputs": [
    {
     "data": {
      "text/html": [
       "<div>\n",
       "<style scoped>\n",
       "    .dataframe tbody tr th:only-of-type {\n",
       "        vertical-align: middle;\n",
       "    }\n",
       "\n",
       "    .dataframe tbody tr th {\n",
       "        vertical-align: top;\n",
       "    }\n",
       "\n",
       "    .dataframe thead th {\n",
       "        text-align: right;\n",
       "    }\n",
       "</style>\n",
       "<table border=\"1\" class=\"dataframe\">\n",
       "  <thead>\n",
       "    <tr style=\"text-align: right;\">\n",
       "      <th></th>\n",
       "      <th>PoliceUseOfForceID</th>\n",
       "      <th>CaseNumber</th>\n",
       "      <th>ResponseDate</th>\n",
       "      <th>Problem</th>\n",
       "      <th>ForceType</th>\n",
       "      <th>ForceTypeAction</th>\n",
       "      <th>EventAge</th>\n",
       "      <th>TypeOfResistance</th>\n",
       "      <th>Precinct</th>\n",
       "      <th>Neighborhood</th>\n",
       "    </tr>\n",
       "  </thead>\n",
       "  <tbody>\n",
       "    <tr>\n",
       "      <th>0</th>\n",
       "      <td>19194596</td>\n",
       "      <td>08-007748</td>\n",
       "      <td>2008/01/08 14:20:21+00</td>\n",
       "      <td>Disturbance</td>\n",
       "      <td>Bodily Force</td>\n",
       "      <td>Push Away</td>\n",
       "      <td>13.0</td>\n",
       "      <td>Tensed</td>\n",
       "      <td>4</td>\n",
       "      <td>Harrison</td>\n",
       "    </tr>\n",
       "    <tr>\n",
       "      <th>1</th>\n",
       "      <td>19194597</td>\n",
       "      <td>08-019047</td>\n",
       "      <td>2008/01/19 23:47:58+00</td>\n",
       "      <td>On Site</td>\n",
       "      <td>Bodily Force</td>\n",
       "      <td>Push Away</td>\n",
       "      <td>27.0</td>\n",
       "      <td>Tensed</td>\n",
       "      <td>1</td>\n",
       "      <td>Downtown West</td>\n",
       "    </tr>\n",
       "    <tr>\n",
       "      <th>2</th>\n",
       "      <td>19194598</td>\n",
       "      <td>08-034409</td>\n",
       "      <td>2008/02/04 21:21:49+00</td>\n",
       "      <td>Property Damage Accident</td>\n",
       "      <td>Bodily Force</td>\n",
       "      <td>Joint Lock</td>\n",
       "      <td>17.0</td>\n",
       "      <td>Verbal Non-Compliance</td>\n",
       "      <td>4</td>\n",
       "      <td>Willard - Hay</td>\n",
       "    </tr>\n",
       "    <tr>\n",
       "      <th>3</th>\n",
       "      <td>19194599</td>\n",
       "      <td>08-043573</td>\n",
       "      <td>2008/02/14 22:03:15+00</td>\n",
       "      <td>Unwanted Person</td>\n",
       "      <td>Bodily Force</td>\n",
       "      <td>Body Weight to Pin</td>\n",
       "      <td>18.0</td>\n",
       "      <td>Tensed</td>\n",
       "      <td>4</td>\n",
       "      <td>Lind - Bohanon</td>\n",
       "    </tr>\n",
       "    <tr>\n",
       "      <th>4</th>\n",
       "      <td>19194600</td>\n",
       "      <td>08-052540</td>\n",
       "      <td>2008/02/24 02:25:39+00</td>\n",
       "      <td>Fight</td>\n",
       "      <td>Bodily Force</td>\n",
       "      <td>Knees</td>\n",
       "      <td>28.0</td>\n",
       "      <td>Commission of Crime</td>\n",
       "      <td>1</td>\n",
       "      <td>Downtown West</td>\n",
       "    </tr>\n",
       "    <tr>\n",
       "      <th>...</th>\n",
       "      <td>...</td>\n",
       "      <td>...</td>\n",
       "      <td>...</td>\n",
       "      <td>...</td>\n",
       "      <td>...</td>\n",
       "      <td>...</td>\n",
       "      <td>...</td>\n",
       "      <td>...</td>\n",
       "      <td>...</td>\n",
       "      <td>...</td>\n",
       "    </tr>\n",
       "    <tr>\n",
       "      <th>32030</th>\n",
       "      <td>19226626</td>\n",
       "      <td>09-Cooper</td>\n",
       "      <td>2009/01/01 00:00:00+00</td>\n",
       "      <td>NaN</td>\n",
       "      <td>NaN</td>\n",
       "      <td>0</td>\n",
       "      <td>NaN</td>\n",
       "      <td>NaN</td>\n",
       "      <td>NaN</td>\n",
       "      <td>Cooper</td>\n",
       "    </tr>\n",
       "    <tr>\n",
       "      <th>32031</th>\n",
       "      <td>19226627</td>\n",
       "      <td>08-Bottineau</td>\n",
       "      <td>2008/01/01 00:00:00+00</td>\n",
       "      <td>NaN</td>\n",
       "      <td>NaN</td>\n",
       "      <td>0</td>\n",
       "      <td>NaN</td>\n",
       "      <td>NaN</td>\n",
       "      <td>NaN</td>\n",
       "      <td>Bottineau</td>\n",
       "    </tr>\n",
       "    <tr>\n",
       "      <th>32032</th>\n",
       "      <td>19226628</td>\n",
       "      <td>09-Loring Park</td>\n",
       "      <td>2009/01/01 00:00:00+00</td>\n",
       "      <td>NaN</td>\n",
       "      <td>NaN</td>\n",
       "      <td>0</td>\n",
       "      <td>NaN</td>\n",
       "      <td>NaN</td>\n",
       "      <td>NaN</td>\n",
       "      <td>Loring Park</td>\n",
       "    </tr>\n",
       "    <tr>\n",
       "      <th>32033</th>\n",
       "      <td>19226629</td>\n",
       "      <td>14-Cooper</td>\n",
       "      <td>2014/01/01 00:00:00+00</td>\n",
       "      <td>NaN</td>\n",
       "      <td>NaN</td>\n",
       "      <td>0</td>\n",
       "      <td>NaN</td>\n",
       "      <td>NaN</td>\n",
       "      <td>NaN</td>\n",
       "      <td>Cooper</td>\n",
       "    </tr>\n",
       "    <tr>\n",
       "      <th>32034</th>\n",
       "      <td>19226630</td>\n",
       "      <td>19-Central</td>\n",
       "      <td>2019/01/01 00:00:00+00</td>\n",
       "      <td>NaN</td>\n",
       "      <td>NaN</td>\n",
       "      <td>0</td>\n",
       "      <td>NaN</td>\n",
       "      <td>NaN</td>\n",
       "      <td>NaN</td>\n",
       "      <td>Central</td>\n",
       "    </tr>\n",
       "  </tbody>\n",
       "</table>\n",
       "<p>32035 rows × 10 columns</p>\n",
       "</div>"
      ],
      "text/plain": [
       "       PoliceUseOfForceID      CaseNumber            ResponseDate  \\\n",
       "0                19194596       08-007748  2008/01/08 14:20:21+00   \n",
       "1                19194597       08-019047  2008/01/19 23:47:58+00   \n",
       "2                19194598       08-034409  2008/02/04 21:21:49+00   \n",
       "3                19194599       08-043573  2008/02/14 22:03:15+00   \n",
       "4                19194600       08-052540  2008/02/24 02:25:39+00   \n",
       "...                   ...             ...                     ...   \n",
       "32030            19226626       09-Cooper  2009/01/01 00:00:00+00   \n",
       "32031            19226627    08-Bottineau  2008/01/01 00:00:00+00   \n",
       "32032            19226628  09-Loring Park  2009/01/01 00:00:00+00   \n",
       "32033            19226629       14-Cooper  2014/01/01 00:00:00+00   \n",
       "32034            19226630      19-Central  2019/01/01 00:00:00+00   \n",
       "\n",
       "                         Problem     ForceType     ForceTypeAction  EventAge  \\\n",
       "0                   Disturbance   Bodily Force           Push Away      13.0   \n",
       "1                       On Site   Bodily Force           Push Away      27.0   \n",
       "2      Property Damage Accident   Bodily Force          Joint Lock      17.0   \n",
       "3               Unwanted Person   Bodily Force  Body Weight to Pin      18.0   \n",
       "4                         Fight   Bodily Force               Knees      28.0   \n",
       "...                          ...           ...                 ...       ...   \n",
       "32030                        NaN           NaN                   0       NaN   \n",
       "32031                        NaN           NaN                   0       NaN   \n",
       "32032                        NaN           NaN                   0       NaN   \n",
       "32033                        NaN           NaN                   0       NaN   \n",
       "32034                        NaN           NaN                   0       NaN   \n",
       "\n",
       "            TypeOfResistance Precinct    Neighborhood  \n",
       "0                     Tensed        4        Harrison  \n",
       "1                     Tensed        1   Downtown West  \n",
       "2      Verbal Non-Compliance        4   Willard - Hay  \n",
       "3                     Tensed        4  Lind - Bohanon  \n",
       "4        Commission of Crime        1   Downtown West  \n",
       "...                      ...      ...             ...  \n",
       "32030                    NaN      NaN          Cooper  \n",
       "32031                    NaN      NaN       Bottineau  \n",
       "32032                    NaN      NaN     Loring Park  \n",
       "32033                    NaN      NaN          Cooper  \n",
       "32034                    NaN      NaN         Central  \n",
       "\n",
       "[32035 rows x 10 columns]"
      ]
     },
     "execution_count": 3,
     "metadata": {},
     "output_type": "execute_result"
    }
   ],
   "source": [
    "#create new DataFrame\n",
    "police_data_df = police_data.loc[:, [\"PoliceUseOfForceID\", \"CaseNumber\", \"ResponseDate\", \"Problem\", \"ForceType\",\n",
    "                                    \"ForceTypeAction\", \"EventAge\", \"TypeOfResistance\", \"Precinct\", \"Neighborhood\"]]\n",
    "police_data_df"
   ]
  },
  {
   "cell_type": "code",
   "execution_count": 4,
   "metadata": {},
   "outputs": [
    {
     "data": {
      "text/html": [
       "<div>\n",
       "<style scoped>\n",
       "    .dataframe tbody tr th:only-of-type {\n",
       "        vertical-align: middle;\n",
       "    }\n",
       "\n",
       "    .dataframe tbody tr th {\n",
       "        vertical-align: top;\n",
       "    }\n",
       "\n",
       "    .dataframe thead th {\n",
       "        text-align: right;\n",
       "    }\n",
       "</style>\n",
       "<table border=\"1\" class=\"dataframe\">\n",
       "  <thead>\n",
       "    <tr style=\"text-align: right;\">\n",
       "      <th></th>\n",
       "      <th>PoliceUseOfForceID</th>\n",
       "      <th>CaseNumber</th>\n",
       "      <th>ResponseDate</th>\n",
       "      <th>Problem</th>\n",
       "      <th>ForceType</th>\n",
       "      <th>ForceTypeAction</th>\n",
       "      <th>EventAge</th>\n",
       "      <th>TypeOfResistance</th>\n",
       "      <th>Precinct</th>\n",
       "      <th>Neighborhood</th>\n",
       "    </tr>\n",
       "  </thead>\n",
       "  <tbody>\n",
       "    <tr>\n",
       "      <th>0</th>\n",
       "      <td>19194596</td>\n",
       "      <td>08-007748</td>\n",
       "      <td>2008/01/08 14:20:21+00</td>\n",
       "      <td>Disturbance</td>\n",
       "      <td>Bodily Force</td>\n",
       "      <td>Push Away</td>\n",
       "      <td>13.0</td>\n",
       "      <td>Tensed</td>\n",
       "      <td>4</td>\n",
       "      <td>Harrison</td>\n",
       "    </tr>\n",
       "    <tr>\n",
       "      <th>1</th>\n",
       "      <td>19194597</td>\n",
       "      <td>08-019047</td>\n",
       "      <td>2008/01/19 23:47:58+00</td>\n",
       "      <td>On Site</td>\n",
       "      <td>Bodily Force</td>\n",
       "      <td>Push Away</td>\n",
       "      <td>27.0</td>\n",
       "      <td>Tensed</td>\n",
       "      <td>1</td>\n",
       "      <td>Downtown West</td>\n",
       "    </tr>\n",
       "    <tr>\n",
       "      <th>2</th>\n",
       "      <td>19194598</td>\n",
       "      <td>08-034409</td>\n",
       "      <td>2008/02/04 21:21:49+00</td>\n",
       "      <td>Property Damage Accident</td>\n",
       "      <td>Bodily Force</td>\n",
       "      <td>Joint Lock</td>\n",
       "      <td>17.0</td>\n",
       "      <td>Verbal Non-Compliance</td>\n",
       "      <td>4</td>\n",
       "      <td>Willard - Hay</td>\n",
       "    </tr>\n",
       "    <tr>\n",
       "      <th>3</th>\n",
       "      <td>19194599</td>\n",
       "      <td>08-043573</td>\n",
       "      <td>2008/02/14 22:03:15+00</td>\n",
       "      <td>Unwanted Person</td>\n",
       "      <td>Bodily Force</td>\n",
       "      <td>Body Weight to Pin</td>\n",
       "      <td>18.0</td>\n",
       "      <td>Tensed</td>\n",
       "      <td>4</td>\n",
       "      <td>Lind - Bohanon</td>\n",
       "    </tr>\n",
       "    <tr>\n",
       "      <th>4</th>\n",
       "      <td>19194600</td>\n",
       "      <td>08-052540</td>\n",
       "      <td>2008/02/24 02:25:39+00</td>\n",
       "      <td>Fight</td>\n",
       "      <td>Bodily Force</td>\n",
       "      <td>Knees</td>\n",
       "      <td>28.0</td>\n",
       "      <td>Commission of Crime</td>\n",
       "      <td>1</td>\n",
       "      <td>Downtown West</td>\n",
       "    </tr>\n",
       "    <tr>\n",
       "      <th>...</th>\n",
       "      <td>...</td>\n",
       "      <td>...</td>\n",
       "      <td>...</td>\n",
       "      <td>...</td>\n",
       "      <td>...</td>\n",
       "      <td>...</td>\n",
       "      <td>...</td>\n",
       "      <td>...</td>\n",
       "      <td>...</td>\n",
       "      <td>...</td>\n",
       "    </tr>\n",
       "    <tr>\n",
       "      <th>30829</th>\n",
       "      <td>19225425</td>\n",
       "      <td>20-287806</td>\n",
       "      <td>2020/11/12 14:41:54+00</td>\n",
       "      <td>Domestic Abuse-In Progress</td>\n",
       "      <td>Maximal Restraint Technique</td>\n",
       "      <td>Not Side Recovery Position</td>\n",
       "      <td>19.0</td>\n",
       "      <td>Other                                         ...</td>\n",
       "      <td>2</td>\n",
       "      <td>Waite Park</td>\n",
       "    </tr>\n",
       "    <tr>\n",
       "      <th>30830</th>\n",
       "      <td>19225426</td>\n",
       "      <td>20-288772</td>\n",
       "      <td>2020/11/13 21:48:02+00</td>\n",
       "      <td>Unwanted Person</td>\n",
       "      <td>Bodily Force</td>\n",
       "      <td>Body Weight Pin</td>\n",
       "      <td>29.0</td>\n",
       "      <td>Verbal Non-Compliance                         ...</td>\n",
       "      <td>5</td>\n",
       "      <td>Linden Hills</td>\n",
       "    </tr>\n",
       "    <tr>\n",
       "      <th>30831</th>\n",
       "      <td>19225427</td>\n",
       "      <td>20-292656</td>\n",
       "      <td>2020/11/19 15:44:41+00</td>\n",
       "      <td>Emotionally Disturb Person</td>\n",
       "      <td>Taser</td>\n",
       "      <td>Firing Darts</td>\n",
       "      <td>23.0</td>\n",
       "      <td>Other                                         ...</td>\n",
       "      <td>4</td>\n",
       "      <td>Willard - Hay</td>\n",
       "    </tr>\n",
       "    <tr>\n",
       "      <th>30832</th>\n",
       "      <td>19225428</td>\n",
       "      <td>20-298833</td>\n",
       "      <td>2020/11/28 08:18:10+00</td>\n",
       "      <td>Motor Vehicle Chase</td>\n",
       "      <td>Bodily Force</td>\n",
       "      <td>Push Away</td>\n",
       "      <td>31.0</td>\n",
       "      <td>Fled in a Vehicle                             ...</td>\n",
       "      <td>3</td>\n",
       "      <td>East Phillips</td>\n",
       "    </tr>\n",
       "    <tr>\n",
       "      <th>30833</th>\n",
       "      <td>19225429</td>\n",
       "      <td>20-303056</td>\n",
       "      <td>2020/12/04 06:07:08+00</td>\n",
       "      <td>Assist a Disabled Person</td>\n",
       "      <td>Bodily Force</td>\n",
       "      <td>Body Weight Pin</td>\n",
       "      <td>19.0</td>\n",
       "      <td>Tensed                                        ...</td>\n",
       "      <td>1</td>\n",
       "      <td>Cedar Riverside</td>\n",
       "    </tr>\n",
       "  </tbody>\n",
       "</table>\n",
       "<p>29075 rows × 10 columns</p>\n",
       "</div>"
      ],
      "text/plain": [
       "       PoliceUseOfForceID CaseNumber            ResponseDate  \\\n",
       "0                19194596  08-007748  2008/01/08 14:20:21+00   \n",
       "1                19194597  08-019047  2008/01/19 23:47:58+00   \n",
       "2                19194598  08-034409  2008/02/04 21:21:49+00   \n",
       "3                19194599  08-043573  2008/02/14 22:03:15+00   \n",
       "4                19194600  08-052540  2008/02/24 02:25:39+00   \n",
       "...                   ...        ...                     ...   \n",
       "30829            19225425  20-287806  2020/11/12 14:41:54+00   \n",
       "30830            19225426  20-288772  2020/11/13 21:48:02+00   \n",
       "30831            19225427  20-292656  2020/11/19 15:44:41+00   \n",
       "30832            19225428  20-298833  2020/11/28 08:18:10+00   \n",
       "30833            19225429  20-303056  2020/12/04 06:07:08+00   \n",
       "\n",
       "                           Problem                    ForceType  \\\n",
       "0                     Disturbance                  Bodily Force   \n",
       "1                         On Site                  Bodily Force   \n",
       "2        Property Damage Accident                  Bodily Force   \n",
       "3                 Unwanted Person                  Bodily Force   \n",
       "4                           Fight                  Bodily Force   \n",
       "...                            ...                          ...   \n",
       "30829  Domestic Abuse-In Progress   Maximal Restraint Technique   \n",
       "30830             Unwanted Person                  Bodily Force   \n",
       "30831  Emotionally Disturb Person                         Taser   \n",
       "30832         Motor Vehicle Chase                  Bodily Force   \n",
       "30833    Assist a Disabled Person                  Bodily Force   \n",
       "\n",
       "                  ForceTypeAction  EventAge  \\\n",
       "0                       Push Away      13.0   \n",
       "1                       Push Away      27.0   \n",
       "2                      Joint Lock      17.0   \n",
       "3              Body Weight to Pin      18.0   \n",
       "4                           Knees      28.0   \n",
       "...                           ...       ...   \n",
       "30829  Not Side Recovery Position      19.0   \n",
       "30830             Body Weight Pin      29.0   \n",
       "30831                Firing Darts      23.0   \n",
       "30832                   Push Away      31.0   \n",
       "30833             Body Weight Pin      19.0   \n",
       "\n",
       "                                        TypeOfResistance Precinct  \\\n",
       "0                                                 Tensed        4   \n",
       "1                                                 Tensed        1   \n",
       "2                                  Verbal Non-Compliance        4   \n",
       "3                                                 Tensed        4   \n",
       "4                                    Commission of Crime        1   \n",
       "...                                                  ...      ...   \n",
       "30829  Other                                         ...        2   \n",
       "30830  Verbal Non-Compliance                         ...        5   \n",
       "30831  Other                                         ...        4   \n",
       "30832  Fled in a Vehicle                             ...        3   \n",
       "30833  Tensed                                        ...        1   \n",
       "\n",
       "          Neighborhood  \n",
       "0             Harrison  \n",
       "1        Downtown West  \n",
       "2        Willard - Hay  \n",
       "3       Lind - Bohanon  \n",
       "4        Downtown West  \n",
       "...                ...  \n",
       "30829       Waite Park  \n",
       "30830     Linden Hills  \n",
       "30831    Willard - Hay  \n",
       "30832    East Phillips  \n",
       "30833  Cedar Riverside  \n",
       "\n",
       "[29075 rows x 10 columns]"
      ]
     },
     "execution_count": 4,
     "metadata": {},
     "output_type": "execute_result"
    }
   ],
   "source": [
    "#drop NaN from Dataframe\n",
    "police_data_df = police_data_df.dropna(how='any')\n",
    "police_data_df"
   ]
  },
  {
   "cell_type": "code",
   "execution_count": 5,
   "metadata": {},
   "outputs": [
    {
     "name": "stderr",
     "output_type": "stream",
     "text": [
      "C:\\Users\\hills\\anaconda3\\envs\\PythonData\\lib\\site-packages\\ipykernel_launcher.py:9: SettingWithCopyWarning: \n",
      "A value is trying to be set on a copy of a slice from a DataFrame.\n",
      "Try using .loc[row_indexer,col_indexer] = value instead\n",
      "\n",
      "See the caveats in the documentation: https://pandas.pydata.org/pandas-docs/stable/user_guide/indexing.html#returning-a-view-versus-a-copy\n",
      "  if __name__ == '__main__':\n"
     ]
    }
   ],
   "source": [
    "#rename rows in ForceTypeAction column\n",
    "police_data_df['ForceTypeAction'] = police_data_df['ForceTypeAction'].replace({\n",
    "    \"Knee\": \"Knees\",\n",
    "    \"Body Weight Pin\": \"Body Weight to Pin\",\n",
    "    \"Conscious Neck Restraint\": \"Neck Restraint: subject did not lose conciousness\",\n",
    "    \"Punch\": \"Punches\",\n",
    "    \"Slap\": \"Slaps\",\n",
    "    'Unconscious Neck Restraint': 'Neck Restraint: subject did not lose conciousness',\n",
    "    'Firearm as striking tool': 'Firearms As Striking Tool'\n",
    "})\n"
   ]
  },
  {
   "cell_type": "code",
   "execution_count": 6,
   "metadata": {},
   "outputs": [
    {
     "name": "stderr",
     "output_type": "stream",
     "text": [
      "C:\\Users\\hills\\anaconda3\\envs\\PythonData\\lib\\site-packages\\ipykernel_launcher.py:3: SettingWithCopyWarning: \n",
      "A value is trying to be set on a copy of a slice from a DataFrame.\n",
      "Try using .loc[row_indexer,col_indexer] = value instead\n",
      "\n",
      "See the caveats in the documentation: https://pandas.pydata.org/pandas-docs/stable/user_guide/indexing.html#returning-a-view-versus-a-copy\n",
      "  This is separate from the ipykernel package so we can avoid doing imports until\n"
     ]
    }
   ],
   "source": [
    "#rename rows in ForceType column\n",
    "police_data_df['ForceType'] = police_data_df['ForceType'].replace({\n",
    "    \"Less Lethal Projectile\": \"Less Lethal\"\n",
    "})"
   ]
  },
  {
   "cell_type": "code",
   "execution_count": 7,
   "metadata": {},
   "outputs": [
    {
     "name": "stderr",
     "output_type": "stream",
     "text": [
      "C:\\Users\\hills\\anaconda3\\envs\\PythonData\\lib\\site-packages\\ipykernel_launcher.py:15: SettingWithCopyWarning: \n",
      "A value is trying to be set on a copy of a slice from a DataFrame.\n",
      "Try using .loc[row_indexer,col_indexer] = value instead\n",
      "\n",
      "See the caveats in the documentation: https://pandas.pydata.org/pandas-docs/stable/user_guide/indexing.html#returning-a-view-versus-a-copy\n",
      "  from ipykernel import kernelapp as app\n"
     ]
    }
   ],
   "source": [
    "#rename rows in TypeOfResistance column\n",
    "police_data_df['TypeOfResistance'] = police_data_df['TypeOfResistance'].replace({\n",
    "    \"TENSED\": \"Tensed\",\n",
    "    \"tensed\": \"Tensed\",\n",
    "    \"Tensed                                                                         \": \"Tensed\",\n",
    "    \"verbal non-compliance\": \"Verbal Non-Compliance\",\n",
    "    \"Verbal Non-Compliance                                                          \": \"Verbal Non-Compliance\",\n",
    "    \"commission of crime\":\"Commission of Crime\",\n",
    "    \"Commission of a Crime                                                          \":\"Commission of Crime\",\n",
    "    \"COMMISSION OF CRIME\":\"Commission of Crime\",\n",
    "    \"Fled on Foot                                                                   \":\"Fled on Foot\",\n",
    "    \"Fled in a Vehicle                                                              \":\"Fled in Vehicle\",\n",
    "    \"Assaulted Officer                                                              \":\"Assaulted Officer\",\n",
    "    \"Assaulted Police K9                                                            \":\"Assaulting Police K9\",\n",
    "    \"Other                                                                          \":\"Other\"\n",
    "           \n",
    "})"
   ]
  },
  {
   "cell_type": "code",
   "execution_count": 8,
   "metadata": {},
   "outputs": [
    {
     "data": {
      "text/html": [
       "<div>\n",
       "<style scoped>\n",
       "    .dataframe tbody tr th:only-of-type {\n",
       "        vertical-align: middle;\n",
       "    }\n",
       "\n",
       "    .dataframe tbody tr th {\n",
       "        vertical-align: top;\n",
       "    }\n",
       "\n",
       "    .dataframe thead th {\n",
       "        text-align: right;\n",
       "    }\n",
       "</style>\n",
       "<table border=\"1\" class=\"dataframe\">\n",
       "  <thead>\n",
       "    <tr style=\"text-align: right;\">\n",
       "      <th></th>\n",
       "      <th>Police ID</th>\n",
       "      <th>Case Number</th>\n",
       "      <th>Response Date</th>\n",
       "      <th>Type of Crime</th>\n",
       "      <th>Type of Force</th>\n",
       "      <th>Type of Force Action</th>\n",
       "      <th>Event Age</th>\n",
       "      <th>Type of Resistance</th>\n",
       "      <th>Precinct</th>\n",
       "      <th>Neighborhood</th>\n",
       "    </tr>\n",
       "  </thead>\n",
       "  <tbody>\n",
       "    <tr>\n",
       "      <th>0</th>\n",
       "      <td>19194596</td>\n",
       "      <td>08-007748</td>\n",
       "      <td>2008/01/08 14:20:21+00</td>\n",
       "      <td>Disturbance</td>\n",
       "      <td>Bodily Force</td>\n",
       "      <td>Push Away</td>\n",
       "      <td>13.0</td>\n",
       "      <td>Tensed</td>\n",
       "      <td>4</td>\n",
       "      <td>Harrison</td>\n",
       "    </tr>\n",
       "    <tr>\n",
       "      <th>1</th>\n",
       "      <td>19194597</td>\n",
       "      <td>08-019047</td>\n",
       "      <td>2008/01/19 23:47:58+00</td>\n",
       "      <td>On Site</td>\n",
       "      <td>Bodily Force</td>\n",
       "      <td>Push Away</td>\n",
       "      <td>27.0</td>\n",
       "      <td>Tensed</td>\n",
       "      <td>1</td>\n",
       "      <td>Downtown West</td>\n",
       "    </tr>\n",
       "    <tr>\n",
       "      <th>2</th>\n",
       "      <td>19194598</td>\n",
       "      <td>08-034409</td>\n",
       "      <td>2008/02/04 21:21:49+00</td>\n",
       "      <td>Property Damage Accident</td>\n",
       "      <td>Bodily Force</td>\n",
       "      <td>Joint Lock</td>\n",
       "      <td>17.0</td>\n",
       "      <td>Verbal Non-Compliance</td>\n",
       "      <td>4</td>\n",
       "      <td>Willard - Hay</td>\n",
       "    </tr>\n",
       "    <tr>\n",
       "      <th>3</th>\n",
       "      <td>19194599</td>\n",
       "      <td>08-043573</td>\n",
       "      <td>2008/02/14 22:03:15+00</td>\n",
       "      <td>Unwanted Person</td>\n",
       "      <td>Bodily Force</td>\n",
       "      <td>Body Weight to Pin</td>\n",
       "      <td>18.0</td>\n",
       "      <td>Tensed</td>\n",
       "      <td>4</td>\n",
       "      <td>Lind - Bohanon</td>\n",
       "    </tr>\n",
       "    <tr>\n",
       "      <th>4</th>\n",
       "      <td>19194600</td>\n",
       "      <td>08-052540</td>\n",
       "      <td>2008/02/24 02:25:39+00</td>\n",
       "      <td>Fight</td>\n",
       "      <td>Bodily Force</td>\n",
       "      <td>Knees</td>\n",
       "      <td>28.0</td>\n",
       "      <td>Commission of Crime</td>\n",
       "      <td>1</td>\n",
       "      <td>Downtown West</td>\n",
       "    </tr>\n",
       "    <tr>\n",
       "      <th>...</th>\n",
       "      <td>...</td>\n",
       "      <td>...</td>\n",
       "      <td>...</td>\n",
       "      <td>...</td>\n",
       "      <td>...</td>\n",
       "      <td>...</td>\n",
       "      <td>...</td>\n",
       "      <td>...</td>\n",
       "      <td>...</td>\n",
       "      <td>...</td>\n",
       "    </tr>\n",
       "    <tr>\n",
       "      <th>29070</th>\n",
       "      <td>19225425</td>\n",
       "      <td>20-287806</td>\n",
       "      <td>2020/11/12 14:41:54+00</td>\n",
       "      <td>Domestic Abuse-In Progress</td>\n",
       "      <td>Maximal Restraint Technique</td>\n",
       "      <td>Not Side Recovery Position</td>\n",
       "      <td>19.0</td>\n",
       "      <td>Other</td>\n",
       "      <td>2</td>\n",
       "      <td>Waite Park</td>\n",
       "    </tr>\n",
       "    <tr>\n",
       "      <th>29071</th>\n",
       "      <td>19225426</td>\n",
       "      <td>20-288772</td>\n",
       "      <td>2020/11/13 21:48:02+00</td>\n",
       "      <td>Unwanted Person</td>\n",
       "      <td>Bodily Force</td>\n",
       "      <td>Body Weight to Pin</td>\n",
       "      <td>29.0</td>\n",
       "      <td>Verbal Non-Compliance</td>\n",
       "      <td>5</td>\n",
       "      <td>Linden Hills</td>\n",
       "    </tr>\n",
       "    <tr>\n",
       "      <th>29072</th>\n",
       "      <td>19225427</td>\n",
       "      <td>20-292656</td>\n",
       "      <td>2020/11/19 15:44:41+00</td>\n",
       "      <td>Emotionally Disturb Person</td>\n",
       "      <td>Taser</td>\n",
       "      <td>Firing Darts</td>\n",
       "      <td>23.0</td>\n",
       "      <td>Other</td>\n",
       "      <td>4</td>\n",
       "      <td>Willard - Hay</td>\n",
       "    </tr>\n",
       "    <tr>\n",
       "      <th>29073</th>\n",
       "      <td>19225428</td>\n",
       "      <td>20-298833</td>\n",
       "      <td>2020/11/28 08:18:10+00</td>\n",
       "      <td>Motor Vehicle Chase</td>\n",
       "      <td>Bodily Force</td>\n",
       "      <td>Push Away</td>\n",
       "      <td>31.0</td>\n",
       "      <td>Fled in Vehicle</td>\n",
       "      <td>3</td>\n",
       "      <td>East Phillips</td>\n",
       "    </tr>\n",
       "    <tr>\n",
       "      <th>29074</th>\n",
       "      <td>19225429</td>\n",
       "      <td>20-303056</td>\n",
       "      <td>2020/12/04 06:07:08+00</td>\n",
       "      <td>Assist a Disabled Person</td>\n",
       "      <td>Bodily Force</td>\n",
       "      <td>Body Weight to Pin</td>\n",
       "      <td>19.0</td>\n",
       "      <td>Tensed</td>\n",
       "      <td>1</td>\n",
       "      <td>Cedar Riverside</td>\n",
       "    </tr>\n",
       "  </tbody>\n",
       "</table>\n",
       "<p>29075 rows × 10 columns</p>\n",
       "</div>"
      ],
      "text/plain": [
       "       Police ID Case Number           Response Date  \\\n",
       "0       19194596   08-007748  2008/01/08 14:20:21+00   \n",
       "1       19194597   08-019047  2008/01/19 23:47:58+00   \n",
       "2       19194598   08-034409  2008/02/04 21:21:49+00   \n",
       "3       19194599   08-043573  2008/02/14 22:03:15+00   \n",
       "4       19194600   08-052540  2008/02/24 02:25:39+00   \n",
       "...          ...         ...                     ...   \n",
       "29070   19225425   20-287806  2020/11/12 14:41:54+00   \n",
       "29071   19225426   20-288772  2020/11/13 21:48:02+00   \n",
       "29072   19225427   20-292656  2020/11/19 15:44:41+00   \n",
       "29073   19225428   20-298833  2020/11/28 08:18:10+00   \n",
       "29074   19225429   20-303056  2020/12/04 06:07:08+00   \n",
       "\n",
       "                     Type of Crime                Type of Force  \\\n",
       "0                     Disturbance                  Bodily Force   \n",
       "1                         On Site                  Bodily Force   \n",
       "2        Property Damage Accident                  Bodily Force   \n",
       "3                 Unwanted Person                  Bodily Force   \n",
       "4                           Fight                  Bodily Force   \n",
       "...                            ...                          ...   \n",
       "29070  Domestic Abuse-In Progress   Maximal Restraint Technique   \n",
       "29071             Unwanted Person                  Bodily Force   \n",
       "29072  Emotionally Disturb Person                         Taser   \n",
       "29073         Motor Vehicle Chase                  Bodily Force   \n",
       "29074    Assist a Disabled Person                  Bodily Force   \n",
       "\n",
       "             Type of Force Action  Event Age     Type of Resistance Precinct  \\\n",
       "0                       Push Away       13.0                 Tensed        4   \n",
       "1                       Push Away       27.0                 Tensed        1   \n",
       "2                      Joint Lock       17.0  Verbal Non-Compliance        4   \n",
       "3              Body Weight to Pin       18.0                 Tensed        4   \n",
       "4                           Knees       28.0    Commission of Crime        1   \n",
       "...                           ...        ...                    ...      ...   \n",
       "29070  Not Side Recovery Position       19.0                  Other        2   \n",
       "29071          Body Weight to Pin       29.0  Verbal Non-Compliance        5   \n",
       "29072                Firing Darts       23.0                  Other        4   \n",
       "29073                   Push Away       31.0        Fled in Vehicle        3   \n",
       "29074          Body Weight to Pin       19.0                 Tensed        1   \n",
       "\n",
       "          Neighborhood  \n",
       "0             Harrison  \n",
       "1        Downtown West  \n",
       "2        Willard - Hay  \n",
       "3       Lind - Bohanon  \n",
       "4        Downtown West  \n",
       "...                ...  \n",
       "29070       Waite Park  \n",
       "29071     Linden Hills  \n",
       "29072    Willard - Hay  \n",
       "29073    East Phillips  \n",
       "29074  Cedar Riverside  \n",
       "\n",
       "[29075 rows x 10 columns]"
      ]
     },
     "execution_count": 8,
     "metadata": {},
     "output_type": "execute_result"
    }
   ],
   "source": [
    "#rename columns in Dataframe\n",
    "clean_df = police_data_df.rename(columns ={\n",
    "    'PoliceUseOfForceID': \"Police ID\",\n",
    "    'CaseNumber': \"Case Number\",\n",
    "    'ResponseDate': \"Response Date\",\n",
    "    'Problem': \"Type of Crime\",\n",
    "    'ForceType': 'Type of Force',\n",
    "    'ForceTypeAction': 'Type of Force Action',\n",
    "    'EventAge': 'Event Age',\n",
    "    'TypeOfResistance': 'Type of Resistance'\n",
    "})\n",
    "#reset the index in DataFrame\n",
    "clean_df.reset_index(drop=True, inplace=True)\n",
    "clean_df"
   ]
  },
  {
   "cell_type": "markdown",
   "metadata": {},
   "source": [
    "# 1. What incidents result the most in police use of force? (Sam)"
   ]
  },
  {
   "cell_type": "code",
   "execution_count": 9,
   "metadata": {},
   "outputs": [
    {
     "data": {
      "text/plain": [
       "count                  29075\n",
       "unique                   131\n",
       "top       Suspicious Person \n",
       "freq                    4845\n",
       "Name: Type of Crime, dtype: object"
      ]
     },
     "execution_count": 9,
     "metadata": {},
     "output_type": "execute_result"
    }
   ],
   "source": [
    "test_data = clean_df[\"Type of Crime\"].describe(include=\"all\")\n",
    "test_data"
   ]
  },
  {
   "cell_type": "code",
   "execution_count": 10,
   "metadata": {},
   "outputs": [
    {
     "data": {
      "text/html": [
       "<div>\n",
       "<style scoped>\n",
       "    .dataframe tbody tr th:only-of-type {\n",
       "        vertical-align: middle;\n",
       "    }\n",
       "\n",
       "    .dataframe tbody tr th {\n",
       "        vertical-align: top;\n",
       "    }\n",
       "\n",
       "    .dataframe thead th {\n",
       "        text-align: right;\n",
       "    }\n",
       "</style>\n",
       "<table border=\"1\" class=\"dataframe\">\n",
       "  <thead>\n",
       "    <tr style=\"text-align: right;\">\n",
       "      <th></th>\n",
       "      <th>Total Count</th>\n",
       "    </tr>\n",
       "    <tr>\n",
       "      <th>Incidents</th>\n",
       "      <th></th>\n",
       "    </tr>\n",
       "  </thead>\n",
       "  <tbody>\n",
       "    <tr>\n",
       "      <th>Suspicious Person</th>\n",
       "      <td>2341</td>\n",
       "    </tr>\n",
       "    <tr>\n",
       "      <th>Fight</th>\n",
       "      <td>1348</td>\n",
       "    </tr>\n",
       "    <tr>\n",
       "      <th>Disturbance</th>\n",
       "      <td>1031</td>\n",
       "    </tr>\n",
       "    <tr>\n",
       "      <th>Domestic Abuse-In Progress</th>\n",
       "      <td>719</td>\n",
       "    </tr>\n",
       "    <tr>\n",
       "      <th>Suspicious Vehicle</th>\n",
       "      <td>570</td>\n",
       "    </tr>\n",
       "  </tbody>\n",
       "</table>\n",
       "</div>"
      ],
      "text/plain": [
       "                             Total Count\n",
       "Incidents                               \n",
       "Suspicious Person                   2341\n",
       "Fight                               1348\n",
       "Disturbance                         1031\n",
       "Domestic Abuse-In Progress           719\n",
       "Suspicious Vehicle                   570"
      ]
     },
     "execution_count": 10,
     "metadata": {},
     "output_type": "execute_result"
    }
   ],
   "source": [
    "incident_data = clean_df.groupby(\"Type of Crime\")\n",
    "total_count = incident_data.nunique()[\"Case Number\"]\n",
    "\n",
    "incidents = pd.DataFrame({\"Total Count\": total_count})\n",
    "top_incidents = incidents.sort_values(\"Total Count\", ascending=False)\n",
    "\n",
    "top_incidents.index.name = \"Incidents\"\n",
    "top_incidents.head()"
   ]
  },
  {
   "cell_type": "code",
   "execution_count": 11,
   "metadata": {},
   "outputs": [
    {
     "data": {
      "text/plain": [
       "Text(0, 0.5, 'Number of Cases')"
      ]
     },
     "execution_count": 11,
     "metadata": {},
     "output_type": "execute_result"
    },
    {
     "data": {
      "image/png": "[encoded data removed]",
      "text/plain": [
       "<Figure size 432x288 with 1 Axes>"
      ]
     },
     "metadata": {
      "needs_background": "light"
     },
     "output_type": "display_data"
    }
   ],
   "source": [
    "top_incidents.head(5)\n",
    "top_incidents.head(5).plot(kind=\"bar\", edgecolor=\"black\", facecolor=\"purple\",fontsize=10)\n",
    "plt.title(\"Top 5 Incidents Resulting in Police Force in Minneapolis, MN\")\n",
    "plt.ylabel(\"Number of Cases\")"
   ]
  },
  {
   "cell_type": "code",
   "execution_count": 12,
   "metadata": {},
   "outputs": [],
   "source": [
    "# Sam's code end here"
   ]
  },
  {
   "cell_type": "markdown",
   "metadata": {},
   "source": [
    "# 2. What type of force is used the most? (Ainash)"
   ]
  },
  {
   "cell_type": "code",
   "execution_count": 13,
   "metadata": {},
   "outputs": [
    {
     "data": {
      "text/plain": [
       "array(['Bodily Force', 'Chemical Irritant', 'Taser', 'Improvised Weapon',\n",
       "       'Baton', 'Police K9 Bite', 'Firearm', 'Less Lethal',\n",
       "       'Gun Point Display', 'Maximal Restraint Technique'], dtype=object)"
      ]
     },
     "execution_count": 13,
     "metadata": {},
     "output_type": "execute_result"
    }
   ],
   "source": [
    "#find all types of force\n",
    "force_type_ainash = clean_df['Type of Force']\n",
    "force_type_ainash.unique()"
   ]
  },
  {
   "cell_type": "code",
   "execution_count": 14,
   "metadata": {},
   "outputs": [],
   "source": [
    "# find the most used types of force\n",
    "force_data_ainash = clean_df[['Type of Force', 'Case Number']]\n",
    "force_data_groupby_ainash = force_data_ainash.groupby('Type of Force')\n",
    "force_data_count_ainash = force_data_groupby_ainash['Type of Force'].count()\n",
    "most_force_type_ainash = pd.DataFrame({'Total Count': force_data_count_ainash})\n",
    "sorted_ainash = most_force_type_ainash.sort_values(['Total Count'], ascending = False)"
   ]
  },
  {
   "cell_type": "code",
   "execution_count": 15,
   "metadata": {},
   "outputs": [
    {
     "data": {
      "image/png": "[encoded data removed]",
      "text/plain": [
       "<Figure size 432x288 with 1 Axes>"
      ]
     },
     "metadata": {
      "needs_background": "light"
     },
     "output_type": "display_data"
    },
    {
     "data": {
      "text/plain": [
       "<Figure size 432x288 with 0 Axes>"
      ]
     },
     "metadata": {},
     "output_type": "display_data"
    }
   ],
   "source": [
    "# create a bar chart to show the Top 5 most used types of force\n",
    "top5_force_bar_ainash = sorted_ainash.head().plot(kind = 'bar', title = 'The Top 5 most used Type of Force by Police in Minneapolis, MN area')\n",
    "top5_force_bar_ainash.set_xlabel ('Type of Force')\n",
    "top5_force_bar_ainash.set_ylabel ('Number of Cases')\n",
    "plt.show()\n",
    "plt.tight_layout()"
   ]
  },
  {
   "cell_type": "code",
   "execution_count": 16,
   "metadata": {},
   "outputs": [
    {
     "data": {
      "text/plain": [
       "41"
      ]
     },
     "execution_count": 16,
     "metadata": {},
     "output_type": "execute_result"
    }
   ],
   "source": [
    "#find all types of force action\n",
    "force_type_action_ainash = clean_df['Type of Force Action']\n",
    "force_type_action_ainash.nunique()"
   ]
  },
  {
   "cell_type": "code",
   "execution_count": 17,
   "metadata": {},
   "outputs": [],
   "source": [
    "# find the most used type of force and its action\n",
    "merged_force_type_data_ainash = clean_df[['Type of Force', 'Type of Force Action', 'Case Number']]\n",
    "merged_force_type_data_ainash = merged_force_type_data_ainash.groupby(['Type of Force', 'Type of Force Action'])\n",
    "merged_force_type = merged_force_type_data_ainash['Type of Force Action'].count()\n",
    "merged_ainash = pd.DataFrame({'Total Count': merged_force_type})\n",
    "sorted_merged_ainash = merged_ainash.sort_values(['Total Count'], ascending = False)"
   ]
  },
  {
   "cell_type": "code",
   "execution_count": 18,
   "metadata": {},
   "outputs": [
    {
     "data": {
      "image/png": "[encoded data removed]",
      "text/plain": [
       "<Figure size 432x288 with 1 Axes>"
      ]
     },
     "metadata": {
      "needs_background": "light"
     },
     "output_type": "display_data"
    },
    {
     "data": {
      "text/plain": [
       "<Figure size 432x288 with 0 Axes>"
      ]
     },
     "metadata": {},
     "output_type": "display_data"
    }
   ],
   "source": [
    "# create a bar chart to show the Top 5 most used types of force and its action\n",
    "top5_merged_bar = sorted_merged_ainash.head().plot(kind = 'bar', title = 'The Top 5 most used Type of Force and it Action by Police in Minneapolis, MN area')\n",
    "top5_merged_bar.set_xlabel ('Type of Force and it Action')\n",
    "top5_merged_bar.set_ylabel ('Number of Cases')\n",
    "plt.show()\n",
    "plt.tight_layout()"
   ]
  },
  {
   "cell_type": "code",
   "execution_count": 19,
   "metadata": {},
   "outputs": [],
   "source": [
    "# drop ages =0\n",
    "age_df = clean_df.loc[clean_df['Event Age'] != 0, :]"
   ]
  },
  {
   "cell_type": "code",
   "execution_count": 20,
   "metadata": {},
   "outputs": [],
   "source": [
    "#create bins for ages\n",
    "bins = [6,9.9,14.9,19.9,29.9,39.9,49.9,59.9,69.9,79.9,89.9]\n",
    "group_names = ['6-10', '11-15', '16-20','21-30','31-40','41-50','51-60', '61-70', '71-80', '81 <']"
   ]
  },
  {
   "cell_type": "code",
   "execution_count": 21,
   "metadata": {},
   "outputs": [
    {
     "name": "stderr",
     "output_type": "stream",
     "text": [
      "C:\\Users\\hills\\anaconda3\\envs\\PythonData\\lib\\site-packages\\ipykernel_launcher.py:1: SettingWithCopyWarning: \n",
      "A value is trying to be set on a copy of a slice from a DataFrame.\n",
      "Try using .loc[row_indexer,col_indexer] = value instead\n",
      "\n",
      "See the caveats in the documentation: https://pandas.pydata.org/pandas-docs/stable/user_guide/indexing.html#returning-a-view-versus-a-copy\n",
      "  \"\"\"Entry point for launching an IPython kernel.\n"
     ]
    }
   ],
   "source": [
    "age_df['Age Groups'] = pd.cut(age_df['Event Age'], bins, labels = group_names, include_lowest = True)"
   ]
  },
  {
   "cell_type": "code",
   "execution_count": 22,
   "metadata": {},
   "outputs": [],
   "source": [
    "age_data_ainash = age_df[['Age Groups', 'Case Number']]\n",
    "age_data_groupby_ainash = age_data_ainash.groupby('Age Groups')\n",
    "age_count_ainash = age_data_groupby_ainash['Age Groups'].count()\n",
    "age_df_ainash = pd.DataFrame({'Total Count': age_count_ainash})"
   ]
  },
  {
   "cell_type": "code",
   "execution_count": 23,
   "metadata": {},
   "outputs": [
    {
     "data": {
      "image/png": "[encoded data removed]",
      "text/plain": [
       "<Figure size 432x288 with 1 Axes>"
      ]
     },
     "metadata": {
      "needs_background": "light"
     },
     "output_type": "display_data"
    },
    {
     "data": {
      "text/plain": [
       "<Figure size 432x288 with 0 Axes>"
      ]
     },
     "metadata": {},
     "output_type": "display_data"
    }
   ],
   "source": [
    "age_bar_ainash = age_df_ainash.plot(kind = 'bar', title = 'Force used by Police in Minneapolis, MN area by Age')\n",
    "top5_force_bar_ainash.set_xlabel ('Age Groups')\n",
    "top5_force_bar_ainash.set_ylabel ('Number of Cases')\n",
    "plt.show()\n",
    "plt.tight_layout()"
   ]
  },
  {
   "cell_type": "markdown",
   "metadata": {},
   "source": [
    "# Types of Force used by Police in Minneapolis,MN Analysis\n",
    "## When analyzing types of Force used by Police in Minneapolis, Minnesota, we observed that:\n",
    "* There are 10 types of Force that Police in Minneapolis, MN use in incidents: Bodily Force, Chemical Irritant, Taser, Improvised Weapon, Baton, Police K9 Bite, Firearm, Less Lethal Projectile, Gun Point Display, Maximal Restraint Technique. From these force types, the five most commonly used by law enforcement officers in Minneapolis are: Bodily Force (21212 cases among analyzed data), Chemical Irritant (3780 cases), Taser(2757 cases), Gun Point Display (436 cases) and Improvised weapon (343 cases).\n",
    "* Types of Force also have sub-categories that are called Types of Force Action. Our data includes 41 types of Force Action. The Top 5 most used Types of Force Action by Police in Minneapolis, MN area are Body Weight to Pin (Bodily Force type), Punches (Bodily Force type), Joint Lock (Bodily Force type), Personal Mace (Chemical Irritant type) and Push Away (Bodily Force type).\n",
    "* We also decided to analyze the police cases by Age Groups. After analysis of Force Police used by Age Groups, we observed that most commonly, the most force is used on people between age 21-30. "
   ]
  },
  {
   "cell_type": "code",
   "execution_count": null,
   "metadata": {},
   "outputs": [],
   "source": []
  },
  {
   "cell_type": "code",
   "execution_count": 24,
   "metadata": {},
   "outputs": [],
   "source": [
    "# Ainash code ends here"
   ]
  },
  {
   "cell_type": "markdown",
   "metadata": {},
   "source": [
    "# 3. Which is the most popular type of resistance? (Humera)"
   ]
  },
  {
   "cell_type": "markdown",
   "metadata": {},
   "source": [
    "# Most popular type of Resistance"
   ]
  },
  {
   "cell_type": "code",
   "execution_count": 25,
   "metadata": {},
   "outputs": [],
   "source": [
    "# find the most used force type\n",
    "force_type_data_ainash = clean_df[['Type of Force', 'Case Number']]\n",
    "force_type_data_ainash = force_type_data_ainash.groupby('Type of Force')\n",
    "force_type = force_type_data_ainash['Type of Force'].count()\n",
    "force_type_data = pd.DataFrame({'Total Count': force_type})\n",
    "sorted_force = force_type_data.sort_values(['Total Count'], ascending = False)\n",
    "\n"
   ]
  },
  {
   "cell_type": "code",
   "execution_count": 26,
   "metadata": {},
   "outputs": [
    {
     "ename": "SyntaxError",
     "evalue": "invalid syntax (<ipython-input-26-a75780bc5af6>, line 8)",
     "output_type": "error",
     "traceback": [
      "\u001b[1;36m  File \u001b[1;32m\"<ipython-input-26-a75780bc5af6>\"\u001b[1;36m, line \u001b[1;32m8\u001b[0m\n\u001b[1;33m    plt.tight_layout()resistance_data = clean_df.groupby(\"TypeOfResistance\")\u001b[0m\n\u001b[1;37m                                    ^\u001b[0m\n\u001b[1;31mSyntaxError\u001b[0m\u001b[1;31m:\u001b[0m invalid syntax\n"
     ]
    }
   ],
   "source": [
    "incident_data = clean_df.groupby(\"Type of Crime\")\n",
    "total_count = incident_data.nunique()[\"CaseNumber\"]\n",
    "# create a bar chart to show the most used force type\n",
    "force_bar = sorted_force.plot(kind = 'bar', title = 'Used Type of Force by Police in Minneapolis, MN area')\n",
    "force_bar.set_xlabel ('Type of Force')\n",
    "force_bar.set_ylabel ('Number of Cases')\n",
    "plt.show()\n",
    "plt.tight_layout()resistance_data = clean_df.groupby(\"TypeOfResistance\")\n",
    "total_count = resistance_data.nunique()[\"CaseNumber\"]\n",
    "\n",
    "resistance = pd.DataFrame({\"Total Count\": total_count})\n",
    "resistance_case_no = resistance.sort_values(\"Total Count\", ascending=False)\n",
    "\n",
    "resistance_case_no.index.name = \"TypeOfResistance\"\n",
    "resistance_case_no.head()"
   ]
  },
  {
   "cell_type": "code",
   "execution_count": 27,
   "metadata": {},
   "outputs": [
    {
     "ename": "NameError",
     "evalue": "name 'resistance_case_no' is not defined",
     "output_type": "error",
     "traceback": [
      "\u001b[1;31m---------------------------------------------------------------------------\u001b[0m",
      "\u001b[1;31mNameError\u001b[0m                                 Traceback (most recent call last)",
      "\u001b[1;32m<ipython-input-27-c78a7b3dd753>\u001b[0m in \u001b[0;36m<module>\u001b[1;34m\u001b[0m\n\u001b[1;32m----> 1\u001b[1;33m \u001b[0mresistance_case_no\u001b[0m\u001b[1;33m.\u001b[0m\u001b[0mhead\u001b[0m\u001b[1;33m(\u001b[0m\u001b[1;36m6\u001b[0m\u001b[1;33m)\u001b[0m\u001b[1;33m.\u001b[0m\u001b[0mplot\u001b[0m\u001b[1;33m(\u001b[0m\u001b[0mkind\u001b[0m\u001b[1;33m=\u001b[0m\u001b[1;34m\"bar\"\u001b[0m\u001b[1;33m,\u001b[0m\u001b[0medgecolor\u001b[0m\u001b[1;33m=\u001b[0m\u001b[1;34m\"black\"\u001b[0m\u001b[1;33m,\u001b[0m \u001b[0mfigsize\u001b[0m\u001b[1;33m=\u001b[0m\u001b[1;33m(\u001b[0m\u001b[1;36m8\u001b[0m\u001b[1;33m,\u001b[0m \u001b[1;36m8\u001b[0m\u001b[1;33m)\u001b[0m\u001b[1;33m,\u001b[0m\u001b[0mfacecolor\u001b[0m\u001b[1;33m=\u001b[0m\u001b[1;34m\"blue\"\u001b[0m\u001b[1;33m,\u001b[0m \u001b[0mfontsize\u001b[0m\u001b[1;33m=\u001b[0m\u001b[1;36m10\u001b[0m\u001b[1;33m)\u001b[0m\u001b[1;33m\u001b[0m\u001b[1;33m\u001b[0m\u001b[0m\n\u001b[0m\u001b[0;32m      2\u001b[0m \u001b[0mplt\u001b[0m\u001b[1;33m.\u001b[0m\u001b[0mtitle\u001b[0m\u001b[1;33m(\u001b[0m\u001b[1;34m\"Type of Resistance Resulting in Use of Police Force in Minneapolis\"\u001b[0m\u001b[1;33m)\u001b[0m\u001b[1;33m\u001b[0m\u001b[1;33m\u001b[0m\u001b[0m\n\u001b[0;32m      3\u001b[0m \u001b[0mplt\u001b[0m\u001b[1;33m.\u001b[0m\u001b[0mylabel\u001b[0m\u001b[1;33m(\u001b[0m\u001b[1;34m\"Number of Cases\"\u001b[0m\u001b[1;33m,\u001b[0m \u001b[0mfontsize\u001b[0m\u001b[1;33m=\u001b[0m\u001b[1;36m12\u001b[0m\u001b[1;33m)\u001b[0m\u001b[1;33m\u001b[0m\u001b[1;33m\u001b[0m\u001b[0m\n\u001b[0;32m      4\u001b[0m \u001b[0mplt\u001b[0m\u001b[1;33m.\u001b[0m\u001b[0mxlabel\u001b[0m\u001b[1;33m(\u001b[0m\u001b[1;34m\"Type of Resistance\"\u001b[0m\u001b[1;33m,\u001b[0m \u001b[0mfontsize\u001b[0m\u001b[1;33m=\u001b[0m\u001b[1;36m12\u001b[0m\u001b[1;33m)\u001b[0m\u001b[1;33m\u001b[0m\u001b[1;33m\u001b[0m\u001b[0m\n\u001b[0;32m      5\u001b[0m \u001b[0mplt\u001b[0m\u001b[1;33m.\u001b[0m\u001b[0mtight_layout\u001b[0m\u001b[1;33m(\u001b[0m\u001b[1;33m)\u001b[0m\u001b[1;33m\u001b[0m\u001b[1;33m\u001b[0m\u001b[0m\n",
      "\u001b[1;31mNameError\u001b[0m: name 'resistance_case_no' is not defined"
     ]
    }
   ],
   "source": [
    "resistance_case_no.head(6).plot(kind=\"bar\",edgecolor=\"black\", figsize=(8, 8),facecolor=\"blue\", fontsize=10)\n",
    "plt.title(\"Type of Resistance Resulting in Use of Police Force in Minneapolis\")\n",
    "plt.ylabel(\"Number of Cases\", fontsize=12)\n",
    "plt.xlabel(\"Type of Resistance\", fontsize=12)\n",
    "plt.tight_layout()\n",
    "plt.show()"
   ]
  },
  {
   "cell_type": "code",
   "execution_count": 28,
   "metadata": {},
   "outputs": [
    {
     "ename": "NameError",
     "evalue": "name 'resistance_case_no' is not defined",
     "output_type": "error",
     "traceback": [
      "\u001b[1;31m---------------------------------------------------------------------------\u001b[0m",
      "\u001b[1;31mNameError\u001b[0m                                 Traceback (most recent call last)",
      "\u001b[1;32m<ipython-input-28-943b8b8be0a3>\u001b[0m in \u001b[0;36m<module>\u001b[1;34m\u001b[0m\n\u001b[0;32m      2\u001b[0m \u001b[0mcolors\u001b[0m \u001b[1;33m=\u001b[0m \u001b[1;33m[\u001b[0m\u001b[1;34m'gold'\u001b[0m\u001b[1;33m,\u001b[0m \u001b[1;34m'red'\u001b[0m\u001b[1;33m,\u001b[0m \u001b[1;34m'pink'\u001b[0m\u001b[1;33m,\u001b[0m \u001b[1;34m'blue'\u001b[0m\u001b[1;33m,\u001b[0m \u001b[1;34m'lightskyblue'\u001b[0m\u001b[1;33m]\u001b[0m\u001b[1;33m\u001b[0m\u001b[1;33m\u001b[0m\u001b[0m\n\u001b[0;32m      3\u001b[0m \u001b[0mexplode\u001b[0m \u001b[1;33m=\u001b[0m \u001b[1;33m(\u001b[0m\u001b[1;36m0.1\u001b[0m\u001b[1;33m,\u001b[0m \u001b[1;36m0\u001b[0m\u001b[1;33m,\u001b[0m \u001b[1;36m0\u001b[0m\u001b[1;33m,\u001b[0m \u001b[1;36m0\u001b[0m\u001b[1;33m,\u001b[0m \u001b[1;36m0\u001b[0m\u001b[1;33m)\u001b[0m\u001b[1;33m\u001b[0m\u001b[1;33m\u001b[0m\u001b[0m\n\u001b[1;32m----> 4\u001b[1;33m \u001b[0mresistance_case_no\u001b[0m\u001b[1;33m.\u001b[0m\u001b[0mhead\u001b[0m\u001b[1;33m(\u001b[0m\u001b[1;36m5\u001b[0m\u001b[1;33m)\u001b[0m\u001b[1;33m.\u001b[0m\u001b[0mplot\u001b[0m\u001b[1;33m(\u001b[0m\u001b[0mkind\u001b[0m\u001b[1;33m=\u001b[0m\u001b[1;34m\"pie\"\u001b[0m\u001b[1;33m,\u001b[0m\u001b[0mexplode\u001b[0m\u001b[1;33m=\u001b[0m\u001b[0mexplode\u001b[0m\u001b[1;33m,\u001b[0m \u001b[0mcolors\u001b[0m\u001b[1;33m=\u001b[0m\u001b[0mcolors\u001b[0m\u001b[1;33m,\u001b[0m \u001b[0mautopct\u001b[0m\u001b[1;33m=\u001b[0m \u001b[1;34m\"%1.1f%%\"\u001b[0m\u001b[1;33m,\u001b[0m \u001b[0msubplots\u001b[0m\u001b[1;33m=\u001b[0m\u001b[1;34m\"False\"\u001b[0m\u001b[1;33m,\u001b[0m \u001b[0mshadow\u001b[0m\u001b[1;33m=\u001b[0m\u001b[1;32mTrue\u001b[0m\u001b[1;33m,\u001b[0m \u001b[0mstartangle\u001b[0m\u001b[1;33m=\u001b[0m\u001b[1;36m150\u001b[0m \u001b[1;33m)\u001b[0m\u001b[1;33m\u001b[0m\u001b[1;33m\u001b[0m\u001b[0m\n\u001b[0m\u001b[0;32m      5\u001b[0m \u001b[0mplt\u001b[0m\u001b[1;33m.\u001b[0m\u001b[0mtitle\u001b[0m\u001b[1;33m(\u001b[0m\u001b[1;34m'Top 5 - Type of Resistance Resulting in Use of Police Force in Minneapolis'\u001b[0m\u001b[1;33m,\u001b[0m \u001b[0mfontsize\u001b[0m\u001b[1;33m=\u001b[0m\u001b[1;36m10\u001b[0m\u001b[1;33m)\u001b[0m\u001b[1;33m\u001b[0m\u001b[1;33m\u001b[0m\u001b[0m\n\u001b[0;32m      6\u001b[0m \u001b[0mplt\u001b[0m\u001b[1;33m.\u001b[0m\u001b[0maxis\u001b[0m\u001b[1;33m(\u001b[0m\u001b[1;34m'equal'\u001b[0m\u001b[1;33m)\u001b[0m\u001b[1;33m\u001b[0m\u001b[1;33m\u001b[0m\u001b[0m\n",
      "\u001b[1;31mNameError\u001b[0m: name 'resistance_case_no' is not defined"
     ]
    }
   ],
   "source": [
    "#Pie chart\n",
    "colors = ['gold', 'red', 'pink', 'blue', 'lightskyblue']\n",
    "explode = (0.1, 0, 0, 0, 0)\n",
    "resistance_case_no.head(5).plot(kind=\"pie\",explode=explode, colors=colors, autopct= \"%1.1f%%\", subplots=\"False\", shadow=True, startangle=150 )\n",
    "plt.title('Top 5 - Type of Resistance Resulting in Use of Police Force in Minneapolis', fontsize=10)\n",
    "plt.axis('equal')\n",
    "plt.tight_layout()\n",
    "plt.show()"
   ]
  },
  {
   "cell_type": "markdown",
   "metadata": {},
   "source": [
    "# Force Type of Action used by Police Force in Minneapolis"
   ]
  },
  {
   "cell_type": "code",
   "execution_count": 29,
   "metadata": {},
   "outputs": [
    {
     "ename": "KeyError",
     "evalue": "'ForceTypeAction'",
     "output_type": "error",
     "traceback": [
      "\u001b[1;31m---------------------------------------------------------------------------\u001b[0m",
      "\u001b[1;31mKeyError\u001b[0m                                  Traceback (most recent call last)",
      "\u001b[1;32m~\\anaconda3\\envs\\PythonData\\lib\\site-packages\\pandas\\core\\indexes\\base.py\u001b[0m in \u001b[0;36mget_loc\u001b[1;34m(self, key, method, tolerance)\u001b[0m\n\u001b[0;32m   2645\u001b[0m             \u001b[1;32mtry\u001b[0m\u001b[1;33m:\u001b[0m\u001b[1;33m\u001b[0m\u001b[1;33m\u001b[0m\u001b[0m\n\u001b[1;32m-> 2646\u001b[1;33m                 \u001b[1;32mreturn\u001b[0m \u001b[0mself\u001b[0m\u001b[1;33m.\u001b[0m\u001b[0m_engine\u001b[0m\u001b[1;33m.\u001b[0m\u001b[0mget_loc\u001b[0m\u001b[1;33m(\u001b[0m\u001b[0mkey\u001b[0m\u001b[1;33m)\u001b[0m\u001b[1;33m\u001b[0m\u001b[1;33m\u001b[0m\u001b[0m\n\u001b[0m\u001b[0;32m   2647\u001b[0m             \u001b[1;32mexcept\u001b[0m \u001b[0mKeyError\u001b[0m\u001b[1;33m:\u001b[0m\u001b[1;33m\u001b[0m\u001b[1;33m\u001b[0m\u001b[0m\n",
      "\u001b[1;32mpandas\\_libs\\index.pyx\u001b[0m in \u001b[0;36mpandas._libs.index.IndexEngine.get_loc\u001b[1;34m()\u001b[0m\n",
      "\u001b[1;32mpandas\\_libs\\index.pyx\u001b[0m in \u001b[0;36mpandas._libs.index.IndexEngine.get_loc\u001b[1;34m()\u001b[0m\n",
      "\u001b[1;32mpandas\\_libs\\hashtable_class_helper.pxi\u001b[0m in \u001b[0;36mpandas._libs.hashtable.PyObjectHashTable.get_item\u001b[1;34m()\u001b[0m\n",
      "\u001b[1;32mpandas\\_libs\\hashtable_class_helper.pxi\u001b[0m in \u001b[0;36mpandas._libs.hashtable.PyObjectHashTable.get_item\u001b[1;34m()\u001b[0m\n",
      "\u001b[1;31mKeyError\u001b[0m: 'ForceTypeAction'",
      "\nDuring handling of the above exception, another exception occurred:\n",
      "\u001b[1;31mKeyError\u001b[0m                                  Traceback (most recent call last)",
      "\u001b[1;32m<ipython-input-29-26f901a0e630>\u001b[0m in \u001b[0;36m<module>\u001b[1;34m\u001b[0m\n\u001b[1;32m----> 1\u001b[1;33m \u001b[0mpopular_data\u001b[0m \u001b[1;33m=\u001b[0m \u001b[0mclean_df\u001b[0m\u001b[1;33m[\u001b[0m\u001b[1;34m\"ForceTypeAction\"\u001b[0m\u001b[1;33m]\u001b[0m\u001b[1;33m.\u001b[0m\u001b[0mdescribe\u001b[0m\u001b[1;33m(\u001b[0m\u001b[0minclude\u001b[0m\u001b[1;33m=\u001b[0m \u001b[1;34m\"all\"\u001b[0m\u001b[1;33m)\u001b[0m\u001b[1;33m\u001b[0m\u001b[1;33m\u001b[0m\u001b[0m\n\u001b[0m\u001b[0;32m      2\u001b[0m \u001b[0mpopular_data\u001b[0m\u001b[1;33m\u001b[0m\u001b[1;33m\u001b[0m\u001b[0m\n",
      "\u001b[1;32m~\\anaconda3\\envs\\PythonData\\lib\\site-packages\\pandas\\core\\frame.py\u001b[0m in \u001b[0;36m__getitem__\u001b[1;34m(self, key)\u001b[0m\n\u001b[0;32m   2798\u001b[0m             \u001b[1;32mif\u001b[0m \u001b[0mself\u001b[0m\u001b[1;33m.\u001b[0m\u001b[0mcolumns\u001b[0m\u001b[1;33m.\u001b[0m\u001b[0mnlevels\u001b[0m \u001b[1;33m>\u001b[0m \u001b[1;36m1\u001b[0m\u001b[1;33m:\u001b[0m\u001b[1;33m\u001b[0m\u001b[1;33m\u001b[0m\u001b[0m\n\u001b[0;32m   2799\u001b[0m                 \u001b[1;32mreturn\u001b[0m \u001b[0mself\u001b[0m\u001b[1;33m.\u001b[0m\u001b[0m_getitem_multilevel\u001b[0m\u001b[1;33m(\u001b[0m\u001b[0mkey\u001b[0m\u001b[1;33m)\u001b[0m\u001b[1;33m\u001b[0m\u001b[1;33m\u001b[0m\u001b[0m\n\u001b[1;32m-> 2800\u001b[1;33m             \u001b[0mindexer\u001b[0m \u001b[1;33m=\u001b[0m \u001b[0mself\u001b[0m\u001b[1;33m.\u001b[0m\u001b[0mcolumns\u001b[0m\u001b[1;33m.\u001b[0m\u001b[0mget_loc\u001b[0m\u001b[1;33m(\u001b[0m\u001b[0mkey\u001b[0m\u001b[1;33m)\u001b[0m\u001b[1;33m\u001b[0m\u001b[1;33m\u001b[0m\u001b[0m\n\u001b[0m\u001b[0;32m   2801\u001b[0m             \u001b[1;32mif\u001b[0m \u001b[0mis_integer\u001b[0m\u001b[1;33m(\u001b[0m\u001b[0mindexer\u001b[0m\u001b[1;33m)\u001b[0m\u001b[1;33m:\u001b[0m\u001b[1;33m\u001b[0m\u001b[1;33m\u001b[0m\u001b[0m\n\u001b[0;32m   2802\u001b[0m                 \u001b[0mindexer\u001b[0m \u001b[1;33m=\u001b[0m \u001b[1;33m[\u001b[0m\u001b[0mindexer\u001b[0m\u001b[1;33m]\u001b[0m\u001b[1;33m\u001b[0m\u001b[1;33m\u001b[0m\u001b[0m\n",
      "\u001b[1;32m~\\anaconda3\\envs\\PythonData\\lib\\site-packages\\pandas\\core\\indexes\\base.py\u001b[0m in \u001b[0;36mget_loc\u001b[1;34m(self, key, method, tolerance)\u001b[0m\n\u001b[0;32m   2646\u001b[0m                 \u001b[1;32mreturn\u001b[0m \u001b[0mself\u001b[0m\u001b[1;33m.\u001b[0m\u001b[0m_engine\u001b[0m\u001b[1;33m.\u001b[0m\u001b[0mget_loc\u001b[0m\u001b[1;33m(\u001b[0m\u001b[0mkey\u001b[0m\u001b[1;33m)\u001b[0m\u001b[1;33m\u001b[0m\u001b[1;33m\u001b[0m\u001b[0m\n\u001b[0;32m   2647\u001b[0m             \u001b[1;32mexcept\u001b[0m \u001b[0mKeyError\u001b[0m\u001b[1;33m:\u001b[0m\u001b[1;33m\u001b[0m\u001b[1;33m\u001b[0m\u001b[0m\n\u001b[1;32m-> 2648\u001b[1;33m                 \u001b[1;32mreturn\u001b[0m \u001b[0mself\u001b[0m\u001b[1;33m.\u001b[0m\u001b[0m_engine\u001b[0m\u001b[1;33m.\u001b[0m\u001b[0mget_loc\u001b[0m\u001b[1;33m(\u001b[0m\u001b[0mself\u001b[0m\u001b[1;33m.\u001b[0m\u001b[0m_maybe_cast_indexer\u001b[0m\u001b[1;33m(\u001b[0m\u001b[0mkey\u001b[0m\u001b[1;33m)\u001b[0m\u001b[1;33m)\u001b[0m\u001b[1;33m\u001b[0m\u001b[1;33m\u001b[0m\u001b[0m\n\u001b[0m\u001b[0;32m   2649\u001b[0m         \u001b[0mindexer\u001b[0m \u001b[1;33m=\u001b[0m \u001b[0mself\u001b[0m\u001b[1;33m.\u001b[0m\u001b[0mget_indexer\u001b[0m\u001b[1;33m(\u001b[0m\u001b[1;33m[\u001b[0m\u001b[0mkey\u001b[0m\u001b[1;33m]\u001b[0m\u001b[1;33m,\u001b[0m \u001b[0mmethod\u001b[0m\u001b[1;33m=\u001b[0m\u001b[0mmethod\u001b[0m\u001b[1;33m,\u001b[0m \u001b[0mtolerance\u001b[0m\u001b[1;33m=\u001b[0m\u001b[0mtolerance\u001b[0m\u001b[1;33m)\u001b[0m\u001b[1;33m\u001b[0m\u001b[1;33m\u001b[0m\u001b[0m\n\u001b[0;32m   2650\u001b[0m         \u001b[1;32mif\u001b[0m \u001b[0mindexer\u001b[0m\u001b[1;33m.\u001b[0m\u001b[0mndim\u001b[0m \u001b[1;33m>\u001b[0m \u001b[1;36m1\u001b[0m \u001b[1;32mor\u001b[0m \u001b[0mindexer\u001b[0m\u001b[1;33m.\u001b[0m\u001b[0msize\u001b[0m \u001b[1;33m>\u001b[0m \u001b[1;36m1\u001b[0m\u001b[1;33m:\u001b[0m\u001b[1;33m\u001b[0m\u001b[1;33m\u001b[0m\u001b[0m\n",
      "\u001b[1;32mpandas\\_libs\\index.pyx\u001b[0m in \u001b[0;36mpandas._libs.index.IndexEngine.get_loc\u001b[1;34m()\u001b[0m\n",
      "\u001b[1;32mpandas\\_libs\\index.pyx\u001b[0m in \u001b[0;36mpandas._libs.index.IndexEngine.get_loc\u001b[1;34m()\u001b[0m\n",
      "\u001b[1;32mpandas\\_libs\\hashtable_class_helper.pxi\u001b[0m in \u001b[0;36mpandas._libs.hashtable.PyObjectHashTable.get_item\u001b[1;34m()\u001b[0m\n",
      "\u001b[1;32mpandas\\_libs\\hashtable_class_helper.pxi\u001b[0m in \u001b[0;36mpandas._libs.hashtable.PyObjectHashTable.get_item\u001b[1;34m()\u001b[0m\n",
      "\u001b[1;31mKeyError\u001b[0m: 'ForceTypeAction'"
     ]
    }
   ],
   "source": [
    "popular_data = clean_df[\"ForceTypeAction\"].describe(include= \"all\")\n",
    "popular_data"
   ]
  },
  {
   "cell_type": "code",
   "execution_count": 30,
   "metadata": {},
   "outputs": [
    {
     "ename": "KeyError",
     "evalue": "'ForceTypeAction'",
     "output_type": "error",
     "traceback": [
      "\u001b[1;31m---------------------------------------------------------------------------\u001b[0m",
      "\u001b[1;31mKeyError\u001b[0m                                  Traceback (most recent call last)",
      "\u001b[1;32m<ipython-input-30-7c8f384d1304>\u001b[0m in \u001b[0;36m<module>\u001b[1;34m\u001b[0m\n\u001b[1;32m----> 1\u001b[1;33m \u001b[0mforcetype_data\u001b[0m \u001b[1;33m=\u001b[0m \u001b[0mclean_df\u001b[0m\u001b[1;33m.\u001b[0m\u001b[0mgroupby\u001b[0m\u001b[1;33m(\u001b[0m\u001b[1;34m\"ForceTypeAction\"\u001b[0m\u001b[1;33m)\u001b[0m\u001b[1;33m\u001b[0m\u001b[1;33m\u001b[0m\u001b[0m\n\u001b[0m\u001b[0;32m      2\u001b[0m \u001b[0mtotal_count\u001b[0m \u001b[1;33m=\u001b[0m \u001b[0mforcetype_data\u001b[0m\u001b[1;33m.\u001b[0m\u001b[0mnunique\u001b[0m\u001b[1;33m(\u001b[0m\u001b[1;33m)\u001b[0m\u001b[1;33m[\u001b[0m\u001b[1;34m\"CaseNumber\"\u001b[0m\u001b[1;33m]\u001b[0m\u001b[1;33m\u001b[0m\u001b[1;33m\u001b[0m\u001b[0m\n\u001b[0;32m      3\u001b[0m \u001b[1;33m\u001b[0m\u001b[0m\n\u001b[0;32m      4\u001b[0m \u001b[0mforcetype\u001b[0m \u001b[1;33m=\u001b[0m \u001b[0mpd\u001b[0m\u001b[1;33m.\u001b[0m\u001b[0mDataFrame\u001b[0m\u001b[1;33m(\u001b[0m\u001b[1;33m{\u001b[0m\u001b[1;34m\"Total Count\"\u001b[0m\u001b[1;33m:\u001b[0m \u001b[0mtotal_count\u001b[0m\u001b[1;33m}\u001b[0m\u001b[1;33m)\u001b[0m\u001b[1;33m\u001b[0m\u001b[1;33m\u001b[0m\u001b[0m\n\u001b[0;32m      5\u001b[0m \u001b[0mforcetype_case_no\u001b[0m \u001b[1;33m=\u001b[0m \u001b[0mforcetype\u001b[0m\u001b[1;33m.\u001b[0m\u001b[0msort_values\u001b[0m\u001b[1;33m(\u001b[0m\u001b[1;34m\"Total Count\"\u001b[0m\u001b[1;33m,\u001b[0m \u001b[0mascending\u001b[0m\u001b[1;33m=\u001b[0m\u001b[1;32mFalse\u001b[0m\u001b[1;33m)\u001b[0m\u001b[1;33m\u001b[0m\u001b[1;33m\u001b[0m\u001b[0m\n",
      "\u001b[1;32m~\\anaconda3\\envs\\PythonData\\lib\\site-packages\\pandas\\core\\frame.py\u001b[0m in \u001b[0;36mgroupby\u001b[1;34m(self, by, axis, level, as_index, sort, group_keys, squeeze, observed)\u001b[0m\n\u001b[0;32m   5808\u001b[0m             \u001b[0mgroup_keys\u001b[0m\u001b[1;33m=\u001b[0m\u001b[0mgroup_keys\u001b[0m\u001b[1;33m,\u001b[0m\u001b[1;33m\u001b[0m\u001b[1;33m\u001b[0m\u001b[0m\n\u001b[0;32m   5809\u001b[0m             \u001b[0msqueeze\u001b[0m\u001b[1;33m=\u001b[0m\u001b[0msqueeze\u001b[0m\u001b[1;33m,\u001b[0m\u001b[1;33m\u001b[0m\u001b[1;33m\u001b[0m\u001b[0m\n\u001b[1;32m-> 5810\u001b[1;33m             \u001b[0mobserved\u001b[0m\u001b[1;33m=\u001b[0m\u001b[0mobserved\u001b[0m\u001b[1;33m,\u001b[0m\u001b[1;33m\u001b[0m\u001b[1;33m\u001b[0m\u001b[0m\n\u001b[0m\u001b[0;32m   5811\u001b[0m         )\n\u001b[0;32m   5812\u001b[0m \u001b[1;33m\u001b[0m\u001b[0m\n",
      "\u001b[1;32m~\\anaconda3\\envs\\PythonData\\lib\\site-packages\\pandas\\core\\groupby\\groupby.py\u001b[0m in \u001b[0;36m__init__\u001b[1;34m(self, obj, keys, axis, level, grouper, exclusions, selection, as_index, sort, group_keys, squeeze, observed, mutated)\u001b[0m\n\u001b[0;32m    408\u001b[0m                 \u001b[0msort\u001b[0m\u001b[1;33m=\u001b[0m\u001b[0msort\u001b[0m\u001b[1;33m,\u001b[0m\u001b[1;33m\u001b[0m\u001b[1;33m\u001b[0m\u001b[0m\n\u001b[0;32m    409\u001b[0m                 \u001b[0mobserved\u001b[0m\u001b[1;33m=\u001b[0m\u001b[0mobserved\u001b[0m\u001b[1;33m,\u001b[0m\u001b[1;33m\u001b[0m\u001b[1;33m\u001b[0m\u001b[0m\n\u001b[1;32m--> 410\u001b[1;33m                 \u001b[0mmutated\u001b[0m\u001b[1;33m=\u001b[0m\u001b[0mself\u001b[0m\u001b[1;33m.\u001b[0m\u001b[0mmutated\u001b[0m\u001b[1;33m,\u001b[0m\u001b[1;33m\u001b[0m\u001b[1;33m\u001b[0m\u001b[0m\n\u001b[0m\u001b[0;32m    411\u001b[0m             )\n\u001b[0;32m    412\u001b[0m \u001b[1;33m\u001b[0m\u001b[0m\n",
      "\u001b[1;32m~\\anaconda3\\envs\\PythonData\\lib\\site-packages\\pandas\\core\\groupby\\grouper.py\u001b[0m in \u001b[0;36mget_grouper\u001b[1;34m(obj, key, axis, level, sort, observed, mutated, validate)\u001b[0m\n\u001b[0;32m    598\u001b[0m                 \u001b[0min_axis\u001b[0m\u001b[1;33m,\u001b[0m \u001b[0mname\u001b[0m\u001b[1;33m,\u001b[0m \u001b[0mlevel\u001b[0m\u001b[1;33m,\u001b[0m \u001b[0mgpr\u001b[0m \u001b[1;33m=\u001b[0m \u001b[1;32mFalse\u001b[0m\u001b[1;33m,\u001b[0m \u001b[1;32mNone\u001b[0m\u001b[1;33m,\u001b[0m \u001b[0mgpr\u001b[0m\u001b[1;33m,\u001b[0m \u001b[1;32mNone\u001b[0m\u001b[1;33m\u001b[0m\u001b[1;33m\u001b[0m\u001b[0m\n\u001b[0;32m    599\u001b[0m             \u001b[1;32melse\u001b[0m\u001b[1;33m:\u001b[0m\u001b[1;33m\u001b[0m\u001b[1;33m\u001b[0m\u001b[0m\n\u001b[1;32m--> 600\u001b[1;33m                 \u001b[1;32mraise\u001b[0m \u001b[0mKeyError\u001b[0m\u001b[1;33m(\u001b[0m\u001b[0mgpr\u001b[0m\u001b[1;33m)\u001b[0m\u001b[1;33m\u001b[0m\u001b[1;33m\u001b[0m\u001b[0m\n\u001b[0m\u001b[0;32m    601\u001b[0m         \u001b[1;32melif\u001b[0m \u001b[0misinstance\u001b[0m\u001b[1;33m(\u001b[0m\u001b[0mgpr\u001b[0m\u001b[1;33m,\u001b[0m \u001b[0mGrouper\u001b[0m\u001b[1;33m)\u001b[0m \u001b[1;32mand\u001b[0m \u001b[0mgpr\u001b[0m\u001b[1;33m.\u001b[0m\u001b[0mkey\u001b[0m \u001b[1;32mis\u001b[0m \u001b[1;32mnot\u001b[0m \u001b[1;32mNone\u001b[0m\u001b[1;33m:\u001b[0m\u001b[1;33m\u001b[0m\u001b[1;33m\u001b[0m\u001b[0m\n\u001b[0;32m    602\u001b[0m             \u001b[1;31m# Add key to exclusions\u001b[0m\u001b[1;33m\u001b[0m\u001b[1;33m\u001b[0m\u001b[1;33m\u001b[0m\u001b[0m\n",
      "\u001b[1;31mKeyError\u001b[0m: 'ForceTypeAction'"
     ]
    }
   ],
   "source": [
    "forcetype_data = clean_df.groupby(\"ForceTypeAction\")\n",
    "total_count = forcetype_data.nunique()[\"CaseNumber\"]\n",
    "\n",
    "forcetype = pd.DataFrame({\"Total Count\": total_count})\n",
    "forcetype_case_no = forcetype.sort_values(\"Total Count\", ascending=False)\n",
    "\n",
    "forcetype_case_no.index.name = \"ForceTypeAction\"\n",
    "forcetype_case_no.head()"
   ]
  },
  {
   "cell_type": "code",
   "execution_count": 31,
   "metadata": {},
   "outputs": [
    {
     "ename": "NameError",
     "evalue": "name 'forcetype_case_no' is not defined",
     "output_type": "error",
     "traceback": [
      "\u001b[1;31m---------------------------------------------------------------------------\u001b[0m",
      "\u001b[1;31mNameError\u001b[0m                                 Traceback (most recent call last)",
      "\u001b[1;32m<ipython-input-31-e142875d78a3>\u001b[0m in \u001b[0;36m<module>\u001b[1;34m\u001b[0m\n\u001b[1;32m----> 1\u001b[1;33m \u001b[0mforcetype_case_no\u001b[0m\u001b[1;33m.\u001b[0m\u001b[0mhead\u001b[0m\u001b[1;33m(\u001b[0m\u001b[1;36m5\u001b[0m\u001b[1;33m)\u001b[0m\u001b[1;33m\u001b[0m\u001b[1;33m\u001b[0m\u001b[0m\n\u001b[0m\u001b[0;32m      2\u001b[0m \u001b[0mforcetype_case_no\u001b[0m\u001b[1;33m.\u001b[0m\u001b[0mhead\u001b[0m\u001b[1;33m(\u001b[0m\u001b[1;36m10\u001b[0m\u001b[1;33m)\u001b[0m\u001b[1;33m.\u001b[0m\u001b[0mplot\u001b[0m\u001b[1;33m(\u001b[0m\u001b[0mkind\u001b[0m\u001b[1;33m=\u001b[0m\u001b[1;34m\"barh\"\u001b[0m\u001b[1;33m,\u001b[0m\u001b[0medgecolor\u001b[0m\u001b[1;33m=\u001b[0m\u001b[1;34m\"black\"\u001b[0m\u001b[1;33m,\u001b[0m \u001b[0mfacecolor\u001b[0m\u001b[1;33m=\u001b[0m\u001b[1;34m\"red\"\u001b[0m\u001b[1;33m,\u001b[0m \u001b[0mfontsize\u001b[0m\u001b[1;33m=\u001b[0m\u001b[1;36m12\u001b[0m\u001b[1;33m,\u001b[0m \u001b[0malign\u001b[0m\u001b[1;33m=\u001b[0m\u001b[1;34m\"center\"\u001b[0m\u001b[1;33m,\u001b[0m \u001b[0malpha\u001b[0m\u001b[1;33m=\u001b[0m\u001b[1;36m1.0\u001b[0m\u001b[1;33m)\u001b[0m\u001b[1;33m\u001b[0m\u001b[1;33m\u001b[0m\u001b[0m\n\u001b[0;32m      3\u001b[0m \u001b[0mplt\u001b[0m\u001b[1;33m.\u001b[0m\u001b[0mtitle\u001b[0m\u001b[1;33m(\u001b[0m\u001b[1;34m\"ForceTypeAction Resulting in Use of Police Force in Minneapolis\"\u001b[0m\u001b[1;33m)\u001b[0m\u001b[1;33m\u001b[0m\u001b[1;33m\u001b[0m\u001b[0m\n\u001b[0;32m      4\u001b[0m \u001b[0mplt\u001b[0m\u001b[1;33m.\u001b[0m\u001b[0mylabel\u001b[0m\u001b[1;33m(\u001b[0m\u001b[1;34m\"Number of Cases\"\u001b[0m\u001b[1;33m,\u001b[0m \u001b[0mfontsize\u001b[0m\u001b[1;33m=\u001b[0m\u001b[1;36m12\u001b[0m\u001b[1;33m)\u001b[0m\u001b[1;33m\u001b[0m\u001b[1;33m\u001b[0m\u001b[0m\n\u001b[0;32m      5\u001b[0m \u001b[0mplt\u001b[0m\u001b[1;33m.\u001b[0m\u001b[0mxlabel\u001b[0m\u001b[1;33m(\u001b[0m\u001b[1;34m\"Force Type Action\"\u001b[0m\u001b[1;33m,\u001b[0m \u001b[0mfontsize\u001b[0m\u001b[1;33m=\u001b[0m\u001b[1;36m12\u001b[0m\u001b[1;33m)\u001b[0m\u001b[1;33m\u001b[0m\u001b[1;33m\u001b[0m\u001b[0m\n",
      "\u001b[1;31mNameError\u001b[0m: name 'forcetype_case_no' is not defined"
     ]
    }
   ],
   "source": [
    "forcetype_case_no.head(5)\n",
    "forcetype_case_no.head(10).plot(kind=\"barh\",edgecolor=\"black\", facecolor=\"red\", fontsize=12, align=\"center\", alpha=1.0)\n",
    "plt.title(\"ForceTypeAction Resulting in Use of Police Force in Minneapolis\")\n",
    "plt.ylabel(\"Number of Cases\", fontsize=12)\n",
    "plt.xlabel(\"Force Type Action\", fontsize=12)\n",
    "plt.show()"
   ]
  },
  {
   "cell_type": "code",
   "execution_count": 32,
   "metadata": {},
   "outputs": [
    {
     "data": {
      "text/html": [
       "<div>\n",
       "<style scoped>\n",
       "    .dataframe tbody tr th:only-of-type {\n",
       "        vertical-align: middle;\n",
       "    }\n",
       "\n",
       "    .dataframe tbody tr th {\n",
       "        vertical-align: top;\n",
       "    }\n",
       "\n",
       "    .dataframe thead th {\n",
       "        text-align: right;\n",
       "    }\n",
       "</style>\n",
       "<table border=\"1\" class=\"dataframe\">\n",
       "  <thead>\n",
       "    <tr style=\"text-align: right;\">\n",
       "      <th></th>\n",
       "      <th>Police ID</th>\n",
       "      <th>Case Number</th>\n",
       "      <th>Response Date</th>\n",
       "      <th>Type of Crime</th>\n",
       "      <th>Type of Force</th>\n",
       "      <th>Type of Force Action</th>\n",
       "      <th>Event Age</th>\n",
       "      <th>Type of Resistance</th>\n",
       "      <th>Precinct</th>\n",
       "      <th>Neighborhood</th>\n",
       "    </tr>\n",
       "  </thead>\n",
       "  <tbody>\n",
       "    <tr>\n",
       "      <th>0</th>\n",
       "      <td>19194596</td>\n",
       "      <td>08-007748</td>\n",
       "      <td>2008/01/08 14:20:21+00</td>\n",
       "      <td>Disturbance</td>\n",
       "      <td>Bodily Force</td>\n",
       "      <td>Push Away</td>\n",
       "      <td>13.0</td>\n",
       "      <td>Tensed</td>\n",
       "      <td>4</td>\n",
       "      <td>Harrison</td>\n",
       "    </tr>\n",
       "    <tr>\n",
       "      <th>1</th>\n",
       "      <td>19194597</td>\n",
       "      <td>08-019047</td>\n",
       "      <td>2008/01/19 23:47:58+00</td>\n",
       "      <td>On Site</td>\n",
       "      <td>Bodily Force</td>\n",
       "      <td>Push Away</td>\n",
       "      <td>27.0</td>\n",
       "      <td>Tensed</td>\n",
       "      <td>1</td>\n",
       "      <td>Downtown West</td>\n",
       "    </tr>\n",
       "    <tr>\n",
       "      <th>2</th>\n",
       "      <td>19194598</td>\n",
       "      <td>08-034409</td>\n",
       "      <td>2008/02/04 21:21:49+00</td>\n",
       "      <td>Property Damage Accident</td>\n",
       "      <td>Bodily Force</td>\n",
       "      <td>Joint Lock</td>\n",
       "      <td>17.0</td>\n",
       "      <td>Verbal Non-Compliance</td>\n",
       "      <td>4</td>\n",
       "      <td>Willard - Hay</td>\n",
       "    </tr>\n",
       "    <tr>\n",
       "      <th>3</th>\n",
       "      <td>19194599</td>\n",
       "      <td>08-043573</td>\n",
       "      <td>2008/02/14 22:03:15+00</td>\n",
       "      <td>Unwanted Person</td>\n",
       "      <td>Bodily Force</td>\n",
       "      <td>Body Weight to Pin</td>\n",
       "      <td>18.0</td>\n",
       "      <td>Tensed</td>\n",
       "      <td>4</td>\n",
       "      <td>Lind - Bohanon</td>\n",
       "    </tr>\n",
       "    <tr>\n",
       "      <th>4</th>\n",
       "      <td>19194600</td>\n",
       "      <td>08-052540</td>\n",
       "      <td>2008/02/24 02:25:39+00</td>\n",
       "      <td>Fight</td>\n",
       "      <td>Bodily Force</td>\n",
       "      <td>Knees</td>\n",
       "      <td>28.0</td>\n",
       "      <td>Commission of Crime</td>\n",
       "      <td>1</td>\n",
       "      <td>Downtown West</td>\n",
       "    </tr>\n",
       "    <tr>\n",
       "      <th>...</th>\n",
       "      <td>...</td>\n",
       "      <td>...</td>\n",
       "      <td>...</td>\n",
       "      <td>...</td>\n",
       "      <td>...</td>\n",
       "      <td>...</td>\n",
       "      <td>...</td>\n",
       "      <td>...</td>\n",
       "      <td>...</td>\n",
       "      <td>...</td>\n",
       "    </tr>\n",
       "    <tr>\n",
       "      <th>29070</th>\n",
       "      <td>19225425</td>\n",
       "      <td>20-287806</td>\n",
       "      <td>2020/11/12 14:41:54+00</td>\n",
       "      <td>Domestic Abuse-In Progress</td>\n",
       "      <td>Maximal Restraint Technique</td>\n",
       "      <td>Not Side Recovery Position</td>\n",
       "      <td>19.0</td>\n",
       "      <td>Other</td>\n",
       "      <td>2</td>\n",
       "      <td>Waite Park</td>\n",
       "    </tr>\n",
       "    <tr>\n",
       "      <th>29071</th>\n",
       "      <td>19225426</td>\n",
       "      <td>20-288772</td>\n",
       "      <td>2020/11/13 21:48:02+00</td>\n",
       "      <td>Unwanted Person</td>\n",
       "      <td>Bodily Force</td>\n",
       "      <td>Body Weight to Pin</td>\n",
       "      <td>29.0</td>\n",
       "      <td>Verbal Non-Compliance</td>\n",
       "      <td>5</td>\n",
       "      <td>Linden Hills</td>\n",
       "    </tr>\n",
       "    <tr>\n",
       "      <th>29072</th>\n",
       "      <td>19225427</td>\n",
       "      <td>20-292656</td>\n",
       "      <td>2020/11/19 15:44:41+00</td>\n",
       "      <td>Emotionally Disturb Person</td>\n",
       "      <td>Taser</td>\n",
       "      <td>Firing Darts</td>\n",
       "      <td>23.0</td>\n",
       "      <td>Other</td>\n",
       "      <td>4</td>\n",
       "      <td>Willard - Hay</td>\n",
       "    </tr>\n",
       "    <tr>\n",
       "      <th>29073</th>\n",
       "      <td>19225428</td>\n",
       "      <td>20-298833</td>\n",
       "      <td>2020/11/28 08:18:10+00</td>\n",
       "      <td>Motor Vehicle Chase</td>\n",
       "      <td>Bodily Force</td>\n",
       "      <td>Push Away</td>\n",
       "      <td>31.0</td>\n",
       "      <td>Fled in Vehicle</td>\n",
       "      <td>3</td>\n",
       "      <td>East Phillips</td>\n",
       "    </tr>\n",
       "    <tr>\n",
       "      <th>29074</th>\n",
       "      <td>19225429</td>\n",
       "      <td>20-303056</td>\n",
       "      <td>2020/12/04 06:07:08+00</td>\n",
       "      <td>Assist a Disabled Person</td>\n",
       "      <td>Bodily Force</td>\n",
       "      <td>Body Weight to Pin</td>\n",
       "      <td>19.0</td>\n",
       "      <td>Tensed</td>\n",
       "      <td>1</td>\n",
       "      <td>Cedar Riverside</td>\n",
       "    </tr>\n",
       "  </tbody>\n",
       "</table>\n",
       "<p>29075 rows × 10 columns</p>\n",
       "</div>"
      ],
      "text/plain": [
       "       Police ID Case Number           Response Date  \\\n",
       "0       19194596   08-007748  2008/01/08 14:20:21+00   \n",
       "1       19194597   08-019047  2008/01/19 23:47:58+00   \n",
       "2       19194598   08-034409  2008/02/04 21:21:49+00   \n",
       "3       19194599   08-043573  2008/02/14 22:03:15+00   \n",
       "4       19194600   08-052540  2008/02/24 02:25:39+00   \n",
       "...          ...         ...                     ...   \n",
       "29070   19225425   20-287806  2020/11/12 14:41:54+00   \n",
       "29071   19225426   20-288772  2020/11/13 21:48:02+00   \n",
       "29072   19225427   20-292656  2020/11/19 15:44:41+00   \n",
       "29073   19225428   20-298833  2020/11/28 08:18:10+00   \n",
       "29074   19225429   20-303056  2020/12/04 06:07:08+00   \n",
       "\n",
       "                     Type of Crime                Type of Force  \\\n",
       "0                     Disturbance                  Bodily Force   \n",
       "1                         On Site                  Bodily Force   \n",
       "2        Property Damage Accident                  Bodily Force   \n",
       "3                 Unwanted Person                  Bodily Force   \n",
       "4                           Fight                  Bodily Force   \n",
       "...                            ...                          ...   \n",
       "29070  Domestic Abuse-In Progress   Maximal Restraint Technique   \n",
       "29071             Unwanted Person                  Bodily Force   \n",
       "29072  Emotionally Disturb Person                         Taser   \n",
       "29073         Motor Vehicle Chase                  Bodily Force   \n",
       "29074    Assist a Disabled Person                  Bodily Force   \n",
       "\n",
       "             Type of Force Action  Event Age     Type of Resistance Precinct  \\\n",
       "0                       Push Away       13.0                 Tensed        4   \n",
       "1                       Push Away       27.0                 Tensed        1   \n",
       "2                      Joint Lock       17.0  Verbal Non-Compliance        4   \n",
       "3              Body Weight to Pin       18.0                 Tensed        4   \n",
       "4                           Knees       28.0    Commission of Crime        1   \n",
       "...                           ...        ...                    ...      ...   \n",
       "29070  Not Side Recovery Position       19.0                  Other        2   \n",
       "29071          Body Weight to Pin       29.0  Verbal Non-Compliance        5   \n",
       "29072                Firing Darts       23.0                  Other        4   \n",
       "29073                   Push Away       31.0        Fled in Vehicle        3   \n",
       "29074          Body Weight to Pin       19.0                 Tensed        1   \n",
       "\n",
       "          Neighborhood  \n",
       "0             Harrison  \n",
       "1        Downtown West  \n",
       "2        Willard - Hay  \n",
       "3       Lind - Bohanon  \n",
       "4        Downtown West  \n",
       "...                ...  \n",
       "29070       Waite Park  \n",
       "29071     Linden Hills  \n",
       "29072    Willard - Hay  \n",
       "29073    East Phillips  \n",
       "29074  Cedar Riverside  \n",
       "\n",
       "[29075 rows x 10 columns]"
      ]
     },
     "execution_count": 32,
     "metadata": {},
     "output_type": "execute_result"
    }
   ],
   "source": [
    "clean_df"
   ]
  },
  {
   "cell_type": "markdown",
   "metadata": {},
   "source": [
    "# Groupby Forcetype and Type of Resistance"
   ]
  },
  {
   "cell_type": "code",
   "execution_count": 33,
   "metadata": {},
   "outputs": [
    {
     "ename": "KeyError",
     "evalue": "'ForceType'",
     "output_type": "error",
     "traceback": [
      "\u001b[1;31m---------------------------------------------------------------------------\u001b[0m",
      "\u001b[1;31mKeyError\u001b[0m                                  Traceback (most recent call last)",
      "\u001b[1;32m<ipython-input-33-9293480fa13d>\u001b[0m in \u001b[0;36m<module>\u001b[1;34m\u001b[0m\n\u001b[0;32m      1\u001b[0m \u001b[1;31m#Top 5 - Force Type and Force Type Action Vs Number of Cases\u001b[0m\u001b[1;33m\u001b[0m\u001b[1;33m\u001b[0m\u001b[1;33m\u001b[0m\u001b[0m\n\u001b[1;32m----> 2\u001b[1;33m \u001b[0mft_fa\u001b[0m \u001b[1;33m=\u001b[0m \u001b[0mclean_df\u001b[0m\u001b[1;33m.\u001b[0m\u001b[0mgroupby\u001b[0m\u001b[1;33m(\u001b[0m\u001b[1;33m[\u001b[0m\u001b[1;34m'ForceType'\u001b[0m\u001b[1;33m,\u001b[0m\u001b[1;34m'ForceTypeAction'\u001b[0m\u001b[1;33m]\u001b[0m\u001b[1;33m)\u001b[0m\u001b[1;33m\u001b[0m\u001b[1;33m\u001b[0m\u001b[0m\n\u001b[0m\u001b[0;32m      3\u001b[0m \u001b[0mft_fa\u001b[0m\u001b[1;33m.\u001b[0m\u001b[0mcount\u001b[0m\u001b[1;33m(\u001b[0m\u001b[1;33m)\u001b[0m\u001b[1;33m.\u001b[0m\u001b[0mhead\u001b[0m\u001b[1;33m(\u001b[0m\u001b[1;36m5\u001b[0m\u001b[1;33m)\u001b[0m\u001b[1;33m\u001b[0m\u001b[1;33m\u001b[0m\u001b[0m\n",
      "\u001b[1;32m~\\anaconda3\\envs\\PythonData\\lib\\site-packages\\pandas\\core\\frame.py\u001b[0m in \u001b[0;36mgroupby\u001b[1;34m(self, by, axis, level, as_index, sort, group_keys, squeeze, observed)\u001b[0m\n\u001b[0;32m   5808\u001b[0m             \u001b[0mgroup_keys\u001b[0m\u001b[1;33m=\u001b[0m\u001b[0mgroup_keys\u001b[0m\u001b[1;33m,\u001b[0m\u001b[1;33m\u001b[0m\u001b[1;33m\u001b[0m\u001b[0m\n\u001b[0;32m   5809\u001b[0m             \u001b[0msqueeze\u001b[0m\u001b[1;33m=\u001b[0m\u001b[0msqueeze\u001b[0m\u001b[1;33m,\u001b[0m\u001b[1;33m\u001b[0m\u001b[1;33m\u001b[0m\u001b[0m\n\u001b[1;32m-> 5810\u001b[1;33m             \u001b[0mobserved\u001b[0m\u001b[1;33m=\u001b[0m\u001b[0mobserved\u001b[0m\u001b[1;33m,\u001b[0m\u001b[1;33m\u001b[0m\u001b[1;33m\u001b[0m\u001b[0m\n\u001b[0m\u001b[0;32m   5811\u001b[0m         )\n\u001b[0;32m   5812\u001b[0m \u001b[1;33m\u001b[0m\u001b[0m\n",
      "\u001b[1;32m~\\anaconda3\\envs\\PythonData\\lib\\site-packages\\pandas\\core\\groupby\\groupby.py\u001b[0m in \u001b[0;36m__init__\u001b[1;34m(self, obj, keys, axis, level, grouper, exclusions, selection, as_index, sort, group_keys, squeeze, observed, mutated)\u001b[0m\n\u001b[0;32m    408\u001b[0m                 \u001b[0msort\u001b[0m\u001b[1;33m=\u001b[0m\u001b[0msort\u001b[0m\u001b[1;33m,\u001b[0m\u001b[1;33m\u001b[0m\u001b[1;33m\u001b[0m\u001b[0m\n\u001b[0;32m    409\u001b[0m                 \u001b[0mobserved\u001b[0m\u001b[1;33m=\u001b[0m\u001b[0mobserved\u001b[0m\u001b[1;33m,\u001b[0m\u001b[1;33m\u001b[0m\u001b[1;33m\u001b[0m\u001b[0m\n\u001b[1;32m--> 410\u001b[1;33m                 \u001b[0mmutated\u001b[0m\u001b[1;33m=\u001b[0m\u001b[0mself\u001b[0m\u001b[1;33m.\u001b[0m\u001b[0mmutated\u001b[0m\u001b[1;33m,\u001b[0m\u001b[1;33m\u001b[0m\u001b[1;33m\u001b[0m\u001b[0m\n\u001b[0m\u001b[0;32m    411\u001b[0m             )\n\u001b[0;32m    412\u001b[0m \u001b[1;33m\u001b[0m\u001b[0m\n",
      "\u001b[1;32m~\\anaconda3\\envs\\PythonData\\lib\\site-packages\\pandas\\core\\groupby\\grouper.py\u001b[0m in \u001b[0;36mget_grouper\u001b[1;34m(obj, key, axis, level, sort, observed, mutated, validate)\u001b[0m\n\u001b[0;32m    598\u001b[0m                 \u001b[0min_axis\u001b[0m\u001b[1;33m,\u001b[0m \u001b[0mname\u001b[0m\u001b[1;33m,\u001b[0m \u001b[0mlevel\u001b[0m\u001b[1;33m,\u001b[0m \u001b[0mgpr\u001b[0m \u001b[1;33m=\u001b[0m \u001b[1;32mFalse\u001b[0m\u001b[1;33m,\u001b[0m \u001b[1;32mNone\u001b[0m\u001b[1;33m,\u001b[0m \u001b[0mgpr\u001b[0m\u001b[1;33m,\u001b[0m \u001b[1;32mNone\u001b[0m\u001b[1;33m\u001b[0m\u001b[1;33m\u001b[0m\u001b[0m\n\u001b[0;32m    599\u001b[0m             \u001b[1;32melse\u001b[0m\u001b[1;33m:\u001b[0m\u001b[1;33m\u001b[0m\u001b[1;33m\u001b[0m\u001b[0m\n\u001b[1;32m--> 600\u001b[1;33m                 \u001b[1;32mraise\u001b[0m \u001b[0mKeyError\u001b[0m\u001b[1;33m(\u001b[0m\u001b[0mgpr\u001b[0m\u001b[1;33m)\u001b[0m\u001b[1;33m\u001b[0m\u001b[1;33m\u001b[0m\u001b[0m\n\u001b[0m\u001b[0;32m    601\u001b[0m         \u001b[1;32melif\u001b[0m \u001b[0misinstance\u001b[0m\u001b[1;33m(\u001b[0m\u001b[0mgpr\u001b[0m\u001b[1;33m,\u001b[0m \u001b[0mGrouper\u001b[0m\u001b[1;33m)\u001b[0m \u001b[1;32mand\u001b[0m \u001b[0mgpr\u001b[0m\u001b[1;33m.\u001b[0m\u001b[0mkey\u001b[0m \u001b[1;32mis\u001b[0m \u001b[1;32mnot\u001b[0m \u001b[1;32mNone\u001b[0m\u001b[1;33m:\u001b[0m\u001b[1;33m\u001b[0m\u001b[1;33m\u001b[0m\u001b[0m\n\u001b[0;32m    602\u001b[0m             \u001b[1;31m# Add key to exclusions\u001b[0m\u001b[1;33m\u001b[0m\u001b[1;33m\u001b[0m\u001b[1;33m\u001b[0m\u001b[0m\n",
      "\u001b[1;31mKeyError\u001b[0m: 'ForceType'"
     ]
    }
   ],
   "source": [
    "#Top 5 - Force Type and Force Type Action Vs Number of Cases\n",
    "ft_fa = clean_df.groupby(['ForceType','ForceTypeAction'])\n",
    "ft_fa.count().head(5)"
   ]
  },
  {
   "cell_type": "code",
   "execution_count": 34,
   "metadata": {},
   "outputs": [
    {
     "ename": "KeyError",
     "evalue": "'ForceType'",
     "output_type": "error",
     "traceback": [
      "\u001b[1;31m---------------------------------------------------------------------------\u001b[0m",
      "\u001b[1;31mKeyError\u001b[0m                                  Traceback (most recent call last)",
      "\u001b[1;32m<ipython-input-34-bc2bd5c15be7>\u001b[0m in \u001b[0;36m<module>\u001b[1;34m\u001b[0m\n\u001b[0;32m      1\u001b[0m \u001b[1;31m#Top 5 - Force Type and Force Type Action Vs Number of Cases\u001b[0m\u001b[1;33m\u001b[0m\u001b[1;33m\u001b[0m\u001b[1;33m\u001b[0m\u001b[0m\n\u001b[1;32m----> 2\u001b[1;33m \u001b[0mft_fa\u001b[0m\u001b[1;33m=\u001b[0m \u001b[0mclean_df\u001b[0m\u001b[1;33m.\u001b[0m\u001b[0mgroupby\u001b[0m\u001b[1;33m(\u001b[0m\u001b[1;33m[\u001b[0m\u001b[1;34m'ForceType'\u001b[0m\u001b[1;33m,\u001b[0m\u001b[1;34m'ForceTypeAction'\u001b[0m\u001b[1;33m]\u001b[0m\u001b[1;33m)\u001b[0m\u001b[1;33m\u001b[0m\u001b[1;33m\u001b[0m\u001b[0m\n\u001b[0m\u001b[0;32m      3\u001b[0m \u001b[0mtotal_count\u001b[0m \u001b[1;33m=\u001b[0m \u001b[0mft_fa\u001b[0m\u001b[1;33m.\u001b[0m\u001b[0mnunique\u001b[0m\u001b[1;33m(\u001b[0m\u001b[1;33m)\u001b[0m\u001b[1;33m[\u001b[0m\u001b[1;34m\"CaseNumber\"\u001b[0m\u001b[1;33m]\u001b[0m\u001b[1;33m\u001b[0m\u001b[1;33m\u001b[0m\u001b[0m\n\u001b[0;32m      4\u001b[0m \u001b[0mforcetype_forceaction\u001b[0m \u001b[1;33m=\u001b[0m \u001b[0mpd\u001b[0m\u001b[1;33m.\u001b[0m\u001b[0mDataFrame\u001b[0m\u001b[1;33m(\u001b[0m\u001b[1;33m{\u001b[0m\u001b[1;34m\"Total Count\"\u001b[0m\u001b[1;33m:\u001b[0m \u001b[0mtotal_count\u001b[0m\u001b[1;33m}\u001b[0m\u001b[1;33m)\u001b[0m\u001b[1;33m\u001b[0m\u001b[1;33m\u001b[0m\u001b[0m\n\u001b[0;32m      5\u001b[0m \u001b[0mforcetype_forceaction\u001b[0m \u001b[1;33m=\u001b[0m \u001b[0mforcetype_forceaction\u001b[0m\u001b[1;33m.\u001b[0m\u001b[0msort_values\u001b[0m\u001b[1;33m(\u001b[0m\u001b[1;34m\"Total Count\"\u001b[0m\u001b[1;33m,\u001b[0m \u001b[0mascending\u001b[0m\u001b[1;33m=\u001b[0m\u001b[1;32mFalse\u001b[0m\u001b[1;33m)\u001b[0m\u001b[1;33m\u001b[0m\u001b[1;33m\u001b[0m\u001b[0m\n",
      "\u001b[1;32m~\\anaconda3\\envs\\PythonData\\lib\\site-packages\\pandas\\core\\frame.py\u001b[0m in \u001b[0;36mgroupby\u001b[1;34m(self, by, axis, level, as_index, sort, group_keys, squeeze, observed)\u001b[0m\n\u001b[0;32m   5808\u001b[0m             \u001b[0mgroup_keys\u001b[0m\u001b[1;33m=\u001b[0m\u001b[0mgroup_keys\u001b[0m\u001b[1;33m,\u001b[0m\u001b[1;33m\u001b[0m\u001b[1;33m\u001b[0m\u001b[0m\n\u001b[0;32m   5809\u001b[0m             \u001b[0msqueeze\u001b[0m\u001b[1;33m=\u001b[0m\u001b[0msqueeze\u001b[0m\u001b[1;33m,\u001b[0m\u001b[1;33m\u001b[0m\u001b[1;33m\u001b[0m\u001b[0m\n\u001b[1;32m-> 5810\u001b[1;33m             \u001b[0mobserved\u001b[0m\u001b[1;33m=\u001b[0m\u001b[0mobserved\u001b[0m\u001b[1;33m,\u001b[0m\u001b[1;33m\u001b[0m\u001b[1;33m\u001b[0m\u001b[0m\n\u001b[0m\u001b[0;32m   5811\u001b[0m         )\n\u001b[0;32m   5812\u001b[0m \u001b[1;33m\u001b[0m\u001b[0m\n",
      "\u001b[1;32m~\\anaconda3\\envs\\PythonData\\lib\\site-packages\\pandas\\core\\groupby\\groupby.py\u001b[0m in \u001b[0;36m__init__\u001b[1;34m(self, obj, keys, axis, level, grouper, exclusions, selection, as_index, sort, group_keys, squeeze, observed, mutated)\u001b[0m\n\u001b[0;32m    408\u001b[0m                 \u001b[0msort\u001b[0m\u001b[1;33m=\u001b[0m\u001b[0msort\u001b[0m\u001b[1;33m,\u001b[0m\u001b[1;33m\u001b[0m\u001b[1;33m\u001b[0m\u001b[0m\n\u001b[0;32m    409\u001b[0m                 \u001b[0mobserved\u001b[0m\u001b[1;33m=\u001b[0m\u001b[0mobserved\u001b[0m\u001b[1;33m,\u001b[0m\u001b[1;33m\u001b[0m\u001b[1;33m\u001b[0m\u001b[0m\n\u001b[1;32m--> 410\u001b[1;33m                 \u001b[0mmutated\u001b[0m\u001b[1;33m=\u001b[0m\u001b[0mself\u001b[0m\u001b[1;33m.\u001b[0m\u001b[0mmutated\u001b[0m\u001b[1;33m,\u001b[0m\u001b[1;33m\u001b[0m\u001b[1;33m\u001b[0m\u001b[0m\n\u001b[0m\u001b[0;32m    411\u001b[0m             )\n\u001b[0;32m    412\u001b[0m \u001b[1;33m\u001b[0m\u001b[0m\n",
      "\u001b[1;32m~\\anaconda3\\envs\\PythonData\\lib\\site-packages\\pandas\\core\\groupby\\grouper.py\u001b[0m in \u001b[0;36mget_grouper\u001b[1;34m(obj, key, axis, level, sort, observed, mutated, validate)\u001b[0m\n\u001b[0;32m    598\u001b[0m                 \u001b[0min_axis\u001b[0m\u001b[1;33m,\u001b[0m \u001b[0mname\u001b[0m\u001b[1;33m,\u001b[0m \u001b[0mlevel\u001b[0m\u001b[1;33m,\u001b[0m \u001b[0mgpr\u001b[0m \u001b[1;33m=\u001b[0m \u001b[1;32mFalse\u001b[0m\u001b[1;33m,\u001b[0m \u001b[1;32mNone\u001b[0m\u001b[1;33m,\u001b[0m \u001b[0mgpr\u001b[0m\u001b[1;33m,\u001b[0m \u001b[1;32mNone\u001b[0m\u001b[1;33m\u001b[0m\u001b[1;33m\u001b[0m\u001b[0m\n\u001b[0;32m    599\u001b[0m             \u001b[1;32melse\u001b[0m\u001b[1;33m:\u001b[0m\u001b[1;33m\u001b[0m\u001b[1;33m\u001b[0m\u001b[0m\n\u001b[1;32m--> 600\u001b[1;33m                 \u001b[1;32mraise\u001b[0m \u001b[0mKeyError\u001b[0m\u001b[1;33m(\u001b[0m\u001b[0mgpr\u001b[0m\u001b[1;33m)\u001b[0m\u001b[1;33m\u001b[0m\u001b[1;33m\u001b[0m\u001b[0m\n\u001b[0m\u001b[0;32m    601\u001b[0m         \u001b[1;32melif\u001b[0m \u001b[0misinstance\u001b[0m\u001b[1;33m(\u001b[0m\u001b[0mgpr\u001b[0m\u001b[1;33m,\u001b[0m \u001b[0mGrouper\u001b[0m\u001b[1;33m)\u001b[0m \u001b[1;32mand\u001b[0m \u001b[0mgpr\u001b[0m\u001b[1;33m.\u001b[0m\u001b[0mkey\u001b[0m \u001b[1;32mis\u001b[0m \u001b[1;32mnot\u001b[0m \u001b[1;32mNone\u001b[0m\u001b[1;33m:\u001b[0m\u001b[1;33m\u001b[0m\u001b[1;33m\u001b[0m\u001b[0m\n\u001b[0;32m    602\u001b[0m             \u001b[1;31m# Add key to exclusions\u001b[0m\u001b[1;33m\u001b[0m\u001b[1;33m\u001b[0m\u001b[1;33m\u001b[0m\u001b[0m\n",
      "\u001b[1;31mKeyError\u001b[0m: 'ForceType'"
     ]
    }
   ],
   "source": [
    "#Top 5 - Force Type and Force Type Action Vs Number of Cases\n",
    "ft_fa= clean_df.groupby(['ForceType','ForceTypeAction'])\n",
    "total_count = ft_fa.nunique()[\"CaseNumber\"]\n",
    "forcetype_forceaction = pd.DataFrame({\"Total Count\": total_count})\n",
    "forcetype_forceaction = forcetype_forceaction.sort_values(\"Total Count\", ascending=False)\n",
    "#forcetype_forceaction.index.name = \"ForceTypeAction\"\n",
    "forcetype_forceaction.head()"
   ]
  },
  {
   "cell_type": "code",
   "execution_count": 35,
   "metadata": {},
   "outputs": [
    {
     "ename": "NameError",
     "evalue": "name 'forcetype_forceaction' is not defined",
     "output_type": "error",
     "traceback": [
      "\u001b[1;31m---------------------------------------------------------------------------\u001b[0m",
      "\u001b[1;31mNameError\u001b[0m                                 Traceback (most recent call last)",
      "\u001b[1;32m<ipython-input-35-721edee13083>\u001b[0m in \u001b[0;36m<module>\u001b[1;34m\u001b[0m\n\u001b[0;32m      1\u001b[0m \u001b[1;31m#Top 5 - Force Type and Force Type Action Vs Number of Cases\u001b[0m\u001b[1;33m\u001b[0m\u001b[1;33m\u001b[0m\u001b[1;33m\u001b[0m\u001b[0m\n\u001b[1;32m----> 2\u001b[1;33m \u001b[0mforcetype_forceaction\u001b[0m\u001b[1;33m.\u001b[0m\u001b[0mhead\u001b[0m\u001b[1;33m(\u001b[0m\u001b[1;36m8\u001b[0m\u001b[1;33m)\u001b[0m\u001b[1;33m.\u001b[0m\u001b[0mplot\u001b[0m\u001b[1;33m(\u001b[0m\u001b[0mkind\u001b[0m\u001b[1;33m=\u001b[0m\u001b[1;34m\"barh\"\u001b[0m\u001b[1;33m,\u001b[0m\u001b[0medgecolor\u001b[0m\u001b[1;33m=\u001b[0m\u001b[1;34m\"black\"\u001b[0m\u001b[1;33m,\u001b[0m \u001b[0mfacecolor\u001b[0m\u001b[1;33m=\u001b[0m\u001b[1;34m\"purple\"\u001b[0m\u001b[1;33m,\u001b[0m \u001b[0mfontsize\u001b[0m\u001b[1;33m=\u001b[0m\u001b[1;36m12\u001b[0m\u001b[1;33m,\u001b[0m \u001b[0malign\u001b[0m\u001b[1;33m=\u001b[0m\u001b[1;34m\"center\"\u001b[0m\u001b[1;33m,\u001b[0m \u001b[0malpha\u001b[0m\u001b[1;33m=\u001b[0m\u001b[1;36m1.0\u001b[0m\u001b[1;33m)\u001b[0m\u001b[1;33m\u001b[0m\u001b[1;33m\u001b[0m\u001b[0m\n\u001b[0m\u001b[0;32m      3\u001b[0m \u001b[0mplt\u001b[0m\u001b[1;33m.\u001b[0m\u001b[0mtitle\u001b[0m\u001b[1;33m(\u001b[0m\u001b[1;34m\"Force Type and Force Type Action Vs Number of Cases\"\u001b[0m\u001b[1;33m)\u001b[0m\u001b[1;33m\u001b[0m\u001b[1;33m\u001b[0m\u001b[0m\n\u001b[0;32m      4\u001b[0m \u001b[0mplt\u001b[0m\u001b[1;33m.\u001b[0m\u001b[0mylabel\u001b[0m\u001b[1;33m(\u001b[0m\u001b[1;34m\"Force Type Action_Force Type\"\u001b[0m\u001b[1;33m,\u001b[0m \u001b[0mfontsize\u001b[0m\u001b[1;33m=\u001b[0m\u001b[1;36m12\u001b[0m\u001b[1;33m)\u001b[0m\u001b[1;33m\u001b[0m\u001b[1;33m\u001b[0m\u001b[0m\n\u001b[0;32m      5\u001b[0m \u001b[0mplt\u001b[0m\u001b[1;33m.\u001b[0m\u001b[0mxlabel\u001b[0m\u001b[1;33m(\u001b[0m\u001b[1;34m\"Number of Cases\"\u001b[0m\u001b[1;33m,\u001b[0m \u001b[0mfontsize\u001b[0m\u001b[1;33m=\u001b[0m\u001b[1;36m12\u001b[0m\u001b[1;33m)\u001b[0m\u001b[1;33m\u001b[0m\u001b[1;33m\u001b[0m\u001b[0m\n",
      "\u001b[1;31mNameError\u001b[0m: name 'forcetype_forceaction' is not defined"
     ]
    }
   ],
   "source": [
    "#Top 5 - Force Type and Force Type Action Vs Number of Cases\n",
    "forcetype_forceaction.head(8).plot(kind=\"barh\",edgecolor=\"black\", facecolor=\"purple\", fontsize=12, align=\"center\", alpha=1.0)\n",
    "plt.title(\"Force Type and Force Type Action Vs Number of Cases\")\n",
    "plt.ylabel(\"Force Type Action_Force Type\", fontsize=12)\n",
    "plt.xlabel(\"Number of Cases\", fontsize=12)\n",
    "plt.show()"
   ]
  },
  {
   "cell_type": "code",
   "execution_count": 36,
   "metadata": {},
   "outputs": [
    {
     "ename": "KeyError",
     "evalue": "'ForceType'",
     "output_type": "error",
     "traceback": [
      "\u001b[1;31m---------------------------------------------------------------------------\u001b[0m",
      "\u001b[1;31mKeyError\u001b[0m                                  Traceback (most recent call last)",
      "\u001b[1;32m<ipython-input-36-112d906de3e7>\u001b[0m in \u001b[0;36m<module>\u001b[1;34m\u001b[0m\n\u001b[0;32m      1\u001b[0m \u001b[1;31m#Top 5 - Force Type and Type of Resistance Vs Number of Cases\u001b[0m\u001b[1;33m\u001b[0m\u001b[1;33m\u001b[0m\u001b[1;33m\u001b[0m\u001b[0m\n\u001b[1;32m----> 2\u001b[1;33m \u001b[0mft_tr\u001b[0m \u001b[1;33m=\u001b[0m \u001b[0mclean_df\u001b[0m\u001b[1;33m.\u001b[0m\u001b[0mgroupby\u001b[0m\u001b[1;33m(\u001b[0m\u001b[1;33m[\u001b[0m\u001b[1;34m'ForceType'\u001b[0m\u001b[1;33m,\u001b[0m\u001b[1;34m'TypeOfResistance'\u001b[0m\u001b[1;33m]\u001b[0m\u001b[1;33m)\u001b[0m\u001b[1;33m\u001b[0m\u001b[1;33m\u001b[0m\u001b[0m\n\u001b[0m\u001b[0;32m      3\u001b[0m \u001b[0mft_tr\u001b[0m\u001b[1;33m.\u001b[0m\u001b[0mcount\u001b[0m\u001b[1;33m(\u001b[0m\u001b[1;33m)\u001b[0m\u001b[1;33m.\u001b[0m\u001b[0mhead\u001b[0m\u001b[1;33m(\u001b[0m\u001b[1;36m5\u001b[0m\u001b[1;33m)\u001b[0m\u001b[1;33m\u001b[0m\u001b[1;33m\u001b[0m\u001b[0m\n",
      "\u001b[1;32m~\\anaconda3\\envs\\PythonData\\lib\\site-packages\\pandas\\core\\frame.py\u001b[0m in \u001b[0;36mgroupby\u001b[1;34m(self, by, axis, level, as_index, sort, group_keys, squeeze, observed)\u001b[0m\n\u001b[0;32m   5808\u001b[0m             \u001b[0mgroup_keys\u001b[0m\u001b[1;33m=\u001b[0m\u001b[0mgroup_keys\u001b[0m\u001b[1;33m,\u001b[0m\u001b[1;33m\u001b[0m\u001b[1;33m\u001b[0m\u001b[0m\n\u001b[0;32m   5809\u001b[0m             \u001b[0msqueeze\u001b[0m\u001b[1;33m=\u001b[0m\u001b[0msqueeze\u001b[0m\u001b[1;33m,\u001b[0m\u001b[1;33m\u001b[0m\u001b[1;33m\u001b[0m\u001b[0m\n\u001b[1;32m-> 5810\u001b[1;33m             \u001b[0mobserved\u001b[0m\u001b[1;33m=\u001b[0m\u001b[0mobserved\u001b[0m\u001b[1;33m,\u001b[0m\u001b[1;33m\u001b[0m\u001b[1;33m\u001b[0m\u001b[0m\n\u001b[0m\u001b[0;32m   5811\u001b[0m         )\n\u001b[0;32m   5812\u001b[0m \u001b[1;33m\u001b[0m\u001b[0m\n",
      "\u001b[1;32m~\\anaconda3\\envs\\PythonData\\lib\\site-packages\\pandas\\core\\groupby\\groupby.py\u001b[0m in \u001b[0;36m__init__\u001b[1;34m(self, obj, keys, axis, level, grouper, exclusions, selection, as_index, sort, group_keys, squeeze, observed, mutated)\u001b[0m\n\u001b[0;32m    408\u001b[0m                 \u001b[0msort\u001b[0m\u001b[1;33m=\u001b[0m\u001b[0msort\u001b[0m\u001b[1;33m,\u001b[0m\u001b[1;33m\u001b[0m\u001b[1;33m\u001b[0m\u001b[0m\n\u001b[0;32m    409\u001b[0m                 \u001b[0mobserved\u001b[0m\u001b[1;33m=\u001b[0m\u001b[0mobserved\u001b[0m\u001b[1;33m,\u001b[0m\u001b[1;33m\u001b[0m\u001b[1;33m\u001b[0m\u001b[0m\n\u001b[1;32m--> 410\u001b[1;33m                 \u001b[0mmutated\u001b[0m\u001b[1;33m=\u001b[0m\u001b[0mself\u001b[0m\u001b[1;33m.\u001b[0m\u001b[0mmutated\u001b[0m\u001b[1;33m,\u001b[0m\u001b[1;33m\u001b[0m\u001b[1;33m\u001b[0m\u001b[0m\n\u001b[0m\u001b[0;32m    411\u001b[0m             )\n\u001b[0;32m    412\u001b[0m \u001b[1;33m\u001b[0m\u001b[0m\n",
      "\u001b[1;32m~\\anaconda3\\envs\\PythonData\\lib\\site-packages\\pandas\\core\\groupby\\grouper.py\u001b[0m in \u001b[0;36mget_grouper\u001b[1;34m(obj, key, axis, level, sort, observed, mutated, validate)\u001b[0m\n\u001b[0;32m    598\u001b[0m                 \u001b[0min_axis\u001b[0m\u001b[1;33m,\u001b[0m \u001b[0mname\u001b[0m\u001b[1;33m,\u001b[0m \u001b[0mlevel\u001b[0m\u001b[1;33m,\u001b[0m \u001b[0mgpr\u001b[0m \u001b[1;33m=\u001b[0m \u001b[1;32mFalse\u001b[0m\u001b[1;33m,\u001b[0m \u001b[1;32mNone\u001b[0m\u001b[1;33m,\u001b[0m \u001b[0mgpr\u001b[0m\u001b[1;33m,\u001b[0m \u001b[1;32mNone\u001b[0m\u001b[1;33m\u001b[0m\u001b[1;33m\u001b[0m\u001b[0m\n\u001b[0;32m    599\u001b[0m             \u001b[1;32melse\u001b[0m\u001b[1;33m:\u001b[0m\u001b[1;33m\u001b[0m\u001b[1;33m\u001b[0m\u001b[0m\n\u001b[1;32m--> 600\u001b[1;33m                 \u001b[1;32mraise\u001b[0m \u001b[0mKeyError\u001b[0m\u001b[1;33m(\u001b[0m\u001b[0mgpr\u001b[0m\u001b[1;33m)\u001b[0m\u001b[1;33m\u001b[0m\u001b[1;33m\u001b[0m\u001b[0m\n\u001b[0m\u001b[0;32m    601\u001b[0m         \u001b[1;32melif\u001b[0m \u001b[0misinstance\u001b[0m\u001b[1;33m(\u001b[0m\u001b[0mgpr\u001b[0m\u001b[1;33m,\u001b[0m \u001b[0mGrouper\u001b[0m\u001b[1;33m)\u001b[0m \u001b[1;32mand\u001b[0m \u001b[0mgpr\u001b[0m\u001b[1;33m.\u001b[0m\u001b[0mkey\u001b[0m \u001b[1;32mis\u001b[0m \u001b[1;32mnot\u001b[0m \u001b[1;32mNone\u001b[0m\u001b[1;33m:\u001b[0m\u001b[1;33m\u001b[0m\u001b[1;33m\u001b[0m\u001b[0m\n\u001b[0;32m    602\u001b[0m             \u001b[1;31m# Add key to exclusions\u001b[0m\u001b[1;33m\u001b[0m\u001b[1;33m\u001b[0m\u001b[1;33m\u001b[0m\u001b[0m\n",
      "\u001b[1;31mKeyError\u001b[0m: 'ForceType'"
     ]
    }
   ],
   "source": [
    "#Top 5 - Force Type and Type of Resistance Vs Number of Cases\n",
    "ft_tr = clean_df.groupby(['ForceType','TypeOfResistance'])\n",
    "ft_tr.count().head(5)"
   ]
  },
  {
   "cell_type": "code",
   "execution_count": 37,
   "metadata": {},
   "outputs": [
    {
     "ename": "KeyError",
     "evalue": "'ForceType'",
     "output_type": "error",
     "traceback": [
      "\u001b[1;31m---------------------------------------------------------------------------\u001b[0m",
      "\u001b[1;31mKeyError\u001b[0m                                  Traceback (most recent call last)",
      "\u001b[1;32m<ipython-input-37-9aa876b27405>\u001b[0m in \u001b[0;36m<module>\u001b[1;34m\u001b[0m\n\u001b[0;32m      1\u001b[0m \u001b[1;31m# Top 5 - Force Type and Type of Resistance Vs Number of Cases\u001b[0m\u001b[1;33m\u001b[0m\u001b[1;33m\u001b[0m\u001b[1;33m\u001b[0m\u001b[0m\n\u001b[1;32m----> 2\u001b[1;33m \u001b[0mft_tr\u001b[0m\u001b[1;33m=\u001b[0m \u001b[0mclean_df\u001b[0m\u001b[1;33m.\u001b[0m\u001b[0mgroupby\u001b[0m\u001b[1;33m(\u001b[0m\u001b[1;33m[\u001b[0m\u001b[1;34m'ForceType'\u001b[0m\u001b[1;33m,\u001b[0m\u001b[1;34m'TypeOfResistance'\u001b[0m\u001b[1;33m]\u001b[0m\u001b[1;33m)\u001b[0m\u001b[1;33m\u001b[0m\u001b[1;33m\u001b[0m\u001b[0m\n\u001b[0m\u001b[0;32m      3\u001b[0m \u001b[0mtotal_count\u001b[0m \u001b[1;33m=\u001b[0m \u001b[0mft_tr\u001b[0m\u001b[1;33m.\u001b[0m\u001b[0mnunique\u001b[0m\u001b[1;33m(\u001b[0m\u001b[1;33m)\u001b[0m\u001b[1;33m[\u001b[0m\u001b[1;34m\"CaseNumber\"\u001b[0m\u001b[1;33m]\u001b[0m\u001b[1;33m\u001b[0m\u001b[1;33m\u001b[0m\u001b[0m\n\u001b[0;32m      4\u001b[0m \u001b[0mforcetype_resistance\u001b[0m \u001b[1;33m=\u001b[0m \u001b[0mpd\u001b[0m\u001b[1;33m.\u001b[0m\u001b[0mDataFrame\u001b[0m\u001b[1;33m(\u001b[0m\u001b[1;33m{\u001b[0m\u001b[1;34m\"Total Count\"\u001b[0m\u001b[1;33m:\u001b[0m \u001b[0mtotal_count\u001b[0m\u001b[1;33m}\u001b[0m\u001b[1;33m)\u001b[0m\u001b[1;33m\u001b[0m\u001b[1;33m\u001b[0m\u001b[0m\n\u001b[0;32m      5\u001b[0m \u001b[0mforcetype_resistance\u001b[0m \u001b[1;33m=\u001b[0m \u001b[0mforcetype_resistance\u001b[0m\u001b[1;33m.\u001b[0m\u001b[0msort_values\u001b[0m\u001b[1;33m(\u001b[0m\u001b[1;34m\"Total Count\"\u001b[0m\u001b[1;33m,\u001b[0m \u001b[0mascending\u001b[0m\u001b[1;33m=\u001b[0m\u001b[1;32mFalse\u001b[0m\u001b[1;33m)\u001b[0m\u001b[1;33m\u001b[0m\u001b[1;33m\u001b[0m\u001b[0m\n",
      "\u001b[1;32m~\\anaconda3\\envs\\PythonData\\lib\\site-packages\\pandas\\core\\frame.py\u001b[0m in \u001b[0;36mgroupby\u001b[1;34m(self, by, axis, level, as_index, sort, group_keys, squeeze, observed)\u001b[0m\n\u001b[0;32m   5808\u001b[0m             \u001b[0mgroup_keys\u001b[0m\u001b[1;33m=\u001b[0m\u001b[0mgroup_keys\u001b[0m\u001b[1;33m,\u001b[0m\u001b[1;33m\u001b[0m\u001b[1;33m\u001b[0m\u001b[0m\n\u001b[0;32m   5809\u001b[0m             \u001b[0msqueeze\u001b[0m\u001b[1;33m=\u001b[0m\u001b[0msqueeze\u001b[0m\u001b[1;33m,\u001b[0m\u001b[1;33m\u001b[0m\u001b[1;33m\u001b[0m\u001b[0m\n\u001b[1;32m-> 5810\u001b[1;33m             \u001b[0mobserved\u001b[0m\u001b[1;33m=\u001b[0m\u001b[0mobserved\u001b[0m\u001b[1;33m,\u001b[0m\u001b[1;33m\u001b[0m\u001b[1;33m\u001b[0m\u001b[0m\n\u001b[0m\u001b[0;32m   5811\u001b[0m         )\n\u001b[0;32m   5812\u001b[0m \u001b[1;33m\u001b[0m\u001b[0m\n",
      "\u001b[1;32m~\\anaconda3\\envs\\PythonData\\lib\\site-packages\\pandas\\core\\groupby\\groupby.py\u001b[0m in \u001b[0;36m__init__\u001b[1;34m(self, obj, keys, axis, level, grouper, exclusions, selection, as_index, sort, group_keys, squeeze, observed, mutated)\u001b[0m\n\u001b[0;32m    408\u001b[0m                 \u001b[0msort\u001b[0m\u001b[1;33m=\u001b[0m\u001b[0msort\u001b[0m\u001b[1;33m,\u001b[0m\u001b[1;33m\u001b[0m\u001b[1;33m\u001b[0m\u001b[0m\n\u001b[0;32m    409\u001b[0m                 \u001b[0mobserved\u001b[0m\u001b[1;33m=\u001b[0m\u001b[0mobserved\u001b[0m\u001b[1;33m,\u001b[0m\u001b[1;33m\u001b[0m\u001b[1;33m\u001b[0m\u001b[0m\n\u001b[1;32m--> 410\u001b[1;33m                 \u001b[0mmutated\u001b[0m\u001b[1;33m=\u001b[0m\u001b[0mself\u001b[0m\u001b[1;33m.\u001b[0m\u001b[0mmutated\u001b[0m\u001b[1;33m,\u001b[0m\u001b[1;33m\u001b[0m\u001b[1;33m\u001b[0m\u001b[0m\n\u001b[0m\u001b[0;32m    411\u001b[0m             )\n\u001b[0;32m    412\u001b[0m \u001b[1;33m\u001b[0m\u001b[0m\n",
      "\u001b[1;32m~\\anaconda3\\envs\\PythonData\\lib\\site-packages\\pandas\\core\\groupby\\grouper.py\u001b[0m in \u001b[0;36mget_grouper\u001b[1;34m(obj, key, axis, level, sort, observed, mutated, validate)\u001b[0m\n\u001b[0;32m    598\u001b[0m                 \u001b[0min_axis\u001b[0m\u001b[1;33m,\u001b[0m \u001b[0mname\u001b[0m\u001b[1;33m,\u001b[0m \u001b[0mlevel\u001b[0m\u001b[1;33m,\u001b[0m \u001b[0mgpr\u001b[0m \u001b[1;33m=\u001b[0m \u001b[1;32mFalse\u001b[0m\u001b[1;33m,\u001b[0m \u001b[1;32mNone\u001b[0m\u001b[1;33m,\u001b[0m \u001b[0mgpr\u001b[0m\u001b[1;33m,\u001b[0m \u001b[1;32mNone\u001b[0m\u001b[1;33m\u001b[0m\u001b[1;33m\u001b[0m\u001b[0m\n\u001b[0;32m    599\u001b[0m             \u001b[1;32melse\u001b[0m\u001b[1;33m:\u001b[0m\u001b[1;33m\u001b[0m\u001b[1;33m\u001b[0m\u001b[0m\n\u001b[1;32m--> 600\u001b[1;33m                 \u001b[1;32mraise\u001b[0m \u001b[0mKeyError\u001b[0m\u001b[1;33m(\u001b[0m\u001b[0mgpr\u001b[0m\u001b[1;33m)\u001b[0m\u001b[1;33m\u001b[0m\u001b[1;33m\u001b[0m\u001b[0m\n\u001b[0m\u001b[0;32m    601\u001b[0m         \u001b[1;32melif\u001b[0m \u001b[0misinstance\u001b[0m\u001b[1;33m(\u001b[0m\u001b[0mgpr\u001b[0m\u001b[1;33m,\u001b[0m \u001b[0mGrouper\u001b[0m\u001b[1;33m)\u001b[0m \u001b[1;32mand\u001b[0m \u001b[0mgpr\u001b[0m\u001b[1;33m.\u001b[0m\u001b[0mkey\u001b[0m \u001b[1;32mis\u001b[0m \u001b[1;32mnot\u001b[0m \u001b[1;32mNone\u001b[0m\u001b[1;33m:\u001b[0m\u001b[1;33m\u001b[0m\u001b[1;33m\u001b[0m\u001b[0m\n\u001b[0;32m    602\u001b[0m             \u001b[1;31m# Add key to exclusions\u001b[0m\u001b[1;33m\u001b[0m\u001b[1;33m\u001b[0m\u001b[1;33m\u001b[0m\u001b[0m\n",
      "\u001b[1;31mKeyError\u001b[0m: 'ForceType'"
     ]
    }
   ],
   "source": [
    "# Top 5 - Force Type and Type of Resistance Vs Number of Cases\n",
    "ft_tr= clean_df.groupby(['ForceType','TypeOfResistance'])\n",
    "total_count = ft_tr.nunique()[\"CaseNumber\"]\n",
    "forcetype_resistance = pd.DataFrame({\"Total Count\": total_count})\n",
    "forcetype_resistance = forcetype_resistance.sort_values(\"Total Count\", ascending=False)\n",
    "forcetype_resistance.head()"
   ]
  },
  {
   "cell_type": "code",
   "execution_count": 38,
   "metadata": {},
   "outputs": [
    {
     "ename": "NameError",
     "evalue": "name 'forcetype_resistance' is not defined",
     "output_type": "error",
     "traceback": [
      "\u001b[1;31m---------------------------------------------------------------------------\u001b[0m",
      "\u001b[1;31mNameError\u001b[0m                                 Traceback (most recent call last)",
      "\u001b[1;32m<ipython-input-38-a89cb478a4b4>\u001b[0m in \u001b[0;36m<module>\u001b[1;34m\u001b[0m\n\u001b[0;32m      1\u001b[0m \u001b[1;31m# Top 5 - Force Type and Type of Resistance Vs Number of Cases\u001b[0m\u001b[1;33m\u001b[0m\u001b[1;33m\u001b[0m\u001b[1;33m\u001b[0m\u001b[0m\n\u001b[1;32m----> 2\u001b[1;33m \u001b[0mforcetype_resistance\u001b[0m\u001b[1;33m.\u001b[0m\u001b[0mhead\u001b[0m\u001b[1;33m(\u001b[0m\u001b[1;36m8\u001b[0m\u001b[1;33m)\u001b[0m\u001b[1;33m.\u001b[0m\u001b[0mplot\u001b[0m\u001b[1;33m(\u001b[0m\u001b[0mkind\u001b[0m\u001b[1;33m=\u001b[0m\u001b[1;34m\"barh\"\u001b[0m\u001b[1;33m,\u001b[0m\u001b[0medgecolor\u001b[0m\u001b[1;33m=\u001b[0m\u001b[1;34m\"black\"\u001b[0m\u001b[1;33m,\u001b[0m \u001b[0mfacecolor\u001b[0m\u001b[1;33m=\u001b[0m\u001b[1;34m\"orange\"\u001b[0m\u001b[1;33m,\u001b[0m \u001b[0mfontsize\u001b[0m\u001b[1;33m=\u001b[0m\u001b[1;36m12\u001b[0m\u001b[1;33m,\u001b[0m \u001b[0malign\u001b[0m\u001b[1;33m=\u001b[0m\u001b[1;34m\"center\"\u001b[0m\u001b[1;33m,\u001b[0m \u001b[0malpha\u001b[0m\u001b[1;33m=\u001b[0m\u001b[1;36m1.0\u001b[0m\u001b[1;33m)\u001b[0m\u001b[1;33m\u001b[0m\u001b[1;33m\u001b[0m\u001b[0m\n\u001b[0m\u001b[0;32m      3\u001b[0m \u001b[0mplt\u001b[0m\u001b[1;33m.\u001b[0m\u001b[0mtitle\u001b[0m\u001b[1;33m(\u001b[0m\u001b[1;34m\"Force Type and Type of Resistance Vs Number of Cases\"\u001b[0m\u001b[1;33m)\u001b[0m\u001b[1;33m\u001b[0m\u001b[1;33m\u001b[0m\u001b[0m\n\u001b[0;32m      4\u001b[0m \u001b[0mplt\u001b[0m\u001b[1;33m.\u001b[0m\u001b[0mylabel\u001b[0m\u001b[1;33m(\u001b[0m\u001b[1;34m\"Force Type_ Resistance\"\u001b[0m\u001b[1;33m,\u001b[0m \u001b[0mfontsize\u001b[0m\u001b[1;33m=\u001b[0m\u001b[1;36m12\u001b[0m\u001b[1;33m)\u001b[0m\u001b[1;33m\u001b[0m\u001b[1;33m\u001b[0m\u001b[0m\n\u001b[0;32m      5\u001b[0m \u001b[0mplt\u001b[0m\u001b[1;33m.\u001b[0m\u001b[0mxlabel\u001b[0m\u001b[1;33m(\u001b[0m\u001b[1;34m\"Number of Cases\"\u001b[0m\u001b[1;33m,\u001b[0m \u001b[0mfontsize\u001b[0m\u001b[1;33m=\u001b[0m\u001b[1;36m12\u001b[0m\u001b[1;33m)\u001b[0m\u001b[1;33m\u001b[0m\u001b[1;33m\u001b[0m\u001b[0m\n",
      "\u001b[1;31mNameError\u001b[0m: name 'forcetype_resistance' is not defined"
     ]
    }
   ],
   "source": [
    "# Top 5 - Force Type and Type of Resistance Vs Number of Cases\n",
    "forcetype_resistance.head(8).plot(kind=\"barh\",edgecolor=\"black\", facecolor=\"orange\", fontsize=12, align=\"center\", alpha=1.0)\n",
    "plt.title(\"Force Type and Type of Resistance Vs Number of Cases\")\n",
    "plt.ylabel(\"Force Type_ Resistance\", fontsize=12)\n",
    "plt.xlabel(\"Number of Cases\", fontsize=12)\n",
    "plt.show()"
   ]
  },
  {
   "cell_type": "code",
   "execution_count": 39,
   "metadata": {},
   "outputs": [],
   "source": [
    "#problem and force type"
   ]
  },
  {
   "cell_type": "code",
   "execution_count": 40,
   "metadata": {},
   "outputs": [],
   "source": [
    "#Problem and Type of Resistance"
   ]
  },
  {
   "cell_type": "code",
   "execution_count": 41,
   "metadata": {},
   "outputs": [],
   "source": [
    "# Problem and force type"
   ]
  },
  {
   "cell_type": "code",
   "execution_count": 42,
   "metadata": {},
   "outputs": [],
   "source": [
    "# Humera code end here"
   ]
  },
  {
   "cell_type": "markdown",
   "metadata": {},
   "source": [
    "# 4. Which neighborhood in Minneapolis see’s the highest frequency of police force? (Mike Hills)"
   ]
  },
  {
   "cell_type": "code",
   "execution_count": 43,
   "metadata": {},
   "outputs": [
    {
     "data": {
      "text/html": [
       "<div>\n",
       "<style scoped>\n",
       "    .dataframe tbody tr th:only-of-type {\n",
       "        vertical-align: middle;\n",
       "    }\n",
       "\n",
       "    .dataframe tbody tr th {\n",
       "        vertical-align: top;\n",
       "    }\n",
       "\n",
       "    .dataframe thead th {\n",
       "        text-align: right;\n",
       "    }\n",
       "</style>\n",
       "<table border=\"1\" class=\"dataframe\">\n",
       "  <thead>\n",
       "    <tr style=\"text-align: right;\">\n",
       "      <th></th>\n",
       "      <th>Force Count</th>\n",
       "    </tr>\n",
       "    <tr>\n",
       "      <th>Neighborhood</th>\n",
       "      <th></th>\n",
       "    </tr>\n",
       "  </thead>\n",
       "  <tbody>\n",
       "    <tr>\n",
       "      <th>Downtown West</th>\n",
       "      <td>7535</td>\n",
       "    </tr>\n",
       "    <tr>\n",
       "      <th>Jordan</th>\n",
       "      <td>1429</td>\n",
       "    </tr>\n",
       "    <tr>\n",
       "      <th>Near - North</th>\n",
       "      <td>1294</td>\n",
       "    </tr>\n",
       "    <tr>\n",
       "      <th>Hawthorne</th>\n",
       "      <td>1288</td>\n",
       "    </tr>\n",
       "    <tr>\n",
       "      <th>Willard - Hay</th>\n",
       "      <td>987</td>\n",
       "    </tr>\n",
       "    <tr>\n",
       "      <th>...</th>\n",
       "      <td>...</td>\n",
       "    </tr>\n",
       "    <tr>\n",
       "      <th>Hale</th>\n",
       "      <td>22</td>\n",
       "    </tr>\n",
       "    <tr>\n",
       "      <th>Page</th>\n",
       "      <td>14</td>\n",
       "    </tr>\n",
       "    <tr>\n",
       "      <th>Camden Industrial</th>\n",
       "      <td>13</td>\n",
       "    </tr>\n",
       "    <tr>\n",
       "      <th>Cedar - Isles - Dean</th>\n",
       "      <td>12</td>\n",
       "    </tr>\n",
       "    <tr>\n",
       "      <th>Kenny</th>\n",
       "      <td>1</td>\n",
       "    </tr>\n",
       "  </tbody>\n",
       "</table>\n",
       "<p>86 rows × 1 columns</p>\n",
       "</div>"
      ],
      "text/plain": [
       "                      Force Count\n",
       "Neighborhood                     \n",
       "Downtown West                7535\n",
       "Jordan                       1429\n",
       "Near - North                 1294\n",
       "Hawthorne                    1288\n",
       "Willard - Hay                 987\n",
       "...                           ...\n",
       "Hale                           22\n",
       "Page                           14\n",
       "Camden Industrial              13\n",
       "Cedar - Isles - Dean           12\n",
       "Kenny                           1\n",
       "\n",
       "[86 rows x 1 columns]"
      ]
     },
     "execution_count": 43,
     "metadata": {},
     "output_type": "execute_result"
    }
   ],
   "source": [
    "#pull out neighborhood and forcetype from clean df\n",
    "#group by neighborhood and calculate the total force count per neighborhood\n",
    "force_per_neighborhood_df = clean_df.loc[:,['Neighborhood','Type of Force']]\n",
    "force_group = force_per_neighborhood_df.groupby('Neighborhood')\n",
    "sum_neigh = force_group['Type of Force'].count()\n",
    "\n",
    "#place results into new df, sort by force count from highest to lowest; store and display\n",
    "force_per_neighborhood_df = pd.DataFrame({'Force Count': sum_neigh})\n",
    "sorted_force_df = force_per_neighborhood_df.sort_values(['Force Count'], ascending=False)\n",
    "sorted_force_df"
   ]
  },
  {
   "cell_type": "code",
   "execution_count": 44,
   "metadata": {},
   "outputs": [
    {
     "data": {
      "text/html": [
       "<div>\n",
       "<style scoped>\n",
       "    .dataframe tbody tr th:only-of-type {\n",
       "        vertical-align: middle;\n",
       "    }\n",
       "\n",
       "    .dataframe tbody tr th {\n",
       "        vertical-align: top;\n",
       "    }\n",
       "\n",
       "    .dataframe thead th {\n",
       "        text-align: right;\n",
       "    }\n",
       "</style>\n",
       "<table border=\"1\" class=\"dataframe\">\n",
       "  <thead>\n",
       "    <tr style=\"text-align: right;\">\n",
       "      <th></th>\n",
       "      <th>Force Count</th>\n",
       "    </tr>\n",
       "    <tr>\n",
       "      <th>Neighborhood</th>\n",
       "      <th></th>\n",
       "    </tr>\n",
       "  </thead>\n",
       "  <tbody>\n",
       "    <tr>\n",
       "      <th>Downtown West</th>\n",
       "      <td>7535</td>\n",
       "    </tr>\n",
       "    <tr>\n",
       "      <th>Jordan</th>\n",
       "      <td>1429</td>\n",
       "    </tr>\n",
       "    <tr>\n",
       "      <th>Near - North</th>\n",
       "      <td>1294</td>\n",
       "    </tr>\n",
       "    <tr>\n",
       "      <th>Hawthorne</th>\n",
       "      <td>1288</td>\n",
       "    </tr>\n",
       "    <tr>\n",
       "      <th>Willard - Hay</th>\n",
       "      <td>987</td>\n",
       "    </tr>\n",
       "  </tbody>\n",
       "</table>\n",
       "</div>"
      ],
      "text/plain": [
       "               Force Count\n",
       "Neighborhood              \n",
       "Downtown West         7535\n",
       "Jordan                1429\n",
       "Near - North          1294\n",
       "Hawthorne             1288\n",
       "Willard - Hay          987"
      ]
     },
     "execution_count": 44,
     "metadata": {},
     "output_type": "execute_result"
    }
   ],
   "source": [
    "#store top 5 highest total force per neighborhood into its own df and display\n",
    "top5force_df = sorted_force_df.head(5)\n",
    "top5force_df"
   ]
  },
  {
   "cell_type": "code",
   "execution_count": 45,
   "metadata": {},
   "outputs": [
    {
     "data": {
      "text/plain": [
       "Text(0.5, 1.0, 'Minneapolis Police Use of Force Distribution per Neighborhood: 10 Highest\\n(2008-2021)')"
      ]
     },
     "execution_count": 45,
     "metadata": {},
     "output_type": "execute_result"
    },
    {
     "data": {
      "image/png": "[encoded data removed]",
      "text/plain": [
       "<Figure size 2160x1080 with 1 Axes>"
      ]
     },
     "metadata": {
      "needs_background": "light"
     },
     "output_type": "display_data"
    }
   ],
   "source": [
    "Top5bar = top5force_df.plot(kind=\"bar\", figsize=(30,15), width=.4, color=\"red\", alpha=.8, rot=0, fontsize=20, legend=False)\n",
    "Top5bar.set_ylabel('Force Count',fontdict={'fontsize':24})\n",
    "Top5bar.set_xlabel('Neighborhood',fontdict={'fontsize':24})\n",
    "Top5bar.set_title('Minneapolis Police Use of Force Distribution per Neighborhood: 10 Highest' + '\\n' + '(2008-2021)', pad=15,fontdict={'fontsize':25})"
   ]
  },
  {
   "cell_type": "code",
   "execution_count": 46,
   "metadata": {},
   "outputs": [],
   "source": [
    "#Find highest force count neighborhood and store\n",
    "worst_neigh = sorted_force_df.index[0]\n",
    "\n",
    "#find and store highest force count\n",
    "top1force = top5force_df['Force Count'][0]\n",
    "\n",
    "#remove highest force count row and store into new df\n",
    "top1_clean_df = force_per_neighborhood_df.loc[force_per_neighborhood_df['Force Count'] < top1force]\n",
    "\n",
    "#calculate total force count for all neighborhoods combined except for the highest force neighborhood\n",
    "sumforce = top1_clean_df['Force Count'].sum()"
   ]
  },
  {
   "cell_type": "code",
   "execution_count": 47,
   "metadata": {},
   "outputs": [],
   "source": [
    "\n",
    "#create dictionary to store values for summarized df\n",
    "dict = {'Minneapolis Neighborhoods (Total:86)':[worst_neigh, \"All Others\"], \n",
    "        'Force Count': [top1force, sumforce]}\n",
    "\n",
    "#pass dict into pd.DataFrame to generate df\n",
    "Topvsrest_df = pd.DataFrame(dict)\n",
    "\n",
    "#set index to \"Minneapolis Neighborhoods\" and display\n",
    "Topvsrest_df = Topvsrest_df.set_index('Minneapolis Neighborhoods (Total:86)')\n"
   ]
  },
  {
   "cell_type": "code",
   "execution_count": 48,
   "metadata": {},
   "outputs": [
    {
     "data": {
      "text/plain": [
       "Text(0.5, 1.0, 'Minneapolis Police Use of Force\\n(2008-2021)')"
      ]
     },
     "execution_count": 48,
     "metadata": {},
     "output_type": "execute_result"
    },
    {
     "data": {
      "image/png": "[encoded data removed]",
      "text/plain": [
       "<Figure size 288x504 with 1 Axes>"
      ]
     },
     "metadata": {
      "needs_background": "light"
     },
     "output_type": "display_data"
    }
   ],
   "source": [
    "Topvsrest_bar = Topvsrest_df.plot(kind=\"bar\", figsize=(4,7), width=.5, color=\"red\", alpha=.7, rot=0, fontsize=12, legend=False)\n",
    "Topvsrest_bar.set_ylabel('Force Count',fontdict={'fontsize':12})\n",
    "Topvsrest_bar.set_xlabel('Neighborhoods (Total:86)',fontdict={'fontsize':12})\n",
    "Topvsrest_bar.set_title('Minneapolis Police Use of Force' + '\\n' + '(2008-2021)', pad=15,fontdict={'fontsize':14})"
   ]
  },
  {
   "cell_type": "code",
   "execution_count": 49,
   "metadata": {},
   "outputs": [
    {
     "data": {
      "image/png": "[encoded data removed]",
      "text/plain": [
       "<Figure size 432x288 with 1 Axes>"
      ]
     },
     "metadata": {},
     "output_type": "display_data"
    }
   ],
   "source": [
    "x = [top1force,sumforce]\n",
    "explode = (.06,0)\n",
    "textprops = {\"fontsize\":13}\n",
    "colors = [\"red\",\"green\"]\n",
    "labels = ['Downtown West','All Others']\n",
    "\n",
    "plt.pie(x, labels=labels, textprops=textprops, explode=explode, colors=colors, \n",
    "        autopct=\"%1.1f%%\", shadow=True, startangle=90)\n",
    "plt.axis(\"equal\")\n",
    "plt.title(\"Minneapolis Police Use of Force: Worst Neighborhood vs All Others (Total: 86)\" + \"\\n\" + \"(2008-2021)\")\n",
    "\n",
    "plt.show()\n"
   ]
  },
  {
   "cell_type": "code",
   "execution_count": 50,
   "metadata": {},
   "outputs": [
    {
     "data": {
      "text/html": [
       "<div>\n",
       "<style scoped>\n",
       "    .dataframe tbody tr th:only-of-type {\n",
       "        vertical-align: middle;\n",
       "    }\n",
       "\n",
       "    .dataframe tbody tr th {\n",
       "        vertical-align: top;\n",
       "    }\n",
       "\n",
       "    .dataframe thead th {\n",
       "        text-align: right;\n",
       "    }\n",
       "</style>\n",
       "<table border=\"1\" class=\"dataframe\">\n",
       "  <thead>\n",
       "    <tr style=\"text-align: right;\">\n",
       "      <th></th>\n",
       "      <th>Police ID</th>\n",
       "      <th>Case Number</th>\n",
       "      <th>Response Date</th>\n",
       "      <th>Type of Crime</th>\n",
       "      <th>Type of Force</th>\n",
       "      <th>Type of Force Action</th>\n",
       "      <th>Event Age</th>\n",
       "      <th>Type of Resistance</th>\n",
       "      <th>Precinct</th>\n",
       "      <th>Neighborhood</th>\n",
       "    </tr>\n",
       "  </thead>\n",
       "  <tbody>\n",
       "    <tr>\n",
       "      <th>0</th>\n",
       "      <td>19194596</td>\n",
       "      <td>08-007748</td>\n",
       "      <td>2008/01/08 14:20:21+00</td>\n",
       "      <td>Disturbance</td>\n",
       "      <td>Bodily Force</td>\n",
       "      <td>Push Away</td>\n",
       "      <td>13.0</td>\n",
       "      <td>Tensed</td>\n",
       "      <td>4</td>\n",
       "      <td>Harrison</td>\n",
       "    </tr>\n",
       "    <tr>\n",
       "      <th>1</th>\n",
       "      <td>19194597</td>\n",
       "      <td>08-019047</td>\n",
       "      <td>2008/01/19 23:47:58+00</td>\n",
       "      <td>On Site</td>\n",
       "      <td>Bodily Force</td>\n",
       "      <td>Push Away</td>\n",
       "      <td>27.0</td>\n",
       "      <td>Tensed</td>\n",
       "      <td>1</td>\n",
       "      <td>Downtown West</td>\n",
       "    </tr>\n",
       "    <tr>\n",
       "      <th>2</th>\n",
       "      <td>19194598</td>\n",
       "      <td>08-034409</td>\n",
       "      <td>2008/02/04 21:21:49+00</td>\n",
       "      <td>Property Damage Accident</td>\n",
       "      <td>Bodily Force</td>\n",
       "      <td>Joint Lock</td>\n",
       "      <td>17.0</td>\n",
       "      <td>Verbal Non-Compliance</td>\n",
       "      <td>4</td>\n",
       "      <td>Willard - Hay</td>\n",
       "    </tr>\n",
       "    <tr>\n",
       "      <th>3</th>\n",
       "      <td>19194599</td>\n",
       "      <td>08-043573</td>\n",
       "      <td>2008/02/14 22:03:15+00</td>\n",
       "      <td>Unwanted Person</td>\n",
       "      <td>Bodily Force</td>\n",
       "      <td>Body Weight to Pin</td>\n",
       "      <td>18.0</td>\n",
       "      <td>Tensed</td>\n",
       "      <td>4</td>\n",
       "      <td>Lind - Bohanon</td>\n",
       "    </tr>\n",
       "    <tr>\n",
       "      <th>4</th>\n",
       "      <td>19194600</td>\n",
       "      <td>08-052540</td>\n",
       "      <td>2008/02/24 02:25:39+00</td>\n",
       "      <td>Fight</td>\n",
       "      <td>Bodily Force</td>\n",
       "      <td>Knees</td>\n",
       "      <td>28.0</td>\n",
       "      <td>Commission of Crime</td>\n",
       "      <td>1</td>\n",
       "      <td>Downtown West</td>\n",
       "    </tr>\n",
       "  </tbody>\n",
       "</table>\n",
       "</div>"
      ],
      "text/plain": [
       "   Police ID Case Number           Response Date              Type of Crime  \\\n",
       "0   19194596   08-007748  2008/01/08 14:20:21+00               Disturbance    \n",
       "1   19194597   08-019047  2008/01/19 23:47:58+00                   On Site    \n",
       "2   19194598   08-034409  2008/02/04 21:21:49+00  Property Damage Accident    \n",
       "3   19194599   08-043573  2008/02/14 22:03:15+00           Unwanted Person    \n",
       "4   19194600   08-052540  2008/02/24 02:25:39+00                     Fight    \n",
       "\n",
       "  Type of Force Type of Force Action  Event Age     Type of Resistance  \\\n",
       "0  Bodily Force            Push Away       13.0                 Tensed   \n",
       "1  Bodily Force            Push Away       27.0                 Tensed   \n",
       "2  Bodily Force           Joint Lock       17.0  Verbal Non-Compliance   \n",
       "3  Bodily Force   Body Weight to Pin       18.0                 Tensed   \n",
       "4  Bodily Force                Knees       28.0    Commission of Crime   \n",
       "\n",
       "  Precinct    Neighborhood  \n",
       "0        4        Harrison  \n",
       "1        1   Downtown West  \n",
       "2        4   Willard - Hay  \n",
       "3        4  Lind - Bohanon  \n",
       "4        1   Downtown West  "
      ]
     },
     "execution_count": 50,
     "metadata": {},
     "output_type": "execute_result"
    }
   ],
   "source": [
    "\n",
    "clean_df.head()"
   ]
  },
  {
   "cell_type": "code",
   "execution_count": 51,
   "metadata": {},
   "outputs": [],
   "source": [
    "# Mike H code ends here"
   ]
  },
  {
   "cell_type": "markdown",
   "metadata": {},
   "source": [
    "# 5. Is the use of police force in Minneapolis going up or down? (Mike F)"
   ]
  },
  {
   "cell_type": "code",
   "execution_count": null,
   "metadata": {},
   "outputs": [],
   "source": []
  },
  {
   "cell_type": "code",
   "execution_count": 52,
   "metadata": {},
   "outputs": [],
   "source": [
    "# Mike F code ends here"
   ]
  },
  {
   "cell_type": "markdown",
   "metadata": {},
   "source": [
    "# 6. Perform a linear regression on use of force between 2015 and 2019 and make a prediction about use of force in 2020 for the city of Minneapolis.  Compare this prediction to actual use of force outcomes in 2020."
   ]
  },
  {
   "cell_type": "code",
   "execution_count": 143,
   "metadata": {},
   "outputs": [
    {
     "data": {
      "text/html": [
       "<div>\n",
       "<style scoped>\n",
       "    .dataframe tbody tr th:only-of-type {\n",
       "        vertical-align: middle;\n",
       "    }\n",
       "\n",
       "    .dataframe tbody tr th {\n",
       "        vertical-align: top;\n",
       "    }\n",
       "\n",
       "    .dataframe thead th {\n",
       "        text-align: right;\n",
       "    }\n",
       "</style>\n",
       "<table border=\"1\" class=\"dataframe\">\n",
       "  <thead>\n",
       "    <tr style=\"text-align: right;\">\n",
       "      <th></th>\n",
       "      <th>Response Date</th>\n",
       "      <th>Type of Force</th>\n",
       "    </tr>\n",
       "  </thead>\n",
       "  <tbody>\n",
       "    <tr>\n",
       "      <th>0</th>\n",
       "      <td>2008/01/08 14:20:21+00</td>\n",
       "      <td>Bodily Force</td>\n",
       "    </tr>\n",
       "    <tr>\n",
       "      <th>1</th>\n",
       "      <td>2008/01/19 23:47:58+00</td>\n",
       "      <td>Bodily Force</td>\n",
       "    </tr>\n",
       "    <tr>\n",
       "      <th>2</th>\n",
       "      <td>2008/02/04 21:21:49+00</td>\n",
       "      <td>Bodily Force</td>\n",
       "    </tr>\n",
       "    <tr>\n",
       "      <th>3</th>\n",
       "      <td>2008/02/14 22:03:15+00</td>\n",
       "      <td>Bodily Force</td>\n",
       "    </tr>\n",
       "    <tr>\n",
       "      <th>4</th>\n",
       "      <td>2008/02/24 02:25:39+00</td>\n",
       "      <td>Bodily Force</td>\n",
       "    </tr>\n",
       "    <tr>\n",
       "      <th>...</th>\n",
       "      <td>...</td>\n",
       "      <td>...</td>\n",
       "    </tr>\n",
       "    <tr>\n",
       "      <th>29070</th>\n",
       "      <td>2020/11/12 14:41:54+00</td>\n",
       "      <td>Maximal Restraint Technique</td>\n",
       "    </tr>\n",
       "    <tr>\n",
       "      <th>29071</th>\n",
       "      <td>2020/11/13 21:48:02+00</td>\n",
       "      <td>Bodily Force</td>\n",
       "    </tr>\n",
       "    <tr>\n",
       "      <th>29072</th>\n",
       "      <td>2020/11/19 15:44:41+00</td>\n",
       "      <td>Taser</td>\n",
       "    </tr>\n",
       "    <tr>\n",
       "      <th>29073</th>\n",
       "      <td>2020/11/28 08:18:10+00</td>\n",
       "      <td>Bodily Force</td>\n",
       "    </tr>\n",
       "    <tr>\n",
       "      <th>29074</th>\n",
       "      <td>2020/12/04 06:07:08+00</td>\n",
       "      <td>Bodily Force</td>\n",
       "    </tr>\n",
       "  </tbody>\n",
       "</table>\n",
       "<p>29075 rows × 2 columns</p>\n",
       "</div>"
      ],
      "text/plain": [
       "                Response Date                Type of Force\n",
       "0      2008/01/08 14:20:21+00                 Bodily Force\n",
       "1      2008/01/19 23:47:58+00                 Bodily Force\n",
       "2      2008/02/04 21:21:49+00                 Bodily Force\n",
       "3      2008/02/14 22:03:15+00                 Bodily Force\n",
       "4      2008/02/24 02:25:39+00                 Bodily Force\n",
       "...                       ...                          ...\n",
       "29070  2020/11/12 14:41:54+00  Maximal Restraint Technique\n",
       "29071  2020/11/13 21:48:02+00                 Bodily Force\n",
       "29072  2020/11/19 15:44:41+00                        Taser\n",
       "29073  2020/11/28 08:18:10+00                 Bodily Force\n",
       "29074  2020/12/04 06:07:08+00                 Bodily Force\n",
       "\n",
       "[29075 rows x 2 columns]"
      ]
     },
     "execution_count": 143,
     "metadata": {},
     "output_type": "execute_result"
    }
   ],
   "source": [
    "#pull out Response Date and Type of Force from clean df and store\n",
    "date_force_df = clean_df.loc[:,['Response Date','Type of Force']]\n",
    "\n",
    "#find all response dates containing 2015 - 2019 and store\n",
    "searchfor = ['2015', '2016', '2017', '2018', '2019']\n",
    "df_2015_2019 = date_force_df[date_force_df['Response Date'].str.contains('|'.join(searchfor))]\n",
    "\n",
    "#divide 2015 - 2019 in separate dfs\n",
    "df_2015 = date_force_df[date_force_df['Response Date'].str.contains(\"2015\")]\n",
    "df_2016 = date_force_df[date_force_df['Response Date'].str.contains(\"2016\")]\n",
    "df_2017 = date_force_df[date_force_df['Response Date'].str.contains(\"2017\")]\n",
    "df_2018 = date_force_df[date_force_df['Response Date'].str.contains(\"2018\")]\n",
    "df_2019 = date_force_df[date_force_df['Response Date'].str.contains(\"2019\")]\n",
    "df_2020 = date_force_df[date_force_df['Response Date'].str.contains(\"2020\")]\n",
    "\n",
    "date_force_df"
   ]
  },
  {
   "cell_type": "code",
   "execution_count": 141,
   "metadata": {},
   "outputs": [
    {
     "data": {
      "text/plain": [
       "True"
      ]
     },
     "execution_count": 141,
     "metadata": {},
     "output_type": "execute_result"
    }
   ],
   "source": [
    "#checking to make sure the length of 2015 - 2019 dfs is equal to length of 2015-2019 dfs to ensure no missing values\n",
    "len(df_2015_2019) == len(df_2015) + len(df_2016) + len(df_2017) + len(df_2018) + len(df_2019)"
   ]
  },
  {
   "cell_type": "code",
   "execution_count": 147,
   "metadata": {},
   "outputs": [],
   "source": [
    "#find and store total bodily force incidents for each year\n",
    "sum2015 = df_2015['Type of Force'].count()\n",
    "sum2016 = df_2016['Type of Force'].count()\n",
    "sum2017 = df_2017['Type of Force'].count()\n",
    "sum2018 = df_2018['Type of Force'].count()\n",
    "sum2019 = df_2019['Type of Force'].count()\n",
    "sum2020 = df_2020['Type of Force'].count()"
   ]
  },
  {
   "cell_type": "code",
   "execution_count": 148,
   "metadata": {},
   "outputs": [
    {
     "data": {
      "text/html": [
       "<div>\n",
       "<style scoped>\n",
       "    .dataframe tbody tr th:only-of-type {\n",
       "        vertical-align: middle;\n",
       "    }\n",
       "\n",
       "    .dataframe tbody tr th {\n",
       "        vertical-align: top;\n",
       "    }\n",
       "\n",
       "    .dataframe thead th {\n",
       "        text-align: right;\n",
       "    }\n",
       "</style>\n",
       "<table border=\"1\" class=\"dataframe\">\n",
       "  <thead>\n",
       "    <tr style=\"text-align: right;\">\n",
       "      <th></th>\n",
       "      <th>Year</th>\n",
       "      <th>Total Bodily Force Incidents</th>\n",
       "    </tr>\n",
       "  </thead>\n",
       "  <tbody>\n",
       "    <tr>\n",
       "      <th>0</th>\n",
       "      <td>2015</td>\n",
       "      <td>2038</td>\n",
       "    </tr>\n",
       "    <tr>\n",
       "      <th>1</th>\n",
       "      <td>2016</td>\n",
       "      <td>2202</td>\n",
       "    </tr>\n",
       "    <tr>\n",
       "      <th>2</th>\n",
       "      <td>2017</td>\n",
       "      <td>1924</td>\n",
       "    </tr>\n",
       "    <tr>\n",
       "      <th>3</th>\n",
       "      <td>2018</td>\n",
       "      <td>1776</td>\n",
       "    </tr>\n",
       "    <tr>\n",
       "      <th>4</th>\n",
       "      <td>2019</td>\n",
       "      <td>1697</td>\n",
       "    </tr>\n",
       "    <tr>\n",
       "      <th>5</th>\n",
       "      <td>2020</td>\n",
       "      <td>1718</td>\n",
       "    </tr>\n",
       "  </tbody>\n",
       "</table>\n",
       "</div>"
      ],
      "text/plain": [
       "   Year  Total Bodily Force Incidents\n",
       "0  2015                          2038\n",
       "1  2016                          2202\n",
       "2  2017                          1924\n",
       "3  2018                          1776\n",
       "4  2019                          1697\n",
       "5  2020                          1718"
      ]
     },
     "execution_count": 148,
     "metadata": {},
     "output_type": "execute_result"
    }
   ],
   "source": [
    "#create dictionary of total bodily force incidents for each year\n",
    "dict = {'Year':[2015,2016,2017,2018,2019,2020], \n",
    "        'Total Bodily Force Incidents': [sum2015,sum2016,sum2017,sum2018,sum2019,sum2020]}\n",
    "\n",
    "#pass dict into pd.DataFrame to generate df\n",
    "tot_bodyforce_df = pd.DataFrame(dict)\n",
    "tot_bodyforce_df"
   ]
  },
  {
   "cell_type": "code",
   "execution_count": 56,
   "metadata": {
    "scrolled": true
   },
   "outputs": [
    {
     "data": {
      "image/png": "[encoded data removed]",
      "text/plain": [
       "<Figure size 432x288 with 1 Axes>"
      ]
     },
     "metadata": {
      "needs_background": "light"
     },
     "output_type": "display_data"
    }
   ],
   "source": [
    "#find and store years for x-values\n",
    "year = tot_bodyforce_df.iloc[:,0]\n",
    "\n",
    "#find and store total bodily force incidents per year and store for y-values\n",
    "tot_bodyforce = tot_bodyforce_df.iloc[:,1]\n",
    "\n",
    "plt.xlabel('Year')\n",
    "plt.ylabel('Total Bodily Force Incidents')\n",
    "\n",
    "bf_slope, bf_int, bf_r, bf_p, bf_std_err = stats.linregress(year, tot_bodyforce)\n",
    "\n",
    "bf_fit = bf_slope * year + bf_int\n",
    "plt.scatter(year, tot_bodyforce)\n",
    "plt.plot(year,bf_fit,\"--\")\n",
    "plt.show()"
   ]
  },
  {
   "cell_type": "code",
   "execution_count": 139,
   "metadata": {},
   "outputs": [
    {
     "name": "stdout",
     "output_type": "stream",
     "text": [
      "The total bodily force incidents in 2020 will be 1659.0\n",
      "The actual total bodily force incidents in 2020 were 1718\n"
     ]
    }
   ],
   "source": [
    "totbodyforce2020 = tot_bodyforce_df.iloc[5,1]\n",
    "print(f\"The total bodily force incidents in 2020 will be {round(bf_slope * year2020 + bf_int,0)}\")\n",
    "print(f\"The actual total bodily force incidents in 2020 were {totbodyforce2020}\")\n"
   ]
  },
  {
   "cell_type": "code",
   "execution_count": 78,
   "metadata": {},
   "outputs": [
    {
     "data": {
      "text/plain": [
       "0    1462\n",
       "1    1459\n",
       "2    1344\n",
       "3    1398\n",
       "4    1409\n",
       "5    1448\n",
       "Name: Bodily Force Count, dtype: int64"
      ]
     },
     "execution_count": 78,
     "metadata": {},
     "output_type": "execute_result"
    }
   ],
   "source": [
    "force_counts_2015 = df_2015['Type of Force'].value_counts()\n",
    "force_counts_2016 = df_2016['Type of Force'].value_counts()\n",
    "force_counts_2017 = df_2017['Type of Force'].value_counts()\n",
    "force_counts_2018 = df_2018['Type of Force'].value_counts()\n",
    "force_counts_2019 = df_2019['Type of Force'].value_counts()\n",
    "force_counts_2020 = df_2020['Type of Force'].value_counts()\n",
    "\n",
    "bodilyforce2020 = force_counts_2020.loc['Bodily Force']\n",
    "bodilyforce2019 = force_counts_2019.loc['Bodily Force']\n",
    "bodilyforce2018 = force_counts_2018.loc['Bodily Force']\n",
    "bodilyforce2017 = force_counts_2017.loc['Bodily Force']\n",
    "bodilyforce2016 = force_counts_2016.loc['Bodily Force']\n",
    "bodilyforce2015 = force_counts_2015.loc['Bodily Force']\n",
    "\n",
    "dict = {'year':[2015,2016,2017,2018,2019,2020], \n",
    "        'Bodily Force Count': [bodilyforce2015,bodilyforce2016,bodilyforce2017,bodilyforce2018,bodilyforce2019,bodilyforce2020]}\n",
    "\n",
    "#pass dict into pd.DataFrame to generate df\n",
    "bodyforce_df = pd.DataFrame(dict)\n",
    "bodyforce_count = bodyforce_df['Bodily Force Count']\n",
    "\n",
    "startyear = bodyforce_df['year'].min()\n",
    "endyear = bodyforce_df['year'].max()\n",
    "\n",
    "bodyforce_df\n",
    "\n",
    "tot_body = bodyforce_df.iloc[:,1]\n",
    "\n",
    "b_slope, b_int, b_r, b_p, b_std_err = stats.linregress(year, tot_body)\n",
    "\n",
    "b_fit = b_slope * year + b_int\n",
    "\n",
    "bodyforce2020 = bodyforce_df.iloc[5,1]"
   ]
  },
  {
   "cell_type": "code",
   "execution_count": 79,
   "metadata": {},
   "outputs": [],
   "source": [
    "taser2020 = force_counts_2020.loc['Taser']\n",
    "taser2019 = force_counts_2019.loc['Taser']\n",
    "taser2018 = force_counts_2018.loc['Taser']\n",
    "taser2017 = force_counts_2017.loc['Taser']\n",
    "taser2016 = force_counts_2016.loc['Taser']\n",
    "taser2015 = force_counts_2015.loc['Taser']\n",
    "\n",
    "dict = {'year':[2015,2016,2017,2018,2019,2020], \n",
    "        'Taser Count': [taser2015,taser2016,taser2017,taser2018,taser2019,taser2020]}\n",
    "\n",
    "#pass dict into pd.DataFrame to generate df\n",
    "taser_df = pd.DataFrame(dict)\n",
    "taser_count = taser_df['Taser Count']\n",
    "\n",
    "tot_taser = taser_df.iloc[:,1]\n",
    "\n",
    "t_slope, t_int, t_r, t_p, t_std_err = stats.linregress(year, tot_taser)\n",
    "\n",
    "t_fit = t_slope * year + t_int\n",
    "\n",
    "taser2020 = taser_df.iloc[5,1]"
   ]
  },
  {
   "cell_type": "code",
   "execution_count": 80,
   "metadata": {},
   "outputs": [],
   "source": [
    "chem2020 = force_counts_2020.loc['Chemical Irritant']\n",
    "chem2019 = force_counts_2019.loc['Chemical Irritant']\n",
    "chem2018 = force_counts_2018.loc['Chemical Irritant']\n",
    "chem2017 = force_counts_2017.loc['Chemical Irritant']\n",
    "chem2016 = force_counts_2016.loc['Chemical Irritant']\n",
    "chem2015 = force_counts_2015.loc['Chemical Irritant']\n",
    "\n",
    "dict = {'year':[2015,2016,2017,2018,2019,2020], \n",
    "        'Chemical Irritant Count': [chem2015,chem2016,chem2017,chem2018,chem2019,chem2020]}\n",
    "\n",
    "#pass dict into pd.DataFrame to generate df\n",
    "chem_df = pd.DataFrame(dict)\n",
    "chem_count = chem_df['Chemical Irritant Count']\n",
    "\n",
    "tot_chem = chem_df.iloc[:,1]\n",
    "\n",
    "c_slope, c_int, c_r, c_p, c_std_err = stats.linregress(year, tot_chem)\n",
    "\n",
    "c_fit = c_slope * year + c_int\n",
    "\n",
    "chem2020 = chem_df.iloc[5,1]"
   ]
  },
  {
   "cell_type": "code",
   "execution_count": 134,
   "metadata": {},
   "outputs": [
    {
     "data": {
      "image/png": "[encoded data removed]",
      "text/plain": [
       "<Figure size 432x288 with 4 Axes>"
      ]
     },
     "metadata": {
      "needs_background": "light"
     },
     "output_type": "display_data"
    }
   ],
   "source": [
    "fig, ((ax1, ax2), (ax3, ax4)) = plt.subplots(sharex=True, nrows=2, ncols=2, gridspec_kw={'width_ratios': [3, 3]})\n",
    "fig.suptitle(\"Bodily Force Incidents\", fontsize=13, fontweight=\"bold\")\n",
    "\n",
    "\n",
    "ax1.set_xlim(startyear, endyear)\n",
    "ax1.plot(year, taser_count, linewidth=1, marker=\"o\")\n",
    "ax1.plot(year, t_fit, \"b--\", linewidth=1)\n",
    "ax1.set_ylabel(\"Taser\")\n",
    "\n",
    "ax2.plot(year, bodyforce_df['Bodily Force Count'], linewidth=1, marker=\"o\", color=\"r\")\n",
    "ax2.plot(year, b_fit, \"r--\", linewidth=1)\n",
    "ax2.set_ylabel(\"Bodily Force\")\n",
    "\n",
    "ax3.plot(year, chem_count, linewidth=1, marker=\"o\", color=\"b\")\n",
    "ax3.plot(year, c_fit, \"b--\", linewidth=1)\n",
    "ax3.set_ylabel(\"Chemical Irritant\")\n",
    "ax3.set_xlabel(\"Year\")\n",
    "\n",
    "ax4.plot(year, tot_bodyforce_df['Total Bodily Force Incidents'] , linewidth=1, marker=\"o\", color=\"g\")\n",
    "ax4.plot(year, bf_fit, \"g--\", linewidth=1)\n",
    "ax4.set_ylabel(\"Total Incidents\")\n",
    "ax4.set_xlabel(\"Year\")\n",
    "\n",
    "plt.tight_layout(pad=2)\n",
    "\n",
    "plt.show()"
   ]
  },
  {
   "cell_type": "code",
   "execution_count": 137,
   "metadata": {},
   "outputs": [
    {
     "name": "stdout",
     "output_type": "stream",
     "text": [
      "The total taser incidents in 2020 will be 160.0\n",
      "The actual total taser incidents in 2020 were 173\n",
      "\n",
      "The total bodily force incidents in 2020 will be 1408.0\n",
      "The actual total bodily force incidents in 2020 were 1448\n",
      "\n",
      "The total chemical irritant incidents in 2020 will be 19.0\n",
      "The actual force incidents in 2020 were 21\n",
      "\n",
      "The total force incidents in 2020 will be 1659.0\n",
      "The actual total force incidents in 2020 were 1718\n"
     ]
    }
   ],
   "source": [
    "year2020 = 2020\n",
    "\n",
    "print(f\"The total taser incidents in 2020 will be {round(t_slope * year2020 + t_int,0)}\")\n",
    "print(f\"The actual total taser incidents in 2020 were {taser2020}\\n\")\n",
    "\n",
    "print(f\"The total bodily force incidents in 2020 will be {round(b_slope * year2020 + b_int,0)}\")\n",
    "print(f\"The actual total bodily force incidents in 2020 were {bodyforce2020}\\n\")\n",
    "\n",
    "print(f\"The total chemical irritant incidents in 2020 will be {round(c_slope * year2020 + c_int,0)}\")\n",
    "print(f\"The actual force incidents in 2020 were {chem2020}\\n\")\n",
    "\n",
    "print(f\"The total force incidents in 2020 will be {round(bf_slope * year2020 + bf_int,0)}\")\n",
    "print(f\"The actual total force incidents in 2020 were {totbodyforce2020}\")\n"
   ]
  },
  {
   "cell_type": "code",
   "execution_count": null,
   "metadata": {},
   "outputs": [],
   "source": []
  },
  {
   "cell_type": "code",
   "execution_count": null,
   "metadata": {},
   "outputs": [],
   "source": []
  },
  {
   "cell_type": "code",
   "execution_count": null,
   "metadata": {},
   "outputs": [],
   "source": []
  }
 ],
 "metadata": {
  "kernelspec": {
   "display_name": "Python 3",
   "language": "python",
   "name": "python3"
  },
  "language_info": {
   "codemirror_mode": {
    "name": "ipython",
    "version": 3
   },
   "file_extension": ".py",
   "mimetype": "text/x-python",
   "name": "python",
   "nbconvert_exporter": "python",
   "pygments_lexer": "ipython3",
   "version": "3.6.10"
  }
 },
 "nbformat": 4,
 "nbformat_minor": 4
}

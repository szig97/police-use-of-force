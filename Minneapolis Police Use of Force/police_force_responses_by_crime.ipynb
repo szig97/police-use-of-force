{
 "cells": [
  {
   "cell_type": "markdown",
   "metadata": {},
   "source": [
    "# Police Force Responses by Crime"
   ]
  },
  {
   "cell_type": "code",
   "execution_count": null,
   "metadata": {},
   "outputs": [],
   "source": [
    "#Dependencies\n",
    "from matplotlib import pyplot as plt\n",
    "from scipy import stats\n",
    "import numpy as np\n",
    "import pandas as pd"
   ]
  },
  {
   "cell_type": "code",
   "execution_count": null,
   "metadata": {},
   "outputs": [],
   "source": [
    "#Import csv file\n",
    "police_data = pd.read_csv(\"Resources/Police_Use_of_Force.csv\")\n",
    "police_data.head()"
   ]
  },
  {
   "cell_type": "code",
   "execution_count": null,
   "metadata": {},
   "outputs": [],
   "source": [
    "police_data.columns"
   ]
  },
  {
   "cell_type": "code",
   "execution_count": null,
   "metadata": {},
   "outputs": [],
   "source": [
    "police_data_df = police_data.loc[:, [\"PoliceUseOfForceID\", \"CaseNumber\", \"ResponseDate\", \"Problem\", \"ForceType\",\n",
    "                                    \"ForceTypeAction\", \"EventAge\", \"TypeOfResistance\", \"Precinct\", \"Neighborhood\"]]\n",
    "police_data_df"
   ]
  },
  {
   "cell_type": "code",
   "execution_count": null,
   "metadata": {},
   "outputs": [],
   "source": [
    "police_data_df.dtypes"
   ]
  },
  {
   "cell_type": "code",
   "execution_count": null,
   "metadata": {},
   "outputs": [],
   "source": [
    "police_data_df = police_data_df.dropna(how='any')\n",
    "police_data_df"
   ]
  },
  {
   "cell_type": "code",
   "execution_count": null,
   "metadata": {},
   "outputs": [],
   "source": [
    "clean_df = police_data_df.drop_duplicates(subset=['CaseNumber'])\n",
    "clean_df"
   ]
  },
  {
   "cell_type": "markdown",
   "metadata": {},
   "source": [
    "# 1. What incidents result the most in police use of force? (Sam)"
   ]
  },
  {
   "cell_type": "code",
   "execution_count": null,
   "metadata": {},
   "outputs": [],
   "source": [
    "test_data = clean_df[\"Problem\"].describe(include= \"all\")\n",
    "test_data"
   ]
  },
  {
   "cell_type": "code",
   "execution_count": null,
   "metadata": {},
   "outputs": [],
   "source": [
    "incident_data = clean_df.groupby(\"Problem\")\n",
    "total_count = incident_data.nunique()[\"CaseNumber\"]\n",
    "\n",
    "incidents = pd.DataFrame({\"Total Count\": total_count})\n",
    "top_incidents = incidents.sort_values(\"Total Count\", ascending=False)\n",
    "\n",
    "top_incidents.index.name = \"Incidents\"\n",
    "top_incidents.head()"
   ]
  },
  {
   "cell_type": "code",
   "execution_count": null,
   "metadata": {},
   "outputs": [],
   "source": [
    "top_incidents.head(5)\n",
    "top_incidents.head(5).plot(kind=\"bar\",edgecolor=\"black\", facecolor=\"purple\", fontsize=10)\n",
    "plt.title(\"Top 5 Incidents Resulting in Use of Police Force in Minneapolis, MN\")\n",
    "plt.ylabel(\"Number of Cases\")\n",
    "plt.xlabel(\"Incidents\")"
   ]
  },
  {
   "cell_type": "markdown",
   "metadata": {},
   "source": [
    "# 2. What type of force is used the most? (Ainash)"
   ]
  },
  {
   "cell_type": "code",
   "execution_count": null,
   "metadata": {},
   "outputs": [],
   "source": []
  },
  {
   "cell_type": "markdown",
   "metadata": {},
   "source": [
    "# 3. Which is the most popular type of resistance? (Humera)"
   ]
  },
  {
   "cell_type": "code",
   "execution_count": null,
   "metadata": {},
   "outputs": [],
   "source": []
  },
  {
   "cell_type": "markdown",
   "metadata": {},
   "source": [
    "# 4. Which neighborhood in Minneapolis see’s the highest frequency of police force? (Mike Hills)"
   ]
  },
  {
   "cell_type": "code",
   "execution_count": null,
   "metadata": {},
   "outputs": [],
   "source": [
    "#pull out neighborhood and forcetype from original df\n",
    "#group by neighborhood and calculate the total force count per neighborhood\n",
    "force_per_neighborhood_df = police_data_df.loc[:,['Neighborhood','ForceType']]\n",
    "force_group = force_per_neighborhood_df.groupby('Neighborhood')\n",
    "sum_neigh = force_group['ForceType'].count()\n",
    "\n",
    "#place results into new df, sort by force count from highest to lowest; store and display\n",
    "force_per_neighborhood_df = pd.DataFrame({'Force Count': sum_neigh})\n",
    "sorted_force_df = force_per_neighborhood_df.sort_values(['Force Count'], ascending=False)\n",
    "sorted_force_df"
   ]
  },
  {
   "cell_type": "code",
   "execution_count": null,
   "metadata": {},
   "outputs": [],
   "source": [
    "#store top 10 highest total force per neighborhood into its own df and display\n",
    "top10force_df = sorted_force.head(10)\n",
    "top10force_df"
   ]
  },
  {
   "cell_type": "code",
   "execution_count": null,
   "metadata": {},
   "outputs": [],
   "source": [
    "Top10bar = top10force_df.plot(kind=\"bar\", figsize=(30,15), width=.4, color=\"red\", alpha=.8, rot=0, fontsize=20, legend=False)\n",
    "Top10bar.set_ylabel('Force Count',fontdict={'fontsize':24})\n",
    "Top10bar.set_xlabel('Neighborhood',fontdict={'fontsize':24})\n",
    "Top10bar.set_title('Minneapolis Police Use of Force Distribution per Neighborhood: 10 Highest' + '\\n' + '(2008-2021)', pad=15,fontdict={'fontsize':25})"
   ]
  },
  {
   "cell_type": "code",
   "execution_count": null,
   "metadata": {},
   "outputs": [],
   "source": [
    "#Find highest force count neighborhood and store\n",
    "worst_neigh = sorted_force.index[0]\n",
    "\n",
    "#find total neighborhoods in Minneapolis and store\n",
    "total_neigh = len(sorted_force)\n",
    "\n",
    "#find and store highest force count\n",
    "top1force = top10force_df['Force Count'][0]"
   ]
  },
  {
   "cell_type": "code",
   "execution_count": null,
   "metadata": {},
   "outputs": [],
   "source": [
    "#remove highest force count row and store into new df\n",
    "top1_clean_df = force_per_neighborhood_df.loc[force_per_neighborhood_df['Force Count'] < top1force]\n",
    "top1_clean_df\n",
    "\n",
    "#find and store 10th highest force count \n",
    "TenthHighestNeigh = top10force_df['Force Count'][9]"
   ]
  },
  {
   "cell_type": "code",
   "execution_count": null,
   "metadata": {},
   "outputs": [],
   "source": [
    "#remove top 10 neighborhoods and store rest in new df\n",
    "f_per_neigh_clean = force_per_neighborhood_df.loc[force_per_neighborhood_df['Force Count'] < TenthHighestNeigh]\n",
    "\n",
    "#calculate total force count for all neighborhoods combined except for the highest force neighborhood\n",
    "sumforce = top1_clean_df['Force Count'].sum()\n",
    "\n",
    "#store highest force neighborhood in its own df\n",
    "top1force_df = sorted_force.head(1)\n",
    "\n",
    "top1force_df"
   ]
  },
  {
   "cell_type": "code",
   "execution_count": null,
   "metadata": {},
   "outputs": [],
   "source": [
    "\n",
    "#create dictionary to store values for summarized df\n",
    "dict = {'Minneapolis Neighborhoods (Total:86)':[worst_neigh, \"All Others\"], \n",
    "        'Force Count': [top1force, sumforce]}\n",
    "\n",
    "#pass dict into pd.DataFrame to generate df\n",
    "Topvsrest_df = pd.DataFrame(dict)\n",
    "\n",
    "#set index to \"Minneapolis Neighborhoods\" and display\n",
    "Topvsrest_df = Topvsrest_df.set_index('Minneapolis Neighborhoods (Total:86)')\n",
    "\n",
    "Topvsrest_df\n",
    "\n"
   ]
  },
  {
   "cell_type": "code",
   "execution_count": null,
   "metadata": {},
   "outputs": [],
   "source": [
    "Topvsrest_bar = Topvsrest_df.plot(kind=\"bar\", figsize=(4,7), width=.5, color=\"red\", alpha=.7, rot=0, fontsize=12, legend=False)\n",
    "Topvsrest_bar.set_ylabel('Force Count',fontdict={'fontsize':12})\n",
    "Topvsrest_bar.set_xlabel('Minneapolis Neighborhoods (Total:86)',fontdict={'fontsize':12})\n",
    "Topvsrest_bar.set_title('Minneapolis Police Use of Force Distribution:' + '\\n' + '(2008-2021)', pad=15,fontdict={'fontsize':14})"
   ]
  },
  {
   "cell_type": "code",
   "execution_count": null,
   "metadata": {},
   "outputs": [],
   "source": [
    "x = [top1force,sumforce]\n",
    "explode = (.06,0)\n",
    "textprops = {\"fontsize\":13}\n",
    "colors = [\"red\",\"green\"]\n",
    "labels = ['Downtown West','All Others']\n",
    "\n",
    "plt.pie(x, labels=labels, textprops=textprops, explode=explode, colors=colors, \n",
    "        autopct=\"%1.1f%%\", shadow=True, startangle=90)\n",
    "plt.axis(\"equal\")\n",
    "plt.title(\"Minneapolis Police Use of Force Distribution: Worst Neighborhood vs All Others (Total: 86)\" + \"\\n\" + \"(2008-2021)\")\n",
    "\n",
    "plt.show()\n"
   ]
  },
  {
   "cell_type": "markdown",
   "metadata": {},
   "source": [
    "# 5. Is the use of police force in Minneapolis going up or down? (Mike F)"
   ]
  },
  {
   "cell_type": "code",
   "execution_count": null,
   "metadata": {},
   "outputs": [],
   "source": []
  },
  {
   "cell_type": "markdown",
   "metadata": {},
   "source": [
    "# 6. Perform a linear regression on use of force between 2015 and 2019 and make a prediction about use of force in 2020 for the city of Minneapolis.  Compare this prediction to actual use of force outcomes in 2020."
   ]
  },
  {
   "cell_type": "code",
   "execution_count": null,
   "metadata": {},
   "outputs": [],
   "source": []
  }
 ],
 "metadata": {
  "kernelspec": {
   "display_name": "Python 3",
   "language": "python",
   "name": "python3"
  },
  "language_info": {
   "codemirror_mode": {
    "name": "ipython",
    "version": 3
   },
   "file_extension": ".py",
   "mimetype": "text/x-python",
   "name": "python",
   "nbconvert_exporter": "python",
   "pygments_lexer": "ipython3",
   "version": "3.6.10"
  }
 },
 "nbformat": 4,
 "nbformat_minor": 4
}

{
 "cells": [
  {
   "cell_type": "markdown",
   "metadata": {},
   "source": [
    "# Police Use of Force in Minneapolis, MN"
   ]
  },
  {
   "cell_type": "code",
   "execution_count": 1,
   "metadata": {},
   "outputs": [],
   "source": [
    "#Dependencies\n",
    "import matplotlib\n",
    "from matplotlib import pyplot as plt\n",
    "from scipy import stats\n",
    "import numpy as np\n",
    "import pandas as pd\n",
    "from scipy.stats import linregress"
   ]
  },
  {
   "cell_type": "code",
   "execution_count": 2,
   "metadata": {},
   "outputs": [
    {
     "data": {
      "text/html": [
       "<div>\n",
       "<style scoped>\n",
       "    .dataframe tbody tr th:only-of-type {\n",
       "        vertical-align: middle;\n",
       "    }\n",
       "\n",
       "    .dataframe tbody tr th {\n",
       "        vertical-align: top;\n",
       "    }\n",
       "\n",
       "    .dataframe thead th {\n",
       "        text-align: right;\n",
       "    }\n",
       "</style>\n",
       "<table border=\"1\" class=\"dataframe\">\n",
       "  <thead>\n",
       "    <tr style=\"text-align: right;\">\n",
       "      <th></th>\n",
       "      <th>X</th>\n",
       "      <th>Y</th>\n",
       "      <th>PoliceUseOfForceID</th>\n",
       "      <th>CaseNumber</th>\n",
       "      <th>ResponseDate</th>\n",
       "      <th>Problem</th>\n",
       "      <th>Is911Call</th>\n",
       "      <th>PrimaryOffense</th>\n",
       "      <th>SubjectInjury</th>\n",
       "      <th>ForceReportNumber</th>\n",
       "      <th>...</th>\n",
       "      <th>TotalCityCallsForYear</th>\n",
       "      <th>TotalPrecinctCallsForYear</th>\n",
       "      <th>TotalNeighborhoodCallsForYear</th>\n",
       "      <th>CenterGBSID</th>\n",
       "      <th>CenterLatitude</th>\n",
       "      <th>CenterLongitude</th>\n",
       "      <th>CenterX</th>\n",
       "      <th>CenterY</th>\n",
       "      <th>DateAdded</th>\n",
       "      <th>OBJECTID</th>\n",
       "    </tr>\n",
       "  </thead>\n",
       "  <tbody>\n",
       "    <tr>\n",
       "      <th>0</th>\n",
       "      <td>-93.299256</td>\n",
       "      <td>44.980557</td>\n",
       "      <td>19194596</td>\n",
       "      <td>08-007748</td>\n",
       "      <td>2008/01/08 14:20:21+00</td>\n",
       "      <td>Disturbance</td>\n",
       "      <td>No</td>\n",
       "      <td>DISCON</td>\n",
       "      <td>NaN</td>\n",
       "      <td>1</td>\n",
       "      <td>...</td>\n",
       "      <td>322402</td>\n",
       "      <td>80434.0</td>\n",
       "      <td>2514</td>\n",
       "      <td>15824</td>\n",
       "      <td>44.980557</td>\n",
       "      <td>-93.299256</td>\n",
       "      <td>-10386025.66</td>\n",
       "      <td>5618461.049</td>\n",
       "      <td>2021/02/11 08:18:54+00</td>\n",
       "      <td>1</td>\n",
       "    </tr>\n",
       "    <tr>\n",
       "      <th>1</th>\n",
       "      <td>-93.273109</td>\n",
       "      <td>44.979187</td>\n",
       "      <td>19194597</td>\n",
       "      <td>08-019047</td>\n",
       "      <td>2008/01/19 23:47:58+00</td>\n",
       "      <td>On Site</td>\n",
       "      <td>No</td>\n",
       "      <td>NOSMOK</td>\n",
       "      <td>NaN</td>\n",
       "      <td>1</td>\n",
       "      <td>...</td>\n",
       "      <td>322402</td>\n",
       "      <td>46998.0</td>\n",
       "      <td>23458</td>\n",
       "      <td>17239</td>\n",
       "      <td>44.979187</td>\n",
       "      <td>-93.273109</td>\n",
       "      <td>-10383115.01</td>\n",
       "      <td>5618245.449</td>\n",
       "      <td>2021/02/11 08:18:54+00</td>\n",
       "      <td>2</td>\n",
       "    </tr>\n",
       "    <tr>\n",
       "      <th>2</th>\n",
       "      <td>-93.311817</td>\n",
       "      <td>45.006028</td>\n",
       "      <td>19194598</td>\n",
       "      <td>08-034409</td>\n",
       "      <td>2008/02/04 21:21:49+00</td>\n",
       "      <td>Property Damage Accident</td>\n",
       "      <td>Yes</td>\n",
       "      <td>ASLT2</td>\n",
       "      <td>NaN</td>\n",
       "      <td>1</td>\n",
       "      <td>...</td>\n",
       "      <td>322402</td>\n",
       "      <td>80434.0</td>\n",
       "      <td>9486</td>\n",
       "      <td>10909</td>\n",
       "      <td>45.006028</td>\n",
       "      <td>-93.311817</td>\n",
       "      <td>-10387423.95</td>\n",
       "      <td>5622470.553</td>\n",
       "      <td>2021/02/11 08:18:54+00</td>\n",
       "      <td>3</td>\n",
       "    </tr>\n",
       "    <tr>\n",
       "      <th>3</th>\n",
       "      <td>-93.288860</td>\n",
       "      <td>45.043001</td>\n",
       "      <td>19194599</td>\n",
       "      <td>08-043573</td>\n",
       "      <td>2008/02/14 22:03:15+00</td>\n",
       "      <td>Unwanted Person</td>\n",
       "      <td>Yes</td>\n",
       "      <td>DAMPRP</td>\n",
       "      <td>NaN</td>\n",
       "      <td>2</td>\n",
       "      <td>...</td>\n",
       "      <td>322402</td>\n",
       "      <td>80434.0</td>\n",
       "      <td>3070</td>\n",
       "      <td>17338</td>\n",
       "      <td>45.043001</td>\n",
       "      <td>-93.288860</td>\n",
       "      <td>-10384868.44</td>\n",
       "      <td>5628293.683</td>\n",
       "      <td>2021/02/11 08:18:54+00</td>\n",
       "      <td>4</td>\n",
       "    </tr>\n",
       "    <tr>\n",
       "      <th>4</th>\n",
       "      <td>-93.271963</td>\n",
       "      <td>44.981655</td>\n",
       "      <td>19194600</td>\n",
       "      <td>08-052540</td>\n",
       "      <td>2008/02/24 02:25:39+00</td>\n",
       "      <td>Fight</td>\n",
       "      <td>No</td>\n",
       "      <td>OBSTRU</td>\n",
       "      <td>No</td>\n",
       "      <td>3</td>\n",
       "      <td>...</td>\n",
       "      <td>322402</td>\n",
       "      <td>46998.0</td>\n",
       "      <td>23458</td>\n",
       "      <td>17120</td>\n",
       "      <td>44.981655</td>\n",
       "      <td>-93.271963</td>\n",
       "      <td>-10382987.47</td>\n",
       "      <td>5618633.899</td>\n",
       "      <td>2021/02/11 08:18:54+00</td>\n",
       "      <td>5</td>\n",
       "    </tr>\n",
       "    <tr>\n",
       "      <th>...</th>\n",
       "      <td>...</td>\n",
       "      <td>...</td>\n",
       "      <td>...</td>\n",
       "      <td>...</td>\n",
       "      <td>...</td>\n",
       "      <td>...</td>\n",
       "      <td>...</td>\n",
       "      <td>...</td>\n",
       "      <td>...</td>\n",
       "      <td>...</td>\n",
       "      <td>...</td>\n",
       "      <td>...</td>\n",
       "      <td>...</td>\n",
       "      <td>...</td>\n",
       "      <td>...</td>\n",
       "      <td>...</td>\n",
       "      <td>...</td>\n",
       "      <td>...</td>\n",
       "      <td>...</td>\n",
       "      <td>...</td>\n",
       "      <td>...</td>\n",
       "    </tr>\n",
       "    <tr>\n",
       "      <th>32030</th>\n",
       "      <td>0.000000</td>\n",
       "      <td>0.000000</td>\n",
       "      <td>19226626</td>\n",
       "      <td>09-Cooper</td>\n",
       "      <td>2009/01/01 00:00:00+00</td>\n",
       "      <td>NaN</td>\n",
       "      <td>NaN</td>\n",
       "      <td>NaN</td>\n",
       "      <td>NaN</td>\n",
       "      <td>0</td>\n",
       "      <td>...</td>\n",
       "      <td>316150</td>\n",
       "      <td>NaN</td>\n",
       "      <td>1107</td>\n",
       "      <td>0</td>\n",
       "      <td>0.000000</td>\n",
       "      <td>0.000000</td>\n",
       "      <td>0.00</td>\n",
       "      <td>0.000</td>\n",
       "      <td>2021/02/11 08:35:04+00</td>\n",
       "      <td>32031</td>\n",
       "    </tr>\n",
       "    <tr>\n",
       "      <th>32031</th>\n",
       "      <td>0.000000</td>\n",
       "      <td>0.000000</td>\n",
       "      <td>19226627</td>\n",
       "      <td>08-Bottineau</td>\n",
       "      <td>2008/01/01 00:00:00+00</td>\n",
       "      <td>NaN</td>\n",
       "      <td>NaN</td>\n",
       "      <td>NaN</td>\n",
       "      <td>NaN</td>\n",
       "      <td>0</td>\n",
       "      <td>...</td>\n",
       "      <td>322402</td>\n",
       "      <td>NaN</td>\n",
       "      <td>1370</td>\n",
       "      <td>0</td>\n",
       "      <td>0.000000</td>\n",
       "      <td>0.000000</td>\n",
       "      <td>0.00</td>\n",
       "      <td>0.000</td>\n",
       "      <td>2021/02/11 08:35:04+00</td>\n",
       "      <td>32032</td>\n",
       "    </tr>\n",
       "    <tr>\n",
       "      <th>32032</th>\n",
       "      <td>0.000000</td>\n",
       "      <td>0.000000</td>\n",
       "      <td>19226628</td>\n",
       "      <td>09-Loring Park</td>\n",
       "      <td>2009/01/01 00:00:00+00</td>\n",
       "      <td>NaN</td>\n",
       "      <td>NaN</td>\n",
       "      <td>NaN</td>\n",
       "      <td>NaN</td>\n",
       "      <td>0</td>\n",
       "      <td>...</td>\n",
       "      <td>316150</td>\n",
       "      <td>NaN</td>\n",
       "      <td>5545</td>\n",
       "      <td>0</td>\n",
       "      <td>0.000000</td>\n",
       "      <td>0.000000</td>\n",
       "      <td>0.00</td>\n",
       "      <td>0.000</td>\n",
       "      <td>2021/02/11 08:35:04+00</td>\n",
       "      <td>32033</td>\n",
       "    </tr>\n",
       "    <tr>\n",
       "      <th>32033</th>\n",
       "      <td>0.000000</td>\n",
       "      <td>0.000000</td>\n",
       "      <td>19226629</td>\n",
       "      <td>14-Cooper</td>\n",
       "      <td>2014/01/01 00:00:00+00</td>\n",
       "      <td>NaN</td>\n",
       "      <td>NaN</td>\n",
       "      <td>NaN</td>\n",
       "      <td>NaN</td>\n",
       "      <td>0</td>\n",
       "      <td>...</td>\n",
       "      <td>355617</td>\n",
       "      <td>NaN</td>\n",
       "      <td>1064</td>\n",
       "      <td>0</td>\n",
       "      <td>0.000000</td>\n",
       "      <td>0.000000</td>\n",
       "      <td>0.00</td>\n",
       "      <td>0.000</td>\n",
       "      <td>2021/02/11 08:35:04+00</td>\n",
       "      <td>32034</td>\n",
       "    </tr>\n",
       "    <tr>\n",
       "      <th>32034</th>\n",
       "      <td>0.000000</td>\n",
       "      <td>0.000000</td>\n",
       "      <td>19226630</td>\n",
       "      <td>19-Central</td>\n",
       "      <td>2019/01/01 00:00:00+00</td>\n",
       "      <td>NaN</td>\n",
       "      <td>NaN</td>\n",
       "      <td>NaN</td>\n",
       "      <td>NaN</td>\n",
       "      <td>0</td>\n",
       "      <td>...</td>\n",
       "      <td>302056</td>\n",
       "      <td>NaN</td>\n",
       "      <td>5312</td>\n",
       "      <td>0</td>\n",
       "      <td>0.000000</td>\n",
       "      <td>0.000000</td>\n",
       "      <td>0.00</td>\n",
       "      <td>0.000</td>\n",
       "      <td>2021/02/11 08:35:04+00</td>\n",
       "      <td>32035</td>\n",
       "    </tr>\n",
       "  </tbody>\n",
       "</table>\n",
       "<p>32035 rows × 30 columns</p>\n",
       "</div>"
      ],
      "text/plain": [
       "               X          Y  PoliceUseOfForceID      CaseNumber  \\\n",
       "0     -93.299256  44.980557            19194596       08-007748   \n",
       "1     -93.273109  44.979187            19194597       08-019047   \n",
       "2     -93.311817  45.006028            19194598       08-034409   \n",
       "3     -93.288860  45.043001            19194599       08-043573   \n",
       "4     -93.271963  44.981655            19194600       08-052540   \n",
       "...          ...        ...                 ...             ...   \n",
       "32030   0.000000   0.000000            19226626       09-Cooper   \n",
       "32031   0.000000   0.000000            19226627    08-Bottineau   \n",
       "32032   0.000000   0.000000            19226628  09-Loring Park   \n",
       "32033   0.000000   0.000000            19226629       14-Cooper   \n",
       "32034   0.000000   0.000000            19226630      19-Central   \n",
       "\n",
       "                 ResponseDate                    Problem Is911Call  \\\n",
       "0      2008/01/08 14:20:21+00               Disturbance         No   \n",
       "1      2008/01/19 23:47:58+00                   On Site         No   \n",
       "2      2008/02/04 21:21:49+00  Property Damage Accident        Yes   \n",
       "3      2008/02/14 22:03:15+00           Unwanted Person        Yes   \n",
       "4      2008/02/24 02:25:39+00                     Fight         No   \n",
       "...                       ...                        ...       ...   \n",
       "32030  2009/01/01 00:00:00+00                        NaN       NaN   \n",
       "32031  2008/01/01 00:00:00+00                        NaN       NaN   \n",
       "32032  2009/01/01 00:00:00+00                        NaN       NaN   \n",
       "32033  2014/01/01 00:00:00+00                        NaN       NaN   \n",
       "32034  2019/01/01 00:00:00+00                        NaN       NaN   \n",
       "\n",
       "      PrimaryOffense SubjectInjury  ForceReportNumber  ...  \\\n",
       "0             DISCON           NaN                  1  ...   \n",
       "1             NOSMOK           NaN                  1  ...   \n",
       "2              ASLT2           NaN                  1  ...   \n",
       "3             DAMPRP           NaN                  2  ...   \n",
       "4             OBSTRU            No                  3  ...   \n",
       "...              ...           ...                ...  ...   \n",
       "32030            NaN           NaN                  0  ...   \n",
       "32031            NaN           NaN                  0  ...   \n",
       "32032            NaN           NaN                  0  ...   \n",
       "32033            NaN           NaN                  0  ...   \n",
       "32034            NaN           NaN                  0  ...   \n",
       "\n",
       "      TotalCityCallsForYear  TotalPrecinctCallsForYear  \\\n",
       "0                    322402                    80434.0   \n",
       "1                    322402                    46998.0   \n",
       "2                    322402                    80434.0   \n",
       "3                    322402                    80434.0   \n",
       "4                    322402                    46998.0   \n",
       "...                     ...                        ...   \n",
       "32030                316150                        NaN   \n",
       "32031                322402                        NaN   \n",
       "32032                316150                        NaN   \n",
       "32033                355617                        NaN   \n",
       "32034                302056                        NaN   \n",
       "\n",
       "      TotalNeighborhoodCallsForYear CenterGBSID CenterLatitude  \\\n",
       "0                              2514       15824      44.980557   \n",
       "1                             23458       17239      44.979187   \n",
       "2                              9486       10909      45.006028   \n",
       "3                              3070       17338      45.043001   \n",
       "4                             23458       17120      44.981655   \n",
       "...                             ...         ...            ...   \n",
       "32030                          1107           0       0.000000   \n",
       "32031                          1370           0       0.000000   \n",
       "32032                          5545           0       0.000000   \n",
       "32033                          1064           0       0.000000   \n",
       "32034                          5312           0       0.000000   \n",
       "\n",
       "      CenterLongitude      CenterX      CenterY               DateAdded  \\\n",
       "0          -93.299256 -10386025.66  5618461.049  2021/02/11 08:18:54+00   \n",
       "1          -93.273109 -10383115.01  5618245.449  2021/02/11 08:18:54+00   \n",
       "2          -93.311817 -10387423.95  5622470.553  2021/02/11 08:18:54+00   \n",
       "3          -93.288860 -10384868.44  5628293.683  2021/02/11 08:18:54+00   \n",
       "4          -93.271963 -10382987.47  5618633.899  2021/02/11 08:18:54+00   \n",
       "...               ...          ...          ...                     ...   \n",
       "32030        0.000000         0.00        0.000  2021/02/11 08:35:04+00   \n",
       "32031        0.000000         0.00        0.000  2021/02/11 08:35:04+00   \n",
       "32032        0.000000         0.00        0.000  2021/02/11 08:35:04+00   \n",
       "32033        0.000000         0.00        0.000  2021/02/11 08:35:04+00   \n",
       "32034        0.000000         0.00        0.000  2021/02/11 08:35:04+00   \n",
       "\n",
       "      OBJECTID  \n",
       "0            1  \n",
       "1            2  \n",
       "2            3  \n",
       "3            4  \n",
       "4            5  \n",
       "...        ...  \n",
       "32030    32031  \n",
       "32031    32032  \n",
       "32032    32033  \n",
       "32033    32034  \n",
       "32034    32035  \n",
       "\n",
       "[32035 rows x 30 columns]"
      ]
     },
     "execution_count": 2,
     "metadata": {},
     "output_type": "execute_result"
    }
   ],
   "source": [
    "#Import csv file\n",
    "police_data = pd.read_csv(\"Resources/Police_Use_of_Force.csv\")\n",
    "police_data"
   ]
  },
  {
   "cell_type": "code",
   "execution_count": 3,
   "metadata": {},
   "outputs": [
    {
     "data": {
      "text/html": [
       "<div>\n",
       "<style scoped>\n",
       "    .dataframe tbody tr th:only-of-type {\n",
       "        vertical-align: middle;\n",
       "    }\n",
       "\n",
       "    .dataframe tbody tr th {\n",
       "        vertical-align: top;\n",
       "    }\n",
       "\n",
       "    .dataframe thead th {\n",
       "        text-align: right;\n",
       "    }\n",
       "</style>\n",
       "<table border=\"1\" class=\"dataframe\">\n",
       "  <thead>\n",
       "    <tr style=\"text-align: right;\">\n",
       "      <th></th>\n",
       "      <th>PoliceUseOfForceID</th>\n",
       "      <th>CaseNumber</th>\n",
       "      <th>ResponseDate</th>\n",
       "      <th>Problem</th>\n",
       "      <th>ForceType</th>\n",
       "      <th>ForceTypeAction</th>\n",
       "      <th>EventAge</th>\n",
       "      <th>TypeOfResistance</th>\n",
       "      <th>Precinct</th>\n",
       "      <th>Neighborhood</th>\n",
       "    </tr>\n",
       "  </thead>\n",
       "  <tbody>\n",
       "    <tr>\n",
       "      <th>0</th>\n",
       "      <td>19194596</td>\n",
       "      <td>08-007748</td>\n",
       "      <td>2008/01/08 14:20:21+00</td>\n",
       "      <td>Disturbance</td>\n",
       "      <td>Bodily Force</td>\n",
       "      <td>Push Away</td>\n",
       "      <td>13.0</td>\n",
       "      <td>Tensed</td>\n",
       "      <td>4</td>\n",
       "      <td>Harrison</td>\n",
       "    </tr>\n",
       "    <tr>\n",
       "      <th>1</th>\n",
       "      <td>19194597</td>\n",
       "      <td>08-019047</td>\n",
       "      <td>2008/01/19 23:47:58+00</td>\n",
       "      <td>On Site</td>\n",
       "      <td>Bodily Force</td>\n",
       "      <td>Push Away</td>\n",
       "      <td>27.0</td>\n",
       "      <td>Tensed</td>\n",
       "      <td>1</td>\n",
       "      <td>Downtown West</td>\n",
       "    </tr>\n",
       "    <tr>\n",
       "      <th>2</th>\n",
       "      <td>19194598</td>\n",
       "      <td>08-034409</td>\n",
       "      <td>2008/02/04 21:21:49+00</td>\n",
       "      <td>Property Damage Accident</td>\n",
       "      <td>Bodily Force</td>\n",
       "      <td>Joint Lock</td>\n",
       "      <td>17.0</td>\n",
       "      <td>Verbal Non-Compliance</td>\n",
       "      <td>4</td>\n",
       "      <td>Willard - Hay</td>\n",
       "    </tr>\n",
       "    <tr>\n",
       "      <th>3</th>\n",
       "      <td>19194599</td>\n",
       "      <td>08-043573</td>\n",
       "      <td>2008/02/14 22:03:15+00</td>\n",
       "      <td>Unwanted Person</td>\n",
       "      <td>Bodily Force</td>\n",
       "      <td>Body Weight to Pin</td>\n",
       "      <td>18.0</td>\n",
       "      <td>Tensed</td>\n",
       "      <td>4</td>\n",
       "      <td>Lind - Bohanon</td>\n",
       "    </tr>\n",
       "    <tr>\n",
       "      <th>4</th>\n",
       "      <td>19194600</td>\n",
       "      <td>08-052540</td>\n",
       "      <td>2008/02/24 02:25:39+00</td>\n",
       "      <td>Fight</td>\n",
       "      <td>Bodily Force</td>\n",
       "      <td>Knees</td>\n",
       "      <td>28.0</td>\n",
       "      <td>Commission of Crime</td>\n",
       "      <td>1</td>\n",
       "      <td>Downtown West</td>\n",
       "    </tr>\n",
       "    <tr>\n",
       "      <th>...</th>\n",
       "      <td>...</td>\n",
       "      <td>...</td>\n",
       "      <td>...</td>\n",
       "      <td>...</td>\n",
       "      <td>...</td>\n",
       "      <td>...</td>\n",
       "      <td>...</td>\n",
       "      <td>...</td>\n",
       "      <td>...</td>\n",
       "      <td>...</td>\n",
       "    </tr>\n",
       "    <tr>\n",
       "      <th>32030</th>\n",
       "      <td>19226626</td>\n",
       "      <td>09-Cooper</td>\n",
       "      <td>2009/01/01 00:00:00+00</td>\n",
       "      <td>NaN</td>\n",
       "      <td>NaN</td>\n",
       "      <td>0</td>\n",
       "      <td>NaN</td>\n",
       "      <td>NaN</td>\n",
       "      <td>NaN</td>\n",
       "      <td>Cooper</td>\n",
       "    </tr>\n",
       "    <tr>\n",
       "      <th>32031</th>\n",
       "      <td>19226627</td>\n",
       "      <td>08-Bottineau</td>\n",
       "      <td>2008/01/01 00:00:00+00</td>\n",
       "      <td>NaN</td>\n",
       "      <td>NaN</td>\n",
       "      <td>0</td>\n",
       "      <td>NaN</td>\n",
       "      <td>NaN</td>\n",
       "      <td>NaN</td>\n",
       "      <td>Bottineau</td>\n",
       "    </tr>\n",
       "    <tr>\n",
       "      <th>32032</th>\n",
       "      <td>19226628</td>\n",
       "      <td>09-Loring Park</td>\n",
       "      <td>2009/01/01 00:00:00+00</td>\n",
       "      <td>NaN</td>\n",
       "      <td>NaN</td>\n",
       "      <td>0</td>\n",
       "      <td>NaN</td>\n",
       "      <td>NaN</td>\n",
       "      <td>NaN</td>\n",
       "      <td>Loring Park</td>\n",
       "    </tr>\n",
       "    <tr>\n",
       "      <th>32033</th>\n",
       "      <td>19226629</td>\n",
       "      <td>14-Cooper</td>\n",
       "      <td>2014/01/01 00:00:00+00</td>\n",
       "      <td>NaN</td>\n",
       "      <td>NaN</td>\n",
       "      <td>0</td>\n",
       "      <td>NaN</td>\n",
       "      <td>NaN</td>\n",
       "      <td>NaN</td>\n",
       "      <td>Cooper</td>\n",
       "    </tr>\n",
       "    <tr>\n",
       "      <th>32034</th>\n",
       "      <td>19226630</td>\n",
       "      <td>19-Central</td>\n",
       "      <td>2019/01/01 00:00:00+00</td>\n",
       "      <td>NaN</td>\n",
       "      <td>NaN</td>\n",
       "      <td>0</td>\n",
       "      <td>NaN</td>\n",
       "      <td>NaN</td>\n",
       "      <td>NaN</td>\n",
       "      <td>Central</td>\n",
       "    </tr>\n",
       "  </tbody>\n",
       "</table>\n",
       "<p>32035 rows × 10 columns</p>\n",
       "</div>"
      ],
      "text/plain": [
       "       PoliceUseOfForceID      CaseNumber            ResponseDate  \\\n",
       "0                19194596       08-007748  2008/01/08 14:20:21+00   \n",
       "1                19194597       08-019047  2008/01/19 23:47:58+00   \n",
       "2                19194598       08-034409  2008/02/04 21:21:49+00   \n",
       "3                19194599       08-043573  2008/02/14 22:03:15+00   \n",
       "4                19194600       08-052540  2008/02/24 02:25:39+00   \n",
       "...                   ...             ...                     ...   \n",
       "32030            19226626       09-Cooper  2009/01/01 00:00:00+00   \n",
       "32031            19226627    08-Bottineau  2008/01/01 00:00:00+00   \n",
       "32032            19226628  09-Loring Park  2009/01/01 00:00:00+00   \n",
       "32033            19226629       14-Cooper  2014/01/01 00:00:00+00   \n",
       "32034            19226630      19-Central  2019/01/01 00:00:00+00   \n",
       "\n",
       "                         Problem     ForceType     ForceTypeAction  EventAge  \\\n",
       "0                   Disturbance   Bodily Force           Push Away      13.0   \n",
       "1                       On Site   Bodily Force           Push Away      27.0   \n",
       "2      Property Damage Accident   Bodily Force          Joint Lock      17.0   \n",
       "3               Unwanted Person   Bodily Force  Body Weight to Pin      18.0   \n",
       "4                         Fight   Bodily Force               Knees      28.0   \n",
       "...                          ...           ...                 ...       ...   \n",
       "32030                        NaN           NaN                   0       NaN   \n",
       "32031                        NaN           NaN                   0       NaN   \n",
       "32032                        NaN           NaN                   0       NaN   \n",
       "32033                        NaN           NaN                   0       NaN   \n",
       "32034                        NaN           NaN                   0       NaN   \n",
       "\n",
       "            TypeOfResistance Precinct    Neighborhood  \n",
       "0                     Tensed        4        Harrison  \n",
       "1                     Tensed        1   Downtown West  \n",
       "2      Verbal Non-Compliance        4   Willard - Hay  \n",
       "3                     Tensed        4  Lind - Bohanon  \n",
       "4        Commission of Crime        1   Downtown West  \n",
       "...                      ...      ...             ...  \n",
       "32030                    NaN      NaN          Cooper  \n",
       "32031                    NaN      NaN       Bottineau  \n",
       "32032                    NaN      NaN     Loring Park  \n",
       "32033                    NaN      NaN          Cooper  \n",
       "32034                    NaN      NaN         Central  \n",
       "\n",
       "[32035 rows x 10 columns]"
      ]
     },
     "execution_count": 3,
     "metadata": {},
     "output_type": "execute_result"
    }
   ],
   "source": [
    "#create new DataFrame\n",
    "police_data_df = police_data.loc[:, [\"PoliceUseOfForceID\", \"CaseNumber\", \"ResponseDate\", \"Problem\", \"ForceType\",\n",
    "                                    \"ForceTypeAction\", \"EventAge\", \"TypeOfResistance\", \"Precinct\", \"Neighborhood\"]]\n",
    "police_data_df"
   ]
  },
  {
   "cell_type": "code",
   "execution_count": 4,
   "metadata": {},
   "outputs": [
    {
     "data": {
      "text/html": [
       "<div>\n",
       "<style scoped>\n",
       "    .dataframe tbody tr th:only-of-type {\n",
       "        vertical-align: middle;\n",
       "    }\n",
       "\n",
       "    .dataframe tbody tr th {\n",
       "        vertical-align: top;\n",
       "    }\n",
       "\n",
       "    .dataframe thead th {\n",
       "        text-align: right;\n",
       "    }\n",
       "</style>\n",
       "<table border=\"1\" class=\"dataframe\">\n",
       "  <thead>\n",
       "    <tr style=\"text-align: right;\">\n",
       "      <th></th>\n",
       "      <th>PoliceUseOfForceID</th>\n",
       "      <th>CaseNumber</th>\n",
       "      <th>ResponseDate</th>\n",
       "      <th>Problem</th>\n",
       "      <th>ForceType</th>\n",
       "      <th>ForceTypeAction</th>\n",
       "      <th>EventAge</th>\n",
       "      <th>TypeOfResistance</th>\n",
       "      <th>Precinct</th>\n",
       "      <th>Neighborhood</th>\n",
       "    </tr>\n",
       "  </thead>\n",
       "  <tbody>\n",
       "    <tr>\n",
       "      <th>0</th>\n",
       "      <td>19194596</td>\n",
       "      <td>08-007748</td>\n",
       "      <td>2008/01/08 14:20:21+00</td>\n",
       "      <td>Disturbance</td>\n",
       "      <td>Bodily Force</td>\n",
       "      <td>Push Away</td>\n",
       "      <td>13.0</td>\n",
       "      <td>Tensed</td>\n",
       "      <td>4</td>\n",
       "      <td>Harrison</td>\n",
       "    </tr>\n",
       "    <tr>\n",
       "      <th>1</th>\n",
       "      <td>19194597</td>\n",
       "      <td>08-019047</td>\n",
       "      <td>2008/01/19 23:47:58+00</td>\n",
       "      <td>On Site</td>\n",
       "      <td>Bodily Force</td>\n",
       "      <td>Push Away</td>\n",
       "      <td>27.0</td>\n",
       "      <td>Tensed</td>\n",
       "      <td>1</td>\n",
       "      <td>Downtown West</td>\n",
       "    </tr>\n",
       "    <tr>\n",
       "      <th>2</th>\n",
       "      <td>19194598</td>\n",
       "      <td>08-034409</td>\n",
       "      <td>2008/02/04 21:21:49+00</td>\n",
       "      <td>Property Damage Accident</td>\n",
       "      <td>Bodily Force</td>\n",
       "      <td>Joint Lock</td>\n",
       "      <td>17.0</td>\n",
       "      <td>Verbal Non-Compliance</td>\n",
       "      <td>4</td>\n",
       "      <td>Willard - Hay</td>\n",
       "    </tr>\n",
       "    <tr>\n",
       "      <th>3</th>\n",
       "      <td>19194599</td>\n",
       "      <td>08-043573</td>\n",
       "      <td>2008/02/14 22:03:15+00</td>\n",
       "      <td>Unwanted Person</td>\n",
       "      <td>Bodily Force</td>\n",
       "      <td>Body Weight to Pin</td>\n",
       "      <td>18.0</td>\n",
       "      <td>Tensed</td>\n",
       "      <td>4</td>\n",
       "      <td>Lind - Bohanon</td>\n",
       "    </tr>\n",
       "    <tr>\n",
       "      <th>4</th>\n",
       "      <td>19194600</td>\n",
       "      <td>08-052540</td>\n",
       "      <td>2008/02/24 02:25:39+00</td>\n",
       "      <td>Fight</td>\n",
       "      <td>Bodily Force</td>\n",
       "      <td>Knees</td>\n",
       "      <td>28.0</td>\n",
       "      <td>Commission of Crime</td>\n",
       "      <td>1</td>\n",
       "      <td>Downtown West</td>\n",
       "    </tr>\n",
       "    <tr>\n",
       "      <th>...</th>\n",
       "      <td>...</td>\n",
       "      <td>...</td>\n",
       "      <td>...</td>\n",
       "      <td>...</td>\n",
       "      <td>...</td>\n",
       "      <td>...</td>\n",
       "      <td>...</td>\n",
       "      <td>...</td>\n",
       "      <td>...</td>\n",
       "      <td>...</td>\n",
       "    </tr>\n",
       "    <tr>\n",
       "      <th>30829</th>\n",
       "      <td>19225425</td>\n",
       "      <td>20-287806</td>\n",
       "      <td>2020/11/12 14:41:54+00</td>\n",
       "      <td>Domestic Abuse-In Progress</td>\n",
       "      <td>Maximal Restraint Technique</td>\n",
       "      <td>Not Side Recovery Position</td>\n",
       "      <td>19.0</td>\n",
       "      <td>Other                                         ...</td>\n",
       "      <td>2</td>\n",
       "      <td>Waite Park</td>\n",
       "    </tr>\n",
       "    <tr>\n",
       "      <th>30830</th>\n",
       "      <td>19225426</td>\n",
       "      <td>20-288772</td>\n",
       "      <td>2020/11/13 21:48:02+00</td>\n",
       "      <td>Unwanted Person</td>\n",
       "      <td>Bodily Force</td>\n",
       "      <td>Body Weight Pin</td>\n",
       "      <td>29.0</td>\n",
       "      <td>Verbal Non-Compliance                         ...</td>\n",
       "      <td>5</td>\n",
       "      <td>Linden Hills</td>\n",
       "    </tr>\n",
       "    <tr>\n",
       "      <th>30831</th>\n",
       "      <td>19225427</td>\n",
       "      <td>20-292656</td>\n",
       "      <td>2020/11/19 15:44:41+00</td>\n",
       "      <td>Emotionally Disturb Person</td>\n",
       "      <td>Taser</td>\n",
       "      <td>Firing Darts</td>\n",
       "      <td>23.0</td>\n",
       "      <td>Other                                         ...</td>\n",
       "      <td>4</td>\n",
       "      <td>Willard - Hay</td>\n",
       "    </tr>\n",
       "    <tr>\n",
       "      <th>30832</th>\n",
       "      <td>19225428</td>\n",
       "      <td>20-298833</td>\n",
       "      <td>2020/11/28 08:18:10+00</td>\n",
       "      <td>Motor Vehicle Chase</td>\n",
       "      <td>Bodily Force</td>\n",
       "      <td>Push Away</td>\n",
       "      <td>31.0</td>\n",
       "      <td>Fled in a Vehicle                             ...</td>\n",
       "      <td>3</td>\n",
       "      <td>East Phillips</td>\n",
       "    </tr>\n",
       "    <tr>\n",
       "      <th>30833</th>\n",
       "      <td>19225429</td>\n",
       "      <td>20-303056</td>\n",
       "      <td>2020/12/04 06:07:08+00</td>\n",
       "      <td>Assist a Disabled Person</td>\n",
       "      <td>Bodily Force</td>\n",
       "      <td>Body Weight Pin</td>\n",
       "      <td>19.0</td>\n",
       "      <td>Tensed                                        ...</td>\n",
       "      <td>1</td>\n",
       "      <td>Cedar Riverside</td>\n",
       "    </tr>\n",
       "  </tbody>\n",
       "</table>\n",
       "<p>29075 rows × 10 columns</p>\n",
       "</div>"
      ],
      "text/plain": [
       "       PoliceUseOfForceID CaseNumber            ResponseDate  \\\n",
       "0                19194596  08-007748  2008/01/08 14:20:21+00   \n",
       "1                19194597  08-019047  2008/01/19 23:47:58+00   \n",
       "2                19194598  08-034409  2008/02/04 21:21:49+00   \n",
       "3                19194599  08-043573  2008/02/14 22:03:15+00   \n",
       "4                19194600  08-052540  2008/02/24 02:25:39+00   \n",
       "...                   ...        ...                     ...   \n",
       "30829            19225425  20-287806  2020/11/12 14:41:54+00   \n",
       "30830            19225426  20-288772  2020/11/13 21:48:02+00   \n",
       "30831            19225427  20-292656  2020/11/19 15:44:41+00   \n",
       "30832            19225428  20-298833  2020/11/28 08:18:10+00   \n",
       "30833            19225429  20-303056  2020/12/04 06:07:08+00   \n",
       "\n",
       "                           Problem                    ForceType  \\\n",
       "0                     Disturbance                  Bodily Force   \n",
       "1                         On Site                  Bodily Force   \n",
       "2        Property Damage Accident                  Bodily Force   \n",
       "3                 Unwanted Person                  Bodily Force   \n",
       "4                           Fight                  Bodily Force   \n",
       "...                            ...                          ...   \n",
       "30829  Domestic Abuse-In Progress   Maximal Restraint Technique   \n",
       "30830             Unwanted Person                  Bodily Force   \n",
       "30831  Emotionally Disturb Person                         Taser   \n",
       "30832         Motor Vehicle Chase                  Bodily Force   \n",
       "30833    Assist a Disabled Person                  Bodily Force   \n",
       "\n",
       "                  ForceTypeAction  EventAge  \\\n",
       "0                       Push Away      13.0   \n",
       "1                       Push Away      27.0   \n",
       "2                      Joint Lock      17.0   \n",
       "3              Body Weight to Pin      18.0   \n",
       "4                           Knees      28.0   \n",
       "...                           ...       ...   \n",
       "30829  Not Side Recovery Position      19.0   \n",
       "30830             Body Weight Pin      29.0   \n",
       "30831                Firing Darts      23.0   \n",
       "30832                   Push Away      31.0   \n",
       "30833             Body Weight Pin      19.0   \n",
       "\n",
       "                                        TypeOfResistance Precinct  \\\n",
       "0                                                 Tensed        4   \n",
       "1                                                 Tensed        1   \n",
       "2                                  Verbal Non-Compliance        4   \n",
       "3                                                 Tensed        4   \n",
       "4                                    Commission of Crime        1   \n",
       "...                                                  ...      ...   \n",
       "30829  Other                                         ...        2   \n",
       "30830  Verbal Non-Compliance                         ...        5   \n",
       "30831  Other                                         ...        4   \n",
       "30832  Fled in a Vehicle                             ...        3   \n",
       "30833  Tensed                                        ...        1   \n",
       "\n",
       "          Neighborhood  \n",
       "0             Harrison  \n",
       "1        Downtown West  \n",
       "2        Willard - Hay  \n",
       "3       Lind - Bohanon  \n",
       "4        Downtown West  \n",
       "...                ...  \n",
       "30829       Waite Park  \n",
       "30830     Linden Hills  \n",
       "30831    Willard - Hay  \n",
       "30832    East Phillips  \n",
       "30833  Cedar Riverside  \n",
       "\n",
       "[29075 rows x 10 columns]"
      ]
     },
     "execution_count": 4,
     "metadata": {},
     "output_type": "execute_result"
    }
   ],
   "source": [
    "#drop NaN from Dataframe\n",
    "police_data_df = police_data_df.dropna(how='any')\n",
    "police_data_df"
   ]
  },
  {
   "cell_type": "code",
   "execution_count": 5,
   "metadata": {},
   "outputs": [
    {
     "name": "stderr",
     "output_type": "stream",
     "text": [
      "C:\\Users\\szig9\\anaconda3\\envs\\PythonData\\lib\\site-packages\\ipykernel_launcher.py:9: SettingWithCopyWarning: \n",
      "A value is trying to be set on a copy of a slice from a DataFrame.\n",
      "Try using .loc[row_indexer,col_indexer] = value instead\n",
      "\n",
      "See the caveats in the documentation: https://pandas.pydata.org/pandas-docs/stable/user_guide/indexing.html#returning-a-view-versus-a-copy\n",
      "  if __name__ == '__main__':\n"
     ]
    }
   ],
   "source": [
    "#rename rows in ForceTypeAction column\n",
    "police_data_df['ForceTypeAction'] = police_data_df['ForceTypeAction'].replace({\n",
    "    \"Knee\": \"Knees\",\n",
    "    \"Body Weight Pin\": \"Body Weight to Pin\",\n",
    "    \"Conscious Neck Restraint\": \"Neck Restraint: subject did not lose conciousness\",\n",
    "    \"Punch\": \"Punches\",\n",
    "    \"Slap\": \"Slaps\",\n",
    "    'Unconscious Neck Restraint': 'Neck Restraint: subject did not lose conciousness',\n",
    "    'Firearm as striking tool': 'Firearms As Striking Tool'\n",
    "})\n"
   ]
  },
  {
   "cell_type": "code",
   "execution_count": 6,
   "metadata": {},
   "outputs": [
    {
     "name": "stderr",
     "output_type": "stream",
     "text": [
      "C:\\Users\\szig9\\anaconda3\\envs\\PythonData\\lib\\site-packages\\ipykernel_launcher.py:3: SettingWithCopyWarning: \n",
      "A value is trying to be set on a copy of a slice from a DataFrame.\n",
      "Try using .loc[row_indexer,col_indexer] = value instead\n",
      "\n",
      "See the caveats in the documentation: https://pandas.pydata.org/pandas-docs/stable/user_guide/indexing.html#returning-a-view-versus-a-copy\n",
      "  This is separate from the ipykernel package so we can avoid doing imports until\n"
     ]
    }
   ],
   "source": [
    "#rename rows in ForceType column\n",
    "police_data_df['ForceType'] = police_data_df['ForceType'].replace({\n",
    "    \"Less Lethal Projectile\": \"Less Lethal\"\n",
    "})"
   ]
  },
  {
   "cell_type": "code",
   "execution_count": 7,
   "metadata": {},
   "outputs": [
    {
     "name": "stderr",
     "output_type": "stream",
     "text": [
      "C:\\Users\\szig9\\anaconda3\\envs\\PythonData\\lib\\site-packages\\ipykernel_launcher.py:15: SettingWithCopyWarning: \n",
      "A value is trying to be set on a copy of a slice from a DataFrame.\n",
      "Try using .loc[row_indexer,col_indexer] = value instead\n",
      "\n",
      "See the caveats in the documentation: https://pandas.pydata.org/pandas-docs/stable/user_guide/indexing.html#returning-a-view-versus-a-copy\n",
      "  from ipykernel import kernelapp as app\n"
     ]
    }
   ],
   "source": [
    "#rename rows in TypeOfResistance column\n",
    "police_data_df['TypeOfResistance'] = police_data_df['TypeOfResistance'].replace({\n",
    "    \"TENSED\": \"Tensed\",\n",
    "    \"tensed\": \"Tensed\",\n",
    "    \"Tensed                                                                         \": \"Tensed\",\n",
    "    \"verbal non-compliance\": \"Verbal Non-Compliance\",\n",
    "    \"Verbal Non-Compliance                                                          \": \"Verbal Non-Compliance\",\n",
    "    \"commission of crime\":\"Commission of Crime\",\n",
    "    \"Commission of a Crime                                                          \":\"Commission of Crime\",\n",
    "    \"COMMISSION OF CRIME\":\"Commission of Crime\",\n",
    "    \"Fled on Foot                                                                   \":\"Fled on Foot\",\n",
    "    \"Fled in a Vehicle                                                              \":\"Fled in Vehicle\",\n",
    "    \"Assaulted Officer                                                              \":\"Assaulted Officer\",\n",
    "    \"Assaulted Police K9                                                            \":\"Assaulting Police K9\",\n",
    "    \"Other                                                                          \":\"Other\"\n",
    "           \n",
    "})"
   ]
  },
  {
   "cell_type": "code",
   "execution_count": 8,
   "metadata": {},
   "outputs": [
    {
     "data": {
      "text/html": [
       "<div>\n",
       "<style scoped>\n",
       "    .dataframe tbody tr th:only-of-type {\n",
       "        vertical-align: middle;\n",
       "    }\n",
       "\n",
       "    .dataframe tbody tr th {\n",
       "        vertical-align: top;\n",
       "    }\n",
       "\n",
       "    .dataframe thead th {\n",
       "        text-align: right;\n",
       "    }\n",
       "</style>\n",
       "<table border=\"1\" class=\"dataframe\">\n",
       "  <thead>\n",
       "    <tr style=\"text-align: right;\">\n",
       "      <th></th>\n",
       "      <th>Police ID</th>\n",
       "      <th>Case Number</th>\n",
       "      <th>Response Date</th>\n",
       "      <th>Type of Crime</th>\n",
       "      <th>Type of Force</th>\n",
       "      <th>Type of Force Action</th>\n",
       "      <th>Event Age</th>\n",
       "      <th>Type of Resistance</th>\n",
       "      <th>Precinct</th>\n",
       "      <th>Neighborhood</th>\n",
       "    </tr>\n",
       "  </thead>\n",
       "  <tbody>\n",
       "    <tr>\n",
       "      <th>0</th>\n",
       "      <td>19194596</td>\n",
       "      <td>08-007748</td>\n",
       "      <td>2008/01/08 14:20:21+00</td>\n",
       "      <td>Disturbance</td>\n",
       "      <td>Bodily Force</td>\n",
       "      <td>Push Away</td>\n",
       "      <td>13.0</td>\n",
       "      <td>Tensed</td>\n",
       "      <td>4</td>\n",
       "      <td>Harrison</td>\n",
       "    </tr>\n",
       "    <tr>\n",
       "      <th>1</th>\n",
       "      <td>19194597</td>\n",
       "      <td>08-019047</td>\n",
       "      <td>2008/01/19 23:47:58+00</td>\n",
       "      <td>On Site</td>\n",
       "      <td>Bodily Force</td>\n",
       "      <td>Push Away</td>\n",
       "      <td>27.0</td>\n",
       "      <td>Tensed</td>\n",
       "      <td>1</td>\n",
       "      <td>Downtown West</td>\n",
       "    </tr>\n",
       "    <tr>\n",
       "      <th>2</th>\n",
       "      <td>19194598</td>\n",
       "      <td>08-034409</td>\n",
       "      <td>2008/02/04 21:21:49+00</td>\n",
       "      <td>Property Damage Accident</td>\n",
       "      <td>Bodily Force</td>\n",
       "      <td>Joint Lock</td>\n",
       "      <td>17.0</td>\n",
       "      <td>Verbal Non-Compliance</td>\n",
       "      <td>4</td>\n",
       "      <td>Willard - Hay</td>\n",
       "    </tr>\n",
       "    <tr>\n",
       "      <th>3</th>\n",
       "      <td>19194599</td>\n",
       "      <td>08-043573</td>\n",
       "      <td>2008/02/14 22:03:15+00</td>\n",
       "      <td>Unwanted Person</td>\n",
       "      <td>Bodily Force</td>\n",
       "      <td>Body Weight to Pin</td>\n",
       "      <td>18.0</td>\n",
       "      <td>Tensed</td>\n",
       "      <td>4</td>\n",
       "      <td>Lind - Bohanon</td>\n",
       "    </tr>\n",
       "    <tr>\n",
       "      <th>4</th>\n",
       "      <td>19194600</td>\n",
       "      <td>08-052540</td>\n",
       "      <td>2008/02/24 02:25:39+00</td>\n",
       "      <td>Fight</td>\n",
       "      <td>Bodily Force</td>\n",
       "      <td>Knees</td>\n",
       "      <td>28.0</td>\n",
       "      <td>Commission of Crime</td>\n",
       "      <td>1</td>\n",
       "      <td>Downtown West</td>\n",
       "    </tr>\n",
       "    <tr>\n",
       "      <th>...</th>\n",
       "      <td>...</td>\n",
       "      <td>...</td>\n",
       "      <td>...</td>\n",
       "      <td>...</td>\n",
       "      <td>...</td>\n",
       "      <td>...</td>\n",
       "      <td>...</td>\n",
       "      <td>...</td>\n",
       "      <td>...</td>\n",
       "      <td>...</td>\n",
       "    </tr>\n",
       "    <tr>\n",
       "      <th>29070</th>\n",
       "      <td>19225425</td>\n",
       "      <td>20-287806</td>\n",
       "      <td>2020/11/12 14:41:54+00</td>\n",
       "      <td>Domestic Abuse-In Progress</td>\n",
       "      <td>Maximal Restraint Technique</td>\n",
       "      <td>Not Side Recovery Position</td>\n",
       "      <td>19.0</td>\n",
       "      <td>Other</td>\n",
       "      <td>2</td>\n",
       "      <td>Waite Park</td>\n",
       "    </tr>\n",
       "    <tr>\n",
       "      <th>29071</th>\n",
       "      <td>19225426</td>\n",
       "      <td>20-288772</td>\n",
       "      <td>2020/11/13 21:48:02+00</td>\n",
       "      <td>Unwanted Person</td>\n",
       "      <td>Bodily Force</td>\n",
       "      <td>Body Weight to Pin</td>\n",
       "      <td>29.0</td>\n",
       "      <td>Verbal Non-Compliance</td>\n",
       "      <td>5</td>\n",
       "      <td>Linden Hills</td>\n",
       "    </tr>\n",
       "    <tr>\n",
       "      <th>29072</th>\n",
       "      <td>19225427</td>\n",
       "      <td>20-292656</td>\n",
       "      <td>2020/11/19 15:44:41+00</td>\n",
       "      <td>Emotionally Disturb Person</td>\n",
       "      <td>Taser</td>\n",
       "      <td>Firing Darts</td>\n",
       "      <td>23.0</td>\n",
       "      <td>Other</td>\n",
       "      <td>4</td>\n",
       "      <td>Willard - Hay</td>\n",
       "    </tr>\n",
       "    <tr>\n",
       "      <th>29073</th>\n",
       "      <td>19225428</td>\n",
       "      <td>20-298833</td>\n",
       "      <td>2020/11/28 08:18:10+00</td>\n",
       "      <td>Motor Vehicle Chase</td>\n",
       "      <td>Bodily Force</td>\n",
       "      <td>Push Away</td>\n",
       "      <td>31.0</td>\n",
       "      <td>Fled in Vehicle</td>\n",
       "      <td>3</td>\n",
       "      <td>East Phillips</td>\n",
       "    </tr>\n",
       "    <tr>\n",
       "      <th>29074</th>\n",
       "      <td>19225429</td>\n",
       "      <td>20-303056</td>\n",
       "      <td>2020/12/04 06:07:08+00</td>\n",
       "      <td>Assist a Disabled Person</td>\n",
       "      <td>Bodily Force</td>\n",
       "      <td>Body Weight to Pin</td>\n",
       "      <td>19.0</td>\n",
       "      <td>Tensed</td>\n",
       "      <td>1</td>\n",
       "      <td>Cedar Riverside</td>\n",
       "    </tr>\n",
       "  </tbody>\n",
       "</table>\n",
       "<p>29075 rows × 10 columns</p>\n",
       "</div>"
      ],
      "text/plain": [
       "       Police ID Case Number           Response Date  \\\n",
       "0       19194596   08-007748  2008/01/08 14:20:21+00   \n",
       "1       19194597   08-019047  2008/01/19 23:47:58+00   \n",
       "2       19194598   08-034409  2008/02/04 21:21:49+00   \n",
       "3       19194599   08-043573  2008/02/14 22:03:15+00   \n",
       "4       19194600   08-052540  2008/02/24 02:25:39+00   \n",
       "...          ...         ...                     ...   \n",
       "29070   19225425   20-287806  2020/11/12 14:41:54+00   \n",
       "29071   19225426   20-288772  2020/11/13 21:48:02+00   \n",
       "29072   19225427   20-292656  2020/11/19 15:44:41+00   \n",
       "29073   19225428   20-298833  2020/11/28 08:18:10+00   \n",
       "29074   19225429   20-303056  2020/12/04 06:07:08+00   \n",
       "\n",
       "                     Type of Crime                Type of Force  \\\n",
       "0                     Disturbance                  Bodily Force   \n",
       "1                         On Site                  Bodily Force   \n",
       "2        Property Damage Accident                  Bodily Force   \n",
       "3                 Unwanted Person                  Bodily Force   \n",
       "4                           Fight                  Bodily Force   \n",
       "...                            ...                          ...   \n",
       "29070  Domestic Abuse-In Progress   Maximal Restraint Technique   \n",
       "29071             Unwanted Person                  Bodily Force   \n",
       "29072  Emotionally Disturb Person                         Taser   \n",
       "29073         Motor Vehicle Chase                  Bodily Force   \n",
       "29074    Assist a Disabled Person                  Bodily Force   \n",
       "\n",
       "             Type of Force Action  Event Age     Type of Resistance Precinct  \\\n",
       "0                       Push Away       13.0                 Tensed        4   \n",
       "1                       Push Away       27.0                 Tensed        1   \n",
       "2                      Joint Lock       17.0  Verbal Non-Compliance        4   \n",
       "3              Body Weight to Pin       18.0                 Tensed        4   \n",
       "4                           Knees       28.0    Commission of Crime        1   \n",
       "...                           ...        ...                    ...      ...   \n",
       "29070  Not Side Recovery Position       19.0                  Other        2   \n",
       "29071          Body Weight to Pin       29.0  Verbal Non-Compliance        5   \n",
       "29072                Firing Darts       23.0                  Other        4   \n",
       "29073                   Push Away       31.0        Fled in Vehicle        3   \n",
       "29074          Body Weight to Pin       19.0                 Tensed        1   \n",
       "\n",
       "          Neighborhood  \n",
       "0             Harrison  \n",
       "1        Downtown West  \n",
       "2        Willard - Hay  \n",
       "3       Lind - Bohanon  \n",
       "4        Downtown West  \n",
       "...                ...  \n",
       "29070       Waite Park  \n",
       "29071     Linden Hills  \n",
       "29072    Willard - Hay  \n",
       "29073    East Phillips  \n",
       "29074  Cedar Riverside  \n",
       "\n",
       "[29075 rows x 10 columns]"
      ]
     },
     "execution_count": 8,
     "metadata": {},
     "output_type": "execute_result"
    }
   ],
   "source": [
    "#rename columns in Dataframe\n",
    "clean_df = police_data_df.rename(columns ={\n",
    "    'PoliceUseOfForceID': \"Police ID\",\n",
    "    'CaseNumber': \"Case Number\",\n",
    "    'ResponseDate': \"Response Date\",\n",
    "    'Problem': \"Type of Crime\",\n",
    "    'ForceType': 'Type of Force',\n",
    "    'ForceTypeAction': 'Type of Force Action',\n",
    "    'EventAge': 'Event Age',\n",
    "    'TypeOfResistance': 'Type of Resistance'\n",
    "})\n",
    "#reset the index in DataFrame\n",
    "clean_df.reset_index(drop=True, inplace=True)\n",
    "clean_df"
   ]
  },
  {
   "cell_type": "markdown",
   "metadata": {},
   "source": [
    "# 1. What incidents result the most in police use of force? (Sam)"
   ]
  },
  {
   "cell_type": "code",
   "execution_count": 9,
   "metadata": {},
   "outputs": [
    {
     "data": {
      "text/plain": [
       "count                  29075\n",
       "unique                   131\n",
       "top       Suspicious Person \n",
       "freq                    4845\n",
       "Name: Type of Crime, dtype: object"
      ]
     },
     "execution_count": 9,
     "metadata": {},
     "output_type": "execute_result"
    }
   ],
   "source": [
    "test_data = clean_df[\"Type of Crime\"].describe(include=\"all\")\n",
    "test_data"
   ]
  },
  {
   "cell_type": "code",
   "execution_count": 10,
   "metadata": {},
   "outputs": [
    {
     "data": {
      "text/html": [
       "<div>\n",
       "<style scoped>\n",
       "    .dataframe tbody tr th:only-of-type {\n",
       "        vertical-align: middle;\n",
       "    }\n",
       "\n",
       "    .dataframe tbody tr th {\n",
       "        vertical-align: top;\n",
       "    }\n",
       "\n",
       "    .dataframe thead th {\n",
       "        text-align: right;\n",
       "    }\n",
       "</style>\n",
       "<table border=\"1\" class=\"dataframe\">\n",
       "  <thead>\n",
       "    <tr style=\"text-align: right;\">\n",
       "      <th></th>\n",
       "      <th>Total Count</th>\n",
       "    </tr>\n",
       "    <tr>\n",
       "      <th>Incidents</th>\n",
       "      <th></th>\n",
       "    </tr>\n",
       "  </thead>\n",
       "  <tbody>\n",
       "    <tr>\n",
       "      <th>Suspicious Person</th>\n",
       "      <td>2341</td>\n",
       "    </tr>\n",
       "    <tr>\n",
       "      <th>Fight</th>\n",
       "      <td>1348</td>\n",
       "    </tr>\n",
       "    <tr>\n",
       "      <th>Disturbance</th>\n",
       "      <td>1031</td>\n",
       "    </tr>\n",
       "    <tr>\n",
       "      <th>Domestic Abuse-In Progress</th>\n",
       "      <td>719</td>\n",
       "    </tr>\n",
       "    <tr>\n",
       "      <th>Suspicious Vehicle</th>\n",
       "      <td>570</td>\n",
       "    </tr>\n",
       "  </tbody>\n",
       "</table>\n",
       "</div>"
      ],
      "text/plain": [
       "                             Total Count\n",
       "Incidents                               \n",
       "Suspicious Person                   2341\n",
       "Fight                               1348\n",
       "Disturbance                         1031\n",
       "Domestic Abuse-In Progress           719\n",
       "Suspicious Vehicle                   570"
      ]
     },
     "execution_count": 10,
     "metadata": {},
     "output_type": "execute_result"
    }
   ],
   "source": [
    "incident_data = clean_df.groupby(\"Type of Crime\")\n",
    "total_count = incident_data.nunique()[\"Case Number\"]\n",
    "\n",
    "incidents = pd.DataFrame({\"Total Count\": total_count})\n",
    "top_incidents = incidents.sort_values(\"Total Count\", ascending=False)\n",
    "\n",
    "top_incidents.index.name = \"Incidents\"\n",
    "top_incidents.head()"
   ]
  },
  {
   "cell_type": "code",
   "execution_count": 11,
   "metadata": {},
   "outputs": [
    {
     "data": {
      "text/plain": [
       "Text(0, 0.5, 'Number of Cases')"
      ]
     },
     "execution_count": 11,
     "metadata": {},
     "output_type": "execute_result"
    },
    {
     "data": {
      "image/png": "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\n",
      "text/plain": [
       "<Figure size 432x288 with 1 Axes>"
      ]
     },
     "metadata": {
      "needs_background": "light"
     },
     "output_type": "display_data"
    }
   ],
   "source": [
    "top_incidents.head(5)\n",
    "top_incidents.head(5).plot(kind=\"bar\", edgecolor=\"black\", facecolor=\"purple\",fontsize=10)\n",
    "plt.title(\"Top 5 Incidents Resulting in Police Force in Minneapolis, MN\")\n",
    "plt.ylabel(\"Number of Cases\")"
   ]
  },
  {
   "cell_type": "markdown",
   "metadata": {},
   "source": [
    "# Incident Analysis:\n",
    "-When looking at the data, it is evident that the number one incident that results in the use of police force in Minneapolis is when there is a suspicious person (2341).\n",
    "\n",
    "-There could be many reasons why suspicious person is the number one incident resulting in police force. For instance, the suspect could have been caught in the middle of commiting a crime and will do anything it takes to get out of the situation. Another reason is the suspect could be exhibiting unusual behavior because they are either mentally unstable or on drugs. \n",
    "\n",
    "-Since every case is different. It is hard to pinpoint an exact reason why suspicious person is the number one incident resulting in police force. "
   ]
  },
  {
   "cell_type": "code",
   "execution_count": 12,
   "metadata": {},
   "outputs": [],
   "source": [
    "# Sam's code ends here"
   ]
  },
  {
   "cell_type": "markdown",
   "metadata": {},
   "source": [
    "# 2. What type of force is used the most? (Ainash)"
   ]
  },
  {
   "cell_type": "code",
   "execution_count": 13,
   "metadata": {},
   "outputs": [
    {
     "data": {
      "text/plain": [
       "array(['Bodily Force', 'Chemical Irritant', 'Taser', 'Improvised Weapon',\n",
       "       'Baton', 'Police K9 Bite', 'Firearm', 'Less Lethal',\n",
       "       'Gun Point Display', 'Maximal Restraint Technique'], dtype=object)"
      ]
     },
     "execution_count": 13,
     "metadata": {},
     "output_type": "execute_result"
    }
   ],
   "source": [
    "#find all types of force\n",
    "force_type_ainash = clean_df['Type of Force']\n",
    "force_type_ainash.unique()"
   ]
  },
  {
   "cell_type": "code",
   "execution_count": 66,
   "metadata": {},
   "outputs": [],
   "source": [
    "# find the most used types of force\n",
    "force_data_ainash = clean_df[['Type of Force', 'Case Number']]\n",
    "force_data_groupby_ainash = force_data_ainash.groupby('Type of Force')\n",
    "force_data_count_ainash = force_data_groupby_ainash['Type of Force'].count()\n",
    "most_force_type_ainash = pd.DataFrame({'Total Count': force_data_count_ainash})\n",
<<<<<<< HEAD
    "sorted_ainash = most_force_type_ainash.sort_values(['Total Count'], ascending = False)"
=======
    "sorted_ainash = most_force_type_ainash.sort_values(['Total Count'], ascending = False)\n"
>>>>>>> b0b0847e2864653ca6dfafa636413a56d0260964
   ]
  },
  {
   "cell_type": "code",
<<<<<<< HEAD
   "execution_count": 68,
   "metadata": {},
   "outputs": [
    {
     "data": {
      "image/png": "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\n",
      "text/plain": [
       "<Figure size 432x288 with 1 Axes>"
      ]
     },
     "metadata": {
      "needs_background": "light"
     },
     "output_type": "display_data"
    },
    {
     "data": {
      "text/plain": [
       "<Figure size 432x288 with 0 Axes>"
      ]
     },
     "metadata": {},
     "output_type": "display_data"
    }
   ],
   "source": [
    "# create a bar chart to show the Top 5 most used types of force\n",
    "top5_force_bar_ainash = sorted_ainash.head().plot(kind=\"bar\",edgecolor=\"black\", facecolor=\"purple\", fontsize=12, align=\"center\", alpha=1.0)\n",
    "plt.title('Top 5 Most Used Type of Force in Minneapolis, MN')\n",
=======
   "execution_count": null,
   "metadata": {},
   "outputs": [],
   "source": [
    "# create a bar chart to show the Top 5 most used types of force\n",
    "top5_force_bar_ainash = sorted_ainash.head().plot(kind=\"bar\",edgecolor=\"black\", facecolor=\"purple\", fontsize=12, align=\"center\", alpha=1.0)\n",
    "plt.title('Top 5 Most Used Type of Force by Police in Minneapolis, MN')\n",
>>>>>>> b0b0847e2864653ca6dfafa636413a56d0260964
    "top5_force_bar_ainash.set_xlabel ('Type of Force')\n",
    "top5_force_bar_ainash.set_ylabel ('Number of Cases')\n",
    "plt.show()\n",
    "plt.tight_layout()"
   ]
  },
  {
   "cell_type": "code",
   "execution_count": 16,
   "metadata": {},
   "outputs": [
    {
     "data": {
      "text/plain": [
       "41"
      ]
     },
     "execution_count": 16,
     "metadata": {},
     "output_type": "execute_result"
    }
   ],
   "source": [
    "#find all types of force action\n",
    "force_type_action_ainash = clean_df['Type of Force Action']\n",
    "force_type_action_ainash.nunique()"
   ]
  },
  {
   "cell_type": "code",
   "execution_count": 17,
   "metadata": {},
   "outputs": [],
   "source": [
    "# find the most used type of force and its action\n",
    "merged_force_type_data_ainash = clean_df[['Type of Force', 'Type of Force Action', 'Case Number']]\n",
    "merged_force_type_data_ainash = merged_force_type_data_ainash.groupby(['Type of Force', 'Type of Force Action'])\n",
    "merged_force_type = merged_force_type_data_ainash['Type of Force Action'].count()\n",
    "merged_ainash = pd.DataFrame({'Total Count': merged_force_type})\n",
    "sorted_merged_ainash = merged_ainash.sort_values(['Total Count'], ascending = False)"
   ]
  },
  {
   "cell_type": "code",
   "execution_count": 18,
   "metadata": {},
   "outputs": [
    {
     "data": {
      "image/png": "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\n",
      "text/plain": [
       "<Figure size 432x288 with 1 Axes>"
      ]
     },
     "metadata": {
      "needs_background": "light"
     },
     "output_type": "display_data"
    },
    {
     "data": {
      "text/plain": [
       "<Figure size 432x288 with 0 Axes>"
      ]
     },
     "metadata": {},
     "output_type": "display_data"
    }
   ],
   "source": [
    "# create a bar chart to show the Top 5 most used types of force and its action\n",
    "top5_merged_bar = sorted_merged_ainash.head().plot(kind=\"bar\",edgecolor=\"black\", facecolor=\"purple\", fontsize=12, align=\"center\", alpha=1.0)\n",
<<<<<<< HEAD
    "plt.title('Top 5 Type's of Force and Action by Police in Minneapolis, MN')\n",
=======
    "plt.title('Top 5 Most Used Type of Force and Action by Police in Minneapolis, MN')\n",
>>>>>>> b0b0847e2864653ca6dfafa636413a56d0260964
    "top5_merged_bar.set_xlabel ('Type of Force and it Action')\n",
    "top5_merged_bar.set_ylabel ('Number of Cases')\n",
    "plt.show()\n",
    "plt.tight_layout()"
   ]
  },
  {
   "cell_type": "code",
   "execution_count": 19,
   "metadata": {},
   "outputs": [],
   "source": [
    "# drop ages =0\n",
    "age_df = clean_df.loc[clean_df['Event Age'] != 0, :]"
   ]
  },
  {
   "cell_type": "code",
   "execution_count": 20,
   "metadata": {},
   "outputs": [],
   "source": [
    "#create bins for ages\n",
    "bins = [6,9.9,14.9,19.9,29.9,39.9,49.9,59.9,69.9,79.9,89.9]\n",
    "group_names = ['6-10', '11-15', '16-20','21-30','31-40','41-50','51-60', '61-70', '71-80', '81 <']"
   ]
  },
  {
   "cell_type": "code",
   "execution_count": 21,
   "metadata": {},
   "outputs": [
    {
     "name": "stderr",
     "output_type": "stream",
     "text": [
      "C:\\Users\\szig9\\anaconda3\\envs\\PythonData\\lib\\site-packages\\ipykernel_launcher.py:1: SettingWithCopyWarning: \n",
      "A value is trying to be set on a copy of a slice from a DataFrame.\n",
      "Try using .loc[row_indexer,col_indexer] = value instead\n",
      "\n",
      "See the caveats in the documentation: https://pandas.pydata.org/pandas-docs/stable/user_guide/indexing.html#returning-a-view-versus-a-copy\n",
      "  \"\"\"Entry point for launching an IPython kernel.\n"
     ]
    }
   ],
   "source": [
    "age_df['Age Groups'] = pd.cut(age_df['Event Age'], bins, labels = group_names, include_lowest = True)"
   ]
  },
  {
   "cell_type": "code",
   "execution_count": 22,
   "metadata": {},
   "outputs": [],
   "source": [
    "age_data_ainash = age_df[['Age Groups', 'Case Number']]\n",
    "age_data_groupby_ainash = age_data_ainash.groupby('Age Groups')\n",
    "age_count_ainash = age_data_groupby_ainash['Age Groups'].count()\n",
    "age_df_ainash = pd.DataFrame({'Total Count': age_count_ainash})"
   ]
  },
  {
   "cell_type": "code",
   "execution_count": 23,
   "metadata": {},
   "outputs": [
    {
     "data": {
      "image/png": "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\n",
      "text/plain": [
       "<Figure size 432x288 with 1 Axes>"
      ]
     },
     "metadata": {
      "needs_background": "light"
     },
     "output_type": "display_data"
    },
    {
     "data": {
      "text/plain": [
       "<Figure size 432x288 with 0 Axes>"
      ]
     },
     "metadata": {},
     "output_type": "display_data"
    }
   ],
   "source": [
    "age_bar_ainash = age_df_ainash.plot(kind=\"bar\",edgecolor=\"black\", facecolor=\"purple\", fontsize=12, align=\"center\", alpha=1.0)\n",
    "plt.title('Force Used by Police in Minneapolis, MN by Age')\n",
    "top5_force_bar_ainash.set_xlabel ('Age Groups')\n",
    "top5_force_bar_ainash.set_ylabel ('Number of Cases')\n",
    "plt.show()\n",
    "plt.tight_layout()"
   ]
  },
  {
   "cell_type": "markdown",
   "metadata": {},
   "source": [
    "# Types of Force used by Police in Minneapolis,MN Analysis\n",
    "## When analyzing types of Force used by Police in Minneapolis, Minnesota, we observed that:\n",
    "* There are 10 types of Force that Police in Minneapolis, MN use in incidents: Bodily Force, Chemical Irritant, Taser, Improvised Weapon, Baton, Police K9 Bite, Firearm, Less Lethal Projectile, Gun Point Display, Maximal Restraint Technique. From these force types, the five most commonly used by law enforcement officers in Minneapolis are: Bodily Force (21212 cases among analyzed data), Chemical Irritant (3780 cases), Taser(2757 cases), Gun Point Display (436 cases) and Improvised weapon (343 cases).\n",
    "* Types of Force also have sub-categories that are called Types of Force Action. Our data includes 41 types of Force Action. The Top 5 most used Types of Force Action by Police in Minneapolis, MN area are Body Weight to Pin (Bodily Force type), Punches (Bodily Force type), Joint Lock (Bodily Force type), Personal Mace (Chemical Irritant type) and Push Away (Bodily Force type).\n",
    "* We also decided to analyze the police cases by Age Groups. After analysis of Force Police used by Age Groups, we observed that most commonly, the most force is used on people between age 21-30. "
   ]
  },
  {
   "cell_type": "code",
   "execution_count": 24,
   "metadata": {},
   "outputs": [],
   "source": [
    "# Ainash's code ends here"
   ]
  },
  {
   "cell_type": "markdown",
   "metadata": {},
   "source": [
    "# 3. Which is the most popular type of resistance? (Humera)"
   ]
  },
  {
   "cell_type": "code",
   "execution_count": 25,
   "metadata": {},
   "outputs": [
    {
     "data": {
      "text/plain": [
       "count      29075\n",
       "unique        10\n",
       "top       Tensed\n",
       "freq        8120\n",
       "Name: Type of Resistance, dtype: object"
      ]
     },
     "execution_count": 25,
     "metadata": {},
     "output_type": "execute_result"
    }
   ],
   "source": [
    "popular_data = clean_df[\"Type of Resistance\"].describe(include = \"all\")\n",
    "popular_data"
   ]
  },
  {
   "cell_type": "code",
   "execution_count": 26,
   "metadata": {},
   "outputs": [
    {
     "data": {
      "text/plain": [
       "Type of Resistance\n",
       "Assaulted Officer           983\n",
       "Assaulting Police Horse      26\n",
       "Assaulting Police K9          9\n",
       "Commission of Crime        2827\n",
       "Fled in Vehicle             301\n",
       "Fled on Foot               2053\n",
       "Other                       485\n",
       "Tensed                     3708\n",
       "Unspecified                1174\n",
       "Verbal Non-Compliance      1762\n",
       "Name: Case Number, dtype: int64"
      ]
     },
     "execution_count": 26,
     "metadata": {},
     "output_type": "execute_result"
    }
   ],
   "source": [
    "resistance_data = clean_df.groupby(\"Type of Resistance\")\n",
    "total_count = resistance_data.nunique()[\"Case Number\"]\n",
    "total_count"
   ]
  },
  {
   "cell_type": "code",
   "execution_count": 27,
   "metadata": {
    "scrolled": true
   },
   "outputs": [
    {
     "ename": "NameError",
     "evalue": "name 'sorted_force' is not defined",
     "output_type": "error",
     "traceback": [
      "\u001b[1;31m---------------------------------------------------------------------------\u001b[0m",
      "\u001b[1;31mNameError\u001b[0m                                 Traceback (most recent call last)",
      "\u001b[1;32m<ipython-input-27-e9b7aaa9416f>\u001b[0m in \u001b[0;36m<module>\u001b[1;34m\u001b[0m\n\u001b[0;32m      2\u001b[0m \u001b[0mtotal_count\u001b[0m \u001b[1;33m=\u001b[0m \u001b[0mincident_data\u001b[0m\u001b[1;33m.\u001b[0m\u001b[0mnunique\u001b[0m\u001b[1;33m(\u001b[0m\u001b[1;33m)\u001b[0m\u001b[1;33m[\u001b[0m\u001b[1;34m\"Case Number\"\u001b[0m\u001b[1;33m]\u001b[0m\u001b[1;33m\u001b[0m\u001b[1;33m\u001b[0m\u001b[0m\n\u001b[0;32m      3\u001b[0m \u001b[1;31m# create a bar chart to show the most used force type\u001b[0m\u001b[1;33m\u001b[0m\u001b[1;33m\u001b[0m\u001b[1;33m\u001b[0m\u001b[0m\n\u001b[1;32m----> 4\u001b[1;33m \u001b[0mforce_bar\u001b[0m \u001b[1;33m=\u001b[0m \u001b[0msorted_force\u001b[0m\u001b[1;33m.\u001b[0m\u001b[0mplot\u001b[0m\u001b[1;33m(\u001b[0m\u001b[0mkind\u001b[0m \u001b[1;33m=\u001b[0m \u001b[1;34m'bar'\u001b[0m\u001b[1;33m,\u001b[0m \u001b[0mtitle\u001b[0m \u001b[1;33m=\u001b[0m \u001b[1;34m'Used Type of Force by Police in Minneapolis, MN area'\u001b[0m\u001b[1;33m)\u001b[0m\u001b[1;33m\u001b[0m\u001b[1;33m\u001b[0m\u001b[0m\n\u001b[0m\u001b[0;32m      5\u001b[0m \u001b[0mforce_bar\u001b[0m\u001b[1;33m.\u001b[0m\u001b[0mset_xlabel\u001b[0m \u001b[1;33m(\u001b[0m\u001b[1;34m'Type of Force'\u001b[0m\u001b[1;33m)\u001b[0m\u001b[1;33m\u001b[0m\u001b[1;33m\u001b[0m\u001b[0m\n\u001b[0;32m      6\u001b[0m \u001b[0mforce_bar\u001b[0m\u001b[1;33m.\u001b[0m\u001b[0mset_ylabel\u001b[0m \u001b[1;33m(\u001b[0m\u001b[1;34m'Number of Cases'\u001b[0m\u001b[1;33m)\u001b[0m\u001b[1;33m\u001b[0m\u001b[1;33m\u001b[0m\u001b[0m\n",
      "\u001b[1;31mNameError\u001b[0m: name 'sorted_force' is not defined"
     ]
    }
   ],
   "source": [
    "incident_data = clean_df.groupby(\"Type of Crime\")\n",
    "total_count = incident_data.nunique()[\"Case Number\"]\n",
    "# create a bar chart to show the most used force type\n",
    "force_bar = sorted_force.plot(kind = 'bar', title = 'Used Type of Force by Police in Minneapolis, MN area')\n",
    "force_bar.set_xlabel ('Type of Force')\n",
    "force_bar.set_ylabel ('Number of Cases')\n",
    "plt.show()\n",
    "plt.tight_layout()\n",
    "resistance_data = clean_df.groupby(\"Type Of Resistance\")\n",
    "total_count = resistance_data.nunique()[\"Case Number\"]\n",
    "\n",
    "resistance = pd.DataFrame({\"Total Count\": total_count})\n",
    "resistance_case_no = resistance.sort_values(\"Total Count\", ascending=False)\n",
    "\n",
    "resistance_case_no.index.name = \"Type Of Resistance\"\n",
    "#resistance_case_no.head()\n",
    "resistance = pd.DataFrame({\"Total Count\": total_count})\n",
    "resistance = pd.DataFrame({\"Total Count\": total_count})\n",
    "top_resistance = resistance.sort_values(\"Total Count\", ascending=False)\n",
    "top_resistance"
   ]
  },
  {
   "cell_type": "code",
   "execution_count": 28,
   "metadata": {},
   "outputs": [
    {
     "ename": "NameError",
     "evalue": "name 'top_resistance' is not defined",
     "output_type": "error",
     "traceback": [
      "\u001b[1;31m---------------------------------------------------------------------------\u001b[0m",
      "\u001b[1;31mNameError\u001b[0m                                 Traceback (most recent call last)",
      "\u001b[1;32m<ipython-input-28-6370d41bf5d2>\u001b[0m in \u001b[0;36m<module>\u001b[1;34m\u001b[0m\n\u001b[1;32m----> 1\u001b[1;33m \u001b[0mtop_resistance\u001b[0m\u001b[1;33m.\u001b[0m\u001b[0mindex\u001b[0m\u001b[1;33m.\u001b[0m\u001b[0mname\u001b[0m \u001b[1;33m=\u001b[0m \u001b[1;34m\"Resistance\"\u001b[0m\u001b[1;33m\u001b[0m\u001b[1;33m\u001b[0m\u001b[0m\n\u001b[0m\u001b[0;32m      2\u001b[0m \u001b[0mtop_resistance\u001b[0m\u001b[1;33m.\u001b[0m\u001b[0mhead\u001b[0m\u001b[1;33m(\u001b[0m\u001b[1;33m)\u001b[0m\u001b[1;33m\u001b[0m\u001b[1;33m\u001b[0m\u001b[0m\n",
      "\u001b[1;31mNameError\u001b[0m: name 'top_resistance' is not defined"
     ]
    }
   ],
   "source": [
    "top_resistance.index.name = \"Resistance\"\n",
    "top_resistance.head()"
   ]
  },
  {
   "cell_type": "code",
   "execution_count": 29,
   "metadata": {
    "scrolled": true
   },
   "outputs": [
    {
     "ename": "NameError",
     "evalue": "name 'top_resistance' is not defined",
     "output_type": "error",
     "traceback": [
      "\u001b[1;31m---------------------------------------------------------------------------\u001b[0m",
      "\u001b[1;31mNameError\u001b[0m                                 Traceback (most recent call last)",
      "\u001b[1;32m<ipython-input-29-38280f503265>\u001b[0m in \u001b[0;36m<module>\u001b[1;34m\u001b[0m\n\u001b[1;32m----> 1\u001b[1;33m \u001b[0mtop_resistance\u001b[0m\u001b[1;33m.\u001b[0m\u001b[0mhead\u001b[0m\u001b[1;33m(\u001b[0m\u001b[1;36m5\u001b[0m\u001b[1;33m)\u001b[0m\u001b[1;33m.\u001b[0m\u001b[0mplot\u001b[0m\u001b[1;33m(\u001b[0m\u001b[0mkind\u001b[0m\u001b[1;33m=\u001b[0m\u001b[1;34m\"barh\"\u001b[0m\u001b[1;33m,\u001b[0m\u001b[0medgecolor\u001b[0m\u001b[1;33m=\u001b[0m\u001b[1;34m\"black\"\u001b[0m\u001b[1;33m,\u001b[0m \u001b[0mfacecolor\u001b[0m\u001b[1;33m=\u001b[0m\u001b[1;34m\"purple\"\u001b[0m\u001b[1;33m,\u001b[0m \u001b[0mfontsize\u001b[0m\u001b[1;33m=\u001b[0m\u001b[1;36m10\u001b[0m\u001b[1;33m)\u001b[0m\u001b[1;33m\u001b[0m\u001b[1;33m\u001b[0m\u001b[0m\n\u001b[0m\u001b[0;32m      2\u001b[0m \u001b[0mplt\u001b[0m\u001b[1;33m.\u001b[0m\u001b[0mtitle\u001b[0m\u001b[1;33m(\u001b[0m\u001b[1;34m\"Top 10 Resistances Resulting in Use of Police Force in Minneapolis, MN\"\u001b[0m\u001b[1;33m)\u001b[0m\u001b[1;33m\u001b[0m\u001b[1;33m\u001b[0m\u001b[0m\n\u001b[0;32m      3\u001b[0m \u001b[0mplt\u001b[0m\u001b[1;33m.\u001b[0m\u001b[0mylabel\u001b[0m\u001b[1;33m(\u001b[0m\u001b[1;34m\"Number of Cases\"\u001b[0m\u001b[1;33m,\u001b[0m \u001b[0mfontsize\u001b[0m\u001b[1;33m=\u001b[0m\u001b[1;36m12\u001b[0m\u001b[1;33m)\u001b[0m\u001b[1;33m\u001b[0m\u001b[1;33m\u001b[0m\u001b[0m\n\u001b[0;32m      4\u001b[0m \u001b[0mplt\u001b[0m\u001b[1;33m.\u001b[0m\u001b[0mxlabel\u001b[0m\u001b[1;33m(\u001b[0m\u001b[1;34m\"Resistance\"\u001b[0m\u001b[1;33m,\u001b[0m \u001b[0mfontsize\u001b[0m\u001b[1;33m=\u001b[0m\u001b[1;36m12\u001b[0m\u001b[1;33m)\u001b[0m\u001b[1;33m\u001b[0m\u001b[1;33m\u001b[0m\u001b[0m\n\u001b[0;32m      5\u001b[0m \u001b[0mplt\u001b[0m\u001b[1;33m.\u001b[0m\u001b[0mshow\u001b[0m\u001b[1;33m(\u001b[0m\u001b[1;33m)\u001b[0m\u001b[1;33m\u001b[0m\u001b[1;33m\u001b[0m\u001b[0m\n",
      "\u001b[1;31mNameError\u001b[0m: name 'top_resistance' is not defined"
     ]
    }
   ],
   "source": [
    "top_resistance.head(5).plot(kind=\"barh\",edgecolor=\"black\", facecolor=\"purple\", fontsize=10)\n",
    "plt.title(\"Top 10 Resistances Resulting in Use of Police Force in Minneapolis, MN\")\n",
    "plt.ylabel(\"Number of Cases\", fontsize=12)\n",
    "plt.xlabel(\"Resistance\", fontsize=12)\n",
    "plt.show()"
   ]
  },
  {
   "cell_type": "code",
   "execution_count": 30,
   "metadata": {},
   "outputs": [
    {
     "ename": "NameError",
     "evalue": "name 'top_resistance' is not defined",
     "output_type": "error",
     "traceback": [
      "\u001b[1;31m---------------------------------------------------------------------------\u001b[0m",
      "\u001b[1;31mNameError\u001b[0m                                 Traceback (most recent call last)",
      "\u001b[1;32m<ipython-input-30-06cc5860f452>\u001b[0m in \u001b[0;36m<module>\u001b[1;34m\u001b[0m\n\u001b[0;32m      2\u001b[0m \u001b[0mcolors\u001b[0m \u001b[1;33m=\u001b[0m \u001b[1;33m[\u001b[0m\u001b[1;34m'gold'\u001b[0m\u001b[1;33m,\u001b[0m \u001b[1;34m'red'\u001b[0m\u001b[1;33m,\u001b[0m \u001b[1;34m'pink'\u001b[0m\u001b[1;33m,\u001b[0m \u001b[1;34m'blue'\u001b[0m\u001b[1;33m,\u001b[0m \u001b[1;34m'lightskyblue'\u001b[0m\u001b[1;33m]\u001b[0m\u001b[1;33m\u001b[0m\u001b[1;33m\u001b[0m\u001b[0m\n\u001b[0;32m      3\u001b[0m \u001b[0mexplode\u001b[0m \u001b[1;33m=\u001b[0m \u001b[1;33m(\u001b[0m\u001b[1;36m0.1\u001b[0m\u001b[1;33m,\u001b[0m \u001b[1;36m0\u001b[0m\u001b[1;33m,\u001b[0m \u001b[1;36m0\u001b[0m\u001b[1;33m,\u001b[0m \u001b[1;36m0\u001b[0m\u001b[1;33m,\u001b[0m \u001b[1;36m0\u001b[0m\u001b[1;33m)\u001b[0m\u001b[1;33m\u001b[0m\u001b[1;33m\u001b[0m\u001b[0m\n\u001b[1;32m----> 4\u001b[1;33m \u001b[0mtop_resistance\u001b[0m\u001b[1;33m.\u001b[0m\u001b[0mhead\u001b[0m\u001b[1;33m(\u001b[0m\u001b[1;36m5\u001b[0m\u001b[1;33m)\u001b[0m\u001b[1;33m.\u001b[0m\u001b[0mplot\u001b[0m\u001b[1;33m(\u001b[0m\u001b[0mkind\u001b[0m\u001b[1;33m=\u001b[0m\u001b[1;34m\"pie\"\u001b[0m\u001b[1;33m,\u001b[0m\u001b[0mexplode\u001b[0m\u001b[1;33m=\u001b[0m\u001b[0mexplode\u001b[0m\u001b[1;33m,\u001b[0m \u001b[0mcolors\u001b[0m\u001b[1;33m=\u001b[0m\u001b[0mcolors\u001b[0m\u001b[1;33m,\u001b[0m \u001b[0mautopct\u001b[0m\u001b[1;33m=\u001b[0m \u001b[1;34m\"%1.1f%%\"\u001b[0m\u001b[1;33m,\u001b[0m \u001b[0msubplots\u001b[0m\u001b[1;33m=\u001b[0m\u001b[1;34m\"False\"\u001b[0m\u001b[1;33m,\u001b[0m \u001b[0mshadow\u001b[0m\u001b[1;33m=\u001b[0m\u001b[1;32mTrue\u001b[0m\u001b[1;33m,\u001b[0m \u001b[0mstartangle\u001b[0m\u001b[1;33m=\u001b[0m\u001b[1;36m150\u001b[0m \u001b[1;33m)\u001b[0m\u001b[1;33m\u001b[0m\u001b[1;33m\u001b[0m\u001b[0m\n\u001b[0m\u001b[0;32m      5\u001b[0m \u001b[0mplt\u001b[0m\u001b[1;33m.\u001b[0m\u001b[0mtitle\u001b[0m\u001b[1;33m(\u001b[0m\u001b[1;34m'Top 5 - Type of Resistance Resulting in Use of Police Force in Minneapolis'\u001b[0m\u001b[1;33m,\u001b[0m \u001b[0mfontsize\u001b[0m\u001b[1;33m=\u001b[0m\u001b[1;36m10\u001b[0m\u001b[1;33m)\u001b[0m\u001b[1;33m\u001b[0m\u001b[1;33m\u001b[0m\u001b[0m\n\u001b[0;32m      6\u001b[0m \u001b[0mplt\u001b[0m\u001b[1;33m.\u001b[0m\u001b[0maxis\u001b[0m\u001b[1;33m(\u001b[0m\u001b[1;34m'equal'\u001b[0m\u001b[1;33m)\u001b[0m\u001b[1;33m\u001b[0m\u001b[1;33m\u001b[0m\u001b[0m\n",
      "\u001b[1;31mNameError\u001b[0m: name 'top_resistance' is not defined"
     ]
    }
   ],
   "source": [
    "#Pie chart\n",
    "colors = ['gold', 'red', 'pink', 'blue', 'lightskyblue']\n",
    "explode = (0.1, 0, 0, 0, 0)\n",
    "top_resistance.head(5).plot(kind=\"pie\",explode=explode, colors=colors, autopct= \"%1.1f%%\", subplots=\"False\", shadow=True, startangle=150 )\n",
    "plt.title('Top 5 - Type of Resistance Resulting in Use of Police Force in Minneapolis', fontsize=10)\n",
    "plt.axis('equal')\n",
    "plt.tight_layout()\n",
    "plt.show()"
   ]
  },
  {
   "cell_type": "code",
   "execution_count": 31,
   "metadata": {},
   "outputs": [
    {
     "data": {
      "text/html": [
       "<div>\n",
       "<style scoped>\n",
       "    .dataframe tbody tr th:only-of-type {\n",
       "        vertical-align: middle;\n",
       "    }\n",
       "\n",
       "    .dataframe tbody tr th {\n",
       "        vertical-align: top;\n",
       "    }\n",
       "\n",
       "    .dataframe thead th {\n",
       "        text-align: right;\n",
       "    }\n",
       "</style>\n",
       "<table border=\"1\" class=\"dataframe\">\n",
       "  <thead>\n",
       "    <tr style=\"text-align: right;\">\n",
       "      <th></th>\n",
       "      <th></th>\n",
       "      <th>Police ID</th>\n",
       "      <th>Case Number</th>\n",
       "      <th>Response Date</th>\n",
       "      <th>Type of Crime</th>\n",
       "      <th>Type of Force Action</th>\n",
       "      <th>Event Age</th>\n",
       "      <th>Precinct</th>\n",
       "      <th>Neighborhood</th>\n",
       "    </tr>\n",
       "    <tr>\n",
       "      <th>Type of Resistance</th>\n",
       "      <th>Type of Force</th>\n",
       "      <th></th>\n",
       "      <th></th>\n",
       "      <th></th>\n",
       "      <th></th>\n",
       "      <th></th>\n",
       "      <th></th>\n",
       "      <th></th>\n",
       "      <th></th>\n",
       "    </tr>\n",
       "  </thead>\n",
       "  <tbody>\n",
       "    <tr>\n",
       "      <th rowspan=\"5\" valign=\"top\">Assaulted Officer</th>\n",
       "      <th>Baton</th>\n",
       "      <td>6</td>\n",
       "      <td>6</td>\n",
       "      <td>6</td>\n",
       "      <td>6</td>\n",
       "      <td>6</td>\n",
       "      <td>6</td>\n",
       "      <td>6</td>\n",
       "      <td>6</td>\n",
       "    </tr>\n",
       "    <tr>\n",
       "      <th>Bodily Force</th>\n",
       "      <td>2660</td>\n",
       "      <td>2660</td>\n",
       "      <td>2660</td>\n",
       "      <td>2660</td>\n",
       "      <td>2660</td>\n",
       "      <td>2660</td>\n",
       "      <td>2660</td>\n",
       "      <td>2660</td>\n",
       "    </tr>\n",
       "    <tr>\n",
       "      <th>Chemical Irritant</th>\n",
       "      <td>156</td>\n",
       "      <td>156</td>\n",
       "      <td>156</td>\n",
       "      <td>156</td>\n",
       "      <td>156</td>\n",
       "      <td>156</td>\n",
       "      <td>156</td>\n",
       "      <td>156</td>\n",
       "    </tr>\n",
       "    <tr>\n",
       "      <th>Firearm</th>\n",
       "      <td>9</td>\n",
       "      <td>9</td>\n",
       "      <td>9</td>\n",
       "      <td>9</td>\n",
       "      <td>9</td>\n",
       "      <td>9</td>\n",
       "      <td>9</td>\n",
       "      <td>9</td>\n",
       "    </tr>\n",
       "    <tr>\n",
       "      <th>Gun Point Display</th>\n",
       "      <td>24</td>\n",
       "      <td>24</td>\n",
       "      <td>24</td>\n",
       "      <td>24</td>\n",
       "      <td>24</td>\n",
       "      <td>24</td>\n",
       "      <td>24</td>\n",
       "      <td>24</td>\n",
       "    </tr>\n",
       "  </tbody>\n",
       "</table>\n",
       "</div>"
      ],
      "text/plain": [
       "                                      Police ID  Case Number  Response Date  \\\n",
       "Type of Resistance Type of Force                                              \n",
       "Assaulted Officer  Baton                      6            6              6   \n",
       "                   Bodily Force            2660         2660           2660   \n",
       "                   Chemical Irritant        156          156            156   \n",
       "                   Firearm                    9            9              9   \n",
       "                   Gun Point Display         24           24             24   \n",
       "\n",
       "                                      Type of Crime  Type of Force Action  \\\n",
       "Type of Resistance Type of Force                                            \n",
       "Assaulted Officer  Baton                          6                     6   \n",
       "                   Bodily Force                2660                  2660   \n",
       "                   Chemical Irritant            156                   156   \n",
       "                   Firearm                        9                     9   \n",
       "                   Gun Point Display             24                    24   \n",
       "\n",
       "                                      Event Age  Precinct  Neighborhood  \n",
       "Type of Resistance Type of Force                                         \n",
       "Assaulted Officer  Baton                      6         6             6  \n",
       "                   Bodily Force            2660      2660          2660  \n",
       "                   Chemical Irritant        156       156           156  \n",
       "                   Firearm                    9         9             9  \n",
       "                   Gun Point Display         24        24            24  "
      ]
     },
     "execution_count": 31,
     "metadata": {},
     "output_type": "execute_result"
    }
   ],
   "source": [
    "# Type of Resistance and Force Type Vs Number of Cases\n",
    "ft_tr = clean_df.groupby(['Type of Resistance','Type of Force'])\n",
    "ft_tr.count().head()"
   ]
  },
  {
   "cell_type": "code",
   "execution_count": 32,
   "metadata": {},
   "outputs": [
    {
     "data": {
      "text/html": [
       "<div>\n",
       "<style scoped>\n",
       "    .dataframe tbody tr th:only-of-type {\n",
       "        vertical-align: middle;\n",
       "    }\n",
       "\n",
       "    .dataframe tbody tr th {\n",
       "        vertical-align: top;\n",
       "    }\n",
       "\n",
       "    .dataframe thead th {\n",
       "        text-align: right;\n",
       "    }\n",
       "</style>\n",
       "<table border=\"1\" class=\"dataframe\">\n",
       "  <thead>\n",
       "    <tr style=\"text-align: right;\">\n",
       "      <th></th>\n",
       "      <th></th>\n",
       "      <th>Total Count</th>\n",
       "    </tr>\n",
       "    <tr>\n",
       "      <th>Type of Resistance</th>\n",
       "      <th>Type of Force</th>\n",
       "      <th></th>\n",
       "    </tr>\n",
       "  </thead>\n",
       "  <tbody>\n",
       "    <tr>\n",
       "      <th>Tensed</th>\n",
       "      <th>Bodily Force</th>\n",
       "      <td>3248</td>\n",
       "    </tr>\n",
       "    <tr>\n",
       "      <th>Commission of Crime</th>\n",
       "      <th>Bodily Force</th>\n",
       "      <td>1683</td>\n",
       "    </tr>\n",
       "    <tr>\n",
       "      <th>Fled on Foot</th>\n",
       "      <th>Bodily Force</th>\n",
       "      <td>1618</td>\n",
       "    </tr>\n",
       "    <tr>\n",
       "      <th>Commission of Crime</th>\n",
       "      <th>Chemical Irritant</th>\n",
       "      <td>1101</td>\n",
       "    </tr>\n",
       "    <tr>\n",
       "      <th>Verbal Non-Compliance</th>\n",
       "      <th>Bodily Force</th>\n",
       "      <td>1042</td>\n",
       "    </tr>\n",
       "  </tbody>\n",
       "</table>\n",
       "</div>"
      ],
      "text/plain": [
       "                                         Total Count\n",
       "Type of Resistance    Type of Force                 \n",
       "Tensed                Bodily Force              3248\n",
       "Commission of Crime   Bodily Force              1683\n",
       "Fled on Foot          Bodily Force              1618\n",
       "Commission of Crime   Chemical Irritant         1101\n",
       "Verbal Non-Compliance Bodily Force              1042"
      ]
     },
     "execution_count": 32,
     "metadata": {},
     "output_type": "execute_result"
    }
   ],
   "source": [
    "# Top 5 - Type of Resistance and Force Type Vs Number of Cases\n",
    "ft_tr= clean_df.groupby(['Type of Resistance','Type of Force'])\n",
    "total_count = ft_tr.nunique()[\"Case Number\"]\n",
    "forcetype_resistance = pd.DataFrame({\"Total Count\": total_count})\n",
    "forcetype_resistance = forcetype_resistance.sort_values(\"Total Count\", ascending=False)\n",
    "forcetype_resistance.head()"
   ]
  },
  {
   "cell_type": "code",
   "execution_count": 33,
   "metadata": {},
   "outputs": [
    {
     "data": {
      "image/png": "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\n",
      "text/plain": [
       "<Figure size 432x288 with 1 Axes>"
      ]
     },
     "metadata": {
      "needs_background": "light"
     },
     "output_type": "display_data"
    }
   ],
   "source": [
    "# Type of Resistance and Force Type Vs Number of Cases\n",
    "forcetype_resistance.head(5).plot(kind=\"barh\",edgecolor=\"black\", facecolor=\"purple\", fontsize=12, align=\"center\", alpha=1.0)\n",
    "plt.title(\"Type of Resistance and Force Type Vs Number of Cases\")\n",
    "plt.ylabel(\"Type of Resistance_Force Type\", fontsize=12)\n",
    "plt.xlabel(\"Number of Cases\", fontsize=12)\n",
    "plt.show()"
   ]
  },
  {
   "cell_type": "code",
   "execution_count": 34,
   "metadata": {},
   "outputs": [
    {
     "data": {
      "text/html": [
       "<div>\n",
       "<style scoped>\n",
       "    .dataframe tbody tr th:only-of-type {\n",
       "        vertical-align: middle;\n",
       "    }\n",
       "\n",
       "    .dataframe tbody tr th {\n",
       "        vertical-align: top;\n",
       "    }\n",
       "\n",
       "    .dataframe thead th {\n",
       "        text-align: right;\n",
       "    }\n",
       "</style>\n",
       "<table border=\"1\" class=\"dataframe\">\n",
       "  <thead>\n",
       "    <tr style=\"text-align: right;\">\n",
       "      <th></th>\n",
       "      <th></th>\n",
       "      <th>Police ID</th>\n",
       "      <th>Case Number</th>\n",
       "      <th>Response Date</th>\n",
       "      <th>Type of Force</th>\n",
       "      <th>Type of Force Action</th>\n",
       "      <th>Event Age</th>\n",
       "      <th>Precinct</th>\n",
       "      <th>Neighborhood</th>\n",
       "    </tr>\n",
       "    <tr>\n",
       "      <th>Type of Resistance</th>\n",
       "      <th>Type of Crime</th>\n",
       "      <th></th>\n",
       "      <th></th>\n",
       "      <th></th>\n",
       "      <th></th>\n",
       "      <th></th>\n",
       "      <th></th>\n",
       "      <th></th>\n",
       "      <th></th>\n",
       "    </tr>\n",
       "  </thead>\n",
       "  <tbody>\n",
       "    <tr>\n",
       "      <th rowspan=\"5\" valign=\"top\">Assaulted Officer</th>\n",
       "      <th>Animal Call</th>\n",
       "      <td>1</td>\n",
       "      <td>1</td>\n",
       "      <td>1</td>\n",
       "      <td>1</td>\n",
       "      <td>1</td>\n",
       "      <td>1</td>\n",
       "      <td>1</td>\n",
       "      <td>1</td>\n",
       "    </tr>\n",
       "    <tr>\n",
       "      <th>Assault Report Only</th>\n",
       "      <td>2</td>\n",
       "      <td>2</td>\n",
       "      <td>2</td>\n",
       "      <td>2</td>\n",
       "      <td>2</td>\n",
       "      <td>2</td>\n",
       "      <td>2</td>\n",
       "      <td>2</td>\n",
       "    </tr>\n",
       "    <tr>\n",
       "      <th>Assault in Progress</th>\n",
       "      <td>200</td>\n",
       "      <td>200</td>\n",
       "      <td>200</td>\n",
       "      <td>200</td>\n",
       "      <td>200</td>\n",
       "      <td>200</td>\n",
       "      <td>200</td>\n",
       "      <td>200</td>\n",
       "    </tr>\n",
       "    <tr>\n",
       "      <th>Assist EMS Personnel</th>\n",
       "      <td>34</td>\n",
       "      <td>34</td>\n",
       "      <td>34</td>\n",
       "      <td>34</td>\n",
       "      <td>34</td>\n",
       "      <td>34</td>\n",
       "      <td>34</td>\n",
       "      <td>34</td>\n",
       "    </tr>\n",
       "    <tr>\n",
       "      <th>Assist Fire Personnel</th>\n",
       "      <td>11</td>\n",
       "      <td>11</td>\n",
       "      <td>11</td>\n",
       "      <td>11</td>\n",
       "      <td>11</td>\n",
       "      <td>11</td>\n",
       "      <td>11</td>\n",
       "      <td>11</td>\n",
       "    </tr>\n",
       "  </tbody>\n",
       "</table>\n",
       "</div>"
      ],
      "text/plain": [
       "                                           Police ID  Case Number  \\\n",
       "Type of Resistance Type of Crime                                    \n",
       "Assaulted Officer  Animal Call                     1            1   \n",
       "                   Assault Report Only             2            2   \n",
       "                   Assault in Progress           200          200   \n",
       "                   Assist EMS Personnel           34           34   \n",
       "                   Assist Fire Personnel          11           11   \n",
       "\n",
       "                                           Response Date  Type of Force  \\\n",
       "Type of Resistance Type of Crime                                          \n",
       "Assaulted Officer  Animal Call                         1              1   \n",
       "                   Assault Report Only                 2              2   \n",
       "                   Assault in Progress               200            200   \n",
       "                   Assist EMS Personnel               34             34   \n",
       "                   Assist Fire Personnel              11             11   \n",
       "\n",
       "                                           Type of Force Action  Event Age  \\\n",
       "Type of Resistance Type of Crime                                             \n",
       "Assaulted Officer  Animal Call                                1          1   \n",
       "                   Assault Report Only                        2          2   \n",
       "                   Assault in Progress                      200        200   \n",
       "                   Assist EMS Personnel                      34         34   \n",
       "                   Assist Fire Personnel                     11         11   \n",
       "\n",
       "                                           Precinct  Neighborhood  \n",
       "Type of Resistance Type of Crime                                   \n",
       "Assaulted Officer  Animal Call                    1             1  \n",
       "                   Assault Report Only            2             2  \n",
       "                   Assault in Progress          200           200  \n",
       "                   Assist EMS Personnel          34            34  \n",
       "                   Assist Fire Personnel         11            11  "
      ]
     },
     "execution_count": 34,
     "metadata": {},
     "output_type": "execute_result"
    }
   ],
   "source": [
    "# Type of Resistance and Type of Crime Vs Number of Cases\n",
    "tr_cr = clean_df.groupby(['Type of Resistance','Type of Crime'])\n",
    "tr_cr.count().head(5)"
   ]
  },
  {
   "cell_type": "code",
   "execution_count": 35,
   "metadata": {},
   "outputs": [
    {
     "data": {
      "text/html": [
       "<div>\n",
       "<style scoped>\n",
       "    .dataframe tbody tr th:only-of-type {\n",
       "        vertical-align: middle;\n",
       "    }\n",
       "\n",
       "    .dataframe tbody tr th {\n",
       "        vertical-align: top;\n",
       "    }\n",
       "\n",
       "    .dataframe thead th {\n",
       "        text-align: right;\n",
       "    }\n",
       "</style>\n",
       "<table border=\"1\" class=\"dataframe\">\n",
       "  <thead>\n",
       "    <tr style=\"text-align: right;\">\n",
       "      <th></th>\n",
       "      <th></th>\n",
       "      <th>Total Count</th>\n",
       "    </tr>\n",
       "    <tr>\n",
       "      <th>Type of Resistance</th>\n",
       "      <th>Type of Crime</th>\n",
       "      <th></th>\n",
       "    </tr>\n",
       "  </thead>\n",
       "  <tbody>\n",
       "    <tr>\n",
       "      <th>Tensed</th>\n",
       "      <th>Suspicious Person</th>\n",
       "      <td>775</td>\n",
       "    </tr>\n",
       "    <tr>\n",
       "      <th rowspan=\"2\" valign=\"top\">Commission of Crime</th>\n",
       "      <th>Fight</th>\n",
       "      <td>618</td>\n",
       "    </tr>\n",
       "    <tr>\n",
       "      <th>Suspicious Person</th>\n",
       "      <td>508</td>\n",
       "    </tr>\n",
       "    <tr>\n",
       "      <th>Fled on Foot</th>\n",
       "      <th>Suspicious Person</th>\n",
       "      <td>478</td>\n",
       "    </tr>\n",
       "    <tr>\n",
       "      <th>Commission of Crime</th>\n",
       "      <th>Disturbance</th>\n",
       "      <td>346</td>\n",
       "    </tr>\n",
       "  </tbody>\n",
       "</table>\n",
       "</div>"
      ],
      "text/plain": [
       "                                        Total Count\n",
       "Type of Resistance  Type of Crime                  \n",
       "Tensed              Suspicious Person           775\n",
       "Commission of Crime Fight                       618\n",
       "                    Suspicious Person           508\n",
       "Fled on Foot        Suspicious Person           478\n",
       "Commission of Crime Disturbance                 346"
      ]
     },
     "execution_count": 35,
     "metadata": {},
     "output_type": "execute_result"
    }
   ],
   "source": [
    "# Top 5 -Type of Resistance and Type of Crime Vs Number of Cases\n",
    "tr_cr= clean_df.groupby(['Type of Resistance','Type of Crime'])\n",
    "total_count = tr_cr.nunique()[\"Case Number\"]\n",
    "resistance_crime = pd.DataFrame({\"Total Count\": total_count})\n",
    "resistance_crime = resistance_crime.sort_values(\"Total Count\", ascending=False)\n",
    "resistance_crime.head()"
   ]
  },
  {
   "cell_type": "code",
   "execution_count": 36,
   "metadata": {},
   "outputs": [
    {
     "data": {
      "image/png": "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\n",
      "text/plain": [
       "<Figure size 432x288 with 1 Axes>"
      ]
     },
     "metadata": {
      "needs_background": "light"
     },
     "output_type": "display_data"
    }
   ],
   "source": [
    "# Top 5 - Type of Resistance and Type of Crime Vs Number of Cases\n",
    "resistance_crime.head(5).plot(kind=\"barh\",edgecolor=\"black\", facecolor=\"purple\", fontsize=12, align=\"center\", alpha=1.0)\n",
    "plt.title(\"Type of Resistance and Type of Crime Vs Number of Cases\")\n",
    "plt.ylabel(\"Resistance_crime\", fontsize=12)\n",
    "plt.xlabel(\"Number of Cases\", fontsize=12)\n",
    "plt.show()"
   ]
  },
  {
   "cell_type": "code",
   "execution_count": 37,
   "metadata": {},
   "outputs": [
    {
     "data": {
      "text/html": [
       "<div>\n",
       "<style scoped>\n",
       "    .dataframe tbody tr th:only-of-type {\n",
       "        vertical-align: middle;\n",
       "    }\n",
       "\n",
       "    .dataframe tbody tr th {\n",
       "        vertical-align: top;\n",
       "    }\n",
       "\n",
       "    .dataframe thead th {\n",
       "        text-align: right;\n",
       "    }\n",
       "</style>\n",
       "<table border=\"1\" class=\"dataframe\">\n",
       "  <thead>\n",
       "    <tr style=\"text-align: right;\">\n",
       "      <th></th>\n",
       "      <th></th>\n",
       "      <th>Police ID</th>\n",
       "      <th>Case Number</th>\n",
       "      <th>Response Date</th>\n",
       "      <th>Type of Crime</th>\n",
       "      <th>Type of Force</th>\n",
       "      <th>Type of Force Action</th>\n",
       "      <th>Precinct</th>\n",
       "      <th>Neighborhood</th>\n",
       "    </tr>\n",
       "    <tr>\n",
       "      <th>Type of Resistance</th>\n",
       "      <th>Event Age</th>\n",
       "      <th></th>\n",
       "      <th></th>\n",
       "      <th></th>\n",
       "      <th></th>\n",
       "      <th></th>\n",
       "      <th></th>\n",
       "      <th></th>\n",
       "      <th></th>\n",
       "    </tr>\n",
       "  </thead>\n",
       "  <tbody>\n",
       "    <tr>\n",
       "      <th rowspan=\"5\" valign=\"top\">Assaulted Officer</th>\n",
       "      <th>0.0</th>\n",
       "      <td>26</td>\n",
       "      <td>26</td>\n",
       "      <td>26</td>\n",
       "      <td>26</td>\n",
       "      <td>26</td>\n",
       "      <td>26</td>\n",
       "      <td>26</td>\n",
       "      <td>26</td>\n",
       "    </tr>\n",
       "    <tr>\n",
       "      <th>9.0</th>\n",
       "      <td>3</td>\n",
       "      <td>3</td>\n",
       "      <td>3</td>\n",
       "      <td>3</td>\n",
       "      <td>3</td>\n",
       "      <td>3</td>\n",
       "      <td>3</td>\n",
       "      <td>3</td>\n",
       "    </tr>\n",
       "    <tr>\n",
       "      <th>13.0</th>\n",
       "      <td>13</td>\n",
       "      <td>13</td>\n",
       "      <td>13</td>\n",
       "      <td>13</td>\n",
       "      <td>13</td>\n",
       "      <td>13</td>\n",
       "      <td>13</td>\n",
       "      <td>13</td>\n",
       "    </tr>\n",
       "    <tr>\n",
       "      <th>14.0</th>\n",
       "      <td>33</td>\n",
       "      <td>33</td>\n",
       "      <td>33</td>\n",
       "      <td>33</td>\n",
       "      <td>33</td>\n",
       "      <td>33</td>\n",
       "      <td>33</td>\n",
       "      <td>33</td>\n",
       "    </tr>\n",
       "    <tr>\n",
       "      <th>15.0</th>\n",
       "      <td>43</td>\n",
       "      <td>43</td>\n",
       "      <td>43</td>\n",
       "      <td>43</td>\n",
       "      <td>43</td>\n",
       "      <td>43</td>\n",
       "      <td>43</td>\n",
       "      <td>43</td>\n",
       "    </tr>\n",
       "  </tbody>\n",
       "</table>\n",
       "</div>"
      ],
      "text/plain": [
       "                              Police ID  Case Number  Response Date  \\\n",
       "Type of Resistance Event Age                                          \n",
       "Assaulted Officer  0.0               26           26             26   \n",
       "                   9.0                3            3              3   \n",
       "                   13.0              13           13             13   \n",
       "                   14.0              33           33             33   \n",
       "                   15.0              43           43             43   \n",
       "\n",
       "                              Type of Crime  Type of Force  \\\n",
       "Type of Resistance Event Age                                 \n",
       "Assaulted Officer  0.0                   26             26   \n",
       "                   9.0                    3              3   \n",
       "                   13.0                  13             13   \n",
       "                   14.0                  33             33   \n",
       "                   15.0                  43             43   \n",
       "\n",
       "                              Type of Force Action  Precinct  Neighborhood  \n",
       "Type of Resistance Event Age                                                \n",
       "Assaulted Officer  0.0                          26        26            26  \n",
       "                   9.0                           3         3             3  \n",
       "                   13.0                         13        13            13  \n",
       "                   14.0                         33        33            33  \n",
       "                   15.0                         43        43            43  "
      ]
     },
     "execution_count": 37,
     "metadata": {},
     "output_type": "execute_result"
    }
   ],
   "source": [
    "# Type of Resistance and Type of Crime Vs Number of Cases\n",
    "tr_rd = clean_df.groupby(['Type of Resistance','Event Age'])\n",
    "tr_rd.count().head(5)"
   ]
  },
  {
   "cell_type": "code",
   "execution_count": 38,
   "metadata": {},
   "outputs": [
    {
     "data": {
      "text/html": [
       "<div>\n",
       "<style scoped>\n",
       "    .dataframe tbody tr th:only-of-type {\n",
       "        vertical-align: middle;\n",
       "    }\n",
       "\n",
       "    .dataframe tbody tr th {\n",
       "        vertical-align: top;\n",
       "    }\n",
       "\n",
       "    .dataframe thead th {\n",
       "        text-align: right;\n",
       "    }\n",
       "</style>\n",
       "<table border=\"1\" class=\"dataframe\">\n",
       "  <thead>\n",
       "    <tr style=\"text-align: right;\">\n",
       "      <th></th>\n",
       "      <th></th>\n",
       "      <th>Total Count</th>\n",
       "    </tr>\n",
       "    <tr>\n",
       "      <th>Type of Resistance</th>\n",
       "      <th>Event Age</th>\n",
       "      <th></th>\n",
       "    </tr>\n",
       "  </thead>\n",
       "  <tbody>\n",
       "    <tr>\n",
       "      <th rowspan=\"2\" valign=\"top\">Commission of Crime</th>\n",
       "      <th>21.0</th>\n",
       "      <td>285</td>\n",
       "    </tr>\n",
       "    <tr>\n",
       "      <th>20.0</th>\n",
       "      <td>215</td>\n",
       "    </tr>\n",
       "    <tr>\n",
       "      <th rowspan=\"3\" valign=\"top\">Tensed</th>\n",
       "      <th>25.0</th>\n",
       "      <td>193</td>\n",
       "    </tr>\n",
       "    <tr>\n",
       "      <th>23.0</th>\n",
       "      <td>192</td>\n",
       "    </tr>\n",
       "    <tr>\n",
       "      <th>24.0</th>\n",
       "      <td>186</td>\n",
       "    </tr>\n",
       "  </tbody>\n",
       "</table>\n",
       "</div>"
      ],
      "text/plain": [
       "                               Total Count\n",
       "Type of Resistance  Event Age             \n",
       "Commission of Crime 21.0               285\n",
       "                    20.0               215\n",
       "Tensed              25.0               193\n",
       "                    23.0               192\n",
       "                    24.0               186"
      ]
     },
     "execution_count": 38,
     "metadata": {},
     "output_type": "execute_result"
    }
   ],
   "source": [
    "tr_rd= clean_df.groupby(['Type of Resistance','Event Age'])\n",
    "total_count = tr_rd.nunique()[\"Case Number\"]\n",
    "resistance_age = pd.DataFrame({\"Total Count\": total_count})\n",
    "resistance_age = resistance_age.sort_values(\"Total Count\", ascending=False)\n",
    "resistance_age.head()"
   ]
  },
  {
   "cell_type": "code",
   "execution_count": 39,
   "metadata": {},
   "outputs": [
    {
     "data": {
      "image/png": "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\n",
      "text/plain": [
       "<Figure size 432x288 with 1 Axes>"
      ]
     },
     "metadata": {
      "needs_background": "light"
     },
     "output_type": "display_data"
    }
   ],
   "source": [
    "# Top 5 - Type of Resistance and Event Age Vs Number of Cases\n",
    "resistance_age.head(5).plot(kind=\"barh\",edgecolor=\"black\", facecolor=\"purple\", fontsize=12, align=\"center\", alpha=1.0)\n",
    "plt.title(\"Type of Resistance and Event Age Vs Number of Cases\")\n",
    "plt.ylabel(\"Resistance_age\", fontsize=12)\n",
    "plt.xlabel(\"Number of Cases\", fontsize=12)\n",
    "plt.show()"
   ]
  },
  {
   "cell_type": "markdown",
   "metadata": {},
   "source": [
    "# Analysis - Types of Resistance used towards Police Force in Minneapolis \n"
   ]
  },
  {
   "cell_type": "markdown",
   "metadata": {},
   "source": [
    "We analysed the most popular type of resistance by:-\n",
    "\n",
    ". creating a dataframe with type of resistance and found the Total count was 29075 and freq is 8120 and the most common              resistance seen was getting tensed.\n",
    "\n",
    ". Creating a groupby with type of Resistance and case number, found top resistances were being Tensed(3708), committed verbal        Non-compliance(1762), Assaulted an Officer (983), fled in a vehicle(301).\n"
   ]
  },
  {
   "cell_type": "markdown",
   "metadata": {},
   "source": [
    "Type of Resistance and Force Type Vs Number of Cases - The most type of resistance used against \n",
    "bodily force was either being Tensed or commission of Crime or Fled on Foot.\n",
    "\n",
    "Type of Resistance and Type of Crime Vs Number of Cases - if the crime was of suspicious person then the resistance was being tensed or fled on foot.\n",
    "whereas if the type of crime was fight then resistance was commission of crime.\n",
    "\n",
    "Type of Resistance and Event Age Vs Number of Cases - most type of resistance used was being Tensed and commission of crime between the ages of 21 and 25.\n"
   ]
  },
  {
   "cell_type": "code",
   "execution_count": 40,
   "metadata": {},
   "outputs": [],
   "source": [
    "# Humera's code ends here"
   ]
  },
  {
   "cell_type": "markdown",
   "metadata": {},
   "source": [
    "# 4. Which neighborhood in Minneapolis contains the highest frequency of police force? (Mike Hills)"
   ]
  },
  {
   "cell_type": "code",
   "execution_count": 41,
   "metadata": {},
   "outputs": [
    {
     "data": {
      "text/html": [
       "<div>\n",
       "<style scoped>\n",
       "    .dataframe tbody tr th:only-of-type {\n",
       "        vertical-align: middle;\n",
       "    }\n",
       "\n",
       "    .dataframe tbody tr th {\n",
       "        vertical-align: top;\n",
       "    }\n",
       "\n",
       "    .dataframe thead th {\n",
       "        text-align: right;\n",
       "    }\n",
       "</style>\n",
       "<table border=\"1\" class=\"dataframe\">\n",
       "  <thead>\n",
       "    <tr style=\"text-align: right;\">\n",
       "      <th></th>\n",
       "      <th>Force Count</th>\n",
       "    </tr>\n",
       "    <tr>\n",
       "      <th>Neighborhood</th>\n",
       "      <th></th>\n",
       "    </tr>\n",
       "  </thead>\n",
       "  <tbody>\n",
       "    <tr>\n",
       "      <th>Downtown West</th>\n",
       "      <td>7535</td>\n",
       "    </tr>\n",
       "    <tr>\n",
       "      <th>Jordan</th>\n",
       "      <td>1429</td>\n",
       "    </tr>\n",
       "    <tr>\n",
       "      <th>Near - North</th>\n",
       "      <td>1294</td>\n",
       "    </tr>\n",
       "    <tr>\n",
       "      <th>Hawthorne</th>\n",
       "      <td>1288</td>\n",
       "    </tr>\n",
       "    <tr>\n",
       "      <th>Willard - Hay</th>\n",
       "      <td>987</td>\n",
       "    </tr>\n",
       "    <tr>\n",
       "      <th>...</th>\n",
       "      <td>...</td>\n",
       "    </tr>\n",
       "    <tr>\n",
       "      <th>Hale</th>\n",
       "      <td>22</td>\n",
       "    </tr>\n",
       "    <tr>\n",
       "      <th>Page</th>\n",
       "      <td>14</td>\n",
       "    </tr>\n",
       "    <tr>\n",
       "      <th>Camden Industrial</th>\n",
       "      <td>13</td>\n",
       "    </tr>\n",
       "    <tr>\n",
       "      <th>Cedar - Isles - Dean</th>\n",
       "      <td>12</td>\n",
       "    </tr>\n",
       "    <tr>\n",
       "      <th>Kenny</th>\n",
       "      <td>1</td>\n",
       "    </tr>\n",
       "  </tbody>\n",
       "</table>\n",
       "<p>86 rows × 1 columns</p>\n",
       "</div>"
      ],
      "text/plain": [
       "                      Force Count\n",
       "Neighborhood                     \n",
       "Downtown West                7535\n",
       "Jordan                       1429\n",
       "Near - North                 1294\n",
       "Hawthorne                    1288\n",
       "Willard - Hay                 987\n",
       "...                           ...\n",
       "Hale                           22\n",
       "Page                           14\n",
       "Camden Industrial              13\n",
       "Cedar - Isles - Dean           12\n",
       "Kenny                           1\n",
       "\n",
       "[86 rows x 1 columns]"
      ]
     },
     "execution_count": 41,
     "metadata": {},
     "output_type": "execute_result"
    }
   ],
   "source": [
    "#pull out neighborhood and forcetype from clean df\n",
    "#group by neighborhood and calculate the total force count per neighborhood\n",
    "force_per_neighborhood_df = clean_df.loc[:,['Neighborhood','Type of Force']]\n",
    "force_group = force_per_neighborhood_df.groupby('Neighborhood')\n",
    "sum_neigh = force_group['Type of Force'].count()\n",
    "\n",
    "#place results into new df, sort by force count from highest to lowest; store and display\n",
    "force_per_neighborhood_df = pd.DataFrame({'Force Count': sum_neigh})\n",
    "sorted_force_df = force_per_neighborhood_df.sort_values(['Force Count'], ascending=False)\n",
    "sorted_force_df"
   ]
  },
  {
   "cell_type": "code",
   "execution_count": 42,
   "metadata": {},
   "outputs": [
    {
     "data": {
      "text/html": [
       "<div>\n",
       "<style scoped>\n",
       "    .dataframe tbody tr th:only-of-type {\n",
       "        vertical-align: middle;\n",
       "    }\n",
       "\n",
       "    .dataframe tbody tr th {\n",
       "        vertical-align: top;\n",
       "    }\n",
       "\n",
       "    .dataframe thead th {\n",
       "        text-align: right;\n",
       "    }\n",
       "</style>\n",
       "<table border=\"1\" class=\"dataframe\">\n",
       "  <thead>\n",
       "    <tr style=\"text-align: right;\">\n",
       "      <th></th>\n",
       "      <th>Force Count</th>\n",
       "    </tr>\n",
       "    <tr>\n",
       "      <th>Neighborhood</th>\n",
       "      <th></th>\n",
       "    </tr>\n",
       "  </thead>\n",
       "  <tbody>\n",
       "    <tr>\n",
       "      <th>Downtown West</th>\n",
       "      <td>7535</td>\n",
       "    </tr>\n",
       "    <tr>\n",
       "      <th>Jordan</th>\n",
       "      <td>1429</td>\n",
       "    </tr>\n",
       "    <tr>\n",
       "      <th>Near - North</th>\n",
       "      <td>1294</td>\n",
       "    </tr>\n",
       "    <tr>\n",
       "      <th>Hawthorne</th>\n",
       "      <td>1288</td>\n",
       "    </tr>\n",
       "    <tr>\n",
       "      <th>Willard - Hay</th>\n",
       "      <td>987</td>\n",
       "    </tr>\n",
       "  </tbody>\n",
       "</table>\n",
       "</div>"
      ],
      "text/plain": [
       "               Force Count\n",
       "Neighborhood              \n",
       "Downtown West         7535\n",
       "Jordan                1429\n",
       "Near - North          1294\n",
       "Hawthorne             1288\n",
       "Willard - Hay          987"
      ]
     },
     "execution_count": 42,
     "metadata": {},
     "output_type": "execute_result"
    }
   ],
   "source": [
    "#store top 5 highest total force per neighborhood into its own df and display\n",
    "top5force_df = sorted_force_df.head(5)\n",
    "top5force_df"
   ]
  },
  {
   "cell_type": "code",
   "execution_count": 43,
   "metadata": {},
   "outputs": [
    {
     "data": {
      "text/plain": [
       "Text(0.5, 1.0, 'Minneapolis Police Use of Force Distribution per Neighborhood: 5 Highest\\n(2008-2021)')"
      ]
     },
     "execution_count": 43,
     "metadata": {},
     "output_type": "execute_result"
    },
    {
     "data": {
      "image/png": "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\n",
      "text/plain": [
       "<Figure size 1440x936 with 1 Axes>"
      ]
     },
     "metadata": {
      "needs_background": "light"
     },
     "output_type": "display_data"
    }
   ],
   "source": [
    "#create bar chart to show relative distribution of 5 highest force count neighborhoods\n",
    "Top5bar = top5force_df.plot(kind=\"bar\", figsize=(20,13), width=.25, color=\"purple\", alpha=.8, rot=0, fontsize=20, legend=False)\n",
    "Top5bar.set_ylabel('Force Count',fontdict={'fontsize':24})\n",
    "Top5bar.set_xlabel('Neighborhood',fontdict={'fontsize':24})\n",
    "Top5bar.set_title('Minneapolis Police Use of Force Distribution per Neighborhood: 5 Highest' + '\\n' + '(2008-2021)', pad=15,fontdict={'fontsize':25})"
   ]
  },
  {
   "cell_type": "code",
   "execution_count": 44,
   "metadata": {},
   "outputs": [],
   "source": [
    "#find and store neighborhood with highest force count\n",
    "worst_neigh = sorted_force_df.index[0]\n",
    "\n",
    "#find and store highest force count\n",
    "top1force = top5force_df['Force Count'][0]\n",
    "\n",
    "#remove highest force count row and store into new df\n",
    "top1_clean_df = force_per_neighborhood_df.loc[force_per_neighborhood_df['Force Count'] < top1force]\n",
    "\n",
    "#calculate total force count for all neighborhoods combined except for the highest force neighborhood\n",
    "sumforce = top1_clean_df['Force Count'].sum()"
   ]
  },
  {
   "cell_type": "code",
   "execution_count": 45,
   "metadata": {},
   "outputs": [
    {
     "data": {
      "text/html": [
       "<div>\n",
       "<style scoped>\n",
       "    .dataframe tbody tr th:only-of-type {\n",
       "        vertical-align: middle;\n",
       "    }\n",
       "\n",
       "    .dataframe tbody tr th {\n",
       "        vertical-align: top;\n",
       "    }\n",
       "\n",
       "    .dataframe thead th {\n",
       "        text-align: right;\n",
       "    }\n",
       "</style>\n",
       "<table border=\"1\" class=\"dataframe\">\n",
       "  <thead>\n",
       "    <tr style=\"text-align: right;\">\n",
       "      <th></th>\n",
       "      <th>Force Count</th>\n",
       "    </tr>\n",
       "    <tr>\n",
       "      <th>Minneapolis Neighborhoods (Total:86)</th>\n",
       "      <th></th>\n",
       "    </tr>\n",
       "  </thead>\n",
       "  <tbody>\n",
       "    <tr>\n",
       "      <th>Downtown West</th>\n",
       "      <td>7535</td>\n",
       "    </tr>\n",
       "    <tr>\n",
       "      <th>All Others</th>\n",
       "      <td>21540</td>\n",
       "    </tr>\n",
       "  </tbody>\n",
       "</table>\n",
       "</div>"
      ],
      "text/plain": [
       "                                      Force Count\n",
       "Minneapolis Neighborhoods (Total:86)             \n",
       "Downtown West                                7535\n",
       "All Others                                  21540"
      ]
     },
     "execution_count": 45,
     "metadata": {},
     "output_type": "execute_result"
    }
   ],
   "source": [
    "#create dictionary to store values for summarized df\n",
    "dict = {'Minneapolis Neighborhoods (Total:86)':[worst_neigh, \"All Others\"], \n",
    "        'Force Count': [top1force, sumforce]}\n",
    "\n",
    "#pass dict into pd.DataFrame to generate df\n",
    "Topvsrest_df = pd.DataFrame(dict)\n",
    "\n",
    "#set index to \"Minneapolis Neighborhoods (Total:86)\" and display\n",
    "Topvsrest_df = Topvsrest_df.set_index('Minneapolis Neighborhoods (Total:86)')\n",
    "\n",
    "#df showing force count for highest frequency neighborhood vs. all others\n",
    "Topvsrest_df"
   ]
  },
  {
   "cell_type": "code",
   "execution_count": 46,
   "metadata": {},
   "outputs": [
    {
     "data": {
      "image/png": "iVBORw0KGgoAAAANSUhEUgAAAXcAAAEVCAYAAAAb/KWvAAAABHNCSVQICAgIfAhkiAAAAAlwSFlzAAALEgAACxIB0t1+/AAAADh0RVh0U29mdHdhcmUAbWF0cGxvdGxpYiB2ZXJzaW9uMy4yLjIsIGh0dHA6Ly9tYXRwbG90bGliLm9yZy+WH4yJAAAgAElEQVR4nO2dd3wdxfW3nyPJsuTejSvG2AgwmBbTMb0H0V9CaA4QauIQkl8SAom4EBJISCAkBBJKaKEkVNOLwYABGxtMM1jY4N6LZElWl877x8y1Vte66rp7dXUeffajuzu7M2fbd2fPzpwRVcUwDMNILdLCNsAwDMNof0zcDcMwUhATd8MwjBTExN0wDCMFMXE3DMNIQUzcDcMwUhAT9w5ARO4Wkd+EbUdrEZHDRGRFYH6+iByW6mUnGhG5XETWikiJiAwM2x4jtTBxbwEiskREKkVkUMzyT0RERWQMgKpepqo3hmFjR6CqE1R1Rku28SJd64WrWETyReQHiSi7GbYtEZGjYpZNEZGZ7VlOEzZ0A/4CHKOqvVR1Y0z6GH9NlQSmTxNlX0N4e7bE2PSLDi4zoecllcgI24BOyGLgbOBvACKyO5AdqkXJyypVHSkiApwMPCkis1X1y7ANSwKGAlnA/CbW66eq1a0tREQy2rJ9A+yhqovaMT+jg7Cae8t5GDg/MH8B8FBwBRF5QER+538fJiIrRORnIrJORFYHa7B+3TtF5EVfw50tIjsG0ncWkddFZJOv/f6/QNqJIjJPRIpEZLmIXB9Ii9b8LhGRVb7cnwXSu4vI7T5tlf/dvaEdDtZ0RWRfEZnry1wrIn9p6oCp41mgANi1DWWni8ivReQbf6w+EpFRTR2nliIiWSLyiIhsFJFCEZkjIkN9Wl8Ruc8fz5Ui8jsRSY+TT4P7KSI7Afl+tUIRebOF9g0XkWl+XxeJyA8DadeLyJPe/iJgiogMEJF/exsKROTZwPrfFffmWSgi74vIxFYcr+EiUiYiAwLL9hKRDf4NBRG5UES+8uW/KiLbB9ZVEblMRBb69DvFsQtwN3CAuLeEQr/+CSLypb8GVorIz1tqc5dAVW1q5gQsAY7C3Zi7AOnAcmB7QIExfr0HgN/534cB1cANQDfgBKAU6B9YdxOwL+5N6j/A4z6tp8//Bz5tb2ADMCGQ9+64h/REYC1wik8b4216zOezO7AeOMqn3wDMAoYAg4H3gRsD+a6I3W//+wPgPP+7F7B/nGO1NQ9v36lAFZDThrL/D/jc5yHAHsDApo5TvPMYs2wKMNP/vhR4Hujhz/E+QB+f9izwT1/mEOBD4NI45TS2n9HzkxFn27jpwNvAP3A1/z39eT3Sp13vj/Mp/rhnAy8CTwD9cdfgoX7dvYF1wH5+Py/wx6Z7HJsUGBcn7U3gh4H5PwF3+9+nAItw90wGcB3wfky+LwD9gNF+f46LPS+B9VcDh/jf/YG9A2mFwMFha0UyTKEb0Jkm6sT9OuAPwHHA6/6CbUzcy4I3qb+h9g+se28g7QRggf99FvBujA3/BPLi2Hc7cJv/HRWHnQPpfwTu87+/AU4IpB0LLAnYHE9g3wEiwKAmjtVhQK2/2TYBnwDfa2PZ+cDJDZTV0uO0Nc/Asq0iAlyIE+KJMesMBSqA7MCys4G34pTT2H5Gz09T4l4YmH4OjAJqgN6Bdf8APOB/Xw+8E0gb5s9D/wbKuAv/sAksy8eLfwPrK1AUY9OxPu1i4E3/W3AP28l+/mXgokA+abgKzvaBfA8OpP8X+FXseQmkL8M9gPu09z2eSpP53FvHwziR24EYl0wcNmp9v2cprtYbZU2ctO2B/aKvo54MXz4ish9wM7AbkAl0B/4XU/bywO+luBo8wHA/H0wb3ox9uQhXI10gIouBiKq+EGfdVao6soHlrS17FE4wY2n0ODVANa4GG6QbrsaL324U8LiI9AMeAa715XQDVotIdLs06h/jIK3dzyCDgteOP+ebVLU4Jt/vBOaD9ozy6xc0kPf2wAUi8uPAsswmbNxbG/a5Pwn8TUSGA+Nxgv1uoJy/isifA+sLMIK64xPvHmiI03EVrJtF5DPcg+CDRtbvkpjPvRWo6lLch9UTgKc7sKjlwNuq2i8w9VLVy336o8A0YJSq9sX5JyUmj1GB36OBVf73KtxN11BaXFR1oaqejXM13IL7SNqzhfvVqrJxx2PHOMsbO06xLMPVjIPsgBcaVa1S1Yiq7gocCHwX951lOa7mPihQTh9VnRCnnNbuZ2OsAgaISO+YfFcG5oOhXpf79fs1kNdy4KaY49ZDVR9rqVGqWgi8Bvw/4PvAY+qr2b6cS2PKyVbV95uTdQNlzVHVk3HX4LO4mr4Rg4l767kIOEJVt3RgGS8AO4nIeSLSzU+T/IcmgN64Wlm5iOyLu6li+Y2I9BCRCTif9BN++WPAdSIyWFzTzt/iaqiNIiLnishgVY26XMC5CVpCq8oG7gVuFJHx/oPbRHHtw5s6TrE8AVzlP8KKiHwH54p53O/j4SKyu/9QWoSr0deo6mqcgP1ZRPqISJqI7Cgih7bzfsZFVZfjXEZ/8B9+J+Kuxf/EWX81zi3yDxHp74/NZJ98D3CZiOznj0NPcR/pezeUVzN4FPcQPN3/jnI3cI2/BqMfpc9sZp5rgZEikum3zRSRc0Skr6pW4c5PS6+/LoGJeytR1W9UdW4Hl1EMHAN8D1djW4OrLUdbllwB3CAixTjhaKgG8zbuY9Z04FZVfc0v/x0wF/gM95HyY7+sKY4D5otICfBXnB+9vIW71tqy/4Lbx9dwN/V9OP93U8cplnuAf+M+mm7GudauVdVXfPp2ODdDEfAV7hhGRfl8nOviS1zrnydxfu323M+mOBv35rEKeAb3beH1RtY/D/eAWoD73nMVgL9+fwj8Hbcvi3A+7sb4VOq3c789kDYN55JZq6pb2+Sr6jO48/G4b8HzBXB883aVN3HNRdeIyIbA/izxeV0GnBtd2dt0SDPzTmmk7s3JSCXEdahaDHTT9m3nbBhGJ8Bq7oZhGCmIibthGEYKYm4ZwzCMFMRq7oZhGClIaOLuv2qPbea6KiLjOtomo2Nor3Mt7RwhUERmiMjF7ZVfI+UkXWTD4L53lH1h3rcicmlMS56OLq9eqOoOLutpETmuqfU6RNwbOqniAhptbePrO5l82xHlNwcJBPdqZJ3YEKeFja2fiviLVkXkzpjlM0VkSnPyCPtcd1V82/VvRaRNUTjFBTv7g4gsExcgbKGI/J9IXTfdRD0om4NvE38d8CcROSRw/26RbcMoj46TRz296gAb9xSRd0Vks7jAgr+NSR8sIo+KC+hWICLBfgw3Azc1VYa5ZZpmDy9OvVR1m15+ItIVQjhsAc73zStTgi5y3ibjenGOFZFJbcjnf8CRuB7ZvXHtzC/B9XPocFpxrk7GxWdaqarvRu9fINqTuF/gnl7WvtY2m0dxIUwGAIcCl4tIbiD9aVx/je1x5/DWaIKqfgj0Edf5Li5humW21u5FZKCIPC8ujOwccWFUY18Tj5KYkKCBvBoMJ+prLreJC7W7WUQ+E5HdROQS4BzgF/7p/XwL7I6G0r1IRJbhOlk0FdL0aBFZ4G34u4i8HXglrldDCOSf4efjhpiNvk6LyK2+3MUicnwgrwZDvYrIFyJyUmC9buLCs+4ZZ7cLcQHO8ho5Lk2FdG2Xc+2ykL/5Y7lARI4MJLQoFK5P2l5E3hMXPvY1CQzEIiK54kaCKhRXM90lkLaLX1bo18kNpA30dhSJyIc0HDIhuu4rIvKjmGWfishp8a7feHk1wAXAc8BL/neL8cf3GOB0Vf1CVatVdRau49CVIjJORG4CDgH+7u+nvweyaPF969NURK4UkYXAwhYei+NxHc+a2rcGrxdxLo9fA2dJYJAUEfmBt7dY3BvRpS05ljGMAf6jqjWq+g0wE//wEZFjcGFD/k9VN/twGPNitp8BnNhoCR0RjYwGQoPiotU90tA6uG7fj+NCrO6Ki0UxM2bdeCFB44YTxUXh+8hvJ36dYT7tAXzkxhbuxxi//CFc2NfsJmwYhOvpeAYu6NRPcYGrLo5zXKL5Z/j5uCFmcQJVhetlmA5cjuu1GG0FFS/U6y+AJwJlngx8HucYHAaswPXaLAJy/PKZwJSmzkE7n+sp/tj91O/PWbgepgN8ektD4c7ABSLbKTB/s19/J9wby9G+rF/4fcz084twApAJHAEUB47N47ietD1xQd1WEhPZMLC/5wPvBeZ3xT1Mu9PI9duMe7CHP18n4MIBbAAyA+kzqLsGpzRi3824uD0NpS2l7lrcml9b79vAtq/jarbZLTkWwBzgzAaWj6H+vdXU9fJIzPYn4h7Ugqttl+LDDbNtNNN/AP9o5Pz83h/bbrgQ1iuAST7tt8CruF7RG/3+HBqz/dXA041eA825UFo60XBo0HIaEHecKFXhbwyf9ju2veHjhQSNG04Ud9N9DewPpMXY+ADNE/fgftwRuEDGBtZrzIbzgVmBNPEnsklxp4kQs7ibclHMDa04IW4s1OtwnBhFY5Q/CfwizjHYetHiQgY/4X8Hxb05IV3b41xPIfDw8ss+xLkJWhQKV+sE6brA/BXAK/73b4D/xuzTSn88DsG9MqcF0h/zZUT3MRhq+ffEF8/euIdI9FjdBNzvf8e9fptxD56LE6sM3IOiEDg1Zt+bI+734scXaCBtFi5sQ7382nrfBrY9IpDe7GMBLMQ/RGKWj6Hu3mrO9fJIE+U8C/wk9j5p5vk5EPdwq/Y2RQJp//LLLsKJ//f8+RsUWOeH+BDL8aaOdMvsrYEocLinVEMMxh3sYJjShkKoNhYW96/+9TgaO1yAEar6Ji5uxp3AWhH5l4j0acN+TI1jY1wbcEK6dV11ZyZeiNhYtqcuxGw073/iavBRth4XVS31P3vRSKhXVV0FvAecLi5a4PHECTwVwy3AsSKyRwN2xtv/IG091wAr/TGMEg2jO5yGQ+EGbWhJWfXC9aoLlLacwDn1y2LLamgfg2F/6+HtfRF3A+P//8enteX6vQD3cKpW1QqcD/eCZm4bZAPxY+cM8+mN0eL7NrB+8L5pybEowD00G6M510s9ROR4EZnl3TiFuLeiQfHWbySfAcAruNDZWbh79VgRucKvUoaL+3+fOpfM47hjcVAgm97UBe5rkGT4oLoe9/QKxv0eFWfdhmg0nKiq3qGq++D8WTvhRvOBBkKJtpDg9o3ZsDq4P97nGNy/Lbgad5TtYvJtSYjZII2FegV4EFe7OxP4QFVXxllvK+oGcb4diB38u7khXdt6rgFGxPjgo2F0WxoKtynqhesNnLeVPm2UiATvn2hZ0X2MDbXcGI8BZ4vIATgXxFtbDY5//cZFREbiarrnisgaEVmDcwueIDGDuzeDN3Cx8uudJ3FRSEfhvznR8vupOddMvTxbcCw+8+mN0dT1Uq9sccNAPoX7sDnUV1hfYtsQ281hLC7K6EP+4bsC58o7IWB/U8dzF6DRAdNDF3dVrcHVKq4XF5p2Z+qPUdoUccOJigv7up+4cRy34FxD0fCga3EHuT1oLKTpi8AE/4EsA5hKfQH/BJgsIqNFpC9wTTRBWx5ilpht44V6BfdKuTfwE5o34EiUv+BeKYPhdJsV0rUdzjW4t5apfn/O9Ha8pC0MhdsM/gucKCJH+uvnZ7gH7fvAbNz19Atvx2HASTj3Rew+7krTNeaXcA+SG3Bur1po8vptjPNwLowcnC95T5zYrcC59ZqNqr6Biyj6lIhMEDeO7f6443qXqi70q7b0fmpRGOAWHouXcD7xxvarqetlLTAm8ACPDoazHqgW13DhmGbsZ0N87XZJvu/v6e1w34+iYv0M0F9ELvDH+wzcG8V7gTwOxd3fcQld3D0/AvriXuEextVkKpqzoTYeTrQPLrxrAe6VayN1TYruww3WXCiBAYNbQ2M2qOoGXO34Zl/+eAInSV2o1idwT+uPcB+ggrQkxGwsDYZ69eWW4WoiO9CCAUdUtQjnex8QWNaSkK6tPtee2bhjuAHnnz7Dv1FAy0PhxkVV83FvNn/zZZ0EnKSqlapaCeTi9nED7uPZ+aq6ILCPvfw+PoALL9xYWVG3yVHUj4Me9/oVN1B4vJv7AtzHvDXBCSeorXHNnI57m3gFKMF96LsPCI7g9FfgDHEtX+5oKsMWXjPQ+L0cy/PAzuJGhWqMxq6X6IhmG0XkY+++mYp76Bfgxk6YFi9jEblbRO5uKM3fQ6fhGgYU4Cp4X+DbrqvqJtz19XNcg4Ff4YaX3ODzngRsUdckMi5JGVtGRG4BtlPV1lyISY+IzMB9rLk3ZDt+C+ykquc2uXLH2ZDS59oIB3HNnXdV1auaXLmTISJP4cZCfqmx9ZKiI4d/Pc/EDWgwCfd6lBS93VIV/1HnIlztPpHl2rk2OhxV/VfYNnQUqnp6c9ZLFrdMb9xr6Rbca8+fcZ0vjA5AXGeN5cDLqvpOgou3c20YCSAp3TKGYRhG20iWmrthGIbRjpi4GwlHXITBlPvQ1RZE5MNos0DDaA9M3I2EIiKDcc07/+nn9xeR132vv/Ui8j8RGRZYX0TkFhHZ6Kc/BjsxiQu09paIlIoLJHZUTHk/FhdQrUhE5orIwY3YdqK4QGyFvvPPPcFOLuJC397v81ojIlcH0nYSkef8PmwSFwgrJ5C+m1+2QUQa8oXeimvnbhjtgom7kWim4Dodlfn5/rhYGmNwHXmKqd8u/BJckKk9gInAd4FgNL7HgHnAQOBa4En/AEFE9sP1LzgD17b+PuAZ8VE1G6AvLtbNcFznqJHAnwLp1+Pa2G8PHI7rxBQdNKEfrt1zDi4m0IfU/1BchfuAfFGcsqcBhwcfbIbRJhoLPGOTTe094bqrn9tI+t5AcWD+feCSwPxF+EBsuF6XFdQP/vQucJn/fRbwYSCtJ65bd3MjK55GIFomrmv6MYH5G4kfVGuAL2tgzPJx+BBDDWzzOnBB2OfIptSYrOZuJJrdgfxG0icD8wPzE6gfQ+NT6gZdmAB8q/WDPwXTXwbSfbf1dOBCXG/AYDCrxthqi4j0x9Xo49nS0LZrtK73bHP4CveGYhhtJik6MRldin4418s2+Pgev8XFl4/SC9cFO8pmoJf3u8emRdOjkf2KcSEWZuICPBUCx6tqk+1/ReRoXFf9/QJ2RPMPlrVN9EFxgbvuxMXcbgnFND+0hGE0itXcjUTTYDhWcSM1vYyLj/1uIKkEF1ckSh+gxAt0bFo0PfrwuBhXW5+A6xV7LvCCuBF4gmNrBt8U8IGxHsXFrfk6YEc0/4bKim47GBfs7R+q+licYxCPJsO4GkZzMXE3Es024VjFDa/2BnCjqj4cs/586rsq9qDObTMfNz5o7zjpewDPq+rXqlqrqq/gQjAfqIGxNTUQQllE9sJ93LxQVadHl6uLi7+6EVuirpvXgGmq2uQAxg3QZBhXw2guJu5GoqkXjlVERuA+st6pqg1F0XsIuFpERvgofz/DRVrE16o/AfJ82NZTcS1qnvLbzsGF7R3rm1QejXuwfNGQYeLG5HwF+LGqNjSu7kPAdeJCKO+MGw3nAb9tH9zQaO+p6q8ayFtEJAv3BoG3t3sgvTuwD+6jqmG0nbC/6NrUtSbcyDUr8EMH4gbdjrpYtk6B9QUXYniTn/5I/WH2xuCGeCvDfag9KmbbG4BlOPfJV8B5jdj2b9zQhEFb5gfSuwP344ZeXAtcHUi7wO/HlpjtRwfs1JhpSWD7M2liTEybbGrJZLFljIQjIr8H1qnq7WHbkiyIyGzcmKINvlUYRksxcTcMw0hBzOduGIaRgpi4G4ZhpCAm7oZhGCmIibthGEYKYuJuGIaRgpi4G4ZhpCAm7oZhGCmIibthGEYKYuJuGIaRgpi4G4ZhpCAm7oZhGCmIibthGEYKYuJuGIaRgtgYqkaKsHUA69hpKC4OewbQzf//PegbIRlqGAnBxN3oREgWsCfwHT+NpU7Es1uQ0X3tb5thJBcm7kaSIhm4ga0nRSdVdhOhW7h2GUbnwMTdSCJkd+AU4FhV9hapXxsXCccqw+iMmLgbISJpwAHAqbW1nJqWxtitKQkU8ohEzgN+DNT4aQt1Y7Zu9FP09wpgUZ7mlSbOQsNoOSbuRoKRTOBInKCfnJbGEIC0ENpt5UjOSGDQ8Ry/V3/6T2rBphqRyEpgIfB1YPokT/NWdICphtFiTNyNBCGTVLlclTPS0ugN4Qh6DFcCw9azfpf+9G/JdgKM9NPhwYSIRFYAHwCz/P+P8zSvon3MNYzmY+JudCDSAzi7qoqp3boxUSTp/OYZwJoMMoa3Y54jgTP9BFARkcjHwKvA83ma93E7lmUYcTFxNzoAGV5dzU9EuCw9nT7dunb7lu647woHANdHJLIKeMFPb+RpXlmYxhmpi4m70Y7I7uXlXJOZyZkZGXZtxWE4cImfyiISeRV4EHghT/OqQ7XMSCnC93oaKYCMLy2Vl4DPsrI4Oy3NhL2ZZOOafj4DrIxI5M8RiUwI2SYjRbCb0Gg1ZWUyoKyM2/r145wePUgP255OzhDgauDqiETmAPcDj+RpXkm4ZhmdFau5G61AMjdulOvT01kxYADnp6WZsLczk4C7gGURidwYkcjgsA0yOh8m7kaL2LRJzi8tZfnAgeRlZrYonovRcvoD1wFLIxL5e0QiO4RtkNF5MHE3msXmzXJQUZF8MWAAD/bo4ToeGQkjG9cmf2FEIo9GJLJr2AYZyY+Ju9EoX3wh3Vetkgd79+bdPn2wj33hkg6cDXwWkcg/IxIZGrZBRvJi4m7E5b335PDhw1kyfDjnp6WRXN2PujbpuKaUiyISuS4iEXOPGdtg4m5swy23SNr8+fL3/fbj9QED2C5se4y49AJuBL6OSOSCiETsAWxsxcTdqMfbb8uE88/nqwkTuDIjw1rBdBJGAg8AsyIS2T1kW4wkoUlxF5EZIlIhIsUisllEvhWRh0Vkn0QYGMemJSJybljlBxGRk0Vki4hkBpblioiKyGUx6y4VkR+3sbwHROTetuTRELm5IvPmyS/324+Phg1jp/bO30gI+wIfRSRyU0Qi3cM2xgiX5tbcb1TV3qraFxcFbykwS0RO7TjTOg1vURc/JMoRwHxcaFsARGQcMBpIurE7779f+v/1r7y7117cnJWFiULnphvwa2BeRCItCWNspBgtdsuo6lJVvQ54CPibiIvzJyIDReQhEVktImtE5EERGeDTTheR/GgeInKjr9mO9fP7+beCDBE5TESqReQsEfnGL/+viPT26z6PE8l7RaRERF7zy3uIyF9FZLmIbBCRZ0VktE/bx795dPPzF/nyD/fzQ0WkRkSGiMgYn3aeiHzpt3tNRIbFOR5FwBwCQu5/5wGHR4+PX7ZKVb/yZf5QRL7w+zdPRI4JHJ+9RGSmT9skIu+LSH8R+QVwDnCB3/cSEWmT6+T222XSccfxxQ47cFBb8jGSjl2ADyIS+V1EIplNrm2kHG3xuT8OjABy/Px/cJ0udsVdWIOAh33am8C4qNgCRwGL/P/o/AxVjQZOSgeOAfYAdgL2AqYCqOpJwDLgYlXtpapRUbwN2N9P2wMbgOe9+M0DKqirXUfLPzow/4Wqrgvs31nAZL+PPYEbGjkW0/HiLiJDcQ+f53Aj9+zp1zkSX2sXkUuAX+KEuj9wLfC0r90D3Am8BgwAhuK6pVeq6h9xx/lBv++9VLWmEbvikpsrcuedcs755zN9+HDaM+StkTyk466tdyMSGd3UykZq0RZxj444M1BEhgPHAleraoGqFuAE6QQRGebnPwaOEpE+uIGPb6K+uMa6K36lqiWquhZ4FjfafYOISBpwPnCdqq5U1S3AVbiHzL6qWotznxzla9JH4Hr+NVZ+RFU3+Jr5o42V77fdV0R6+bxn+gfVm8CRvszDA2VMBW5Q1U9VtVZVX/L2fc+nV+IeEKNUtUpVZ/l9ahdycyX9zDO59gc/4L4BA9zAGUZKsy/OTXN82IYYiaMt4j7S/98IjPK/FwfSv/H/o2lv4ET0cNwINS/h3Ba9cDXqoLjWqOr6wPwWaFSEBgNZwLfRBapaAqxroPyJQCHwJLCjdx1trVUHWN2C8t/HCfJknLi/6Ze/5ecn4t5kpvvlOwB3ikhhdMIdlxE+/Qe4czNTRBZ7N1a7BHnLzZWsiy/mX2efTaRHD/OvdyEGAC/6WDXWSq4L0JaTfBawEsgHlvtlYwLp0cGOo2lv4ITuaOB17wJZiathb4z6optJbcz8epzbZWvsDf/QGBIo/3VcQKbTfPk1wLvAFcB2wDstKL8eqloJzMQ9JI6kvrgfDBwHfKmqq/zypcCFqtovMPVS1ct9fotV9UJVHQnkAhfj3kwa2vdmk5srfX/+c54/6SQuzMiwZrBdEMG9sb5qwchSnxbf4CIySkQiwBTgJ+pYhfMR/1lE+olIf+DPwMuqGq0BzwT6AOfhhBZcTfb/aHkLkjXA+OiMd7s8BNwoIsNFpIcvfwHwoV/nW5zQX9VA+R+0g9tjOvB9oC/wiS9zPU7Ir6L+Pt4GXC8ie4ojW0QOFpGdAUTkAu/qAveWUe2n6L6P9a6oZnPJJTLqd79j5uTJHJVkQ90Zieco4GNrE5/aNFcgfuNbjRTharjjgANV9anAOucCxThBXYATpWhtE1WtwAl8OfCZX/wGTvBbKu6/A84VkQIRedkv+ykwF9dyZRkwDMiN+eD4BtADV6NuS/kN8QbuDWCGqmpg+Zt++dYyVPUe4I/Av4ECb+9vcM3YwL3hfCQiJTgX1qO4D6kA9+I+8G70Lp0mW8t8//uyy1VX8dbEiezWhv0zUouRuA+th4VtiNExSH0dMlKNM86QSb/9LY9PnLjVTWbAuaD/yZGcPwE1+7P/3mMZe3STW6UmFcD5eZr337ANMdoX87umMKeeKnv/+tc8asJuNEJ34PGIRH4atiFG+2LinqLk5srEX/2KR/fem3FNr210cQT4ix/D1b7IpAgm7ilIbq7sNnUqD+6339YOZobRHK4G/ha2EUb7YOKeYuTmyvgpU/jXUUdt7RlrGC3hyohE/hy2EUbbMXFPIXJzZdSpp3LnKaewf9i2GJ2aqyMS+X3YRhhtw8Q9RcjNlSGTJnHLeZ22mFMAAB6xSURBVOdxhI2aZLQD10Qkkhe2EUbrMXFPAXJzpffAgVwzdSon2gAbRjtyfUQivwrbCKN1mLh3cnJzJV2Ei665htP69qVP2PYYKccfIhI5J2wjjJZj4t75Oe6SSzhvp52wkK5GR3FfRCIHNL2akUyYuHdicnNll0MO4UfHH89eYdtipDTdgWctJnznwsS9k5KbKwNHjODnV1zBIfYB1UgAQ4AXIhLpFbYhRvMwce+E5OZKt4wMLvv1rzm+Z096hm2P0WXYHXjU4sF3DuwkdU5OmzqVs0aNosFxXQ2jAzkJuD5sI4ymMXHvZOTmyt577cV5kydb+F4jNK6NSGRy2EYYjWPi3onIzZVBaWlceuWV7GN+diNE0oBHIhLpH7YhRnxM3DsJubkiwNkXXMBuQ4awXdj2GF2eUbiBY4wkxcS98zBx+HAOOfFE9gnbEMPwnBaRyCVhG2E0jIl7JyA3V7KBKVddxcTMTLqHbY9hBLgtIpFdwjbC2BYT987BCUceya4772zx2Y2kowdwjw3ykXyYuCc5ubkyKiuLk6dMYVLYthhGHA4CLgrbCKM+Ju5JTG6upAHnX345u/Tti7VMMJKZWyISGRS2EUYdJu7JzQHDhjHxkENsVCUj6RkA3Bq2EUYdJu5JSm6u9AHOufBCdsjIICNsewyjGVwQkcihYRthOEzck5cjBg2iz957d2yt/Ze/hAkToE8fGD4cfvhD2LSpLv2BByAtDXr1qpvOPrvxPN9+G/bf3+U5Zgz8/e/106+7DgYOhJ12gvfeq1teVQV77w0ffdRee2eEwF0RiXQL2wjDxD0pyc2VXsDxF13EmG7d6NAbJT0dHnkENm6ETz+FFSvgBz+ov87YsVBSUjc99lj8/JYsgRNPhKlToaAAHn8crrkGnnzSpX/8sVv2zTdw881w+eV12/7+93DMMbCPteTvzOyCfVxNCkzck5ND+/Wjx6RJfKejC/r972GvvaBbNxg8GH70I5gxo/X5vfQSjB8P3/++e3Dsvz+ccQb84x8ufdEimDQJ+vWDE05w8wBffOEeANdf39Y9MpKA6yISyQrbiK6OiXuSkZsrPYDvXngho8PosDR9OkycWH/Z8uWw3XYwahR873uweHH87WtrQXXbZZ984n7vthvMmeNcPy++6MqqqYGLL4a77oIsk4RUYARwRdhGdHVM3JOPg3r1ouf++ye+XftTT8E998Bf/1q3bPJk+PxzWLXKiXJWFhx9NGzZ0nAexxwDX30FDz/sfOgzZ8Izz0BRkUvfdVf4+c/hyCPh7rvh/vvhtttcbX7sWFfLnzwZbrqp4/fX6FCuiUikd9hGdGVM3JOI3FzJAk6eMoWRWVlkJ7Ls//3PfUydNs191Iwydqz78JmW5mrv99zjhH7WrIbz2WknePpp94AYOhSuvdb58AcFWkBfdhnMmwevvw6ZmU7g//AH+NnPnL/+rbfg1VddutFpGQRcFbYRXRkT9+TigO7d6X3wwYmttf/733DppfD883D44Y2vK+KmWNdLkBNPhLlznevl7bfdw+Cww7ZdT9W5Y26/3bXC+fRTOPBA56s/8ED3ADA6NT+LSGRA2EZ0VUzck4TcXMkETjn1VAb06EHCxqm84w7nJnn1VTjooG3TX3zRtaBRdWJ95ZWuFr7//vHznDPHuWRKS50f/ZVX4Le/3Xa9u+92bwbHHOPmd9wRXn4Zyspc7X3cuPbZRyM0+gI/CtuIroqJe/LwHaDP5MlMSGShP/mJ84cffnj9tuxRZsyAffd1yyZMcE0mX3+9bp1ly9zvd9+t2yYvzz0AhgxxLWDeesv52oMsX+5q7H/5S92yW26BBx+EYcPch9dTTumw3TYSxxURiVgk0xCwno9JgB+I49hx46gdMYIdEll2Y+4VgD/9yU3xGD3atX0P8tJLTZc7ahTk59dftuuu5opJQYYC5wD3h21IV8Nq7snBSGD06aezo1jgVCP1+EnYBnRFTNyTgwNEqJk4kT3CNsQwOoCJEYkcHLYRXQ0T95DxH1IPmzyZbr170y9sewyjg7BOTQnGxD18dgayjziCncM2xDA6kDMs3ntiMXEPnwPT06nYeefEtpIxjATTDTgzbCO6EibuIeIHvt7n6KPpmZ1Nz7DtMYwOpolg0UZ7YuIeLrsC6fvth3XXMboCB0ckMjJsI7oKJu7hcjBQOmZMYtu2G0ZICHBW2EZ0FUzcQ8K3ktltyBDKBgxgaNj2GEaCMNdMgjBxD49RQNqhhzLKOi4ZXYh9IhIZH7YRXQET9/AYC7DbbuaSMbocFjUoAZi4h8c+QPH22zMmbEMMI8EcHbYBXQET9xDIzZXuwLjhw6nu358hYdtjGAnmYIsU2fGYuIfDKEAOOYTR5m83uiDZQAOjBxjtiYl7OIwDmDDBXDJGl8VcMx2MiXs47A0Ujx7N9mEbYhghcVTYBqQ6Ju4Jxvvbd0xLo6hvXwaGbY9hhMTeNr5qx2LinnhGAIwfT5/0dNLDNsYwQiINN7Sk0UGYuCeeQYCMH2+1dqPLs2fYBqQyJu6JZyhQO3Ik9kpqdHX2CtuAVMbEPfGMBsq2285q7kaXx8S9AzFxTzwjgbJBg0zcjS7P+IhEbByDDsLEPYHk5ko6MAQo69fPxN3o8qSBDQrfUZi4J5b+AJmZSK9eNhi2YWDi3mGYuCeWAYDuuisD0tKwwAOG4aOjGu2PiXtiGQikbbcdvcM2xDCShNFhG5CqmLgnluFATc+eZIZtiGEkCaPCNiBVMXFPLIOAiqwsuoVtiGEkCVZz7yBM3BNLNlCTnW01d8PwDItIJCNsI1IRE/fEkgXUZGWZuBuGJw3X98NoZ0zcE0s2UGvibhj1MHHvAEzcE0sWUJOZaT53wwhgrcc6ABP3xNIdqOne3WruhhHAQhB0ACbuiSVaczdxN4w6TNw7APtKnSByc0WATKDW3DLtR00NNVVVVFRWUl5RQUVlJRUVFZSXl1NRXu7+l5VRUVJCZUEBGVOmcDvwcdh2G/XoFbYBqYiJe+KIHmtVRUO1JEmoqqLSC3NFRUWdOJeXU15WRkVZmftfWkpFSQnlxcVUlJRQUVhIeWEhFRs3Ul5WRk0DWQuQjjvm0f/dAZ0yRV9J4C4azcNq7h2AiXviyAQn6pWVVIVsS5uorUWjteXKyvri7GvKUVEu98JcUVxMeVERFZs3U1FQQPmmTVRUVzf4kEujTpAzGvjdzf/uCdtsL34CKANK/f8SYAuwsH2PhNFOmLh3ACbuiaMWLzxVVeGJe3U11dHactCVEXBh1Kste2GuKCqivKCAik2bKC8qimt/bG059ncWrgbdm/rCHBXkNKCaOmEuxInyFpxAR6dyP1UE/gd/V06bpvZ21HnIDtuAVMTEPXFU4UWsooLKlm6sutWN0WBtOerKCNaWS0q2rS2XlzfpxogV5Oh8T6AHTpRjhTk6VeCEeQtQQMPCHCvE9cR52jStbumxiRKRSBrQB9guIpE+QN/AtM38cRx3QAYZmVlk9W1tmUa70KnfZJMVE/fEUYMTRVmxgvVLlvB1Q7XlLVtcbbmkxNWWCwtdbbmggMra2rhujHiCHPU1Z1L36hvNI1hbVupqy0FB3gIU+99lNFxL3rps2jStbe3BiUgkE+gfkUhcMW7GfK/AfjXJABvGNlkoD9uAVETU3l4TRm6u3AVsgK2156Zqy1Hhbay2XEV9YS5lW2GOFeJYka5qixsjIpFebCu4LRXn7q0t3+j0/DJP8/4YthGphtXcE8s6XBQ8pc6NsYU6V0YJTpyjoryFpmvLbXFjpONF1teYW1Nb7oN7EBlGa6kI24BUxMQ9sdyCc5GU4z76tcWNkQUMCLgxWiPO1krBSAbMLdMBmLgnkGnTtBRXM69HRCKDgSNomWvDerkaqYLV3DsAE/ckoJbanDTSHg/bDsMIiW0qPEbbMXEPkRzJORo4aQhDhh3FUWGbYxhhsSZsA1IRCxwWLsOBrAoqloVtiGGEyKqwDUhFTNzDpQiQYoq3KNYm1eiymLh3ACbu4VIEpNdSW1tFVVHYxhhGCGzO0zzzuXcAJu7hUhz9UU55QZiGGEZIrAzbgFTFxD1cCnEBxUzcja6KuWQ6CBP3cCnAx0IppdTE3eiKLA/bgFTFxD1cCvExYkooKQzbGMMIgQVhG5CqmLiHSL7mV+EEPrOIIqu5G12RL8M2IFUxcQ+fNUD2OtZtCNsQwwiB+WEbkKqYuIfPKiCrlNLycso3hW2MYSSQImBJ2EakKibu4bMUHwSshBJrOWB0JT7L0zzrvNdBmLiHzyr8QByb2Wxtfo2uxCdhG5DKmLiHzyrceZD1rLeau9GVmBO2AamMiXvI5Gt+Ge6jao8VrFhtMWaMLsTbYRuQypi4Jwf5QO9KKqvKKV8ftjGG0dEoujhP85aGbUcqY+KeHOTjP6oWUmgXvJHyCPJW2DakOibuycHWj6qrWb0wZFsMIxGYuHcwJu7JwSqgGsj4lm+X1FJbE7ZBhtHBzAjbgFTHxD0J8GEIPgf6V1JZVUyxuWaMlEXRRXmatyJsO1IdE/fkYQ7QA2ADGxaFbIthdBiCvBy2DV0BE/fkYaugL2OZibuRyvwvbAO6AibuycMmXHv3nqtZvb6Sys1hG2QY7Y2ia4H3wrajK2DiniTka74CHwL9ANax7otwLTKM9keQ/+VpXm3YdnQFTNyTi/n4c7KQhZ+GbIthdATmkkkQJu7JxbdAKZC1mtXrSyldHbZBhtFeKLoOmBm2HV0FE/ckIl/zq3HtfwcBrGLVZ6EaZBjtiCD/NZdM4jBxTz4+BNIBFrDgcwskZqQQ94ZtQFciI2wDjG1YAawGehdRVLyZzd/0o9+4sI0yWsed3EkhdWOfK0o11VzCJQxn+Nblr/M67/Eep3Iqe7BH3Pye4zlWsIINbGBP9uRkTq6XPp3pzGUu2WRzCqcwmtEA1FDDPdxDLrn1yk0UNdR8eIPeYN+REoiJe5KRr/maIznTgXOA4qUs/djEvfNyJVfWm5/OdBawoJ7ArmAFC1lIL3o1md9QhjKBCcxl7jZpq1jFF3zBVKaymMW8wAtcwRUAvMu77MiOoQg7QDrpd4RScBfG3DLJyTxAAPmSLxdUUFEQtkFG26mhhnnMYx/22bqsmmqmMY2TOIl0541rlP3Zn3GMozvdt0nbxCZGMIJsshnPeDbhhuRdy1q+5EsO47B225eWUEvtJqyVTMIxcU9C8jV/E/AZMEhRXc7y2WHbZLSdBSygnPJ6bpcZzGAHdmAUo9qc/xCGsJKVlFLKQhYylKHUUss0pnEiJ9KNbm0uo5X8K0/zKsMqvKti4p68vAz0BPiMz+ZVU10esj1GG/mIj9iN3cgmG4CVrGQ+8zmCI9ol/yEM4UAO5CEeYi5zOZmT+YAPGMEI+tOfJ3iC+7mfd3inXcprDorWppF2V8IKNLZi4p68fA2sBPqWU165hjUfhW2Q0Xo2sYlv+Zbv8B3AuWOe4zlO5MQGXSytZRKTuIzLOJ/zSSedeczjSI7kNV5jJ3ZiClNYxCK+4Zt2K7Mxaqmdlqd5yxJSmFEPE/ckJV/za4Hn8OEIPufz2bXUWhvhTspc5rId2zGSkQAUU8w61vEUT3GL/yuiiBd5kad4qs3lKco0pnEcx9Gd7qxhDaMYRRppjGIUq+n4/nGKajrp13V4QUaDWGuZ5OYToATILqCgeCMbPx/M4Pjt5IykpJpqPuGTeu6XvvTlp/y03nr3cR8HcRC7s3ujeWngr4oqBCEj5laey1z6059xuIZWAxjAQhbSl74sYQkHcVA77mHDVFH10k160/wOL8hoEKu5JzH5ml8JvAAMBpjHvBk2SlPn4yu+oprqeqKdRhp9Y/4EIYsseriw/hRSyE3cxFLqxm55mIe5iZv4jM/4hE+4iZt4mIfrlbeZzcxiFsdy7NZlR3EUn/Ipt3IrQxjCzuzcofusqGaQ8YsOLcRoFFHrAJnU5EhOb+DPwAag8nAOP34Yw/YN2SzDaJRKKp+/SW/KDduOrozV3JOcfM0vBqYBwwDmMvftGmqsWZmRtPha+y/DtqOrY+LeOXgTFy0yu5ji0hWseD9sgwwjHpVUPhvRyFdh29HVMXHvBORrfimuh98QgI/46IMqqraEa5VhbEsNNeXppF8Rth2GiXtn4n3cUHy9yymvXMzit8M2yDBiKaPsTzfqjWvCtsMwce80+JYzj+FjvX/Mx3O3sGVVuFYZRh0VVKzoRa8bwrbDcJi4dy7mAUuBgbXU6lzmTlPUOjYZSUEllZfkaV512HYYDhP3TkS+5tcADwK9gfSVrFy7kpUfhGyWYbCFLW/cqre+HLYdRh0m7p2MfM3/BngVXGDuWcyaYSGBjTCppro8jbQfhG2HUR8T987Jc0Ax0LuSyurP+Oz5sA0yui6b2fzLm/XmFWHbYdTHxL0T4ptG/hv3cVUWsnDxOtZ9ErJZRhekkMIP7tA7bJSlJMTEvfPyGTAL33N1JjNfLqd8U7gmGV2JCiqKNrLxtLDtMBrGxL2Tkq/5CjwO1AA9yimvnMvcpywssJEIFNX1rL/8IX3I2rQnKSbunZh8zS8A7gW2A9KWsWzVEpZMD9ksowuwiU3P3qP3PBq2HUZ8TNw7Px8D08GNAjGLWe8XUJAfrklGKlNCyfJ1rDs3bDuMxjFx7+R498x/gbX43qtv8/azFVQUhmqYkZJUULHlW7797uP6eGnYthiNY+KeAuRrfhlwJ5AFZJdSWj6b2U9YaGCjPamhpuZrvv7JU/rUZ2HbYjSNiXuKkK/5K4D7cK1n0lawYs2nfPqkYqOxGO3DYhbf9Tmf3x+2HUbzMHFPLWbheq9uD7CABQsXsci6hBttZhWrZnzIh1d7N6DRCTBxTyH8jfcEbmDtkQBzmDNnFatmhWqY0anZxKZv5jDnlHzNrwrbFqP5mLinGPmaXw38E1gNDAV4m7dfK6BgQaiGGZ2SzWxe8xEfHfexfrw5bFuMlmHinoL48AS3AxVAf0V1OtOfLqHE4n8YzaaEkoIP+fCsmTpzUdi2GC3HxD1Fydf8jcBfgB5Az0oqq17n9UdM4I3mUEpp0RzmXDxTZ74Tti1G6zBxT2HyNX8ZcAcwGMguo6zCBN5oijLKSmYze+pqVj/T1rxEZImInOt/jxERFZGRbbey8bIME/eUJ1/zPwf+hvO/m8AbjVJOecksZv16Nasfam7LGBG5zov2+W0tX0SyRORGEVkkImUislZEHhCRUTHrqYgc3NbyUhkT9y5AvuZ/hAm80QRb2FLwDu9cs5rVd7ZA2NOAi3CDt1/alvJFJB14ETgNOAc34tj+QB9gtoiMaEv+rbCnWyLLa29M3LsI8QS+mOJlIZtmJAGb2bzuTd78zQY23JWv+S2JLHosrtnt+cCBIrJbG8w4GzgEOFlVZ6tqtaouBs4CSoAIgIh86td/TURKROTeQB6jRWS6X/6FiBwYLEBEfuiXbxaReSJyTCDtehF5U0RuFZG1wDQRyRSRf4nIOhEpEpGvReSMNuxjwjBx70I0JPAv8/JDG9jwRcimGSGygQ0rpjP9F8UU3+3H6W0JlwIvq+qLwKfAJW0w5QRgtqrWa52jqlW4/hvH+/k9fNIxqtpLVS8OrH4hMBXoC7yOG3MYABG5BPgl7q2gP3At8LSIjAtsPxnXjHgUcDowBZgE7KKqfYAjgS/bsI8Jw8S9ixEQ+CFA72qqa17jtaeWs/zdkE0zQmA1q795kzd/VE75Qy0VdhEZDpwIREMS3A+cJyLZrTRnMLAyTtoq3DXbFP9U1fmqWoMLhz1ORPr6tKnADar6qarWqupLwFvA9wLbL1PVP6tqpaqWApVAL2BXEclQ1eWqauJuJCde4P+Iu2gHArzLu29+xVfTFLXBProAivIt3342gxkXV1M9rZVhBaK+9hf8/CNANs6N0hrWA/H86sN9elOsDvze4v/39v93AO4UkcLoBBweU+aSmPwewT0kbgM2ikhsTT9pMXHvouRr/lfADbiayTCAecybN5e5/6mhpiJU44wOpYaayrnMnT6LWRcu0AUzWiPs/kPqxUA/YIWIrMG5K9JpvWvmFWA/ERkbU1YG8P+AYJyk1jyMlgIXqmq/wNRLVS8PrFOvcuP9/reo6ndwMZtKqXtTSWpM3Lsw+Zq/ErgR9yo8GjfY9rczmHFPKaVrw7XO6AhKKS2YzvSnF7Lwx/4NrrUch/uQeiCwZ2A6EThARHZvRZ6PAh8Az4nIviKSLiJjgMdwPvTrA+uuAca3MP/bgOtFZE9xZIvIwSKyc7wNROQIEdnHt5wpw70NVLew3FAwce/i5Gt+Ic5F8zHutTVjLWs3vsiL965lbVtufiPJWMe6JS/z8j0b2HCVf3NrC5cCz6rqR6q6JjC9hhPoFjeLVNVq3ENjGm584C3AhzhR3VdVlwdWvxa4QUQKROSfzcz/Hty1/m+gAFgG/AZorMnjUOBhv/5qXO29TU0+E4Wohfs2gBzJSQdO9tMGoBhgd3afsCu7npROevcw7TNaTy21tQtZOO8jPvoX8LAf3MVIcUzcjXrkSM4E4HJcbWY1wBCGDDiQA8/oQY9hoRpntJhSSjfMYtb7a1jzd+ANi8fedTBxN7YhR3IGAD8EdgFWANUZZKQfwAGHjmDEQWmkmTsvyVFUl7Dkkw/58IMaau7I13wbNL2LYeJuNEiO5GTgPo6dBmwEigCGM3zIJCbl9qRnQruCG82njLKNs5k9exWrXgYe8d9VjC6GibvRKDmSswuuaVtfXKuaGkFkEpP23YEdjkwnvVPH30glaqmtXc7yz2cze0411fcBs80N03UxcTeaJEdyegC5uJYMxbiaPAMZ2Hc/9vtuP/p1ik4dqUwhhd/OZvbnG9n4DvCgj+dvdGFM3I1mkyM5Y3G9EkfguoNXAuzMzuN3YZejssluTvdwox0pp3zjp3w65xu+WQb8B5jZwsBfRopi4m60iBzJ6QYcjQuqVI3rTKKCyB7sMXEc4w7PJLNvo5kYbaaGmopFLJo7j3nf1FL7NvBMvuYXhG2XkTyYuButIkdytsMJ/CRcZ5P1ABlkpO/DPvtuz/aHZJDR2gBSRhyqqS5fwYp585i3tIyyL4H/5Gv+t2HbZSQfJu5Gq8mRHAHG4gJF5eB68RUC9KBH1p7sue8IRuzbjW49QzQzJaiiqnQ5y+fMY96KCio24lwwc80FY8TDxN1oM17kd8cNthCN3lcCria/O7tPHMOYA7LJHhyimZ2SSiqLl7J0zid8srKKqi3A88Bb1svUaAoTd6Pd8G3jJ+HcNQNxLWs2bU0nZ9x4xh/Yhz47hGRip6GIoiVLWPLFV3y1qYaaIuA54P18zS8N2zajc2DibrQ7Pk7Nbrjmk2OBCmAdPpzqcIYPGc/4PYcwZKK5bOqooqp0Hes+mc/8rzewAWAz8AyuvXp5uNYZnQ0Td6PDCPjkj8XV6GtwLpsKgHTS03LIGT+KURP703+nNNIywrM2HGqprSmi6NtlLPv8S77cVEttBi5a4SvAR/maXxmyiUYnxcTdSAg5kjMENz7lYUBPXBjXDfjafBZZmTnk7DyMYbv0pe8OqRyFsoaaykIKF65i1Vdf8/W6Cip64PoMvA3MBJZbz1KjrZi4GwnFt5PfBTgUN7hDGi5uTSF+dJ100tPGMGbUCEaMH8CAcT3oMTQ0g9uJSiqLCihYtJKVCxaxaGM11b180lJcLf0z+0hqtCcm7kZo5EhOb2ACrja/k19cifsIu9Ud0Y9+vXdghx0HMGBUb3qPyCZ7sCBJHZmynPJNxRQv38jGpctZvmw96xU3lqfixul8D5gPrLVautERmLgbSUGO5PQBdgT2AvbBDbSsuFp9MYGxLTPJzBjBiGGDGTy8H/1G9KLXsEwy+6eRlp5ou2uprSqnfEMppetLKNlQQMHaFaxYWUyx4IKtpfv9+BJ4H1hgPUmNRGDibiQdOZKThhufc2dgX2AMIH6qxIl9KYFBkgWR/vTv3Z/+/fvQp39PevbvQY/+3eneN4OM7HTSu6eTnpVGWqYgzbKjltqaaqpLq6neUkXVlkoqSyqp3FJGWfFmNm/YwIb1G9m4GcjEfUfo5W1Kw8XemQfkA4vzNX9Luxwcw2gmJu5G0uP99NvhApaNx4n+MFxtPir65X4qA6ri5SWIZJPdPZvs7plkZiqqtdTW+mnr7yqqqssoqwhsmgZ0B3r4CeqEvATnapnv/68wMTfCxsTd6JTkSE4WTuAH4DpMjcT1jh2Kq0HXUlezj1bV0/yymsByCaRH/yt1bqBoeg3uo+9yYDFuCML1wAYTciMZMXE3Ug4v/H1xfvvuQFbgfzbOhRIV+VpcdMuawLSlganCPnwanQkTd8MwjBQkqZuTGYZhGK3DxN0wDCMFMXE3DMNIQUzcDcMwUhATd8MwjBTExN0wDCMFMXE3DMNIQUzcDcMwUhATd8MwjBTExN0wDCMFMXE3DMNIQUzcDcMwUhATd8MwjBTExN0wDCMFMXE3DMNIQf4/d93QJd+CpicAAAAASUVORK5CYII=\n",
      "text/plain": [
       "<Figure size 432x288 with 1 Axes>"
      ]
     },
     "metadata": {},
     "output_type": "display_data"
    }
   ],
   "source": [
    "#create pie chart to show percentage distribution of highest frequency neighborhoods vs. all others \n",
    "x = [top1force,sumforce]\n",
    "explode = (.06,0)\n",
    "textprops = {\"fontsize\":13}\n",
    "colors = [\"yellow\",\"purple\"]\n",
    "labels = ['Downtown West','All Others']\n",
    "\n",
    "plt.pie(x, labels=labels, textprops=textprops, explode=explode, colors=colors, \n",
    "        autopct=\"%1.1f%%\", shadow=True, startangle=90)\n",
    "plt.axis(\"equal\")\n",
    "plt.title(\"Minneapolis Police Use of Force Events:\"+ \"\\n\" +\" Highest Frequency Neighborhood vs. All Others (Total: 86)\" + \"\\n\" + \"(2008-2021)\")\n",
    "\n",
    "plt.show()\n"
   ]
  },
  {
   "cell_type": "markdown",
   "metadata": {},
   "source": [
    "# Findings and Analysis: Which neighborhood in Minneapolis contains the highest frequency of police force?"
   ]
  },
  {
   "cell_type": "markdown",
   "metadata": {},
   "source": [
    "•\tOf 86 total neighborhoods in Minneapolis, “Downtown West” contained 25.9% of all police use of force events from 2008 – 2021, with a force count of 7,535 out of 29,075 total use of force events.\n",
    "\n",
    "•\tOf the top 5 neighborhoods with the highest use of force, Downtown West contained the majority, or 60% of the total use of force.\n",
    "\n",
    "•\tSome potential avenues of analysis to help explain the skewed distribution of force events per neighborhood could be:\n",
    "-\tVariability of poverty and socioeconomic distribution of each neighborhood compared to the entire city of Minneapolis.\n",
    "-\tGeographic distribution of race and gender by neighborhood, which could indicate a certain probability of racial and/or gender profiling bias by police. \n",
    "\n",
    "(Note: Our data analysis omitted gender and race data from the original CSV to avoid questionable-cause logical fallacies.  However, these data could be useful in illustrating trends or biases within the psychology of individuals and/or the psychosociology of society, which is beyond the scope of our analysis.)\n"
   ]
  },
  {
   "cell_type": "code",
   "execution_count": 47,
   "metadata": {},
   "outputs": [],
   "source": [
    "# Mike H's code ends here"
   ]
  },
  {
   "cell_type": "markdown",
   "metadata": {},
   "source": [
    "# 5. Is the use of police force in Minneapolis going up or down? (Mike F)"
   ]
  },
  {
   "cell_type": "code",
   "execution_count": 48,
   "metadata": {},
   "outputs": [
    {
     "name": "stderr",
     "output_type": "stream",
     "text": [
      "C:\\Users\\szig9\\anaconda3\\envs\\PythonData\\lib\\site-packages\\pandas\\core\\arrays\\datetimes.py:1104: UserWarning: Converting to PeriodArray/Index representation will drop timezone information.\n",
      "  UserWarning,\n"
     ]
    },
    {
     "name": "stdout",
     "output_type": "stream",
     "text": [
      "The number of unique months with recorded data is 158\n"
     ]
    },
    {
     "data": {
      "image/png": "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\n",
      "text/plain": [
       "<Figure size 432x288 with 1 Axes>"
      ]
     },
     "metadata": {
      "needs_background": "light"
     },
     "output_type": "display_data"
    }
   ],
   "source": [
    "#Make a basic histogram, sorted by month, of incidents of police force used.\n",
    "import datetime;\n",
    "police_data_time_df = police_data.loc[:, [\"PoliceUseOfForceID\", \"CaseNumber\", \"ResponseDate\", \"Problem\", \"ForceType\",\n",
    "                                    \"ForceTypeAction\", \"EventAge\"]];\n",
    "police_data_time_df[\"Month\"] = pd.to_datetime(police_data_time_df[\"ResponseDate\"]).dt.to_period('m');\n",
    "police_data_time_df[\"MonthNumeric\"] = police_data_time_df[\"Month\"].apply(lambda x: int(str(x)[0:4]) + (int(str(x)[5:7])) / 12);\n",
    "police_data_time_df = police_data_time_df[police_data_time_df[\"MonthNumeric\"]>=2008];\n",
    "print(f'The number of unique months with recorded data is {len(police_data_time_df[\"MonthNumeric\"].unique())}');\n",
    "timehist = plt.hist(police_data_time_df[\"MonthNumeric\"], bins=158, color='Purple');\n",
    "plt.title(\"Histogram of Police Force Incidents by Month and Year\");\n",
    "plt.xlabel(\"Month\");\n",
    "plt.ylabel(\"Incidents\");\n",
    "plt.show();"
   ]
  },
  {
   "cell_type": "code",
   "execution_count": 49,
   "metadata": {},
   "outputs": [
    {
     "data": {
      "image/png": "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\n",
      "text/plain": [
       "<Figure size 432x288 with 1 Axes>"
      ]
     },
     "metadata": {
      "needs_background": "light"
     },
     "output_type": "display_data"
    }
   ],
   "source": [
    "#Make a dictionary of incidents, indexed by months since 2008.\n",
    "monthIndex = {}\n",
    "#Month 1 represents January, 2008\n",
    "for x in range(1,158):\n",
    "    #monthEquiv is the value for that month in the police_data_time_df dataframe\n",
    "    monthEquiv = 2008+(x/12)\n",
    "    monthIndex[x] = [round(monthEquiv,2), len(police_data_time_df[police_data_time_df[\"MonthNumeric\"]==monthEquiv])]\n",
    "\n",
    "incidents_by_month_df = pd.DataFrame.from_dict(monthIndex, orient='index', columns=[\"Month\",\"Incidents\"])\n",
    "#Overall Data\n",
    "timeplot = plt.scatter(incidents_by_month_df[\"Month\"],incidents_by_month_df[\"Incidents\"], color=\"purple\")\n",
    "#Linear Regression Code\n",
    "(slope, intercept, rvalue, pvalue, stderr) = linregress(incidents_by_month_df[\"Month\"], incidents_by_month_df[\"Incidents\"])\n",
    "regress_values = incidents_by_month_df[\"Month\"] * slope + intercept\n",
    "plt.plot(incidents_by_month_df[\"Month\"],regress_values,\"r-\")\n",
    "\n",
    "plt.title(\"Police Force Incidents by Month and Year\");\n",
    "plt.xlabel(\"Month\");\n",
    "plt.ylabel(\"Incidents\");\n",
    "plt.text(2014,350,f\"r = {round(rvalue,3)}\")\n",
    "plt.text(2014,325,f\"p = {round(pvalue,4)}\")\n",
    "plt.show();"
   ]
  },
  {
   "cell_type": "code",
   "execution_count": 50,
   "metadata": {},
   "outputs": [
    {
     "data": {
      "image/png": "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\n",
      "text/plain": [
       "<Figure size 432x288 with 1 Axes>"
      ]
     },
     "metadata": {
      "needs_background": "light"
     },
     "output_type": "display_data"
    }
   ],
   "source": [
    "#The data appears to have a strong cyclical trend, possibly according to time of year.\n",
    "#In order to see if this is relevant, we'll separate these data sets by month and see if they have a more smooth pattern over\n",
    "#multiple years.\n",
    "\n",
    "#incidents_by_month_df\n",
    "\n",
    "incidents_jan = incidents_by_month_df[(incidents_by_month_df.index%12)==1]\n",
    "plt.scatter(incidents_jan[\"Month\"],incidents_jan[\"Incidents\"], color=\"purple\")\n",
    "plt.title(\"Police Force Incidents for January by Year\");\n",
    "plt.xlabel(\"Year\");\n",
    "plt.ylabel(\"Incidents\");\n",
    "(slope, intercept, rvalue, pvalue, stderr) = linregress(incidents_jan[\"Month\"], incidents_jan[\"Incidents\"])\n",
    "regress_values = incidents_by_month_df[\"Month\"] * slope + intercept\n",
    "plt.plot(incidents_by_month_df[\"Month\"],regress_values,\"r-\")\n",
    "plt.text(2014,310,f\"r = {round(rvalue,3)}\")\n",
    "plt.text(2014,302,f\"p = {round(pvalue,4)}\")\n",
    "plt.show();"
   ]
  },
  {
   "cell_type": "code",
   "execution_count": 51,
   "metadata": {},
   "outputs": [
    {
     "data": {
      "image/png": "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\n",
      "text/plain": [
       "<Figure size 432x288 with 1 Axes>"
      ]
     },
     "metadata": {
      "needs_background": "light"
     },
     "output_type": "display_data"
    }
   ],
   "source": [
    "incidents_april = incidents_by_month_df[(incidents_by_month_df.index%12)==4]\n",
    "plt.scatter(incidents_april[\"Month\"],incidents_april[\"Incidents\"], color=\"purple\")\n",
    "plt.title(\"Police Force Incidents for April by Year\");\n",
    "plt.xlabel(\"Year\");\n",
    "plt.ylabel(\"Incidents\");\n",
    "(slope, intercept, rvalue, pvalue, stderr) = linregress(incidents_april[\"Month\"], incidents_april[\"Incidents\"])\n",
    "regress_values = incidents_april[\"Month\"] * slope + intercept\n",
    "plt.plot(incidents_april[\"Month\"],regress_values,\"r-\")\n",
    "plt.text(2014,300,f\"r = {round(rvalue,3)}\")\n",
    "plt.text(2014,275,f\"p = {round(pvalue,4)}\")\n",
    "plt.show();"
   ]
  },
  {
   "cell_type": "code",
   "execution_count": 52,
   "metadata": {},
   "outputs": [
    {
     "data": {
      "image/png": "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\n",
      "text/plain": [
       "<Figure size 432x288 with 1 Axes>"
      ]
     },
     "metadata": {
      "needs_background": "light"
     },
     "output_type": "display_data"
    }
   ],
   "source": [
    "incidents_july = incidents_by_month_df[(incidents_by_month_df.index%12)==7]\n",
    "plt.scatter(incidents_july[\"Month\"],incidents_july[\"Incidents\"], color=\"purple\")\n",
    "plt.title(\"Police Force Incidents for July by Year\");\n",
    "plt.xlabel(\"Year\");\n",
    "plt.ylabel(\"Incidents\");\n",
    "(slope, intercept, rvalue, pvalue, stderr) = linregress(incidents_july[\"Month\"], incidents_july[\"Incidents\"])\n",
    "regress_values = incidents_july[\"Month\"] * slope + intercept\n",
    "plt.plot(incidents_july[\"Month\"],regress_values,\"r-\")\n",
    "plt.text(2014,350,f\"r = {round(rvalue,3)}\")\n",
    "plt.text(2014,325,f\"p = {round(pvalue,4)}\")\n",
    "plt.show();"
   ]
  },
  {
   "cell_type": "code",
   "execution_count": 53,
   "metadata": {},
   "outputs": [
    {
     "data": {
      "image/png": "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\n",
      "text/plain": [
       "<Figure size 432x288 with 1 Axes>"
      ]
     },
     "metadata": {
      "needs_background": "light"
     },
     "output_type": "display_data"
    }
   ],
   "source": [
    "incidents_october = incidents_by_month_df[(incidents_by_month_df.index%12)==10]\n",
    "plt.scatter(incidents_october[\"Month\"],incidents_october[\"Incidents\"], color=\"purple\")\n",
    "plt.title(\"Police Force Incidents for October by Year\");\n",
    "plt.xlabel(\"Year\");\n",
    "plt.ylabel(\"Incidents\");\n",
    "(slope, intercept, rvalue, pvalue, stderr) = linregress(incidents_october[\"Month\"], incidents_october[\"Incidents\"])\n",
    "regress_values = incidents_october[\"Month\"] * slope + intercept\n",
    "plt.plot(incidents_october[\"Month\"],regress_values,\"r-\")\n",
    "plt.text(2014,350,f\"r = {round(rvalue,3)}\")\n",
    "plt.text(2014,325,f\"p = {round(pvalue,4)}\")\n",
    "plt.show();"
   ]
  },
  {
   "cell_type": "markdown",
   "metadata": {},
   "source": [
    "For the selected tested months, there does not actually seem to be a consistent trend, which is strong evidence against the hypothesis that there is a cyclical or seasonal influence on police uses of force. If this trend were to explain the intra-year variances between months, then the scatter plots of uses of force by month would be much closer to a linear progression instead of the unpredictable rises and falls that are actually seen upon filtering by month."
   ]
  },
  {
   "cell_type": "markdown",
   "metadata": {},
   "source": [
    "##Overall data indicates a downward trend in overall police use of force.\n",
    "There are several things to consider in this - that the data is highly variable from month to month, and that the overall trend is downward, but that there is a significant rise at the end of the data. This suggests that police use of force is correlated with ongoing political changes that themselves have an overall trend, but that exhibit significant variation. The lowest months on record are mid to late 2020, which correspond to an increase in discourse of police use of force after the high-profile case of George Floyd, who was killed by excessive and unwarranted use of police force, which resulted in intense public scrutiny of police force used. That police use of force rebounded abruptly in 2021 is troubling and warrants further scrutiny."
   ]
  },
  {
   "cell_type": "code",
   "execution_count": 54,
   "metadata": {},
   "outputs": [],
   "source": [
    "# Mike F's code ends here"
   ]
  },
  {
   "cell_type": "markdown",
   "metadata": {},
   "source": [
    "# 6. Perform a linear regression on use of force between 2015 and 2019 and make a prediction about use of force in 2020 for the city of Minneapolis.  Compare this prediction to actual use of force outcomes in 2020. (Mike H)"
   ]
  },
  {
   "cell_type": "code",
   "execution_count": 55,
   "metadata": {},
   "outputs": [
    {
     "data": {
      "text/html": [
       "<div>\n",
       "<style scoped>\n",
       "    .dataframe tbody tr th:only-of-type {\n",
       "        vertical-align: middle;\n",
       "    }\n",
       "\n",
       "    .dataframe tbody tr th {\n",
       "        vertical-align: top;\n",
       "    }\n",
       "\n",
       "    .dataframe thead th {\n",
       "        text-align: right;\n",
       "    }\n",
       "</style>\n",
       "<table border=\"1\" class=\"dataframe\">\n",
       "  <thead>\n",
       "    <tr style=\"text-align: right;\">\n",
       "      <th></th>\n",
       "      <th>Response Date</th>\n",
       "      <th>Type of Force</th>\n",
       "    </tr>\n",
       "  </thead>\n",
       "  <tbody>\n",
       "    <tr>\n",
       "      <th>0</th>\n",
       "      <td>2008/01/08 14:20:21+00</td>\n",
       "      <td>Bodily Force</td>\n",
       "    </tr>\n",
       "    <tr>\n",
       "      <th>1</th>\n",
       "      <td>2008/01/19 23:47:58+00</td>\n",
       "      <td>Bodily Force</td>\n",
       "    </tr>\n",
       "    <tr>\n",
       "      <th>2</th>\n",
       "      <td>2008/02/04 21:21:49+00</td>\n",
       "      <td>Bodily Force</td>\n",
       "    </tr>\n",
       "    <tr>\n",
       "      <th>3</th>\n",
       "      <td>2008/02/14 22:03:15+00</td>\n",
       "      <td>Bodily Force</td>\n",
       "    </tr>\n",
       "    <tr>\n",
       "      <th>4</th>\n",
       "      <td>2008/02/24 02:25:39+00</td>\n",
       "      <td>Bodily Force</td>\n",
       "    </tr>\n",
       "    <tr>\n",
       "      <th>...</th>\n",
       "      <td>...</td>\n",
       "      <td>...</td>\n",
       "    </tr>\n",
       "    <tr>\n",
       "      <th>29070</th>\n",
       "      <td>2020/11/12 14:41:54+00</td>\n",
       "      <td>Maximal Restraint Technique</td>\n",
       "    </tr>\n",
       "    <tr>\n",
       "      <th>29071</th>\n",
       "      <td>2020/11/13 21:48:02+00</td>\n",
       "      <td>Bodily Force</td>\n",
       "    </tr>\n",
       "    <tr>\n",
       "      <th>29072</th>\n",
       "      <td>2020/11/19 15:44:41+00</td>\n",
       "      <td>Taser</td>\n",
       "    </tr>\n",
       "    <tr>\n",
       "      <th>29073</th>\n",
       "      <td>2020/11/28 08:18:10+00</td>\n",
       "      <td>Bodily Force</td>\n",
       "    </tr>\n",
       "    <tr>\n",
       "      <th>29074</th>\n",
       "      <td>2020/12/04 06:07:08+00</td>\n",
       "      <td>Bodily Force</td>\n",
       "    </tr>\n",
       "  </tbody>\n",
       "</table>\n",
       "<p>29075 rows × 2 columns</p>\n",
       "</div>"
      ],
      "text/plain": [
       "                Response Date                Type of Force\n",
       "0      2008/01/08 14:20:21+00                 Bodily Force\n",
       "1      2008/01/19 23:47:58+00                 Bodily Force\n",
       "2      2008/02/04 21:21:49+00                 Bodily Force\n",
       "3      2008/02/14 22:03:15+00                 Bodily Force\n",
       "4      2008/02/24 02:25:39+00                 Bodily Force\n",
       "...                       ...                          ...\n",
       "29070  2020/11/12 14:41:54+00  Maximal Restraint Technique\n",
       "29071  2020/11/13 21:48:02+00                 Bodily Force\n",
       "29072  2020/11/19 15:44:41+00                        Taser\n",
       "29073  2020/11/28 08:18:10+00                 Bodily Force\n",
       "29074  2020/12/04 06:07:08+00                 Bodily Force\n",
       "\n",
       "[29075 rows x 2 columns]"
      ]
     },
     "execution_count": 55,
     "metadata": {},
     "output_type": "execute_result"
    }
   ],
   "source": [
    "#pull out Response Date and Type of Force from clean df and store\n",
    "date_force_df = clean_df.loc[:,['Response Date','Type of Force']]\n",
    "\n",
    "#find all response dates containing 2015 - 2019 and store\n",
    "searchfor = ['2015', '2016', '2017', '2018', '2019']\n",
    "df_2015_2019 = date_force_df[date_force_df['Response Date'].str.contains('|'.join(searchfor))]\n",
    "\n",
    "#divide 2015 - 2019 in separate dfs\n",
    "df_2015 = date_force_df[date_force_df['Response Date'].str.contains(\"2015\")]\n",
    "df_2016 = date_force_df[date_force_df['Response Date'].str.contains(\"2016\")]\n",
    "df_2017 = date_force_df[date_force_df['Response Date'].str.contains(\"2017\")]\n",
    "df_2018 = date_force_df[date_force_df['Response Date'].str.contains(\"2018\")]\n",
    "df_2019 = date_force_df[date_force_df['Response Date'].str.contains(\"2019\")]\n",
    "\n",
    "#store 2020 df\n",
    "df_2020 = date_force_df[date_force_df['Response Date'].str.contains(\"2020\")]\n",
    "\n",
    "#display condensed df with only response date and type of force\n",
    "date_force_df"
   ]
  },
  {
   "cell_type": "code",
   "execution_count": 56,
   "metadata": {},
   "outputs": [
    {
     "data": {
      "text/plain": [
       "True"
      ]
     },
     "execution_count": 56,
     "metadata": {},
     "output_type": "execute_result"
    }
   ],
   "source": [
    "#checking to make sure the length of 2015 - 2019 dfs is equal to length of 2015-2019 dfs to ensure no missing values\n",
    "len(df_2015_2019) == len(df_2015) + len(df_2016) + len(df_2017) + len(df_2018) + len(df_2019)"
   ]
  },
  {
   "cell_type": "code",
   "execution_count": 57,
   "metadata": {},
   "outputs": [
    {
     "data": {
      "text/plain": [
       "11355"
      ]
     },
     "execution_count": 57,
     "metadata": {},
     "output_type": "execute_result"
    }
   ],
   "source": [
    "#summary stats\n",
    "#total force incidents from 2015 - 2020\n",
    "TotalIncidents = len(df_2015_2019) + len(df_2020)\n",
    "TotalIncidents"
   ]
  },
  {
   "cell_type": "code",
   "execution_count": 58,
   "metadata": {},
   "outputs": [
    {
     "data": {
      "text/plain": [
       "1892.5"
      ]
     },
     "execution_count": 58,
     "metadata": {},
     "output_type": "execute_result"
    }
   ],
   "source": [
    "#mean force incidents per year\n",
    "MeanIncidents = TotalIncidents / 6\n",
    "MeanIncidents"
   ]
  },
  {
   "cell_type": "code",
   "execution_count": 59,
   "metadata": {},
   "outputs": [
    {
     "data": {
      "text/html": [
       "<div>\n",
       "<style scoped>\n",
       "    .dataframe tbody tr th:only-of-type {\n",
       "        vertical-align: middle;\n",
       "    }\n",
       "\n",
       "    .dataframe tbody tr th {\n",
       "        vertical-align: top;\n",
       "    }\n",
       "\n",
       "    .dataframe thead th {\n",
       "        text-align: right;\n",
       "    }\n",
       "</style>\n",
       "<table border=\"1\" class=\"dataframe\">\n",
       "  <thead>\n",
       "    <tr style=\"text-align: right;\">\n",
       "      <th></th>\n",
       "      <th>Year</th>\n",
       "      <th>Total Bodily Force Incidents</th>\n",
       "    </tr>\n",
       "  </thead>\n",
       "  <tbody>\n",
       "    <tr>\n",
       "      <th>0</th>\n",
       "      <td>2015</td>\n",
       "      <td>2038</td>\n",
       "    </tr>\n",
       "    <tr>\n",
       "      <th>1</th>\n",
       "      <td>2016</td>\n",
       "      <td>2202</td>\n",
       "    </tr>\n",
       "    <tr>\n",
       "      <th>2</th>\n",
       "      <td>2017</td>\n",
       "      <td>1924</td>\n",
       "    </tr>\n",
       "    <tr>\n",
       "      <th>3</th>\n",
       "      <td>2018</td>\n",
       "      <td>1776</td>\n",
       "    </tr>\n",
       "    <tr>\n",
       "      <th>4</th>\n",
       "      <td>2019</td>\n",
       "      <td>1697</td>\n",
       "    </tr>\n",
       "  </tbody>\n",
       "</table>\n",
       "</div>"
      ],
      "text/plain": [
       "   Year  Total Bodily Force Incidents\n",
       "0  2015                          2038\n",
       "1  2016                          2202\n",
       "2  2017                          1924\n",
       "3  2018                          1776\n",
       "4  2019                          1697"
      ]
     },
     "execution_count": 59,
     "metadata": {},
     "output_type": "execute_result"
    }
   ],
   "source": [
    "#find and store total bodily force incidents for each year\n",
    "sum2015 = df_2015['Type of Force'].count()\n",
    "sum2016 = df_2016['Type of Force'].count()\n",
    "sum2017 = df_2017['Type of Force'].count()\n",
    "sum2018 = df_2018['Type of Force'].count()\n",
    "sum2019 = df_2019['Type of Force'].count()\n",
    "\n",
    "#create dictionary of total bodily force incidents for each year\n",
    "dict = {'Year':[2015,2016,2017,2018,2019], \n",
    "        'Total Bodily Force Incidents': [sum2015,sum2016,sum2017,sum2018,sum2019]}\n",
    "\n",
    "#pass dict into pd.DataFrame to generate df\n",
    "tot_bodyforce_df = pd.DataFrame(dict)\n",
    "tot_bodyforce_df"
   ]
  },
  {
   "cell_type": "code",
   "execution_count": 60,
   "metadata": {
    "scrolled": false
   },
   "outputs": [
    {
     "name": "stdout",
     "output_type": "stream",
     "text": [
      "The r-squared is: 0.7501527601933825\n"
     ]
    },
    {
     "data": {
      "image/png": "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\n",
      "text/plain": [
       "<Figure size 432x288 with 1 Axes>"
      ]
     },
     "metadata": {
      "needs_background": "light"
     },
     "output_type": "display_data"
    }
   ],
   "source": [
    "#find and store years for x-values\n",
    "year = tot_bodyforce_df.iloc[:,0]\n",
    "\n",
    "#store year 2020\n",
    "year2020 = 2020\n",
    "\n",
    "#find and store total bodily force incidents for 2020\n",
    "totbodyforce2020 = len(df_2020)\n",
    "\n",
    "#find and store total bodily force incidents per year for y-values\n",
    "tot_bodyforce = tot_bodyforce_df.iloc[:,1]\n",
    "\n",
    "plt.xlabel('Year')\n",
    "plt.ylabel('Total Bodily Force Incidents')\n",
    "plt.xticks(year)\n",
    "\n",
    "#perform a linear regression on total bodily force incidents versus years 2015 - 2019\n",
    "bf_slope, bf_int, bf_r, bf_p, bf_std_err = stats.linregress(year, tot_bodyforce)\n",
    "\n",
    "#create equation of line to calculate predicted total bodily force incidents\n",
    "bf_fit = bf_slope * year + bf_int\n",
    "\n",
    "#plot the linear model on top of scatter plot\n",
    "plt.scatter(year, tot_bodyforce, color=\"purple\")\n",
    "plt.plot(year,bf_fit,\"--\")\n",
    "\n",
    "print(f\"The r-squared is: {bf_r**2}\")\n",
    "plt.show()"
   ]
  },
  {
   "cell_type": "code",
   "execution_count": 61,
   "metadata": {},
   "outputs": [],
   "source": [
    "#store total incidents per type of force for each year\n",
    "force_counts_2015 = df_2015['Type of Force'].value_counts()\n",
    "force_counts_2016 = df_2016['Type of Force'].value_counts()\n",
    "force_counts_2017 = df_2017['Type of Force'].value_counts()\n",
    "force_counts_2018 = df_2018['Type of Force'].value_counts()\n",
    "force_counts_2019 = df_2019['Type of Force'].value_counts()\n",
    "force_counts_2020 = df_2020['Type of Force'].value_counts()\n",
    "\n",
    "#store bodily force incidents (*NOT TOTAL BODILY FORCE INCIDENTS*) for each year\n",
    "bodilyforce2020 = force_counts_2020.loc['Bodily Force']\n",
    "bodilyforce2019 = force_counts_2019.loc['Bodily Force']\n",
    "bodilyforce2018 = force_counts_2018.loc['Bodily Force']\n",
    "bodilyforce2017 = force_counts_2017.loc['Bodily Force']\n",
    "bodilyforce2016 = force_counts_2016.loc['Bodily Force']\n",
    "bodilyforce2015 = force_counts_2015.loc['Bodily Force']\n",
    "\n",
    "#create dictionary of bodily force incidents for each year\n",
    "dict = {'year':[2015,2016,2017,2018,2019], \n",
    "        'Bodily Force Count': [bodilyforce2015,bodilyforce2016,bodilyforce2017,bodilyforce2018,bodilyforce2019]}\n",
    "\n",
    "#pass dict into pd.DataFrame to generate df\n",
    "bodyforce_df = pd.DataFrame(dict)\n",
    "bodyforce_count = bodyforce_df['Bodily Force Count']\n",
    "\n",
    "#store start year and end year for subplots\n",
    "startyear = bodyforce_df['year'].min()\n",
    "endyear = bodyforce_df['year'].max()\n",
    "\n",
    "b_slope, b_int, b_r, b_p, b_std_err = stats.linregress(year, bodyforce_count)\n",
    "\n",
    "b_fit = b_slope * year + b_int\n",
    "\n",
    "#find and store body force incidents for 2020\n",
    "bodyforce2020 = len(df_2020.loc[df_2020['Type of Force'] == \"Bodily Force\"])"
   ]
  },
  {
   "cell_type": "code",
   "execution_count": 62,
   "metadata": {},
   "outputs": [],
   "source": [
    "#find and store taser incidents for each year\n",
    "taser2020 = force_counts_2020.loc['Taser']\n",
    "taser2019 = force_counts_2019.loc['Taser']\n",
    "taser2018 = force_counts_2018.loc['Taser']\n",
    "taser2017 = force_counts_2017.loc['Taser']\n",
    "taser2016 = force_counts_2016.loc['Taser']\n",
    "taser2015 = force_counts_2015.loc['Taser']\n",
    "\n",
    "#create dictionary of taser incidents for each year\n",
    "dict = {'year':[2015,2016,2017,2018,2019], \n",
    "        'Taser Count': [taser2015,taser2016,taser2017,taser2018,taser2019]}\n",
    "\n",
    "#pass dict into pd.DataFrame to generate df\n",
    "taser_df = pd.DataFrame(dict)\n",
    "taser_count = taser_df['Taser Count']\n",
    "\n",
    "t_slope, t_int, t_r, t_p, t_std_err = stats.linregress(year, taser_count)\n",
    "\n",
    "t_fit = t_slope * year + t_int\n",
    "\n",
    "taser2020 = len(df_2020.loc[df_2020['Type of Force'] == \"Taser\"])"
   ]
  },
  {
   "cell_type": "code",
   "execution_count": 63,
   "metadata": {},
   "outputs": [],
   "source": [
    "#find and store chemical irritant incidents for each year\n",
    "chem2020 = force_counts_2020.loc['Chemical Irritant']\n",
    "chem2019 = force_counts_2019.loc['Chemical Irritant']\n",
    "chem2018 = force_counts_2018.loc['Chemical Irritant']\n",
    "chem2017 = force_counts_2017.loc['Chemical Irritant']\n",
    "chem2016 = force_counts_2016.loc['Chemical Irritant']\n",
    "chem2015 = force_counts_2015.loc['Chemical Irritant']\n",
    "\n",
    "dict = {'year':[2015,2016,2017,2018,2019], \n",
    "        'Chemical Irritant Count': [chem2015,chem2016,chem2017,chem2018,chem2019]}\n",
    "\n",
    "#pass dict into pd.DataFrame to generate df\n",
    "chem_df = pd.DataFrame(dict)\n",
    "chem_count = chem_df['Chemical Irritant Count']\n",
    "\n",
    "c_slope, c_int, c_r, c_p, c_std_err = stats.linregress(year, chem_count)\n",
    "\n",
    "c_fit = c_slope * year + c_int\n",
    "\n",
    "chem2020 = len(df_2020.loc[df_2020['Type of Force'] == \"Chemical Irritant\"])"
   ]
  },
  {
   "cell_type": "code",
   "execution_count": 64,
   "metadata": {},
   "outputs": [
    {
     "data": {
      "image/png": "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\n",
      "text/plain": [
       "<Figure size 432x288 with 4 Axes>"
      ]
     },
     "metadata": {
      "needs_background": "light"
     },
     "output_type": "display_data"
    }
   ],
   "source": [
    "#generate subplots of bodily force, taser, chemical irritant, and total incidents\n",
    "fig, ((ax1, ax2), (ax3, ax4)) = plt.subplots(sharex=True, nrows=2, ncols=2, gridspec_kw={'width_ratios': [3, 3]})\n",
    "fig.suptitle(\"Bodily Force Incidents\", fontsize=13, fontweight=\"bold\")\n",
    "\n",
    "ax1.set_xlim(startyear, endyear)\n",
    "ax1.plot(year, taser_count, linewidth=1, marker=\"o\")\n",
    "ax1.plot(year, t_fit, \"b--\", linewidth=1)\n",
    "ax1.set_ylabel(\"Taser\")\n",
    "\n",
    "ax2.plot(year, bodyforce_count, linewidth=1, marker=\"o\", color=\"r\")\n",
    "ax2.plot(year, b_fit, \"r--\", linewidth=1)\n",
    "ax2.set_ylabel(\"Bodily Force\")\n",
    "\n",
    "ax3.plot(year, chem_count, linewidth=1, marker=\"o\", color=\"b\")\n",
    "ax3.plot(year, c_fit, \"b--\", linewidth=1)\n",
    "ax3.set_ylabel(\"Chemical Irritant\")\n",
    "ax3.set_xlabel(\"Year\")\n",
    "\n",
    "ax4.plot(year, tot_bodyforce, linewidth=1, marker=\"o\", color=\"g\")\n",
    "ax4.plot(year, bf_fit, \"g--\", linewidth=1)\n",
    "ax4.set_ylabel(\"Total Incidents\")\n",
    "ax4.set_xlabel(\"Year\")\n",
    "\n",
    "plt.tight_layout(pad=2)\n",
    "plt.show()"
   ]
  },
  {
   "cell_type": "code",
   "execution_count": 65,
   "metadata": {},
   "outputs": [
    {
     "name": "stdout",
     "output_type": "stream",
     "text": [
      "The total taser incidents in 2020 will be 146.0.\n",
      "The actual total taser incidents in 2020 were 173.\n",
      "\n",
      "The total bodily force incidents in 2020 will be 1364.0.\n",
      "The actual total bodily force incidents in 2020 were 1448.\n",
      "\n",
      "The total chemical irritant incidents in 2020 will be 16.0.\n",
      "The actual total chemical irritant incidents in 2020 were 21.\n",
      "\n",
      "The total force incidents in 2020 will be 1595.0.\n",
      "The actual total force incidents in 2020 were 1718.\n"
     ]
    }
   ],
   "source": [
    "#print out predicted vs. actual incidents for each graph\n",
    "\n",
    "print(f\"The total taser incidents in 2020 will be {round(t_slope * year2020 + t_int,0)}.\")\n",
    "print(f\"The actual total taser incidents in 2020 were {taser2020}.\\n\")\n",
    "\n",
    "print(f\"The total bodily force incidents in 2020 will be {round(b_slope * year2020 + b_int,0)}.\")\n",
    "print(f\"The actual total bodily force incidents in 2020 were {bodyforce2020}.\\n\")\n",
    "\n",
    "print(f\"The total chemical irritant incidents in 2020 will be {round(c_slope * year2020 + c_int,0)}.\")\n",
    "print(f\"The actual total chemical irritant incidents in 2020 were {chem2020}.\\n\")\n",
    "\n",
    "print(f\"The total force incidents in 2020 will be {round(bf_slope * year2020 + bf_int,0)}.\")\n",
    "print(f\"The actual total force incidents in 2020 were {totbodyforce2020}.\")"
   ]
  },
  {
   "cell_type": "markdown",
   "metadata": {},
   "source": [
    "# Linear Regression Analysis"
   ]
  },
  {
   "cell_type": "markdown",
   "metadata": {},
   "source": [
    "•\tThe total incidents of force were calculated based on 10 “Type of Force” categories, while 3 were chosen at random for observational comparison:  “Chemical Irritant”, “Taser”, and “Bodily Force.”\n",
    "\n",
    "•\tBased on the subplots, Taser showed an overall increase, Bodily Force showed an overall decrease (with a slight increase from 2017 to 2019).  Chemical Irritant showed a sharp overall decrease.  From this we can observe that Taser and Bodily Force slowed the overall downward trend in total incidents, particularly from years 2017 – 2019, while Chemical Irritant followed the overall downward trend.\n",
    "\n",
    "•\tThe total number of bodily force incidents between 2015 and 2020 was 11,355 with an average of 1,893 incidents per year.  A plot of total bodily force vs. year for 2015 – 2019 shows a downward trend in use of force.  A linear regression model follows this trend with an r-squared value of 0.750, implying that 75% of the observed data fits the regression model.  \n",
    "\n",
    "•\tTotal incidents for 2015 and 2020 were 2,038 and 1,718, respectively, showing a drop in use of force by 15.7%.  \n",
    "\n",
    "•\tBased on the regression model, the predicted use of force events in 2020 was 1,595, which is 7% lower than the actual use of force in 2020.\n",
    "\n",
    "•\tOverall, the regression model predicted all four analyzed categories of force to be lower than actual, and the observed data trends align closely with the predictions.\n"
   ]
  }
 ],
 "metadata": {
  "kernelspec": {
   "display_name": "Python 3",
   "language": "python",
   "name": "python3"
  },
  "language_info": {
   "codemirror_mode": {
    "name": "ipython",
    "version": 3
   },
   "file_extension": ".py",
   "mimetype": "text/x-python",
   "name": "python",
   "nbconvert_exporter": "python",
   "pygments_lexer": "ipython3",
   "version": "3.6.10"
  }
 },
 "nbformat": 4,
 "nbformat_minor": 4
}

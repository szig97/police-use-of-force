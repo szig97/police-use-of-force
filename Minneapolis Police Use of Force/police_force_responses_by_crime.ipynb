{
 "cells": [
  {
   "cell_type": "markdown",
   "metadata": {},
   "source": [
    "# Police Force Responses by Crime"
   ]
  },
  {
   "cell_type": "code",
   "execution_count": null,
   "metadata": {},
   "outputs": [],
   "source": [
    "#Dependencies\n",
    "import matplotlib\n",
    "from matplotlib import pyplot as plt\n",
    "from scipy import stats\n",
    "import numpy as np\n",
    "import pandas as pd"
   ]
  },
  {
   "cell_type": "code",
   "execution_count": null,
   "metadata": {},
   "outputs": [],
   "source": [
    "#Import csv file\n",
    "police_data = pd.read_csv(\"Resources/Police_Use_of_Force.csv\")\n",
    "police_data.head()"
   ]
  },
  {
   "cell_type": "code",
   "execution_count": null,
   "metadata": {},
   "outputs": [],
   "source": [
    "police_data.columns"
   ]
  },
  {
   "cell_type": "code",
   "execution_count": null,
   "metadata": {},
   "outputs": [],
   "source": [
    "police_data_df = police_data.loc[:, [\"PoliceUseOfForceID\", \"CaseNumber\", \"ResponseDate\", \"Problem\", \"ForceType\",\n",
    "                                    \"ForceTypeAction\", \"EventAge\", \"TypeOfResistance\", \"Precinct\", \"Neighborhood\"]]\n",
    "police_data_df"
   ]
  },
  {
   "cell_type": "code",
   "execution_count": null,
   "metadata": {},
   "outputs": [],
   "source": [
    "police_data_df.dtypes"
   ]
  },
  {
   "cell_type": "code",
   "execution_count": null,
   "metadata": {},
   "outputs": [],
   "source": [
    "police_data_df = police_data_df.dropna(how='any')\n",
    "police_data_df"
   ]
  },
  {
   "cell_type": "code",
   "execution_count": null,
   "metadata": {},
   "outputs": [],
   "source": [
    "clean_df = police_data_df.drop_duplicates(subset=['CaseNumber'])\n",
    "clean_df"
   ]
  },
  {
   "cell_type": "markdown",
   "metadata": {},
   "source": [
    "# 1. What incidents result the most in police use of force? (Sam)"
   ]
  },
  {
   "cell_type": "code",
   "execution_count": null,
   "metadata": {},
   "outputs": [],
   "source": []
  },
  {
   "cell_type": "markdown",
   "metadata": {},
   "source": [
    "# 2. What type of force is used the most? (Ainash)"
   ]
  },
  {
   "cell_type": "code",
   "execution_count": null,
   "metadata": {},
   "outputs": [],
   "source": []
  },
  {
   "cell_type": "markdown",
   "metadata": {},
   "source": [
    "# 3. Which is the most popular type of resistance? (Humera)"
   ]
  },
  {
   "cell_type": "markdown",
   "metadata": {},
   "source": [
    "# Most popular type of Resistance"
   ]
  },
  {
   "cell_type": "code",
   "execution_count": null,
   "metadata": {},
   "outputs": [],
   "source": [
    "popular_data = clean_df[\"TypeOfResistance\"].describe(include= \"all\")\n",
    "popular_data"
   ]
  },
  {
   "cell_type": "code",
   "execution_count": null,
   "metadata": {},
   "outputs": [],
   "source": [
    "resistance_data = clean_df.groupby(\"TypeOfResistance\")\n",
    "total_count = resistance_data.nunique()[\"CaseNumber\"]\n",
    "\n",
    "resistance = pd.DataFrame({\"Total Count\": total_count})\n",
    "resistance_case_no = resistance.sort_values(\"Total Count\", ascending=False)\n",
    "\n",
    "resistance_case_no.index.name = \"TypeOfResistance\"\n",
    "resistance_case_no.head()"
   ]
  },
  {
   "cell_type": "code",
   "execution_count": null,
   "metadata": {},
   "outputs": [],
   "source": [
    "resistance_case_no.head(6).plot(kind=\"bar\",edgecolor=\"black\", figsize=(8, 8),facecolor=\"blue\", fontsize=10)\n",
    "plt.title(\"Type of Resistance Resulting in Use of Police Force in Minneapolis\")\n",
    "plt.ylabel(\"Number of Cases\", fontsize=12)\n",
    "plt.xlabel(\"Type of Resistance\", fontsize=12)\n",
    "plt.tight_layout()\n",
    "plt.show()"
   ]
  },
  {
   "cell_type": "code",
   "execution_count": null,
   "metadata": {},
   "outputs": [],
   "source": [
    "#Pie chart\n",
    "colors = ['gold', 'red', 'pink', 'blue', 'lightskyblue']\n",
    "explode = (0.1, 0, 0, 0, 0)\n",
    "resistance_case_no.head(5).plot(kind=\"pie\",explode=explode, colors=colors, autopct= \"%1.1f%%\", subplots=\"False\", shadow=True, startangle=150 )\n",
    "plt.title('Top 5 - Type of Resistance Resulting in Use of Police Force in Minneapolis', fontsize=10)\n",
    "plt.axis('equal')\n",
    "plt.tight_layout()\n",
    "plt.show()"
   ]
  },
  {
   "cell_type": "markdown",
   "metadata": {},
   "source": [
    "# Force Type of Action used by Police Force in Minneapolis"
   ]
  },
  {
   "cell_type": "code",
   "execution_count": null,
   "metadata": {},
   "outputs": [],
   "source": [
    "popular_data = clean_df[\"ForceTypeAction\"].describe(include= \"all\")\n",
    "popular_data"
   ]
  },
  {
   "cell_type": "code",
   "execution_count": null,
   "metadata": {},
   "outputs": [],
   "source": [
    "forcetype_data = clean_df.groupby(\"ForceTypeAction\")\n",
    "total_count = forcetype_data.nunique()[\"CaseNumber\"]\n",
    "\n",
    "forcetype = pd.DataFrame({\"Total Count\": total_count})\n",
    "forcetype_case_no = forcetype.sort_values(\"Total Count\", ascending=False)\n",
    "\n",
    "forcetype_case_no.index.name = \"ForceTypeAction\"\n",
    "forcetype_case_no.head()"
   ]
  },
  {
   "cell_type": "code",
   "execution_count": null,
   "metadata": {},
   "outputs": [],
   "source": [
    "forcetype_case_no.head(5)\n",
    "forcetype_case_no.head(10).plot(kind=\"barh\",edgecolor=\"black\", facecolor=\"red\", fontsize=12, align=\"center\", alpha=1.0)\n",
    "plt.title(\"ForceTypeAction Resulting in Use of Police Force in Minneapolis\")\n",
    "plt.ylabel(\"Number of Cases\", fontsize=12)\n",
    "plt.xlabel(\"Force Type Action\", fontsize=12)\n",
    "plt.show()"
   ]
  },
  {
   "cell_type": "code",
   "execution_count": null,
   "metadata": {},
   "outputs": [],
   "source": [
    "clean_df"
   ]
  },
  {
   "cell_type": "markdown",
   "metadata": {},
   "source": [
    "# Groupby Forcetype and Type of Resistance"
   ]
  },
  {
   "cell_type": "code",
   "execution_count": null,
   "metadata": {},
   "outputs": [],
   "source": [
    "#Top 5 - Force Type and Force Type Action Vs Number of Cases\n",
    "ft_fa = clean_df.groupby(['ForceType','ForceTypeAction'])\n",
    "ft_fa.count().head(5)"
   ]
  },
  {
   "cell_type": "code",
   "execution_count": null,
   "metadata": {},
   "outputs": [],
   "source": [
    "#Top 5 - Force Type and Force Type Action Vs Number of Cases\n",
    "ft_fa= clean_df.groupby(['ForceType','ForceTypeAction'])\n",
    "total_count = ft_fa.nunique()[\"CaseNumber\"]\n",
    "forcetype_forceaction = pd.DataFrame({\"Total Count\": total_count})\n",
    "forcetype_forceaction = forcetype_forceaction.sort_values(\"Total Count\", ascending=False)\n",
    "#forcetype_forceaction.index.name = \"ForceTypeAction\"\n",
    "forcetype_forceaction.head()"
   ]
  },
  {
   "cell_type": "code",
   "execution_count": null,
   "metadata": {},
   "outputs": [],
   "source": [
    "#Top 5 - Force Type and Force Type Action Vs Number of Cases\n",
    "forcetype_forceaction.head(8).plot(kind=\"barh\",edgecolor=\"black\", facecolor=\"purple\", fontsize=12, align=\"center\", alpha=1.0)\n",
    "plt.title(\"Force Type and Force Type Action Vs Number of Cases\")\n",
    "plt.ylabel(\"Force Type Action_Force Type\", fontsize=12)\n",
    "plt.xlabel(\"Number of Cases\", fontsize=12)\n",
    "plt.show()"
   ]
  },
  {
   "cell_type": "code",
   "execution_count": null,
   "metadata": {},
   "outputs": [],
   "source": [
    "#Top 5 - Force Type and Type of Resistance Vs Number of Cases\n",
    "ft_tr = clean_df.groupby(['ForceType','TypeOfResistance'])\n",
    "ft_tr.count().head(5)"
   ]
  },
  {
   "cell_type": "code",
   "execution_count": null,
   "metadata": {},
   "outputs": [],
   "source": [
    "# Top 5 - Force Type and Type of Resistance Vs Number of Cases\n",
    "ft_tr= clean_df.groupby(['ForceType','TypeOfResistance'])\n",
    "total_count = ft_tr.nunique()[\"CaseNumber\"]\n",
    "forcetype_resistance = pd.DataFrame({\"Total Count\": total_count})\n",
    "forcetype_resistance = forcetype_resistance.sort_values(\"Total Count\", ascending=False)\n",
    "forcetype_resistance.head()"
   ]
  },
  {
   "cell_type": "code",
   "execution_count": null,
   "metadata": {},
   "outputs": [],
   "source": [
    "# Top 5 - Force Type and Type of Resistance Vs Number of Cases\n",
    "forcetype_resistance.head(8).plot(kind=\"barh\",edgecolor=\"black\", facecolor=\"orange\", fontsize=12, align=\"center\", alpha=1.0)\n",
    "plt.title(\"Force Type and Type of Resistance Vs Number of Cases\")\n",
    "plt.ylabel(\"Force Type_ Resistance\", fontsize=12)\n",
    "plt.xlabel(\"Number of Cases\", fontsize=12)\n",
    "plt.show()"
   ]
  },
  {
   "cell_type": "code",
   "execution_count": null,
   "metadata": {},
   "outputs": [],
   "source": [
    "#problem and force type"
   ]
  },
  {
   "cell_type": "code",
   "execution_count": null,
   "metadata": {},
   "outputs": [],
   "source": [
    "#Problem and Type of Resistance"
   ]
  },
  {
   "cell_type": "code",
   "execution_count": null,
   "metadata": {},
   "outputs": [],
   "source": [
    "# Problem and force type"
   ]
  },
  {
   "cell_type": "code",
   "execution_count": null,
   "metadata": {},
   "outputs": [],
   "source": []
  },
  {
   "cell_type": "markdown",
   "metadata": {},
   "source": [
    "# 4. Which neighborhood in Minneapolis see’s the highest frequency of police force? (Mike Hills)"
   ]
  },
  {
   "cell_type": "code",
   "execution_count": null,
   "metadata": {},
   "outputs": [],
   "source": []
  },
  {
   "cell_type": "markdown",
   "metadata": {},
   "source": [
    "# 5. Is the use of police force in Minneapolis going up or down? (Mike F)"
   ]
  },
  {
   "cell_type": "code",
   "execution_count": null,
   "metadata": {},
   "outputs": [],
   "source": []
  },
  {
   "cell_type": "markdown",
   "metadata": {},
   "source": [
    "# 6. Perform a linear regression on use of force between 2015 and 2019 and make a prediction about use of force in 2020 for the city of Minneapolis.  Compare this prediction to actual use of force outcomes in 2020."
   ]
  },
  {
   "cell_type": "code",
   "execution_count": null,
   "metadata": {},
   "outputs": [],
   "source": []
  },
  {
   "cell_type": "code",
   "execution_count": null,
   "metadata": {},
   "outputs": [],
   "source": []
  },
  {
   "cell_type": "code",
   "execution_count": null,
   "metadata": {},
   "outputs": [],
   "source": []
  },
  {
   "cell_type": "code",
   "execution_count": null,
   "metadata": {},
   "outputs": [],
   "source": []
  },
  {
   "cell_type": "code",
   "execution_count": null,
   "metadata": {},
   "outputs": [],
   "source": []
  },
  {
   "cell_type": "code",
   "execution_count": null,
   "metadata": {},
   "outputs": [],
   "source": []
  },
  {
   "cell_type": "code",
   "execution_count": null,
   "metadata": {},
   "outputs": [],
   "source": []
  },
  {
   "cell_type": "code",
   "execution_count": null,
   "metadata": {},
   "outputs": [],
   "source": []
  }
 ],
 "metadata": {
  "kernelspec": {
   "display_name": "Python 3",
   "language": "python",
   "name": "python3"
  },
  "language_info": {
   "codemirror_mode": {
    "name": "ipython",
    "version": 3
   },
   "file_extension": ".py",
   "mimetype": "text/x-python",
   "name": "python",
   "nbconvert_exporter": "python",
   "pygments_lexer": "ipython3",
   "version": "3.6.10"
  }
 },
 "nbformat": 4,
 "nbformat_minor": 4
}
